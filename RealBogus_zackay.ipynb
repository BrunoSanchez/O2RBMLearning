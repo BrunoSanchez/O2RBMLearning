{
 "cells": [
  {
   "cell_type": "code",
   "execution_count": null,
   "metadata": {
    "collapsed": false,
    "deletable": true,
    "editable": true
   },
   "outputs": [],
   "source": [
    "import numpy as np\n",
    "import matplotlib.pyplot as plt\n",
    "from sklearn import preprocessing\n",
    "from sklearn import decomposition\n",
    "from sklearn import feature_selection\n",
    "\n",
    "from sklearn import svm\n",
    "from sklearn import metrics\n",
    "from sklearn.model_selection import KFold, StratifiedKFold\n",
    "from sklearn.svm import SVC\n",
    "from sklearn.tree import DecisionTreeClassifier\n",
    "from sklearn.ensemble import RandomForestClassifier\n",
    "from sklearn import neighbors\n",
    "\n",
    "#import seaborn as sns\n",
    "from sqlalchemy import create_engine"
   ]
  },
  {
   "cell_type": "code",
   "execution_count": 111,
   "metadata": {
    "collapsed": true,
    "deletable": true,
    "editable": true
   },
   "outputs": [],
   "source": [
    "import pandas as pd\n",
    "%matplotlib inline"
   ]
  },
  {
   "cell_type": "code",
   "execution_count": 112,
   "metadata": {
    "collapsed": true,
    "deletable": true,
    "editable": true
   },
   "outputs": [],
   "source": [
    "#sns.set_context(font_scale=1.2)"
   ]
  },
  {
   "cell_type": "code",
   "execution_count": 113,
   "metadata": {
    "collapsed": true
   },
   "outputs": [],
   "source": [
    "font = {'family'        : 'sans-serif',\n",
    "        'sans-serif'    : ['Computer Modern Sans serif'],\n",
    "        'weight'        : 'regular',\n",
    "        'size'          : 12}\n",
    "\n",
    "text = {'usetex'        : False}\n",
    "\n",
    "plt.rc('font', **font)\n",
    "plt.rc('text', **text)"
   ]
  },
  {
   "cell_type": "code",
   "execution_count": 114,
   "metadata": {
    "collapsed": true,
    "deletable": true,
    "editable": true
   },
   "outputs": [],
   "source": [
    "engine = create_engine('sqlite:///../RBpipeline/rbogus-dev.db')"
   ]
  },
  {
   "cell_type": "markdown",
   "metadata": {
    "deletable": true,
    "editable": true
   },
   "source": [
    "## Load the tables from the DB\n",
    "\n",
    "Using a merge we can get the detected portion of the objects, with the\n",
    "recovered data, and the correct simulated data."
   ]
  },
  {
   "cell_type": "raw",
   "metadata": {
    "collapsed": false,
    "deletable": true,
    "editable": true
   },
   "source": [
    "dt_zps = pd.read_sql_table('Detected', engine)\n",
    "dt_ois = pd.read_sql_table('DetectedOIS', engine)\n",
    "dt_hot = pd.read_sql_table('DetectedHOT', engine)"
   ]
  },
  {
   "cell_type": "code",
   "execution_count": 115,
   "metadata": {
    "collapsed": false,
    "deletable": true,
    "editable": true
   },
   "outputs": [],
   "source": [
    "dt_zps = pd.merge(pd.read_sql_table('Detected', engine),\n",
    "                  pd.read_sql_query(\"\"\"SELECT \n",
    "                                        Detected.id,\n",
    "                                        Simulated.app_mag as sim_mag,\n",
    "                                        Simulated.r_scales as r_scales,\n",
    "                                        Simulated.gx_mag as gx_mag,\n",
    "                                        Simulated.id as sim_id \n",
    "                                    FROM Detected\n",
    "                                        LEFT JOIN Reals\n",
    "                                            ON Detected.id==Reals.detected_id\n",
    "                                        LEFT JOIN Simulated\n",
    "                                            ON Simulated.id==Reals.simulated_id\"\"\", engine),\n",
    "                                      on='id', suffixes=('',''))\n",
    "\n",
    "dt_ois = pd.merge(pd.read_sql_table('DetectedOIS', engine),\n",
    "                  pd.read_sql_query(\"\"\"SELECT \n",
    "                                        DetectedOIS.id,\n",
    "                                        Simulated.app_mag as sim_mag,\n",
    "                                        Simulated.r_scales as r_scales,\n",
    "                                        Simulated.gx_mag as gx_mag,\n",
    "                                        Simulated.id as sim_id \n",
    "                                    FROM DetectedOIS\n",
    "                                        LEFT JOIN RealsOIS\n",
    "                                            ON DetectedOIS.id==RealsOIS.detected_id\n",
    "                                        LEFT JOIN Simulated\n",
    "                                            ON Simulated.id==RealsOIS.simulated_id\"\"\", engine),\n",
    "                                      on='id', suffixes=('',''))\n",
    "\n",
    "dt_hot = pd.merge(pd.read_sql_table('DetectedHOT', engine),\n",
    "                  pd.read_sql_query(\"\"\"SELECT \n",
    "                                        DetectedHOT.id,\n",
    "                                        Simulated.app_mag as sim_mag,\n",
    "                                        Simulated.r_scales as r_scales,\n",
    "                                        Simulated.gx_mag as gx_mag, \n",
    "                                        Simulated.id as sim_id \n",
    "                                    FROM DetectedHOT\n",
    "                                        LEFT JOIN RealsHOT\n",
    "                                            ON DetectedHOT.id==RealsHOT.detected_id\n",
    "                                        LEFT JOIN Simulated\n",
    "                                            ON Simulated.id==RealsHOT.simulated_id\"\"\", engine),\n",
    "                                      on='id', suffixes=('',''))"
   ]
  },
  {
   "cell_type": "code",
   "execution_count": 116,
   "metadata": {
    "collapsed": false,
    "deletable": true,
    "editable": true
   },
   "outputs": [
    {
     "data": {
      "text/html": [
       "<div>\n",
       "<table border=\"1\" class=\"dataframe\">\n",
       "  <thead>\n",
       "    <tr style=\"text-align: right;\">\n",
       "      <th></th>\n",
       "      <th>id</th>\n",
       "      <th>NUMBER</th>\n",
       "      <th>FLUX_ISO</th>\n",
       "      <th>FLUXERR_ISO</th>\n",
       "      <th>MAG_ISO</th>\n",
       "      <th>MAGERR_ISO</th>\n",
       "      <th>FLUX_APER</th>\n",
       "      <th>FLUXERR_APER</th>\n",
       "      <th>MAG_APER</th>\n",
       "      <th>MAGERR_APER</th>\n",
       "      <th>...</th>\n",
       "      <th>DELTAX</th>\n",
       "      <th>DELTAY</th>\n",
       "      <th>RATIO</th>\n",
       "      <th>ROUNDNESS</th>\n",
       "      <th>PEAK_CENTROID</th>\n",
       "      <th>image_id</th>\n",
       "      <th>sim_mag</th>\n",
       "      <th>r_scales</th>\n",
       "      <th>gx_mag</th>\n",
       "      <th>sim_id</th>\n",
       "    </tr>\n",
       "  </thead>\n",
       "  <tbody>\n",
       "    <tr>\n",
       "      <th>count</th>\n",
       "      <td>36263.000000</td>\n",
       "      <td>36263.000000</td>\n",
       "      <td>36263.000000</td>\n",
       "      <td>36263.000000</td>\n",
       "      <td>36263.000000</td>\n",
       "      <td>36263.000000</td>\n",
       "      <td>36263.000000</td>\n",
       "      <td>36263.000000</td>\n",
       "      <td>36263.000000</td>\n",
       "      <td>36263.000000</td>\n",
       "      <td>...</td>\n",
       "      <td>36263.000000</td>\n",
       "      <td>36263.000000</td>\n",
       "      <td>36263.000000</td>\n",
       "      <td>36263.000000</td>\n",
       "      <td>36263.000000</td>\n",
       "      <td>36263.000000</td>\n",
       "      <td>28015.000000</td>\n",
       "      <td>28015.000000</td>\n",
       "      <td>28015.000000</td>\n",
       "      <td>28015.000000</td>\n",
       "    </tr>\n",
       "    <tr>\n",
       "      <th>mean</th>\n",
       "      <td>18132.000000</td>\n",
       "      <td>23.809282</td>\n",
       "      <td>398.786753</td>\n",
       "      <td>5.624178</td>\n",
       "      <td>20.064593</td>\n",
       "      <td>0.084177</td>\n",
       "      <td>212.064267</td>\n",
       "      <td>4.355812</td>\n",
       "      <td>20.775261</td>\n",
       "      <td>0.699348</td>\n",
       "      <td>...</td>\n",
       "      <td>6.135289</td>\n",
       "      <td>6.071809</td>\n",
       "      <td>0.808760</td>\n",
       "      <td>1.450851</td>\n",
       "      <td>0.633834</td>\n",
       "      <td>391.065770</td>\n",
       "      <td>20.954902</td>\n",
       "      <td>1.649650</td>\n",
       "      <td>21.729581</td>\n",
       "      <td>36547.388685</td>\n",
       "    </tr>\n",
       "    <tr>\n",
       "      <th>std</th>\n",
       "      <td>10468.370742</td>\n",
       "      <td>14.092952</td>\n",
       "      <td>2088.669747</td>\n",
       "      <td>2.808750</td>\n",
       "      <td>1.567326</td>\n",
       "      <td>0.522564</td>\n",
       "      <td>802.740638</td>\n",
       "      <td>0.061782</td>\n",
       "      <td>6.199559</td>\n",
       "      <td>7.685479</td>\n",
       "      <td>...</td>\n",
       "      <td>4.082711</td>\n",
       "      <td>4.065799</td>\n",
       "      <td>0.195000</td>\n",
       "      <td>0.703545</td>\n",
       "      <td>0.584886</td>\n",
       "      <td>230.692175</td>\n",
       "      <td>1.243508</td>\n",
       "      <td>2.215056</td>\n",
       "      <td>1.411300</td>\n",
       "      <td>22142.505890</td>\n",
       "    </tr>\n",
       "    <tr>\n",
       "      <th>min</th>\n",
       "      <td>1.000000</td>\n",
       "      <td>1.000000</td>\n",
       "      <td>-0.876030</td>\n",
       "      <td>2.118633</td>\n",
       "      <td>12.287300</td>\n",
       "      <td>0.000500</td>\n",
       "      <td>-395.569900</td>\n",
       "      <td>3.428937</td>\n",
       "      <td>14.413000</td>\n",
       "      <td>0.000300</td>\n",
       "      <td>...</td>\n",
       "      <td>0.000000</td>\n",
       "      <td>0.000000</td>\n",
       "      <td>0.000000</td>\n",
       "      <td>1.000663</td>\n",
       "      <td>0.000400</td>\n",
       "      <td>1.000000</td>\n",
       "      <td>11.972625</td>\n",
       "      <td>0.000000</td>\n",
       "      <td>13.768000</td>\n",
       "      <td>3.000000</td>\n",
       "    </tr>\n",
       "    <tr>\n",
       "      <th>25%</th>\n",
       "      <td>9066.500000</td>\n",
       "      <td>12.000000</td>\n",
       "      <td>34.404005</td>\n",
       "      <td>3.638064</td>\n",
       "      <td>19.207400</td>\n",
       "      <td>0.035700</td>\n",
       "      <td>34.702180</td>\n",
       "      <td>4.336730</td>\n",
       "      <td>19.780900</td>\n",
       "      <td>0.038800</td>\n",
       "      <td>...</td>\n",
       "      <td>3.000000</td>\n",
       "      <td>3.000000</td>\n",
       "      <td>0.700000</td>\n",
       "      <td>1.095919</td>\n",
       "      <td>0.336352</td>\n",
       "      <td>192.000000</td>\n",
       "      <td>20.359979</td>\n",
       "      <td>0.331740</td>\n",
       "      <td>20.865300</td>\n",
       "      <td>17260.000000</td>\n",
       "    </tr>\n",
       "    <tr>\n",
       "      <th>50%</th>\n",
       "      <td>18132.000000</td>\n",
       "      <td>23.000000</td>\n",
       "      <td>76.960240</td>\n",
       "      <td>5.026216</td>\n",
       "      <td>20.284300</td>\n",
       "      <td>0.070700</td>\n",
       "      <td>56.555970</td>\n",
       "      <td>4.368720</td>\n",
       "      <td>20.618800</td>\n",
       "      <td>0.083600</td>\n",
       "      <td>...</td>\n",
       "      <td>5.000000</td>\n",
       "      <td>5.000000</td>\n",
       "      <td>0.833333</td>\n",
       "      <td>1.214347</td>\n",
       "      <td>0.498976</td>\n",
       "      <td>387.000000</td>\n",
       "      <td>21.268125</td>\n",
       "      <td>1.001622</td>\n",
       "      <td>21.989100</td>\n",
       "      <td>35584.000000</td>\n",
       "    </tr>\n",
       "    <tr>\n",
       "      <th>75%</th>\n",
       "      <td>27197.500000</td>\n",
       "      <td>35.000000</td>\n",
       "      <td>207.507650</td>\n",
       "      <td>6.915754</td>\n",
       "      <td>21.158450</td>\n",
       "      <td>0.116700</td>\n",
       "      <td>122.359050</td>\n",
       "      <td>4.389326</td>\n",
       "      <td>21.149100</td>\n",
       "      <td>0.136000</td>\n",
       "      <td>...</td>\n",
       "      <td>8.000000</td>\n",
       "      <td>8.000000</td>\n",
       "      <td>1.000000</td>\n",
       "      <td>1.562292</td>\n",
       "      <td>0.735780</td>\n",
       "      <td>590.000000</td>\n",
       "      <td>21.839222</td>\n",
       "      <td>2.214847</td>\n",
       "      <td>22.845050</td>\n",
       "      <td>55282.500000</td>\n",
       "    </tr>\n",
       "    <tr>\n",
       "      <th>max</th>\n",
       "      <td>36263.000000</td>\n",
       "      <td>67.000000</td>\n",
       "      <td>121644.600000</td>\n",
       "      <td>53.849640</td>\n",
       "      <td>99.000000</td>\n",
       "      <td>99.000000</td>\n",
       "      <td>17170.980000</td>\n",
       "      <td>4.442515</td>\n",
       "      <td>99.000000</td>\n",
       "      <td>127.584100</td>\n",
       "      <td>...</td>\n",
       "      <td>82.000000</td>\n",
       "      <td>99.000000</td>\n",
       "      <td>1.000000</td>\n",
       "      <td>23.480969</td>\n",
       "      <td>14.679927</td>\n",
       "      <td>798.000000</td>\n",
       "      <td>24.950587</td>\n",
       "      <td>103.042200</td>\n",
       "      <td>24.795900</td>\n",
       "      <td>77393.000000</td>\n",
       "    </tr>\n",
       "  </tbody>\n",
       "</table>\n",
       "<p>8 rows × 50 columns</p>\n",
       "</div>"
      ],
      "text/plain": [
       "                 id        NUMBER       FLUX_ISO   FLUXERR_ISO       MAG_ISO  \\\n",
       "count  36263.000000  36263.000000   36263.000000  36263.000000  36263.000000   \n",
       "mean   18132.000000     23.809282     398.786753      5.624178     20.064593   \n",
       "std    10468.370742     14.092952    2088.669747      2.808750      1.567326   \n",
       "min        1.000000      1.000000      -0.876030      2.118633     12.287300   \n",
       "25%     9066.500000     12.000000      34.404005      3.638064     19.207400   \n",
       "50%    18132.000000     23.000000      76.960240      5.026216     20.284300   \n",
       "75%    27197.500000     35.000000     207.507650      6.915754     21.158450   \n",
       "max    36263.000000     67.000000  121644.600000     53.849640     99.000000   \n",
       "\n",
       "         MAGERR_ISO     FLUX_APER  FLUXERR_APER      MAG_APER   MAGERR_APER  \\\n",
       "count  36263.000000  36263.000000  36263.000000  36263.000000  36263.000000   \n",
       "mean       0.084177    212.064267      4.355812     20.775261      0.699348   \n",
       "std        0.522564    802.740638      0.061782      6.199559      7.685479   \n",
       "min        0.000500   -395.569900      3.428937     14.413000      0.000300   \n",
       "25%        0.035700     34.702180      4.336730     19.780900      0.038800   \n",
       "50%        0.070700     56.555970      4.368720     20.618800      0.083600   \n",
       "75%        0.116700    122.359050      4.389326     21.149100      0.136000   \n",
       "max       99.000000  17170.980000      4.442515     99.000000    127.584100   \n",
       "\n",
       "           ...             DELTAX        DELTAY         RATIO     ROUNDNESS  \\\n",
       "count      ...       36263.000000  36263.000000  36263.000000  36263.000000   \n",
       "mean       ...           6.135289      6.071809      0.808760      1.450851   \n",
       "std        ...           4.082711      4.065799      0.195000      0.703545   \n",
       "min        ...           0.000000      0.000000      0.000000      1.000663   \n",
       "25%        ...           3.000000      3.000000      0.700000      1.095919   \n",
       "50%        ...           5.000000      5.000000      0.833333      1.214347   \n",
       "75%        ...           8.000000      8.000000      1.000000      1.562292   \n",
       "max        ...          82.000000     99.000000      1.000000     23.480969   \n",
       "\n",
       "       PEAK_CENTROID      image_id       sim_mag      r_scales        gx_mag  \\\n",
       "count   36263.000000  36263.000000  28015.000000  28015.000000  28015.000000   \n",
       "mean        0.633834    391.065770     20.954902      1.649650     21.729581   \n",
       "std         0.584886    230.692175      1.243508      2.215056      1.411300   \n",
       "min         0.000400      1.000000     11.972625      0.000000     13.768000   \n",
       "25%         0.336352    192.000000     20.359979      0.331740     20.865300   \n",
       "50%         0.498976    387.000000     21.268125      1.001622     21.989100   \n",
       "75%         0.735780    590.000000     21.839222      2.214847     22.845050   \n",
       "max        14.679927    798.000000     24.950587    103.042200     24.795900   \n",
       "\n",
       "             sim_id  \n",
       "count  28015.000000  \n",
       "mean   36547.388685  \n",
       "std    22142.505890  \n",
       "min        3.000000  \n",
       "25%    17260.000000  \n",
       "50%    35584.000000  \n",
       "75%    55282.500000  \n",
       "max    77393.000000  \n",
       "\n",
       "[8 rows x 50 columns]"
      ]
     },
     "execution_count": 116,
     "metadata": {},
     "output_type": "execute_result"
    }
   ],
   "source": [
    "dt_zps.describe()"
   ]
  },
  {
   "cell_type": "code",
   "execution_count": 117,
   "metadata": {
    "collapsed": false,
    "deletable": true,
    "editable": true
   },
   "outputs": [
    {
     "data": {
      "text/html": [
       "<div>\n",
       "<table border=\"1\" class=\"dataframe\">\n",
       "  <thead>\n",
       "    <tr style=\"text-align: right;\">\n",
       "      <th></th>\n",
       "      <th>id</th>\n",
       "      <th>NUMBER</th>\n",
       "      <th>FLUX_ISO</th>\n",
       "      <th>FLUXERR_ISO</th>\n",
       "      <th>MAG_ISO</th>\n",
       "      <th>MAGERR_ISO</th>\n",
       "      <th>FLUX_APER</th>\n",
       "      <th>FLUXERR_APER</th>\n",
       "      <th>MAG_APER</th>\n",
       "      <th>MAGERR_APER</th>\n",
       "      <th>...</th>\n",
       "      <th>DELTAX</th>\n",
       "      <th>DELTAY</th>\n",
       "      <th>RATIO</th>\n",
       "      <th>ROUNDNESS</th>\n",
       "      <th>PEAK_CENTROID</th>\n",
       "      <th>image_id</th>\n",
       "      <th>sim_mag</th>\n",
       "      <th>r_scales</th>\n",
       "      <th>gx_mag</th>\n",
       "      <th>sim_id</th>\n",
       "    </tr>\n",
       "  </thead>\n",
       "  <tbody>\n",
       "    <tr>\n",
       "      <th>count</th>\n",
       "      <td>83510.000000</td>\n",
       "      <td>83510.000000</td>\n",
       "      <td>8.351000e+04</td>\n",
       "      <td>83510.000000</td>\n",
       "      <td>83510.000000</td>\n",
       "      <td>83510.000000</td>\n",
       "      <td>8.351000e+04</td>\n",
       "      <td>83510.000000</td>\n",
       "      <td>83510.000000</td>\n",
       "      <td>83510.000000</td>\n",
       "      <td>...</td>\n",
       "      <td>83510.000000</td>\n",
       "      <td>83510.000000</td>\n",
       "      <td>83510.000000</td>\n",
       "      <td>83510.000000</td>\n",
       "      <td>83510.000000</td>\n",
       "      <td>83510.000000</td>\n",
       "      <td>36029.000000</td>\n",
       "      <td>36029.000000</td>\n",
       "      <td>36029.000000</td>\n",
       "      <td>36029.000000</td>\n",
       "    </tr>\n",
       "    <tr>\n",
       "      <th>mean</th>\n",
       "      <td>41755.500000</td>\n",
       "      <td>61.842929</td>\n",
       "      <td>1.419351e+04</td>\n",
       "      <td>264.945614</td>\n",
       "      <td>16.099707</td>\n",
       "      <td>0.095503</td>\n",
       "      <td>9.514071e+03</td>\n",
       "      <td>253.741477</td>\n",
       "      <td>16.225736</td>\n",
       "      <td>0.218966</td>\n",
       "      <td>...</td>\n",
       "      <td>5.274877</td>\n",
       "      <td>5.105233</td>\n",
       "      <td>0.738536</td>\n",
       "      <td>1.896078</td>\n",
       "      <td>0.858409</td>\n",
       "      <td>425.229338</td>\n",
       "      <td>21.329539</td>\n",
       "      <td>1.541260</td>\n",
       "      <td>21.970178</td>\n",
       "      <td>38777.557162</td>\n",
       "    </tr>\n",
       "    <tr>\n",
       "      <th>std</th>\n",
       "      <td>24107.404827</td>\n",
       "      <td>52.279985</td>\n",
       "      <td>9.057014e+04</td>\n",
       "      <td>149.948928</td>\n",
       "      <td>1.386792</td>\n",
       "      <td>0.061026</td>\n",
       "      <td>4.382970e+04</td>\n",
       "      <td>32.706862</td>\n",
       "      <td>2.961611</td>\n",
       "      <td>3.286705</td>\n",
       "      <td>...</td>\n",
       "      <td>14.419757</td>\n",
       "      <td>13.051151</td>\n",
       "      <td>0.263883</td>\n",
       "      <td>4.085037</td>\n",
       "      <td>5.140754</td>\n",
       "      <td>228.862247</td>\n",
       "      <td>1.325090</td>\n",
       "      <td>2.068166</td>\n",
       "      <td>1.374354</td>\n",
       "      <td>22267.303401</td>\n",
       "    </tr>\n",
       "    <tr>\n",
       "      <th>min</th>\n",
       "      <td>1.000000</td>\n",
       "      <td>1.000000</td>\n",
       "      <td>3.835924e+02</td>\n",
       "      <td>98.393380</td>\n",
       "      <td>7.688700</td>\n",
       "      <td>0.000400</td>\n",
       "      <td>-1.289285e+04</td>\n",
       "      <td>177.576200</td>\n",
       "      <td>9.766100</td>\n",
       "      <td>0.000200</td>\n",
       "      <td>...</td>\n",
       "      <td>0.000000</td>\n",
       "      <td>0.000000</td>\n",
       "      <td>0.000000</td>\n",
       "      <td>1.000000</td>\n",
       "      <td>0.000200</td>\n",
       "      <td>1.000000</td>\n",
       "      <td>11.972625</td>\n",
       "      <td>0.000000</td>\n",
       "      <td>13.768000</td>\n",
       "      <td>3.000000</td>\n",
       "    </tr>\n",
       "    <tr>\n",
       "      <th>25%</th>\n",
       "      <td>20878.250000</td>\n",
       "      <td>27.000000</td>\n",
       "      <td>1.364288e+03</td>\n",
       "      <td>171.062700</td>\n",
       "      <td>15.350300</td>\n",
       "      <td>0.046600</td>\n",
       "      <td>1.720334e+03</td>\n",
       "      <td>243.456800</td>\n",
       "      <td>15.672325</td>\n",
       "      <td>0.050500</td>\n",
       "      <td>...</td>\n",
       "      <td>2.000000</td>\n",
       "      <td>2.000000</td>\n",
       "      <td>0.600000</td>\n",
       "      <td>1.129895</td>\n",
       "      <td>0.324041</td>\n",
       "      <td>226.000000</td>\n",
       "      <td>20.669386</td>\n",
       "      <td>0.303242</td>\n",
       "      <td>21.182500</td>\n",
       "      <td>19520.000000</td>\n",
       "    </tr>\n",
       "    <tr>\n",
       "      <th>50%</th>\n",
       "      <td>41755.500000</td>\n",
       "      <td>53.000000</td>\n",
       "      <td>2.937923e+03</td>\n",
       "      <td>230.484500</td>\n",
       "      <td>16.329900</td>\n",
       "      <td>0.084100</td>\n",
       "      <td>2.610171e+03</td>\n",
       "      <td>248.213300</td>\n",
       "      <td>16.458300</td>\n",
       "      <td>0.104100</td>\n",
       "      <td>...</td>\n",
       "      <td>4.000000</td>\n",
       "      <td>4.000000</td>\n",
       "      <td>0.800000</td>\n",
       "      <td>1.316401</td>\n",
       "      <td>0.473116</td>\n",
       "      <td>440.000000</td>\n",
       "      <td>21.591443</td>\n",
       "      <td>0.922844</td>\n",
       "      <td>22.279100</td>\n",
       "      <td>38908.000000</td>\n",
       "    </tr>\n",
       "    <tr>\n",
       "      <th>75%</th>\n",
       "      <td>62632.750000</td>\n",
       "      <td>82.000000</td>\n",
       "      <td>7.242402e+03</td>\n",
       "      <td>313.796500</td>\n",
       "      <td>17.162750</td>\n",
       "      <td>0.139000</td>\n",
       "      <td>5.383574e+03</td>\n",
       "      <td>253.561675</td>\n",
       "      <td>16.911000</td>\n",
       "      <td>0.162700</td>\n",
       "      <td>...</td>\n",
       "      <td>6.000000</td>\n",
       "      <td>6.000000</td>\n",
       "      <td>1.000000</td>\n",
       "      <td>1.677130</td>\n",
       "      <td>0.675630</td>\n",
       "      <td>626.000000</td>\n",
       "      <td>22.279897</td>\n",
       "      <td>2.078456</td>\n",
       "      <td>23.008400</td>\n",
       "      <td>58056.000000</td>\n",
       "    </tr>\n",
       "    <tr>\n",
       "      <th>max</th>\n",
       "      <td>83510.000000</td>\n",
       "      <td>554.000000</td>\n",
       "      <td>8.404318e+06</td>\n",
       "      <td>6025.916000</td>\n",
       "      <td>18.540300</td>\n",
       "      <td>0.316400</td>\n",
       "      <td>1.240392e+06</td>\n",
       "      <td>458.117600</td>\n",
       "      <td>99.000000</td>\n",
       "      <td>99.000000</td>\n",
       "      <td>...</td>\n",
       "      <td>1023.000000</td>\n",
       "      <td>1023.000000</td>\n",
       "      <td>1.000000</td>\n",
       "      <td>562.446281</td>\n",
       "      <td>524.814497</td>\n",
       "      <td>798.000000</td>\n",
       "      <td>25.344726</td>\n",
       "      <td>103.042200</td>\n",
       "      <td>25.125700</td>\n",
       "      <td>77392.000000</td>\n",
       "    </tr>\n",
       "  </tbody>\n",
       "</table>\n",
       "<p>8 rows × 50 columns</p>\n",
       "</div>"
      ],
      "text/plain": [
       "                 id        NUMBER      FLUX_ISO   FLUXERR_ISO       MAG_ISO  \\\n",
       "count  83510.000000  83510.000000  8.351000e+04  83510.000000  83510.000000   \n",
       "mean   41755.500000     61.842929  1.419351e+04    264.945614     16.099707   \n",
       "std    24107.404827     52.279985  9.057014e+04    149.948928      1.386792   \n",
       "min        1.000000      1.000000  3.835924e+02     98.393380      7.688700   \n",
       "25%    20878.250000     27.000000  1.364288e+03    171.062700     15.350300   \n",
       "50%    41755.500000     53.000000  2.937923e+03    230.484500     16.329900   \n",
       "75%    62632.750000     82.000000  7.242402e+03    313.796500     17.162750   \n",
       "max    83510.000000    554.000000  8.404318e+06   6025.916000     18.540300   \n",
       "\n",
       "         MAGERR_ISO     FLUX_APER  FLUXERR_APER      MAG_APER   MAGERR_APER  \\\n",
       "count  83510.000000  8.351000e+04  83510.000000  83510.000000  83510.000000   \n",
       "mean       0.095503  9.514071e+03    253.741477     16.225736      0.218966   \n",
       "std        0.061026  4.382970e+04     32.706862      2.961611      3.286705   \n",
       "min        0.000400 -1.289285e+04    177.576200      9.766100      0.000200   \n",
       "25%        0.046600  1.720334e+03    243.456800     15.672325      0.050500   \n",
       "50%        0.084100  2.610171e+03    248.213300     16.458300      0.104100   \n",
       "75%        0.139000  5.383574e+03    253.561675     16.911000      0.162700   \n",
       "max        0.316400  1.240392e+06    458.117600     99.000000     99.000000   \n",
       "\n",
       "           ...             DELTAX        DELTAY         RATIO     ROUNDNESS  \\\n",
       "count      ...       83510.000000  83510.000000  83510.000000  83510.000000   \n",
       "mean       ...           5.274877      5.105233      0.738536      1.896078   \n",
       "std        ...          14.419757     13.051151      0.263883      4.085037   \n",
       "min        ...           0.000000      0.000000      0.000000      1.000000   \n",
       "25%        ...           2.000000      2.000000      0.600000      1.129895   \n",
       "50%        ...           4.000000      4.000000      0.800000      1.316401   \n",
       "75%        ...           6.000000      6.000000      1.000000      1.677130   \n",
       "max        ...        1023.000000   1023.000000      1.000000    562.446281   \n",
       "\n",
       "       PEAK_CENTROID      image_id       sim_mag      r_scales        gx_mag  \\\n",
       "count   83510.000000  83510.000000  36029.000000  36029.000000  36029.000000   \n",
       "mean        0.858409    425.229338     21.329539      1.541260     21.970178   \n",
       "std         5.140754    228.862247      1.325090      2.068166      1.374354   \n",
       "min         0.000200      1.000000     11.972625      0.000000     13.768000   \n",
       "25%         0.324041    226.000000     20.669386      0.303242     21.182500   \n",
       "50%         0.473116    440.000000     21.591443      0.922844     22.279100   \n",
       "75%         0.675630    626.000000     22.279897      2.078456     23.008400   \n",
       "max       524.814497    798.000000     25.344726    103.042200     25.125700   \n",
       "\n",
       "             sim_id  \n",
       "count  36029.000000  \n",
       "mean   38777.557162  \n",
       "std    22267.303401  \n",
       "min        3.000000  \n",
       "25%    19520.000000  \n",
       "50%    38908.000000  \n",
       "75%    58056.000000  \n",
       "max    77392.000000  \n",
       "\n",
       "[8 rows x 50 columns]"
      ]
     },
     "execution_count": 117,
     "metadata": {},
     "output_type": "execute_result"
    }
   ],
   "source": [
    "dt_ois.describe()"
   ]
  },
  {
   "cell_type": "code",
   "execution_count": 118,
   "metadata": {
    "collapsed": false
   },
   "outputs": [
    {
     "data": {
      "text/html": [
       "<div>\n",
       "<table border=\"1\" class=\"dataframe\">\n",
       "  <thead>\n",
       "    <tr style=\"text-align: right;\">\n",
       "      <th></th>\n",
       "      <th>id</th>\n",
       "      <th>NUMBER</th>\n",
       "      <th>FLUX_ISO</th>\n",
       "      <th>FLUXERR_ISO</th>\n",
       "      <th>MAG_ISO</th>\n",
       "      <th>MAGERR_ISO</th>\n",
       "      <th>FLUX_APER</th>\n",
       "      <th>FLUXERR_APER</th>\n",
       "      <th>MAG_APER</th>\n",
       "      <th>MAGERR_APER</th>\n",
       "      <th>...</th>\n",
       "      <th>DELTAX</th>\n",
       "      <th>DELTAY</th>\n",
       "      <th>RATIO</th>\n",
       "      <th>ROUNDNESS</th>\n",
       "      <th>PEAK_CENTROID</th>\n",
       "      <th>image_id</th>\n",
       "      <th>sim_mag</th>\n",
       "      <th>r_scales</th>\n",
       "      <th>gx_mag</th>\n",
       "      <th>sim_id</th>\n",
       "    </tr>\n",
       "  </thead>\n",
       "  <tbody>\n",
       "    <tr>\n",
       "      <th>count</th>\n",
       "      <td>205914.000000</td>\n",
       "      <td>205914.000000</td>\n",
       "      <td>2.059140e+05</td>\n",
       "      <td>2.059140e+05</td>\n",
       "      <td>205914.000000</td>\n",
       "      <td>205914.000000</td>\n",
       "      <td>2.059140e+05</td>\n",
       "      <td>2.059140e+05</td>\n",
       "      <td>205914.000000</td>\n",
       "      <td>205914.000000</td>\n",
       "      <td>...</td>\n",
       "      <td>205914.000000</td>\n",
       "      <td>205914.000000</td>\n",
       "      <td>205914.000000</td>\n",
       "      <td>205914.000000</td>\n",
       "      <td>205914.000000</td>\n",
       "      <td>205914.000000</td>\n",
       "      <td>31062.000000</td>\n",
       "      <td>31062.000000</td>\n",
       "      <td>31062.000000</td>\n",
       "      <td>31062.000000</td>\n",
       "    </tr>\n",
       "    <tr>\n",
       "      <th>mean</th>\n",
       "      <td>102957.500000</td>\n",
       "      <td>1044.318784</td>\n",
       "      <td>2.162758e+06</td>\n",
       "      <td>1.017334e+05</td>\n",
       "      <td>15.774240</td>\n",
       "      <td>0.110243</td>\n",
       "      <td>1.090600e+06</td>\n",
       "      <td>1.248796e+05</td>\n",
       "      <td>17.482624</td>\n",
       "      <td>1.958059</td>\n",
       "      <td>...</td>\n",
       "      <td>4.274357</td>\n",
       "      <td>4.417587</td>\n",
       "      <td>0.665146</td>\n",
       "      <td>2.029001</td>\n",
       "      <td>0.893840</td>\n",
       "      <td>500.962431</td>\n",
       "      <td>21.276251</td>\n",
       "      <td>1.566532</td>\n",
       "      <td>21.943097</td>\n",
       "      <td>36209.210547</td>\n",
       "    </tr>\n",
       "    <tr>\n",
       "      <th>std</th>\n",
       "      <td>59442.396002</td>\n",
       "      <td>1410.223218</td>\n",
       "      <td>2.254561e+07</td>\n",
       "      <td>4.346653e+05</td>\n",
       "      <td>2.639223</td>\n",
       "      <td>0.053800</td>\n",
       "      <td>6.880473e+06</td>\n",
       "      <td>5.057301e+05</td>\n",
       "      <td>10.940178</td>\n",
       "      <td>13.550977</td>\n",
       "      <td>...</td>\n",
       "      <td>4.224270</td>\n",
       "      <td>4.872346</td>\n",
       "      <td>0.240296</td>\n",
       "      <td>0.919405</td>\n",
       "      <td>1.829835</td>\n",
       "      <td>219.026397</td>\n",
       "      <td>1.252513</td>\n",
       "      <td>2.000325</td>\n",
       "      <td>1.333369</td>\n",
       "      <td>21719.482607</td>\n",
       "    </tr>\n",
       "    <tr>\n",
       "      <th>min</th>\n",
       "      <td>1.000000</td>\n",
       "      <td>1.000000</td>\n",
       "      <td>3.368892e+02</td>\n",
       "      <td>9.853988e+01</td>\n",
       "      <td>0.418900</td>\n",
       "      <td>0.001400</td>\n",
       "      <td>-3.844692e+07</td>\n",
       "      <td>1.927841e+02</td>\n",
       "      <td>2.251600</td>\n",
       "      <td>0.001500</td>\n",
       "      <td>...</td>\n",
       "      <td>0.000000</td>\n",
       "      <td>0.000000</td>\n",
       "      <td>0.000000</td>\n",
       "      <td>1.000000</td>\n",
       "      <td>0.000100</td>\n",
       "      <td>1.000000</td>\n",
       "      <td>11.972625</td>\n",
       "      <td>0.000000</td>\n",
       "      <td>13.768000</td>\n",
       "      <td>3.000000</td>\n",
       "    </tr>\n",
       "    <tr>\n",
       "      <th>25%</th>\n",
       "      <td>51479.250000</td>\n",
       "      <td>80.000000</td>\n",
       "      <td>1.204054e+03</td>\n",
       "      <td>1.580171e+02</td>\n",
       "      <td>15.414000</td>\n",
       "      <td>0.070000</td>\n",
       "      <td>1.232265e+03</td>\n",
       "      <td>2.567336e+02</td>\n",
       "      <td>16.014700</td>\n",
       "      <td>0.124000</td>\n",
       "      <td>...</td>\n",
       "      <td>2.000000</td>\n",
       "      <td>2.000000</td>\n",
       "      <td>0.500000</td>\n",
       "      <td>1.414116</td>\n",
       "      <td>0.368181</td>\n",
       "      <td>342.000000</td>\n",
       "      <td>20.610547</td>\n",
       "      <td>0.319816</td>\n",
       "      <td>21.120825</td>\n",
       "      <td>17452.250000</td>\n",
       "    </tr>\n",
       "    <tr>\n",
       "      <th>50%</th>\n",
       "      <td>102957.500000</td>\n",
       "      <td>409.000000</td>\n",
       "      <td>2.456206e+03</td>\n",
       "      <td>2.227289e+02</td>\n",
       "      <td>16.524300</td>\n",
       "      <td>0.104300</td>\n",
       "      <td>1.722501e+03</td>\n",
       "      <td>2.771321e+02</td>\n",
       "      <td>16.909600</td>\n",
       "      <td>0.190300</td>\n",
       "      <td>...</td>\n",
       "      <td>3.000000</td>\n",
       "      <td>3.000000</td>\n",
       "      <td>0.666667</td>\n",
       "      <td>1.712018</td>\n",
       "      <td>0.500166</td>\n",
       "      <td>517.000000</td>\n",
       "      <td>21.514212</td>\n",
       "      <td>0.960898</td>\n",
       "      <td>22.217750</td>\n",
       "      <td>35424.500000</td>\n",
       "    </tr>\n",
       "    <tr>\n",
       "      <th>75%</th>\n",
       "      <td>154435.750000</td>\n",
       "      <td>1450.000000</td>\n",
       "      <td>6.829811e+03</td>\n",
       "      <td>3.982212e+02</td>\n",
       "      <td>17.298400</td>\n",
       "      <td>0.147400</td>\n",
       "      <td>3.927506e+03</td>\n",
       "      <td>4.460457e+02</td>\n",
       "      <td>17.273200</td>\n",
       "      <td>0.255700</td>\n",
       "      <td>...</td>\n",
       "      <td>5.000000</td>\n",
       "      <td>5.000000</td>\n",
       "      <td>0.882353</td>\n",
       "      <td>2.427007</td>\n",
       "      <td>0.833191</td>\n",
       "      <td>690.000000</td>\n",
       "      <td>22.177558</td>\n",
       "      <td>2.133344</td>\n",
       "      <td>22.979700</td>\n",
       "      <td>54232.750000</td>\n",
       "    </tr>\n",
       "    <tr>\n",
       "      <th>max</th>\n",
       "      <td>205914.000000</td>\n",
       "      <td>7493.000000</td>\n",
       "      <td>6.799047e+09</td>\n",
       "      <td>1.000134e+07</td>\n",
       "      <td>18.681300</td>\n",
       "      <td>1.378800</td>\n",
       "      <td>1.257107e+09</td>\n",
       "      <td>2.603729e+06</td>\n",
       "      <td>99.000000</td>\n",
       "      <td>1312.444200</td>\n",
       "      <td>...</td>\n",
       "      <td>172.000000</td>\n",
       "      <td>151.000000</td>\n",
       "      <td>1.000000</td>\n",
       "      <td>12.293860</td>\n",
       "      <td>39.896598</td>\n",
       "      <td>798.000000</td>\n",
       "      <td>25.960207</td>\n",
       "      <td>103.042200</td>\n",
       "      <td>25.220400</td>\n",
       "      <td>77393.000000</td>\n",
       "    </tr>\n",
       "  </tbody>\n",
       "</table>\n",
       "<p>8 rows × 50 columns</p>\n",
       "</div>"
      ],
      "text/plain": [
       "                  id         NUMBER      FLUX_ISO   FLUXERR_ISO  \\\n",
       "count  205914.000000  205914.000000  2.059140e+05  2.059140e+05   \n",
       "mean   102957.500000    1044.318784  2.162758e+06  1.017334e+05   \n",
       "std     59442.396002    1410.223218  2.254561e+07  4.346653e+05   \n",
       "min         1.000000       1.000000  3.368892e+02  9.853988e+01   \n",
       "25%     51479.250000      80.000000  1.204054e+03  1.580171e+02   \n",
       "50%    102957.500000     409.000000  2.456206e+03  2.227289e+02   \n",
       "75%    154435.750000    1450.000000  6.829811e+03  3.982212e+02   \n",
       "max    205914.000000    7493.000000  6.799047e+09  1.000134e+07   \n",
       "\n",
       "             MAG_ISO     MAGERR_ISO     FLUX_APER  FLUXERR_APER  \\\n",
       "count  205914.000000  205914.000000  2.059140e+05  2.059140e+05   \n",
       "mean       15.774240       0.110243  1.090600e+06  1.248796e+05   \n",
       "std         2.639223       0.053800  6.880473e+06  5.057301e+05   \n",
       "min         0.418900       0.001400 -3.844692e+07  1.927841e+02   \n",
       "25%        15.414000       0.070000  1.232265e+03  2.567336e+02   \n",
       "50%        16.524300       0.104300  1.722501e+03  2.771321e+02   \n",
       "75%        17.298400       0.147400  3.927506e+03  4.460457e+02   \n",
       "max        18.681300       1.378800  1.257107e+09  2.603729e+06   \n",
       "\n",
       "            MAG_APER    MAGERR_APER      ...              DELTAX  \\\n",
       "count  205914.000000  205914.000000      ...       205914.000000   \n",
       "mean       17.482624       1.958059      ...            4.274357   \n",
       "std        10.940178      13.550977      ...            4.224270   \n",
       "min         2.251600       0.001500      ...            0.000000   \n",
       "25%        16.014700       0.124000      ...            2.000000   \n",
       "50%        16.909600       0.190300      ...            3.000000   \n",
       "75%        17.273200       0.255700      ...            5.000000   \n",
       "max        99.000000    1312.444200      ...          172.000000   \n",
       "\n",
       "              DELTAY          RATIO      ROUNDNESS  PEAK_CENTROID  \\\n",
       "count  205914.000000  205914.000000  205914.000000  205914.000000   \n",
       "mean        4.417587       0.665146       2.029001       0.893840   \n",
       "std         4.872346       0.240296       0.919405       1.829835   \n",
       "min         0.000000       0.000000       1.000000       0.000100   \n",
       "25%         2.000000       0.500000       1.414116       0.368181   \n",
       "50%         3.000000       0.666667       1.712018       0.500166   \n",
       "75%         5.000000       0.882353       2.427007       0.833191   \n",
       "max       151.000000       1.000000      12.293860      39.896598   \n",
       "\n",
       "            image_id       sim_mag      r_scales        gx_mag        sim_id  \n",
       "count  205914.000000  31062.000000  31062.000000  31062.000000  31062.000000  \n",
       "mean      500.962431     21.276251      1.566532     21.943097  36209.210547  \n",
       "std       219.026397      1.252513      2.000325      1.333369  21719.482607  \n",
       "min         1.000000     11.972625      0.000000     13.768000      3.000000  \n",
       "25%       342.000000     20.610547      0.319816     21.120825  17452.250000  \n",
       "50%       517.000000     21.514212      0.960898     22.217750  35424.500000  \n",
       "75%       690.000000     22.177558      2.133344     22.979700  54232.750000  \n",
       "max       798.000000     25.960207    103.042200     25.220400  77393.000000  \n",
       "\n",
       "[8 rows x 50 columns]"
      ]
     },
     "execution_count": 118,
     "metadata": {},
     "output_type": "execute_result"
    }
   ],
   "source": [
    "dt_hot.describe()"
   ]
  },
  {
   "cell_type": "code",
   "execution_count": 119,
   "metadata": {
    "collapsed": false,
    "deletable": true,
    "editable": true
   },
   "outputs": [],
   "source": [
    "dt_ois.IS_REAL = dt_ois.IS_REAL.astype(int)\n",
    "dt_zps.IS_REAL = dt_zps.IS_REAL.astype(int)\n",
    "dt_hot.IS_REAL = dt_hot.IS_REAL.astype(int)"
   ]
  },
  {
   "cell_type": "code",
   "execution_count": 120,
   "metadata": {
    "collapsed": false,
    "deletable": true,
    "editable": true,
    "scrolled": true
   },
   "outputs": [
    {
     "data": {
      "image/png": "[encoded data removed]",
      "text/plain": [
       "<matplotlib.figure.Figure at 0x7f5439615bd0>"
      ]
     },
     "metadata": {},
     "output_type": "display_data"
    }
   ],
   "source": [
    "plt.figure(figsize=(8,3))\n",
    "plt.subplot(131)\n",
    "plt.hist(dt_ois['IS_REAL'])\n",
    "plt.xlabel('Bramich')\n",
    "plt.subplot(132)\n",
    "plt.hist(dt_zps['IS_REAL'])\n",
    "plt.xlabel('Zackay')\n",
    "plt.subplot(133)\n",
    "plt.hist(dt_hot['IS_REAL'])\n",
    "plt.xlabel('Hotpants')\n",
    "plt.tight_layout()"
   ]
  },
  {
   "cell_type": "code",
   "execution_count": 121,
   "metadata": {
    "collapsed": false,
    "deletable": true,
    "editable": true,
    "scrolled": true
   },
   "outputs": [
    {
     "data": {
      "text/plain": [
       "Index([u'id', u'NUMBER', u'FLUX_ISO', u'FLUXERR_ISO', u'MAG_ISO',\n",
       "       u'MAGERR_ISO', u'FLUX_APER', u'FLUXERR_APER', u'MAG_APER',\n",
       "       u'MAGERR_APER', u'FLUX_AUTO', u'FLUXERR_AUTO', u'MAG_AUTO',\n",
       "       u'MAGERR_AUTO', u'BACKGROUND', u'THRESHOLD', u'FLUX_MAX', u'XMIN_IMAGE',\n",
       "       u'YMIN_IMAGE', u'XMAX_IMAGE', u'YMAX_IMAGE', u'XPEAK_IMAGE',\n",
       "       u'YPEAK_IMAGE', u'X_IMAGE', u'Y_IMAGE', u'X2_IMAGE', u'Y2_IMAGE',\n",
       "       u'XY_IMAGE', u'CXX_IMAGE', u'CYY_IMAGE', u'CXY_IMAGE', u'A_IMAGE',\n",
       "       u'B_IMAGE', u'THETA_IMAGE', u'MU_MAX', u'FLAGS', u'FWHM_IMAGE',\n",
       "       u'ELONGATION', u'ELLIPTICITY', u'CLASS_STAR', u'DELTAX', u'DELTAY',\n",
       "       u'RATIO', u'ROUNDNESS', u'PEAK_CENTROID', u'IS_REAL', u'image_id',\n",
       "       u'sim_mag', u'r_scales', u'gx_mag', u'sim_id'],\n",
       "      dtype='object')"
      ]
     },
     "execution_count": 121,
     "metadata": {},
     "output_type": "execute_result"
    }
   ],
   "source": [
    "dt_ois.columns"
   ]
  },
  {
   "cell_type": "markdown",
   "metadata": {
    "deletable": true,
    "editable": true
   },
   "source": [
    "## Select the columns \n",
    "\n",
    "We select for both methods the columns related to every detection recovered data. \n",
    "\n",
    "There are 35 columns relevant, and this would be the biggest features set for training and testing.\n",
    "Also we perform a random sampling, to be ablo tohandle the data"
   ]
  },
  {
   "cell_type": "code",
   "execution_count": 13,
   "metadata": {
    "collapsed": false
   },
   "outputs": [],
   "source": [
    "dt_zps = dt_zps.sample(10000)\n",
    "dt_ois = dt_ois.sample(10000)\n",
    "dt_hot = dt_hot.sample(10000)"
   ]
  },
  {
   "cell_type": "code",
   "execution_count": 122,
   "metadata": {
    "collapsed": false,
    "deletable": true,
    "editable": true
   },
   "outputs": [],
   "source": [
    "d_ois = dt_ois[[ u'FLUX_ISO', u'FLUXERR_ISO', u'MAG_ISO',\n",
    "       u'MAGERR_ISO', u'FLUX_APER', u'FLUXERR_APER', u'MAG_APER',\n",
    "       u'MAGERR_APER', u'FLUX_AUTO', u'FLUXERR_AUTO', u'MAG_AUTO',\n",
    "       u'MAGERR_AUTO', u'BACKGROUND', u'THRESHOLD', u'FLUX_MAX', u'X2_IMAGE', u'Y2_IMAGE',\n",
    "       u'XY_IMAGE', u'CXX_IMAGE', u'CYY_IMAGE', u'CXY_IMAGE', u'A_IMAGE',\n",
    "       u'B_IMAGE', u'THETA_IMAGE', u'MU_MAX', u'FLAGS', u'FWHM_IMAGE',\n",
    "       u'ELONGATION', u'ELLIPTICITY', u'CLASS_STAR', u'DELTAX', u'DELTAY',\n",
    "       u'RATIO', u'ROUNDNESS', u'PEAK_CENTROID']]"
   ]
  },
  {
   "cell_type": "code",
   "execution_count": 123,
   "metadata": {
    "collapsed": true,
    "deletable": true,
    "editable": true
   },
   "outputs": [],
   "source": [
    "d_zps = dt_zps[[ u'FLUX_ISO', u'FLUXERR_ISO', u'MAG_ISO',\n",
    "       u'MAGERR_ISO', u'FLUX_APER', u'FLUXERR_APER', u'MAG_APER',\n",
    "       u'MAGERR_APER', u'FLUX_AUTO', u'FLUXERR_AUTO', u'MAG_AUTO',\n",
    "       u'MAGERR_AUTO', u'BACKGROUND', u'THRESHOLD', u'FLUX_MAX', u'X2_IMAGE', u'Y2_IMAGE',\n",
    "       u'XY_IMAGE', u'CXX_IMAGE', u'CYY_IMAGE', u'CXY_IMAGE', u'A_IMAGE',\n",
    "       u'B_IMAGE', u'THETA_IMAGE', u'MU_MAX', u'FLAGS', u'FWHM_IMAGE',\n",
    "       u'ELONGATION', u'ELLIPTICITY', u'CLASS_STAR', u'DELTAX', u'DELTAY',\n",
    "       u'RATIO', u'ROUNDNESS', u'PEAK_CENTROID']]"
   ]
  },
  {
   "cell_type": "code",
   "execution_count": 124,
   "metadata": {
    "collapsed": true
   },
   "outputs": [],
   "source": [
    "d_hot = dt_hot[[ u'FLUX_ISO', u'FLUXERR_ISO', u'MAG_ISO',\n",
    "       u'MAGERR_ISO', u'FLUX_APER', u'FLUXERR_APER', u'MAG_APER',\n",
    "       u'MAGERR_APER', u'FLUX_AUTO', u'FLUXERR_AUTO', u'MAG_AUTO',\n",
    "       u'MAGERR_AUTO', u'BACKGROUND', u'THRESHOLD', u'FLUX_MAX', u'X2_IMAGE', u'Y2_IMAGE',\n",
    "       u'XY_IMAGE', u'CXX_IMAGE', u'CYY_IMAGE', u'CXY_IMAGE', u'A_IMAGE',\n",
    "       u'B_IMAGE', u'THETA_IMAGE', u'MU_MAX', u'FLAGS', u'FWHM_IMAGE',\n",
    "       u'ELONGATION', u'ELLIPTICITY', u'CLASS_STAR', u'DELTAX', u'DELTAY',\n",
    "       u'RATIO', u'ROUNDNESS', u'PEAK_CENTROID']]"
   ]
  },
  {
   "cell_type": "code",
   "execution_count": 125,
   "metadata": {
    "collapsed": false,
    "deletable": true,
    "editable": true
   },
   "outputs": [
    {
     "data": {
      "text/plain": [
       "35"
      ]
     },
     "execution_count": 125,
     "metadata": {},
     "output_type": "execute_result"
    }
   ],
   "source": [
    "len(d_zps.columns)"
   ]
  },
  {
   "cell_type": "markdown",
   "metadata": {
    "deletable": true,
    "editable": true
   },
   "source": [
    "### Preprocesing\n",
    "If we convert this to matrix (numpy arrays) we can then *preprocess* this data to become Machine treatable."
   ]
  },
  {
   "cell_type": "markdown",
   "metadata": {
    "deletable": true,
    "editable": true
   },
   "source": [
    "### Scaled\n",
    "\n",
    "This scaling process transforms data to match distributions with zero mean and unit variance."
   ]
  },
  {
   "cell_type": "code",
   "execution_count": 126,
   "metadata": {
    "collapsed": false,
    "deletable": true,
    "editable": true
   },
   "outputs": [],
   "source": [
    "X_zps = d_zps.as_matrix()\n",
    "X_ois = d_ois.as_matrix()\n",
    "X_hot = d_hot.as_matrix()"
   ]
  },
  {
   "cell_type": "code",
   "execution_count": 127,
   "metadata": {
    "collapsed": false,
    "deletable": true,
    "editable": true
   },
   "outputs": [],
   "source": [
    "scaler_ois = preprocessing.StandardScaler().fit(X_ois)\n",
    "scaler_zps = preprocessing.StandardScaler().fit(X_zps)\n",
    "scaler_hot = preprocessing.StandardScaler().fit(X_hot)"
   ]
  },
  {
   "cell_type": "code",
   "execution_count": 128,
   "metadata": {
    "collapsed": false,
    "deletable": true,
    "editable": true
   },
   "outputs": [],
   "source": [
    "X_ois_scaled = scaler_ois.transform(X_ois)\n",
    "X_zps_scaled = scaler_zps.transform(X_zps)\n",
    "X_hot_scaled = scaler_hot.transform(X_hot)"
   ]
  },
  {
   "cell_type": "markdown",
   "metadata": {
    "deletable": true,
    "editable": true
   },
   "source": [
    "# Feature selection"
   ]
  },
  {
   "cell_type": "markdown",
   "metadata": {
    "deletable": true,
    "editable": true
   },
   "source": [
    "Choosing a ranker\n",
    "-----------------\n",
    "\n",
    "It is important to know that feature selection is a general term for tossing the descriptors that doesn't work\n",
    "as expected. This is not always mentioned, but in general one firstly should decide which ML algorithm will use,\n",
    "for example a support vector machines. So, select a feature should be introduced tied to the algorithm applied for selection and perfomance testing. \n",
    "\n",
    "If it is not like this, one could provide misleading information, like jumping to the conclusion that there is no relation at all between a poor performer feature and the objective class, since the method for ML may be somehow not able to grab the information the feature provides. \n",
    "\n",
    "A quick notion of this is the non-linearities present in the profound behaviour of the reality, that we want to learn using linear kernels in a Support VM algorithm."
   ]
  },
  {
   "cell_type": "code",
   "execution_count": 130,
   "metadata": {
    "collapsed": true,
    "deletable": true,
    "editable": true
   },
   "outputs": [],
   "source": [
    "Y_ois = dt_ois['IS_REAL']\n",
    "Y_zps = dt_zps['IS_REAL']\n",
    "Y_hot = dt_hot['IS_REAL']"
   ]
  },
  {
   "cell_type": "code",
   "execution_count": 131,
   "metadata": {
    "collapsed": true
   },
   "outputs": [],
   "source": [
    "fraction_reals_ois = sum(Y_ois)/float(len(Y_ois))\n",
    "fraction_bogus_ois = 1. - fraction_reals_ois"
   ]
  },
  {
   "cell_type": "code",
   "execution_count": 132,
   "metadata": {
    "collapsed": false
   },
   "outputs": [
    {
     "name": "stdout",
     "output_type": "stream",
     "text": [
      "The fraction of reals is: 0.431433361274\n",
      "The fraction of bogus is: 0.568566638726\n",
      "\n",
      "\n",
      "The ratio is: 0.758808786673\n"
     ]
    }
   ],
   "source": [
    "print 'The fraction of reals is: {}'.format(fraction_reals_ois)\n",
    "print 'The fraction of bogus is: {}'.format(fraction_bogus_ois)\n",
    "print '\\n'\n",
    "print 'The ratio is: {}'.format(fraction_reals_ois/fraction_bogus_ois)"
   ]
  },
  {
   "cell_type": "code",
   "execution_count": 133,
   "metadata": {
    "collapsed": true
   },
   "outputs": [],
   "source": [
    "fraction_reals_zps = sum(Y_zps)/float(len(Y_zps))\n",
    "fraction_bogus_zps = 1. - fraction_reals_zps"
   ]
  },
  {
   "cell_type": "code",
   "execution_count": 134,
   "metadata": {
    "collapsed": false
   },
   "outputs": [
    {
     "name": "stdout",
     "output_type": "stream",
     "text": [
      "The fraction of reals is: 0.772550533602\n",
      "The fraction of bogus is: 0.227449466398\n",
      "\n",
      "\n",
      "The ratio is: 3.39658098933\n"
     ]
    }
   ],
   "source": [
    "print 'The fraction of reals is: {}'.format(fraction_reals_zps)\n",
    "print 'The fraction of bogus is: {}'.format(fraction_bogus_zps)\n",
    "print '\\n'\n",
    "print 'The ratio is: {}'.format(fraction_reals_zps/fraction_bogus_zps)"
   ]
  },
  {
   "cell_type": "code",
   "execution_count": 135,
   "metadata": {
    "collapsed": true
   },
   "outputs": [],
   "source": [
    "fraction_reals_hot = sum(Y_hot)/float(len(Y_hot))\n",
    "fraction_bogus_hot = 1. - fraction_reals_hot"
   ]
  },
  {
   "cell_type": "code",
   "execution_count": 136,
   "metadata": {
    "collapsed": false
   },
   "outputs": [
    {
     "name": "stdout",
     "output_type": "stream",
     "text": [
      "The fraction of reals is: 0.150849383723\n",
      "The fraction of bogus is: 0.849150616277\n",
      "\n",
      "\n",
      "The ratio is: 0.177647381786\n"
     ]
    }
   ],
   "source": [
    "print 'The fraction of reals is: {}'.format(fraction_reals_hot)\n",
    "print 'The fraction of bogus is: {}'.format(fraction_bogus_hot)\n",
    "print '\\n'\n",
    "print 'The ratio is: {}'.format(fraction_reals_hot/fraction_bogus_hot)"
   ]
  },
  {
   "cell_type": "markdown",
   "metadata": {},
   "source": [
    "### Univariate selection (*f-test* + *SelectPercentile*)"
   ]
  },
  {
   "cell_type": "code",
   "execution_count": 137,
   "metadata": {
    "collapsed": true
   },
   "outputs": [],
   "source": [
    "from sklearn.feature_selection import SelectPercentile, f_classif"
   ]
  },
  {
   "cell_type": "code",
   "execution_count": 138,
   "metadata": {
    "collapsed": true
   },
   "outputs": [],
   "source": [
    "percentile = 40."
   ]
  },
  {
   "cell_type": "code",
   "execution_count": 139,
   "metadata": {
    "collapsed": false,
    "scrolled": false
   },
   "outputs": [
    {
     "name": "stderr",
     "output_type": "stream",
     "text": [
      "/home/bruno/.virtualenvs/daily/local/lib/python2.7/site-packages/sklearn/utils/validation.py:395: DeprecationWarning: Passing 1d arrays as data is deprecated in 0.17 and will raise ValueError in 0.19. Reshape your data either using X.reshape(-1, 1) if your data has a single feature or X.reshape(1, -1) if it contains a single sample.\n",
      "  DeprecationWarning)\n",
      "/home/bruno/.virtualenvs/daily/local/lib/python2.7/site-packages/sklearn/utils/validation.py:395: DeprecationWarning: Passing 1d arrays as data is deprecated in 0.17 and will raise ValueError in 0.19. Reshape your data either using X.reshape(-1, 1) if your data has a single feature or X.reshape(1, -1) if it contains a single sample.\n",
      "  DeprecationWarning)\n",
      "/home/bruno/.virtualenvs/daily/local/lib/python2.7/site-packages/sklearn/utils/validation.py:395: DeprecationWarning: Passing 1d arrays as data is deprecated in 0.17 and will raise ValueError in 0.19. Reshape your data either using X.reshape(-1, 1) if your data has a single feature or X.reshape(1, -1) if it contains a single sample.\n",
      "  DeprecationWarning)\n"
     ]
    },
    {
     "data": {
      "image/png": "[encoded data removed]",
      "text/plain": [
       "<matplotlib.figure.Figure at 0x7f543593ea50>"
      ]
     },
     "metadata": {},
     "output_type": "display_data"
    }
   ],
   "source": [
    "plt.figure(figsize=(12, 6))\n",
    "#plt.subplot(131)\n",
    "selector = SelectPercentile(f_classif, percentile=percentile)\n",
    "selector.fit(X_ois_scaled, Y_ois)\n",
    "scores = selector.scores_ #-np.log10(selector.pvalues_)\n",
    "scores /= scores.max()\n",
    "\n",
    "ois_selected_cols = selector.transform(np.arange(X_ois_scaled.shape[-1]))\n",
    "\n",
    "plt.bar(np.arange(X_ois_scaled.shape[-1]), scores, width=.25,\n",
    "        label=r'Univariate score ($-Log(p_{value})$) OIS', color='red')\n",
    "plt.xticks(np.arange(X_ois_scaled.shape[-1])+0.3, dt_ois.columns, rotation='vertical', fontsize=11)\n",
    "#plt.title('OIS')\n",
    "\n",
    "#plt.subplot(132)\n",
    "selector = SelectPercentile(f_classif, percentile=percentile)\n",
    "selector.fit(X_zps_scaled, Y_zps)\n",
    "scores = selector.scores_ #-np.log10(selector.pvalues_)\n",
    "scores /= scores.max()\n",
    "\n",
    "zps_selected_cols = selector.transform(np.arange(X_zps_scaled.shape[-1]))\n",
    "\n",
    "plt.bar(np.arange(X_zps_scaled.shape[-1])+0.25, scores, width=.25,\n",
    "        label=r'Univariate score ($-Log(p_{value})$) Zackay', color='blue')\n",
    "#plt.xticks(np.arange(X_zps_scaled.shape[-1]), dt_zps.columns, rotation='vertical', fontsize=9)\n",
    "#plt.title('Zackay')\n",
    "\n",
    "#plt.subplot(133)\n",
    "selector = SelectPercentile(f_classif, percentile=percentile)\n",
    "selector.fit(X_hot_scaled, Y_hot)\n",
    "scores = selector.scores_ #-np.log10(selector.pvalues_)\n",
    "scores /= scores.max()\n",
    "\n",
    "hot_selected_cols = selector.transform(np.arange(X_hot_scaled.shape[-1]))\n",
    "\n",
    "plt.bar(np.arange(X_hot_scaled.shape[-1])+0.5, scores, width=.25,\n",
    "        label=r'Univariate score ($-Log(p_{value})$) Hotpants', color='green')\n",
    "#plt.xticks(np.arange(X_hot_scaled.shape[-1]), dt_hot.columns, rotation='vertical', fontsize=9)\n",
    "#plt.title('Hotpants')\n",
    "plt.legend(loc='best')\n",
    "\n",
    "plt.show()"
   ]
  },
  {
   "cell_type": "markdown",
   "metadata": {
    "editable": true
   },
   "source": [
    "### Scaled\n",
    "\n",
    "This scaling process transforms data to match distributions with zero mean and unit variance."
   ]
  },
  {
   "cell_type": "code",
   "execution_count": 140,
   "metadata": {
    "collapsed": false
   },
   "outputs": [],
   "source": [
    "d_zps = d_zps[d_zps.columns[zps_selected_cols][0]]\n",
    "d_ois = d_ois[d_ois.columns[ois_selected_cols][0]]\n",
    "d_hot = d_hot[d_hot.columns[hot_selected_cols][0]]"
   ]
  },
  {
   "cell_type": "code",
   "execution_count": 141,
   "metadata": {
    "collapsed": false,
    "editable": true
   },
   "outputs": [],
   "source": [
    "X_zps = d_zps.as_matrix()\n",
    "X_ois = d_ois.as_matrix()\n",
    "X_hot = d_hot.as_matrix()"
   ]
  },
  {
   "cell_type": "code",
   "execution_count": 142,
   "metadata": {
    "collapsed": false,
    "editable": true
   },
   "outputs": [],
   "source": [
    "scaler_ois = preprocessing.StandardScaler().fit(X_ois)\n",
    "scaler_zps = preprocessing.StandardScaler().fit(X_zps)\n",
    "scaler_hot = preprocessing.StandardScaler().fit(X_hot)"
   ]
  },
  {
   "cell_type": "code",
   "execution_count": 143,
   "metadata": {
    "collapsed": false,
    "editable": true
   },
   "outputs": [],
   "source": [
    "X_ois_scaled = scaler_ois.transform(X_ois)\n",
    "X_zps_scaled = scaler_zps.transform(X_zps)\n",
    "X_hot_scaled = scaler_hot.transform(X_hot)"
   ]
  },
  {
   "cell_type": "markdown",
   "metadata": {
    "deletable": true,
    "editable": true
   },
   "source": [
    "**Recursive feature elimination**\n",
    "\n",
    "This a feature selection technique, that is completely supervised (in opposition to a Principal Component Analisys), and aims to elminate features that have poor description power in the chosen model environment.\n",
    "\n",
    "For example in the code block below, we use a *c45* decision tree, and a *step* value of 3. This means, that we will train a *c45* algorithm tossing three random features, repeteadly, until we get a notion of which set of features get better scores (*f1* in this case). We repeat this using a 10 fold cross validation, and then decide which features we eliminate.\n",
    "\n",
    "So it is a recursive technique that depends strongly on the *c45* election. It is clear that features that perform poor on a decision tree can be good descriptors for SVM for example. "
   ]
  },
  {
   "cell_type": "markdown",
   "metadata": {},
   "source": [
    "### OIS"
   ]
  },
  {
   "cell_type": "code",
   "execution_count": 144,
   "metadata": {
    "collapsed": true
   },
   "outputs": [],
   "source": [
    "svc = SVC(kernel='linear', \n",
    "          cache_size=500, \n",
    "          class_weight='balanced', \n",
    "          probability=False)"
   ]
  },
  {
   "cell_type": "code",
   "execution_count": null,
   "metadata": {
    "collapsed": false,
    "deletable": true,
    "editable": true,
    "scrolled": true
   },
   "outputs": [],
   "source": [
    "rfecv = feature_selection.RFECV(estimator=svc, step=1, cv=StratifiedKFold(10),\n",
    "              scoring='f1', n_jobs=7)\n",
    "rfecv.fit(np.ascontiguousarray(X_ois_scaled), Y_ois)"
   ]
  },
  {
   "cell_type": "code",
   "execution_count": null,
   "metadata": {
    "collapsed": false,
    "deletable": true,
    "editable": true
   },
   "outputs": [],
   "source": [
    "print(\"Optimal number of features : %d\" % rfecv.n_features_)"
   ]
  },
  {
   "cell_type": "code",
   "execution_count": null,
   "metadata": {
    "collapsed": false,
    "deletable": true,
    "editable": true
   },
   "outputs": [],
   "source": [
    "d_ois.columns[rfecv.support_]"
   ]
  },
  {
   "cell_type": "code",
   "execution_count": null,
   "metadata": {
    "collapsed": false,
    "deletable": true,
    "editable": true
   },
   "outputs": [],
   "source": [
    "plt.figure()\n",
    "plt.xlabel(\"Number of features selected\")\n",
    "plt.ylabel(\"Cross validation score (nb of correct classifications)\")\n",
    "plt.plot(range(1, len(rfecv.grid_scores_) + 1), rfecv.grid_scores_)\n",
    "plt.show()"
   ]
  },
  {
   "cell_type": "code",
   "execution_count": null,
   "metadata": {
    "collapsed": false,
    "deletable": true,
    "editable": true
   },
   "outputs": [],
   "source": [
    "dB = d_ois[d_ois.columns[rfecv.support_]]"
   ]
  },
  {
   "cell_type": "code",
   "execution_count": null,
   "metadata": {
    "collapsed": false,
    "deletable": true,
    "editable": true
   },
   "outputs": [],
   "source": [
    "if rfecv.n_features_< 10:\n",
    "    pd.scatter_matrix(dB, alpha=0.1, figsize=(8, 8), diagonal='kde')\n",
    "    plt.show()"
   ]
  },
  {
   "cell_type": "markdown",
   "metadata": {},
   "source": [
    "### Zackay"
   ]
  },
  {
   "cell_type": "code",
   "execution_count": null,
   "metadata": {
    "collapsed": true
   },
   "outputs": [],
   "source": [
    "svc = SVC(kernel='linear', \n",
    "          cache_size=500, \n",
    "          class_weight='balanced', \n",
    "          probability=False)"
   ]
  },
  {
   "cell_type": "code",
   "execution_count": null,
   "metadata": {
    "collapsed": false,
    "editable": true
   },
   "outputs": [],
   "source": [
    "c45 = DecisionTreeClassifier(criterion='entropy', max_leaf_nodes=33)"
   ]
  },
  {
   "cell_type": "code",
   "execution_count": null,
   "metadata": {
    "collapsed": true,
    "deletable": true,
    "editable": true
   },
   "outputs": [],
   "source": [
    "rfecv = feature_selection.RFECV(estimator=svc, step=1, cv=StratifiedKFold(10),\n",
    "              scoring='f1', n_jobs=7)"
   ]
  },
  {
   "cell_type": "code",
   "execution_count": null,
   "metadata": {
    "collapsed": false,
    "deletable": true,
    "editable": true
   },
   "outputs": [],
   "source": [
    "rfecv.fit(np.ascontiguousarray(X_zps_scaled), Y_zps)"
   ]
  },
  {
   "cell_type": "code",
   "execution_count": null,
   "metadata": {
    "collapsed": false,
    "deletable": true,
    "editable": true
   },
   "outputs": [],
   "source": [
    "print(\"Optimal number of features : %d\" % rfecv.n_features_)"
   ]
  },
  {
   "cell_type": "code",
   "execution_count": null,
   "metadata": {
    "collapsed": false,
    "deletable": true,
    "editable": true
   },
   "outputs": [],
   "source": [
    "d_zps.columns[rfecv.support_]"
   ]
  },
  {
   "cell_type": "code",
   "execution_count": null,
   "metadata": {
    "collapsed": false,
    "deletable": true,
    "editable": true
   },
   "outputs": [],
   "source": [
    "plt.figure()\n",
    "plt.xlabel(\"Number of features selected\")\n",
    "plt.ylabel(\"Cross validation score (nb of correct classifications)\")\n",
    "plt.plot(range(1, len(rfecv.grid_scores_) + 1), rfecv.grid_scores_)\n",
    "plt.show()"
   ]
  },
  {
   "cell_type": "code",
   "execution_count": null,
   "metadata": {
    "collapsed": false,
    "deletable": true,
    "editable": true
   },
   "outputs": [],
   "source": [
    "dZ = d_zps[d_zps.columns[rfecv.support_]]"
   ]
  },
  {
   "cell_type": "code",
   "execution_count": null,
   "metadata": {
    "collapsed": false,
    "deletable": true,
    "editable": true,
    "scrolled": false
   },
   "outputs": [],
   "source": [
    "if sum(rfecv.support_)< 7:\n",
    "    pd.scatter_matrix(dZ, alpha=0.1, figsize=(10, 10), diagonal='kde')\n",
    "    plt.grid()\n",
    "    plt.show()"
   ]
  },
  {
   "cell_type": "markdown",
   "metadata": {},
   "source": [
    "### HOTPANTS"
   ]
  },
  {
   "cell_type": "code",
   "execution_count": null,
   "metadata": {
    "collapsed": false,
    "editable": true
   },
   "outputs": [],
   "source": [
    "c45 = DecisionTreeClassifier(criterion='entropy', max_leaf_nodes=33)"
   ]
  },
  {
   "cell_type": "code",
   "execution_count": null,
   "metadata": {
    "collapsed": true
   },
   "outputs": [],
   "source": [
    "svc = SVC(kernel='linear', \n",
    "          cache_size=500, \n",
    "          class_weight='balanced', \n",
    "          probability=False)"
   ]
  },
  {
   "cell_type": "code",
   "execution_count": null,
   "metadata": {
    "collapsed": true,
    "editable": true
   },
   "outputs": [],
   "source": [
    "rfecv = feature_selection.RFECV(estimator=svc, step=1, cv=StratifiedKFold(10),\n",
    "              scoring='f1', n_jobs=7)"
   ]
  },
  {
   "cell_type": "code",
   "execution_count": null,
   "metadata": {
    "collapsed": false,
    "editable": true
   },
   "outputs": [],
   "source": [
    "rfecv.fit(np.ascontiguousarray(X_hot_scaled), Y_hot)"
   ]
  },
  {
   "cell_type": "code",
   "execution_count": null,
   "metadata": {
    "collapsed": false,
    "editable": true
   },
   "outputs": [],
   "source": [
    "print(\"Optimal number of features : %d\" % rfecv.n_features_)"
   ]
  },
  {
   "cell_type": "code",
   "execution_count": null,
   "metadata": {
    "collapsed": false,
    "editable": true
   },
   "outputs": [],
   "source": [
    "d_hot.columns[rfecv.support_]"
   ]
  },
  {
   "cell_type": "code",
   "execution_count": null,
   "metadata": {
    "collapsed": false,
    "editable": true
   },
   "outputs": [],
   "source": [
    "plt.figure()\n",
    "plt.xlabel(\"Number of features selected\")\n",
    "plt.ylabel(\"Cross validation score (nb of correct classifications)\")\n",
    "plt.plot(range(1, len(rfecv.grid_scores_) + 1), rfecv.grid_scores_)\n",
    "plt.show()"
   ]
  },
  {
   "cell_type": "code",
   "execution_count": null,
   "metadata": {
    "collapsed": true,
    "editable": true
   },
   "outputs": [],
   "source": [
    "dH = d_hot[d_hot.columns[rfecv.support_]]"
   ]
  },
  {
   "cell_type": "code",
   "execution_count": null,
   "metadata": {
    "collapsed": false,
    "editable": true
   },
   "outputs": [],
   "source": [
    "if rfecv.n_features_ < 7:\n",
    "    pd.scatter_matrix(dH, alpha=0.1, figsize=(12, 12), diagonal='kde')\n",
    "    plt.show()"
   ]
  },
  {
   "cell_type": "markdown",
   "metadata": {},
   "source": [
    "## Post processing"
   ]
  },
  {
   "cell_type": "markdown",
   "metadata": {},
   "source": [
    "Repeat the scaling pre processing so we get the selected features normalized"
   ]
  },
  {
   "cell_type": "code",
   "execution_count": null,
   "metadata": {
    "collapsed": false,
    "deletable": true,
    "editable": true
   },
   "outputs": [],
   "source": [
    "X_zps = dZ.as_matrix()\n",
    "X_ois = dB.as_matrix()\n",
    "X_hot = dH.as_matrix()\n",
    "\n",
    "scaler_ois = preprocessing.StandardScaler().fit(X_ois)\n",
    "scaler_zps = preprocessing.StandardScaler().fit(X_zps)\n",
    "scaler_hot = preprocessing.StandardScaler().fit(X_hot)\n",
    "\n",
    "X_ois_scaled = scaler_ois.transform(X_ois)\n",
    "X_zps_scaled = scaler_zps.transform(X_zps)\n",
    "X_hot_scaled = scaler_hot.transform(X_hot)"
   ]
  },
  {
   "cell_type": "markdown",
   "metadata": {},
   "source": [
    "## Univariate feature selection\n",
    "\n",
    "### ANOVA"
   ]
  },
  {
   "cell_type": "code",
   "execution_count": null,
   "metadata": {
    "collapsed": false
   },
   "outputs": [],
   "source": [
    "from sklearn.feature_selection import SelectPercentile\n",
    "from sklearn.feature_selection import f_classif\n",
    "from sklearn.model_selection import cross_val_score\n",
    "from sklearn.pipeline import Pipeline\n",
    "\n",
    "transform = SelectPercentile(f_classif)\n",
    "\n",
    "clf = Pipeline([('anova', transform), ('svc', svm.SVC(C=1.0, \n",
    "                                                      cache_size=500, \n",
    "                                                      class_weight='balanced') )])"
   ]
  },
  {
   "cell_type": "code",
   "execution_count": null,
   "metadata": {
    "collapsed": true
   },
   "outputs": [],
   "source": [
    "def anova_svm(X, y, clf, title=None):\n",
    "    score_means = list()\n",
    "    score_stds = list()\n",
    "    percentiles = (1, 3, 6, 10, 15, 20, 30, 40, 60, 80, 100)\n",
    "\n",
    "    for percentile in percentiles:\n",
    "        clf.set_params(anova__percentile=percentile)\n",
    "        # Compute cross-validation score using 1 CPU\n",
    "        this_scores = cross_val_score(clf, X, y, n_jobs=4)\n",
    "        score_means.append(this_scores.mean())\n",
    "        score_stds.append(this_scores.std())\n",
    "\n",
    "    plt.errorbar(percentiles, score_means, np.array(score_stds))\n",
    "\n",
    "    if title is None:\n",
    "        plt.title(\n",
    "            'Performance of the SVM-Anova varying the percentile of features selected')\n",
    "    else:\n",
    "        plt.title(title)\n",
    "    plt.xlabel('Percentile')\n",
    "    plt.ylabel('Prediction rate')\n",
    "\n",
    "    plt.axis('tight')\n",
    "    #plt.show()"
   ]
  },
  {
   "cell_type": "code",
   "execution_count": null,
   "metadata": {
    "collapsed": false
   },
   "outputs": [],
   "source": [
    "plt.figure(figsize=(12, 4))\n",
    "plt.subplot(131)\n",
    "anova_svm(np.ascontiguousarray(X_ois_scaled), Y_ois, clf, title='SVM-Anova OIS')\n",
    "plt.subplot(132)\n",
    "anova_svm(np.ascontiguousarray(X_zps_scaled), Y_zps, clf, title='SVM-Anova Zackay')\n",
    "plt.subplot(133)\n",
    "anova_svm(np.ascontiguousarray(X_hot_scaled), Y_hot, clf, title='SVM-Anova Hotpants')\n",
    "plt.tight_layout()\n",
    "plt.show()"
   ]
  },
  {
   "cell_type": "markdown",
   "metadata": {},
   "source": [
    "### Feature importance by random forest\n"
   ]
  },
  {
   "cell_type": "code",
   "execution_count": null,
   "metadata": {
    "collapsed": true
   },
   "outputs": [],
   "source": [
    "from sklearn.ensemble import ExtraTreesClassifier"
   ]
  },
  {
   "cell_type": "code",
   "execution_count": null,
   "metadata": {
    "collapsed": false
   },
   "outputs": [],
   "source": [
    "def importance_forest(X, y, forest, cols=None, method=None):\n",
    "    forest = ExtraTreesClassifier(n_estimators=250,\n",
    "                                  random_state=0)\n",
    "    forest.fit(X, y)\n",
    "    importances = forest.feature_importances_\n",
    "    std = np.std([tree.feature_importances_ for tree in forest.estimators_],\n",
    "                 axis=0)\n",
    "    indices = np.argsort(importances)[::-1]\n",
    "\n",
    "    # Print the feature ranking\n",
    "    print(\"Feature ranking:\")\n",
    "\n",
    "    if cols is not None:\n",
    "        for f in range(X.shape[1]):\n",
    "            print(\"%d. feature %s (%f)\" % (f + 1, cols[indices[f]-1], importances[indices[f]]))\n",
    "    else:\n",
    "        for f in range(X.shape[1]):\n",
    "            print(\"%d. feature %d (%f)\" % (f + 1, indices[f], importances[indices[f]]))\n",
    "\n",
    "    # Plot the feature importances of the forest\n",
    "    #plt.figure(figsize=(6, 6))\n",
    "    plt.title(\"Feature importances {}\".format(method))\n",
    "    plt.bar(range(X.shape[1]), importances[indices],\n",
    "           color=\"r\", yerr=std[indices], align=\"center\")\n",
    "    if cols is not None:\n",
    "        plt.xticks(range(X.shape[1]), cols[indices-1], rotation='vertical', fontsize=10)\n",
    "    else:\n",
    "        plt.xticks(range(X.shape[1]), indices)\n",
    "    plt.xlim([-1, X.shape[1]])\n",
    "    #plt.show()\n",
    "    return [(cols[indices[f]-1], importances[indices[f]]) for f in range(X.shape[1])]"
   ]
  },
  {
   "cell_type": "code",
   "execution_count": null,
   "metadata": {
    "collapsed": false,
    "scrolled": false
   },
   "outputs": [],
   "source": [
    "plt.figure(figsize=(12, 4))\n",
    "plt.subplot(131)\n",
    "ois_importance = importance_forest(X_ois_scaled, Y_ois, ExtraTreesClassifier(n_estimators=250, random_state=0), \n",
    "                 cols=dB.columns, method='OIS')\n",
    "plt.subplot(132)\n",
    "zps_importance = importance_forest(X_zps_scaled, Y_zps, ExtraTreesClassifier(n_estimators=250, random_state=0), \n",
    "                                   cols=dZ.columns, method='Zackay')\n",
    "plt.subplot(133)\n",
    "hot_importance = importance_forest(X_hot_scaled, Y_hot, ExtraTreesClassifier(n_estimators=250, random_state=0), \n",
    "                                   cols=dH.columns, method='Hotpants')"
   ]
  },
  {
   "cell_type": "code",
   "execution_count": null,
   "metadata": {
    "collapsed": false,
    "scrolled": true
   },
   "outputs": [],
   "source": [
    "acum=0\n",
    "feats = []\n",
    "for feat, imp in ois_importance:\n",
    "    acum += imp\n",
    "    feats.append(feat)\n",
    "    if acum > .90: break\n",
    "\n",
    "print acum, feats"
   ]
  },
  {
   "cell_type": "code",
   "execution_count": null,
   "metadata": {
    "collapsed": true
   },
   "outputs": [],
   "source": [
    "dB = dB[feats]"
   ]
  },
  {
   "cell_type": "code",
   "execution_count": null,
   "metadata": {
    "collapsed": false,
    "scrolled": true
   },
   "outputs": [],
   "source": [
    "acum=0\n",
    "feats = []\n",
    "for feat, imp in zps_importance:\n",
    "    acum += imp\n",
    "    feats.append(feat)\n",
    "    if acum > .90: break\n",
    "\n",
    "print acum, feats"
   ]
  },
  {
   "cell_type": "code",
   "execution_count": null,
   "metadata": {
    "collapsed": false
   },
   "outputs": [],
   "source": [
    "dZ = dZ[feats]"
   ]
  },
  {
   "cell_type": "code",
   "execution_count": null,
   "metadata": {
    "collapsed": false,
    "scrolled": true
   },
   "outputs": [],
   "source": [
    "acum=0\n",
    "feats = []\n",
    "for feat, imp in hot_importance:\n",
    "    acum += imp\n",
    "    feats.append(feat)\n",
    "    if acum > .90: break\n",
    "\n",
    "print acum, feats"
   ]
  },
  {
   "cell_type": "code",
   "execution_count": null,
   "metadata": {
    "collapsed": false
   },
   "outputs": [],
   "source": [
    "dH = dH[feats]"
   ]
  },
  {
   "cell_type": "markdown",
   "metadata": {
    "deletable": true,
    "editable": true
   },
   "source": [
    "### Principal Component Analysis"
   ]
  },
  {
   "cell_type": "code",
   "execution_count": null,
   "metadata": {
    "collapsed": false,
    "editable": true
   },
   "outputs": [],
   "source": [
    "X_zps = dZ.as_matrix()\n",
    "X_ois = dB.as_matrix()\n",
    "X_hot = dH.as_matrix()\n",
    "\n",
    "scaler_ois = preprocessing.StandardScaler().fit(X_ois)\n",
    "scaler_zps = preprocessing.StandardScaler().fit(X_zps)\n",
    "scaler_hot = preprocessing.StandardScaler().fit(X_hot)\n",
    "\n",
    "X_ois_scaled = scaler_ois.transform(X_ois)\n",
    "X_zps_scaled = scaler_zps.transform(X_zps)\n",
    "X_hot_scaled = scaler_hot.transform(X_hot)"
   ]
  },
  {
   "cell_type": "markdown",
   "metadata": {},
   "source": [
    "**OIS**"
   ]
  },
  {
   "cell_type": "code",
   "execution_count": null,
   "metadata": {
    "collapsed": false,
    "deletable": true,
    "editable": true
   },
   "outputs": [],
   "source": [
    "pca = decomposition.PCA(svd_solver='randomized', n_components=min(X_ois_scaled.shape[-1], 6))\n",
    "\n",
    "pca.fit(X_ois_scaled)"
   ]
  },
  {
   "cell_type": "code",
   "execution_count": null,
   "metadata": {
    "collapsed": false,
    "deletable": true,
    "editable": true
   },
   "outputs": [],
   "source": [
    "X_ois_t = pca.transform(X_ois_scaled)"
   ]
  },
  {
   "cell_type": "code",
   "execution_count": null,
   "metadata": {
    "collapsed": false,
    "deletable": true,
    "editable": true
   },
   "outputs": [],
   "source": [
    "pd.scatter_matrix(pd.DataFrame(X_ois_t), alpha=0.1, figsize=(8, 8), diagonal='kde')\n",
    "plt.grid()\n",
    "plt.show()"
   ]
  },
  {
   "cell_type": "markdown",
   "metadata": {},
   "source": [
    "**Zackay**"
   ]
  },
  {
   "cell_type": "code",
   "execution_count": null,
   "metadata": {
    "collapsed": false,
    "editable": true
   },
   "outputs": [],
   "source": [
    "pca = decomposition.PCA(svd_solver='randomized', n_components=min(X_zps_scaled.shape[-1], 6))\n",
    "\n",
    "pca.fit(X_zps_scaled)"
   ]
  },
  {
   "cell_type": "code",
   "execution_count": null,
   "metadata": {
    "collapsed": true,
    "editable": true
   },
   "outputs": [],
   "source": [
    "X_zps_t = pca.transform(X_zps_scaled)"
   ]
  },
  {
   "cell_type": "code",
   "execution_count": null,
   "metadata": {
    "collapsed": false,
    "editable": true,
    "scrolled": false
   },
   "outputs": [],
   "source": [
    "pd.scatter_matrix(pd.DataFrame(X_zps_t), alpha=0.1, figsize=(8, 8), diagonal='kde')\n",
    "plt.show()"
   ]
  },
  {
   "cell_type": "markdown",
   "metadata": {},
   "source": [
    "**HOTPANTS**"
   ]
  },
  {
   "cell_type": "code",
   "execution_count": null,
   "metadata": {
    "collapsed": false,
    "editable": true
   },
   "outputs": [],
   "source": [
    "pca = decomposition.PCA(svd_solver='randomized', n_components=min(X_hot_scaled.shape[-1], 6))\n",
    "\n",
    "pca.fit(X_hot_scaled)"
   ]
  },
  {
   "cell_type": "code",
   "execution_count": null,
   "metadata": {
    "collapsed": true,
    "editable": true
   },
   "outputs": [],
   "source": [
    "X_hot_t = pca.transform(X_hot_scaled)"
   ]
  },
  {
   "cell_type": "code",
   "execution_count": null,
   "metadata": {
    "collapsed": false,
    "editable": true
   },
   "outputs": [],
   "source": [
    "pd.scatter_matrix(pd.DataFrame(X_hot_t), alpha=0.1, figsize=(8, 8), diagonal='kde')\n",
    "plt.grid()\n",
    "plt.show()"
   ]
  },
  {
   "cell_type": "markdown",
   "metadata": {
    "deletable": true,
    "editable": true
   },
   "source": [
    "# Machine Learning perfomance comparison\n",
    "\n",
    "## Comparing methods algorithm to algorithm"
   ]
  },
  {
   "cell_type": "code",
   "execution_count": null,
   "metadata": {
    "collapsed": true,
    "deletable": true,
    "editable": true
   },
   "outputs": [],
   "source": [
    "def experiment(clf, x, y, nfolds=10):\n",
    "    skf = StratifiedKFold(n_splits=nfolds)\n",
    "    probabilities = np.array([])\n",
    "    predictions = np.array([])\n",
    "    y_testing = np.array([])\n",
    "    \n",
    "    for train, test in skf.split(x, y):\n",
    "        \n",
    "        x_train = x[train]\n",
    "        y_train = y[train]\n",
    "        clf.fit(x_train, y_train)\n",
    "\n",
    "        x_test = x[test]\n",
    "        y_test = y[test]\n",
    "        pr = clf.predict(x_test)\n",
    "        probs = clf.predict_proba(x_test)[:, 0]\n",
    "\n",
    "        probabilities = np.hstack([probabilities, probs])\n",
    "        predictions = np.hstack([predictions, pr])\n",
    "        y_testing = np.hstack([y_testing, y_test])\n",
    "\n",
    "    print metrics.classification_report(y_testing, predictions)\n",
    "    fpr, tpr, thresholds = metrics.roc_curve(y_testing, 1.-probabilities)\n",
    "    prec_rec_curve = metrics.precision_recall_curve(y_testing, 1.- probabilities)\n",
    "    roc_auc = metrics.auc(fpr, tpr)\n",
    "    return {'fpr': fpr, \n",
    "            'tpr': tpr, \n",
    "            'thresh': thresholds, \n",
    "            'roc_auc': roc_auc, \n",
    "            'prec_rec_curve': prec_rec_curve,\n",
    "            'y_test': y_testing, \n",
    "            'predictions': predictions,\n",
    "            'probabilities': probabilities, \n",
    "            'confusion_matrix': metrics.confusion_matrix(y_testing, predictions),\n",
    "            }"
   ]
  },
  {
   "cell_type": "markdown",
   "metadata": {
    "deletable": true,
    "editable": true
   },
   "source": [
    "### K-Nearest Neighbors\n"
   ]
  },
  {
   "cell_type": "markdown",
   "metadata": {
    "deletable": true,
    "editable": true
   },
   "source": [
    "**OIS**"
   ]
  },
  {
   "cell_type": "code",
   "execution_count": null,
   "metadata": {
    "collapsed": false,
    "deletable": true,
    "editable": true
   },
   "outputs": [],
   "source": [
    "rslts_knn_ois_uniform = experiment(neighbors.KNeighborsClassifier(n_neighbors=7, weights='uniform'),\n",
    "                                   X_ois_t, Y_ois.as_matrix())"
   ]
  },
  {
   "cell_type": "markdown",
   "metadata": {
    "deletable": true,
    "editable": true
   },
   "source": [
    "**Zackay**"
   ]
  },
  {
   "cell_type": "code",
   "execution_count": null,
   "metadata": {
    "collapsed": false,
    "deletable": true,
    "editable": true
   },
   "outputs": [],
   "source": [
    "rslts_knn_zps_uniform = experiment(neighbors.KNeighborsClassifier(n_neighbors=7, weights='uniform'),\n",
    "                                   X_zps_t, Y_zps.as_matrix())"
   ]
  },
  {
   "cell_type": "markdown",
   "metadata": {},
   "source": [
    "**Hotpants**"
   ]
  },
  {
   "cell_type": "code",
   "execution_count": null,
   "metadata": {
    "collapsed": false
   },
   "outputs": [],
   "source": [
    "rslts_knn_hot_uniform = experiment(neighbors.KNeighborsClassifier(n_neighbors=7, weights='uniform'),\n",
    "                                   X_hot_t, Y_hot.as_matrix())"
   ]
  },
  {
   "cell_type": "markdown",
   "metadata": {
    "deletable": true,
    "editable": true
   },
   "source": [
    "### Support vector machines\n",
    "\n",
    "**OIS**"
   ]
  },
  {
   "cell_type": "code",
   "execution_count": null,
   "metadata": {
    "collapsed": false
   },
   "outputs": [],
   "source": [
    "rslts_ois_svc = experiment(svm.SVC(kernel='linear', \n",
    "                                   probability=True, \n",
    "                                   cache_size=500, \n",
    "                                   class_weight='balanced'),\n",
    "                           X_ois_t, Y_ois.as_matrix())"
   ]
  },
  {
   "cell_type": "markdown",
   "metadata": {
    "deletable": true,
    "editable": true
   },
   "source": [
    "**Zackay**"
   ]
  },
  {
   "cell_type": "code",
   "execution_count": null,
   "metadata": {
    "collapsed": false
   },
   "outputs": [],
   "source": [
    "rslts_zps_svc = experiment(svm.SVC(kernel='linear', \n",
    "                                   probability=True, \n",
    "                                   cache_size=500, \n",
    "                                   class_weight='balanced'),\n",
    "                           X_zps_t, Y_zps.as_matrix())"
   ]
  },
  {
   "cell_type": "markdown",
   "metadata": {},
   "source": [
    "**Hotpants**"
   ]
  },
  {
   "cell_type": "code",
   "execution_count": null,
   "metadata": {
    "collapsed": false
   },
   "outputs": [],
   "source": [
    "rslts_hot_svc = experiment(svm.SVC(kernel='linear', \n",
    "                                   probability=True, \n",
    "                                   cache_size=500, \n",
    "                                   class_weight='balanced'),\n",
    "                           X_hot_t, Y_hot.as_matrix())"
   ]
  },
  {
   "cell_type": "markdown",
   "metadata": {
    "deletable": true,
    "editable": true
   },
   "source": [
    "### Decision tree (gini)"
   ]
  },
  {
   "cell_type": "markdown",
   "metadata": {
    "deletable": true,
    "editable": true
   },
   "source": [
    "**OIS**"
   ]
  },
  {
   "cell_type": "code",
   "execution_count": null,
   "metadata": {
    "collapsed": false,
    "deletable": true,
    "editable": true
   },
   "outputs": [],
   "source": [
    "rslts_ois_dtree_gini = experiment(DecisionTreeClassifier(min_samples_leaf=20), X_ois_t, Y_ois.as_matrix())"
   ]
  },
  {
   "cell_type": "markdown",
   "metadata": {
    "deletable": true,
    "editable": true
   },
   "source": [
    "**Zackay**"
   ]
  },
  {
   "cell_type": "code",
   "execution_count": null,
   "metadata": {
    "collapsed": false,
    "deletable": true,
    "editable": true
   },
   "outputs": [],
   "source": [
    "rslts_zps_dtree_gini = experiment(DecisionTreeClassifier(min_samples_leaf=20), X_zps_t, Y_zps.as_matrix())"
   ]
  },
  {
   "cell_type": "markdown",
   "metadata": {},
   "source": [
    "**Hotpants**"
   ]
  },
  {
   "cell_type": "code",
   "execution_count": null,
   "metadata": {
    "collapsed": false
   },
   "outputs": [],
   "source": [
    "rslts_hot_dtree_gini = experiment(DecisionTreeClassifier(min_samples_leaf=20), X_hot_t, Y_hot.as_matrix())"
   ]
  },
  {
   "cell_type": "markdown",
   "metadata": {
    "deletable": true,
    "editable": true
   },
   "source": [
    "### Random forest"
   ]
  },
  {
   "cell_type": "markdown",
   "metadata": {
    "deletable": true,
    "editable": true
   },
   "source": [
    "**OIS**"
   ]
  },
  {
   "cell_type": "code",
   "execution_count": null,
   "metadata": {
    "collapsed": false,
    "deletable": true,
    "editable": true
   },
   "outputs": [],
   "source": [
    "rslts_ois_rforest = experiment(RandomForestClassifier(n_estimators=300, \n",
    "                                                      min_samples_leaf=20, \n",
    "                                                      #max_features=7, \n",
    "                                                      n_jobs=7), \n",
    "                               X_ois_t, Y_ois.as_matrix())"
   ]
  },
  {
   "cell_type": "markdown",
   "metadata": {
    "deletable": true,
    "editable": true
   },
   "source": [
    "**Zackay**"
   ]
  },
  {
   "cell_type": "code",
   "execution_count": null,
   "metadata": {
    "collapsed": false,
    "deletable": true,
    "editable": true
   },
   "outputs": [],
   "source": [
    "rslts_zps_rforest = experiment(RandomForestClassifier(n_estimators=300, \n",
    "                                                      min_samples_leaf=20, \n",
    "                                                      #max_features=7, \n",
    "                                                      n_jobs=7), \n",
    "                               X_zps_t, Y_zps.as_matrix())"
   ]
  },
  {
   "cell_type": "markdown",
   "metadata": {},
   "source": [
    "**Hotpants**"
   ]
  },
  {
   "cell_type": "code",
   "execution_count": null,
   "metadata": {
    "collapsed": false
   },
   "outputs": [],
   "source": [
    "rslts_hot_rforest = experiment(RandomForestClassifier(n_estimators=300, \n",
    "                                                      min_samples_leaf=20, \n",
    "                                                      #max_features=7, \n",
    "                                                      n_jobs=7), \n",
    "                               X_hot_t, Y_hot.as_matrix())"
   ]
  },
  {
   "cell_type": "markdown",
   "metadata": {
    "collapsed": true,
    "deletable": true,
    "editable": true
   },
   "source": [
    "### DecisionTreeClassifier (C45)"
   ]
  },
  {
   "cell_type": "markdown",
   "metadata": {
    "deletable": true,
    "editable": true
   },
   "source": [
    "**OIS**"
   ]
  },
  {
   "cell_type": "code",
   "execution_count": null,
   "metadata": {
    "collapsed": false,
    "deletable": true,
    "editable": true
   },
   "outputs": [],
   "source": [
    "rslts_ois_c45 = experiment(DecisionTreeClassifier(criterion='entropy', min_samples_leaf=20), \n",
    "                               X_ois_t, Y_ois.as_matrix())"
   ]
  },
  {
   "cell_type": "markdown",
   "metadata": {
    "deletable": true,
    "editable": true
   },
   "source": [
    "**Zackay**"
   ]
  },
  {
   "cell_type": "code",
   "execution_count": null,
   "metadata": {
    "collapsed": false,
    "deletable": true,
    "editable": true
   },
   "outputs": [],
   "source": [
    "rslts_zps_c45 = experiment(DecisionTreeClassifier(criterion='entropy', min_samples_leaf=20), \n",
    "                               X_zps_t, Y_zps.as_matrix())"
   ]
  },
  {
   "cell_type": "markdown",
   "metadata": {},
   "source": [
    "**Hotpants**"
   ]
  },
  {
   "cell_type": "code",
   "execution_count": null,
   "metadata": {
    "collapsed": false
   },
   "outputs": [],
   "source": [
    "rslts_hot_c45 = experiment(DecisionTreeClassifier(criterion='entropy', min_samples_leaf=20), \n",
    "                               X_hot_t, Y_hot.as_matrix())"
   ]
  },
  {
   "cell_type": "markdown",
   "metadata": {
    "deletable": true,
    "editable": true
   },
   "source": [
    "### ROC curve"
   ]
  },
  {
   "cell_type": "code",
   "execution_count": null,
   "metadata": {
    "collapsed": false
   },
   "outputs": [],
   "source": [
    "zky = ['Zackay']\n",
    "bch = ['Bramich']\n",
    "hot = ['Hotpants']\n",
    "sub_methods = [zky, bch, hot]\n",
    "\n",
    "colors = ['blue', 'red', 'darkgreen']\n",
    "\n",
    "ml_methods = {'RForest'   : [rslts_zps_rforest, rslts_ois_rforest, rslts_hot_rforest],\n",
    "              'DTree Gini': [rslts_zps_dtree_gini, rslts_ois_dtree_gini, rslts_hot_dtree_gini],\n",
    "              'C45'       : [rslts_zps_c45, rslts_ois_c45, rslts_hot_c45],\n",
    "              'SVM'       : [rslts_zps_svc, rslts_ois_svc, rslts_hot_svc], \n",
    "              'KNN'       : [rslts_knn_zps_uniform, rslts_knn_ois_uniform, rslts_knn_hot_uniform]}\n",
    "\n",
    "\n",
    "ls = ['-', '.', '-.', '--', ':']\n",
    "j = 0\n",
    "plt.figure(figsize=(10, 10))\n",
    "for k, v in ml_methods.iteritems():\n",
    "    for i in range(3):\n",
    "        sub_method = v[i]\n",
    "        sub_meth_col = sub_methods[i]\n",
    "        \n",
    "        fpr = sub_method['fpr']\n",
    "        tpr = sub_method['tpr']\n",
    "        roc_auc = sub_method['roc_auc']\n",
    "        sub_meth_col.append(roc_auc)\n",
    "        \n",
    "        label = sub_meth_col[0]+' '+k+' AUC={:06.4f}'.format(roc_auc)\n",
    "        plt.plot(fpr, tpr, ls[j], lw=1.5, color=colors[i], label=label)\n",
    "    j+=1\n",
    "\n",
    "plt.xlabel('False Positive Rate')\n",
    "plt.ylabel('True Positive Rate')\n",
    "plt.legend(loc='lower right', fontsize=11)\n",
    "plt.title('Receiver Operating Characteristic Curve')\n",
    "\n",
    "plt.xlim([-0.01, 0.50])\n",
    "plt.ylim([0.5, 1.005])\n"
   ]
  },
  {
   "cell_type": "code",
   "execution_count": null,
   "metadata": {
    "collapsed": false
   },
   "outputs": [],
   "source": [
    "plt.figure(figsize=(16, 5))\n",
    "#plt.figaspect(.8)\n",
    "plt.subplot(131)\n",
    "res_Dtree = rslts_ois_dtree_gini\n",
    "res_C45 = rslts_ois_c45\n",
    "res_Rforest = rslts_ois_rforest\n",
    "res_svc = rslts_ois_svc\n",
    "res_knn = rslts_knn_ois_uniform\n",
    "\n",
    "pr, rec, thr = res_Dtree['prec_rec_curve']\n",
    "plt.plot(rec, pr, lw=1.5, color='blue', label='Dtree AUC={:06.4f}'.format(res_Dtree['roc_auc']))\n",
    "\n",
    "pr, rec, thr = res_C45['prec_rec_curve']\n",
    "plt.plot(rec, pr, lw=1.5, color='red', label='C45 AUC={:06.4f}'.format(res_C45['roc_auc']))\n",
    "\n",
    "pr, rec, thr = res_Rforest['prec_rec_curve']\n",
    "plt.plot(rec, pr, lw=1.5, color='green', label='Rforest AUC={:06.4f}'.format(res_Rforest['roc_auc']))\n",
    "\n",
    "pr, rec, thr = res_svc['prec_rec_curve']\n",
    "plt.plot(rec, pr, lw=1.5, color='black', label='SVM AUC={:06.4f}'.format(res_svc['roc_auc']))\n",
    "\n",
    "pr, rec, thr = res_knn['prec_rec_curve']\n",
    "plt.plot(rec, pr, lw=1.5, color='magenta', label='KNN AUC={:06.4f}'.format(res_knn['roc_auc']))\n",
    "\n",
    "plt.xlim(0, 1.01)\n",
    "plt.ylim(0.0, 1.1)\n",
    "plt.xlabel('Recall')\n",
    "plt.ylabel('Precision')\n",
    "plt.legend(loc='lower left')\n",
    "plt.title('Precision-Recall Curve OIS')\n",
    "\n",
    "plt.subplot(132)\n",
    "res_Dtree = rslts_zps_dtree_gini\n",
    "res_C45 = rslts_zps_c45\n",
    "res_Rforest = rslts_zps_rforest\n",
    "res_svc = rslts_zps_svc\n",
    "res_knn = rslts_knn_zps_uniform\n",
    "\n",
    "pr, rec, thr = res_Dtree['prec_rec_curve']\n",
    "plt.plot(rec, pr, lw=1.5, color='blue', label='Dtree AUC={:06.4f}'.format(res_Dtree['roc_auc']))\n",
    "\n",
    "pr, rec, thr = res_C45['prec_rec_curve']\n",
    "plt.plot(rec, pr, lw=1.5, color='red', label='C45 AUC={:06.4f}'.format(res_C45['roc_auc']))\n",
    "\n",
    "pr, rec, thr = res_Rforest['prec_rec_curve']\n",
    "plt.plot(rec, pr, lw=1.5, color='green', label='Rforest AUC={:06.4f}'.format(res_Rforest['roc_auc']))\n",
    "\n",
    "pr, rec, thr = res_svc['prec_rec_curve']\n",
    "plt.plot(rec, pr, lw=1.5, color='black', label='SVM AUC={:06.4f}'.format(res_svc['roc_auc']))\n",
    "0\n",
    "pr, rec, thr = res_knn['prec_rec_curve']\n",
    "plt.plot(rec, pr, lw=1.5, color='magenta', label='KNN AUC={:06.4f}'.format(res_knn['roc_auc']))\n",
    "\n",
    "plt.xlim(0, 1.01)\n",
    "plt.ylim(0.0, 1.1)\n",
    "plt.xlabel('Recall')\n",
    "plt.ylabel('Precision')\n",
    "plt.legend(loc='lower left')\n",
    "plt.title('Precision-Recall Curve Zackay')\n",
    "\n",
    "\n",
    "plt.subplot(133)\n",
    "res_Dtree = rslts_hot_dtree_gini\n",
    "res_C45 = rslts_hot_c45\n",
    "res_Rforest = rslts_hot_rforest\n",
    "res_svc = rslts_hot_svc\n",
    "res_knn = rslts_knn_hot_uniform\n",
    "\n",
    "pr, rec, thr = res_Dtree['prec_rec_curve']\n",
    "plt.plot(rec, pr, lw=1.5, color='blue', label='Dtree AUC={:06.4f}'.format(res_Dtree['roc_auc']))\n",
    "\n",
    "pr, rec, thr = res_C45['prec_rec_curve']\n",
    "plt.plot(rec, pr, lw=1.5, color='red', label='C45 AUC={:06.4f}'.format(res_C45['roc_auc']))\n",
    "\n",
    "pr, rec, thr = res_Rforest['prec_rec_curve']\n",
    "plt.plot(rec, pr, lw=1.5, color='green', label='Rforest AUC={:06.4f}'.format(res_Rforest['roc_auc']))\n",
    "\n",
    "pr, rec, thr = res_svc['prec_rec_curve']\n",
    "plt.plot(rec, pr, lw=1.5, color='black', label='SVM AUC={:06.4f}'.format(res_svc['roc_auc']))\n",
    "\n",
    "pr, rec, thr = res_knn['prec_rec_curve']\n",
    "plt.plot(rec, pr, lw=1.5, color='magenta', label='KNN AUC={:06.4f}'.format(res_knn['roc_auc']))\n",
    "\n",
    "plt.xlim(0, 1.01)\n",
    "plt.ylim(0.0, 1.1)\n",
    "plt.xlabel('Recall')\n",
    "plt.ylabel('Precision')\n",
    "plt.legend(loc='lower left')\n",
    "plt.title('Precision-Recall Curve HOTPANTS')\n",
    "\n",
    "plt.tight_layout()\n",
    "plt.show()"
   ]
  },
  {
   "cell_type": "code",
   "execution_count": null,
   "metadata": {
    "collapsed": true
   },
   "outputs": [],
   "source": [
    "import itertools\n",
    "def plot_confusion_matrix(cm, classes,\n",
    "                          normalize=False,\n",
    "                          title='Confusion matrix',\n",
    "                          cmap=plt.cm.Blues,\n",
    "                          printcm=False, \n",
    "                          colorbar=False):\n",
    "    \"\"\"\n",
    "    This function prints and plots the confusion matrix.\n",
    "    Normalization can be applied by setting `normalize=True`.\n",
    "    \"\"\"\n",
    "    plt.imshow(cm, interpolation='nearest', cmap=cmap)\n",
    "    plt.title(title)\n",
    "    if colorbar:\n",
    "        plt.colorbar()\n",
    "    tick_marks = np.arange(len(classes))\n",
    "    plt.xticks(tick_marks, classes, rotation=45)\n",
    "    plt.yticks(tick_marks, classes)\n",
    "\n",
    "    if normalize:\n",
    "        cm = cm.astype('float') / cm.sum(axis=1)[:, np.newaxis]\n",
    "        if printcm:\n",
    "            print(cm)\n",
    "            print(\"Normalized confusion matrix\")\n",
    "    else:\n",
    "        if printcm:\n",
    "            print(cm)\n",
    "            print('Confusion matrix, without normalization')\n",
    "\n",
    "    thresh = 0.74 #cm.max() / 1.5\n",
    "    for i, j in itertools.product(range(cm.shape[0]), range(cm.shape[1])):\n",
    "        plt.text(j, i, cm[i, j],\n",
    "                 horizontalalignment=\"center\",\n",
    "                 color=\"white\" if cm[i, j] > thresh else \"black\")\n",
    "\n",
    "    plt.tight_layout()\n",
    "    plt.ylabel('True label')\n",
    "    plt.xlabel('Predicted label')"
   ]
  },
  {
   "cell_type": "code",
   "execution_count": null,
   "metadata": {
    "collapsed": false
   },
   "outputs": [],
   "source": [
    "m_coll = []\n",
    "\n",
    "res_Dtree = rslts_ois_dtree_gini\n",
    "res_C45 = rslts_ois_c45\n",
    "res_Rforest = rslts_ois_rforest\n",
    "res_svc = rslts_ois_svc\n",
    "res_knn = rslts_knn_ois_uniform\n",
    "true_labels = {'predictions': res_Rforest['y_test']}\n",
    "\n",
    "m_coll.append([res_C45, res_Dtree, res_knn, res_Rforest, res_svc, true_labels])\n",
    "\n",
    "res_Dtree = rslts_zps_dtree_gini\n",
    "res_C45 = rslts_zps_c45\n",
    "res_Rforest = rslts_zps_rforest\n",
    "res_svc = rslts_zps_svc\n",
    "res_knn = rslts_knn_zps_uniform\n",
    "true_labels = {'predictions': res_Rforest['y_test']}\n",
    "\n",
    "m_coll.append([res_C45, res_Dtree, res_knn, res_Rforest, res_svc, true_labels])\n",
    " \n",
    "res_Dtree = rslts_hot_dtree_gini\n",
    "res_C45 = rslts_hot_c45\n",
    "res_Rforest = rslts_hot_rforest\n",
    "res_svc = rslts_hot_svc\n",
    "res_knn = rslts_knn_hot_uniform\n",
    "true_labels = {'predictions': res_Rforest['y_test']}\n",
    "\n",
    "m_coll.append([res_C45, res_Dtree, res_knn, res_Rforest, res_svc, true_labels])\n",
    "names = ['OIS', 'Zackay', 'Hotpants']\n",
    "\n",
    "plt.figure(figsize=(16, 6))\n",
    "for k, methods in enumerate(m_coll):\n",
    "    kappa_agreement = np.ones((len(methods), len(methods)))\n",
    "\n",
    "    for i in range(len(methods)):\n",
    "        for j in range(i+1):\n",
    "            kappa_agreement[i, j] = metrics.cohen_kappa_score(methods[i]['predictions'],\n",
    "                                                              methods[j]['predictions'])#, \n",
    "                                                              #labels=['star', 'galaxy'])\n",
    "            kappa_agreement[j, i] = kappa_agreement[i, j]\n",
    "    kappa_agreement[-1, -1] = 0\n",
    "    plt.subplot(1, 3, k+1)\n",
    "    \n",
    "    plot_confusion_matrix(np.round(kappa_agreement, 3), \n",
    "                          classes=['C45', 'DTree', 'KNN', 'RForest', 'SVC', 'TrueLabels'],\n",
    "                          title=r'Cohen $\\kappa$ agreement')\n",
    "    #plt.tight_layout()\n",
    "    plt.xlabel(names[k])\n",
    "    plt.ylabel('')\n",
    "\n",
    "plt.show()"
   ]
  },
  {
   "cell_type": "code",
   "execution_count": null,
   "metadata": {
    "collapsed": true,
    "deletable": true,
    "editable": true
   },
   "outputs": [],
   "source": [
    "aucs = pd.DataFrame([zky, bch, hot], columns=['SubMethod','DTreeGini', 'C45', 'RandomForest', 'KNN', 'SVM'], )"
   ]
  },
  {
   "cell_type": "code",
   "execution_count": null,
   "metadata": {
    "collapsed": false
   },
   "outputs": [],
   "source": [
    "AUCTable = aucs.set_index(['SubMethod'])"
   ]
  },
  {
   "cell_type": "code",
   "execution_count": null,
   "metadata": {
    "collapsed": false
   },
   "outputs": [],
   "source": [
    "AUCTable"
   ]
  },
  {
   "cell_type": "code",
   "execution_count": null,
   "metadata": {
    "collapsed": false
   },
   "outputs": [],
   "source": [
    "(1-AUCTable).plot.barh(log=False)\n",
    "plt.xlabel(r'$1-AUC$')\n",
    "plt.ylabel('Subtraction Method')\n",
    "plt.tight_layout()\n",
    "plt.xlim(0, 0.3)\n",
    "plt.legend(loc='best')\n",
    "plt.savefig('./plots/complementary_AUC2.png', dpi=600)"
   ]
  },
  {
   "cell_type": "code",
   "execution_count": null,
   "metadata": {
    "collapsed": true
   },
   "outputs": [],
   "source": []
  },
  {
   "cell_type": "code",
   "execution_count": null,
   "metadata": {
    "collapsed": true
   },
   "outputs": [],
   "source": []
  }
 ],
 "metadata": {
  "kernelspec": {
   "display_name": "Python 2",
   "language": "python",
   "name": "python2"
  },
  "language_info": {
   "codemirror_mode": {
    "name": "ipython",
    "version": 2
   },
   "file_extension": ".py",
   "mimetype": "text/x-python",
   "name": "python",
   "nbconvert_exporter": "python",
   "pygments_lexer": "ipython2",
   "version": "2.7.12"
  }
 },
 "nbformat": 4,
 "nbformat_minor": 0
}
