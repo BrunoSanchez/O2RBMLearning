{
 "cells": [
  {
   "cell_type": "code",
   "execution_count": null,
   "metadata": {
    "collapsed": true
   },
   "outputs": [],
   "source": [
    "import numpy as np\n",
    "import matplotlib.pyplot as plt\n",
    "from sklearn import preprocessing\n",
    "from sklearn import decomposition\n",
    "from sklearn import feature_selection\n",
    "\n",
    "from sklearn import svm\n",
    "from sklearn import metrics\n",
    "from sklearn.model_selection import KFold, StratifiedKFold\n",
    "from sklearn.svm import SVC\n",
    "from sklearn.tree import DecisionTreeClassifier\n",
    "from sklearn.ensemble import RandomForestClassifier\n",
    "from sklearn import neighbors\n",
    "\n",
    "#import seaborn as sns\n",
    "from sqlalchemy import create_engine"
   ]
  },
  {
   "cell_type": "code",
   "execution_count": null,
   "metadata": {
    "collapsed": true
   },
   "outputs": [],
   "source": [
    "import pandas as pd\n",
    "%matplotlib inline"
   ]
  },
  {
   "cell_type": "code",
   "execution_count": null,
   "metadata": {
    "collapsed": true
   },
   "outputs": [],
   "source": [
    "#sns.set_context(font_scale=1.2)"
   ]
  },
  {
   "cell_type": "code",
   "execution_count": null,
   "metadata": {
    "collapsed": true
   },
   "outputs": [],
   "source": [
    "font = {'family'        : 'sans-serif',\n",
    "        'sans-serif'    : ['Computer Modern Sans serif'],\n",
    "        'weight'        : 'regular',\n",
    "        'size'          : 12}\n",
    "\n",
    "text = {'usetex'        : False}\n",
    "\n",
    "plt.rc('font', **font)\n",
    "plt.rc('text', **text)"
   ]
  },
  {
   "cell_type": "code",
   "execution_count": null,
   "metadata": {
    "collapsed": true
   },
   "outputs": [],
   "source": [
    "engine = create_engine('sqlite:///../RBpipeline/rbogus-dev.db')"
   ]
  },
  {
   "cell_type": "markdown",
   "metadata": {},
   "source": [
    "## Load the tables from the DB\n",
    "\n",
    "Using a merge we can get the detected portion of the objects, with the\n",
    "recovered data, and the correct simulated data."
   ]
  },
  {
   "cell_type": "raw",
   "metadata": {},
   "source": [
    "dt_zps = pd.read_sql_table('Detected', engine)\n",
    "dt_ois = pd.read_sql_table('DetectedOIS', engine)\n",
    "dt_hot = pd.read_sql_table('DetectedHOT', engine)"
   ]
  },
  {
   "cell_type": "code",
   "execution_count": null,
   "metadata": {
    "collapsed": true
   },
   "outputs": [],
   "source": [
    "dt_zps = pd.merge(pd.read_sql_table('Detected', engine),\n",
    "                  pd.read_sql_query(\"\"\"SELECT \n",
    "                                        Detected.id,\n",
    "                                        Simulated.app_mag as sim_mag,\n",
    "                                        Simulated.r_scales as r_scales,\n",
    "                                        Simulated.gx_mag as gx_mag,\n",
    "                                        Simulated.id as sim_id \n",
    "                                    FROM Detected\n",
    "                                        LEFT JOIN Reals\n",
    "                                            ON Detected.id==Reals.detected_id\n",
    "                                        LEFT JOIN Simulated\n",
    "                                            ON Simulated.id==Reals.simulated_id\"\"\", engine),\n",
    "                                      on='id', suffixes=('',''))\n",
    "\n",
    "dt_ois = pd.merge(pd.read_sql_table('DetectedOIS', engine),\n",
    "                  pd.read_sql_query(\"\"\"SELECT \n",
    "                                        DetectedOIS.id,\n",
    "                                        Simulated.app_mag as sim_mag,\n",
    "                                        Simulated.r_scales as r_scales,\n",
    "                                        Simulated.gx_mag as gx_mag,\n",
    "                                        Simulated.id as sim_id \n",
    "                                    FROM DetectedOIS\n",
    "                                        LEFT JOIN RealsOIS\n",
    "                                            ON DetectedOIS.id==RealsOIS.detected_id\n",
    "                                        LEFT JOIN Simulated\n",
    "                                            ON Simulated.id==RealsOIS.simulated_id\"\"\", engine),\n",
    "                                      on='id', suffixes=('',''))\n",
    "\n",
    "dt_hot = pd.merge(pd.read_sql_table('DetectedHOT', engine),\n",
    "                  pd.read_sql_query(\"\"\"SELECT \n",
    "                                        DetectedHOT.id,\n",
    "                                        Simulated.app_mag as sim_mag,\n",
    "                                        Simulated.r_scales as r_scales,\n",
    "                                        Simulated.gx_mag as gx_mag, \n",
    "                                        Simulated.id as sim_id \n",
    "                                    FROM DetectedHOT\n",
    "                                        LEFT JOIN RealsHOT\n",
    "                                            ON DetectedHOT.id==RealsHOT.detected_id\n",
    "                                        LEFT JOIN Simulated\n",
    "                                            ON Simulated.id==RealsHOT.simulated_id\"\"\", engine),\n",
    "                                      on='id', suffixes=('',''))"
   ]
  },
  {
   "cell_type": "code",
   "execution_count": null,
   "metadata": {},
   "outputs": [],
   "source": [
    "dt_zps.describe()"
   ]
  },
  {
   "cell_type": "code",
   "execution_count": null,
   "metadata": {},
   "outputs": [],
   "source": [
    "dt_ois.describe()"
   ]
  },
  {
   "cell_type": "code",
   "execution_count": null,
   "metadata": {},
   "outputs": [],
   "source": [
    "dt_hot.describe()"
   ]
  },
  {
   "cell_type": "code",
   "execution_count": null,
   "metadata": {
    "collapsed": true
   },
   "outputs": [],
   "source": [
    "dt_ois.IS_REAL = dt_ois.IS_REAL.astype(int)\n",
    "dt_zps.IS_REAL = dt_zps.IS_REAL.astype(int)\n",
    "dt_hot.IS_REAL = dt_hot.IS_REAL.astype(int)"
   ]
  },
  {
   "cell_type": "code",
   "execution_count": null,
   "metadata": {
    "scrolled": true
   },
   "outputs": [],
   "source": [
    "plt.figure(figsize=(8,3))\n",
    "plt.subplot(131)\n",
    "plt.hist(dt_ois['IS_REAL'])\n",
    "plt.xlabel('Bramich')\n",
    "plt.subplot(132)\n",
    "plt.hist(dt_zps['IS_REAL'])\n",
    "plt.xlabel('Zackay')\n",
    "plt.subplot(133)\n",
    "plt.hist(dt_hot['IS_REAL'])\n",
    "plt.xlabel('Hotpants')\n",
    "plt.tight_layout()"
   ]
  },
  {
   "cell_type": "code",
   "execution_count": null,
   "metadata": {
    "scrolled": true
   },
   "outputs": [],
   "source": [
    "dt_ois.columns"
   ]
  },
  {
   "cell_type": "markdown",
   "metadata": {},
   "source": [
    "## Select the columns \n",
    "\n",
    "We select for both methods the columns related to every detection recovered data. \n",
    "\n",
    "There are 35 columns relevant, and this would be the biggest features set for training and testing.\n",
    "Also we perform a random sampling, to be ablo tohandle the data"
   ]
  },
  {
   "cell_type": "code",
   "execution_count": null,
   "metadata": {
    "collapsed": true
   },
   "outputs": [],
   "source": [
    "dt_zps = dt_zps.sample(20000)\n",
    "dt_ois = dt_ois.sample(20000)\n",
    "dt_hot = dt_hot.sample(20000)"
   ]
  },
  {
   "cell_type": "code",
   "execution_count": null,
   "metadata": {
    "collapsed": true
   },
   "outputs": [],
   "source": [
    "d_ois = dt_ois[[ u'FLUX_ISO', u'FLUXERR_ISO', u'MAG_ISO',\n",
    "       u'MAGERR_ISO', u'FLUX_APER', u'FLUXERR_APER', u'MAG_APER',\n",
    "       u'MAGERR_APER', u'FLUX_AUTO', u'FLUXERR_AUTO', u'MAG_AUTO',\n",
    "       u'MAGERR_AUTO', u'BACKGROUND', u'THRESHOLD', u'FLUX_MAX', u'X2_IMAGE', u'Y2_IMAGE',\n",
    "       u'XY_IMAGE', u'CXX_IMAGE', u'CYY_IMAGE', u'CXY_IMAGE', u'A_IMAGE',\n",
    "       u'B_IMAGE', u'THETA_IMAGE', u'MU_MAX', u'FLAGS', u'FWHM_IMAGE',\n",
    "       u'ELONGATION', u'ELLIPTICITY', u'CLASS_STAR', u'DELTAX', u'DELTAY',\n",
    "       u'RATIO', u'ROUNDNESS', u'PEAK_CENTROID']]"
   ]
  },
  {
   "cell_type": "code",
   "execution_count": null,
   "metadata": {
    "collapsed": true
   },
   "outputs": [],
   "source": [
    "d_zps = dt_zps[[ u'FLUX_ISO', u'FLUXERR_ISO', u'MAG_ISO',\n",
    "       u'MAGERR_ISO', u'FLUX_APER', u'FLUXERR_APER', u'MAG_APER',\n",
    "       u'MAGERR_APER', u'FLUX_AUTO', u'FLUXERR_AUTO', u'MAG_AUTO',\n",
    "       u'MAGERR_AUTO', u'BACKGROUND', u'THRESHOLD', u'FLUX_MAX', u'X2_IMAGE', u'Y2_IMAGE',\n",
    "       u'XY_IMAGE', u'CXX_IMAGE', u'CYY_IMAGE', u'CXY_IMAGE', u'A_IMAGE',\n",
    "       u'B_IMAGE', u'THETA_IMAGE', u'MU_MAX', u'FLAGS', u'FWHM_IMAGE',\n",
    "       u'ELONGATION', u'ELLIPTICITY', u'CLASS_STAR', u'DELTAX', u'DELTAY',\n",
    "       u'RATIO', u'ROUNDNESS', u'PEAK_CENTROID']]"
   ]
  },
  {
   "cell_type": "code",
   "execution_count": null,
   "metadata": {
    "collapsed": true
   },
   "outputs": [],
   "source": [
    "d_hot = dt_hot[[ u'FLUX_ISO', u'FLUXERR_ISO', u'MAG_ISO',\n",
    "       u'MAGERR_ISO', u'FLUX_APER', u'FLUXERR_APER', u'MAG_APER',\n",
    "       u'MAGERR_APER', u'FLUX_AUTO', u'FLUXERR_AUTO', u'MAG_AUTO',\n",
    "       u'MAGERR_AUTO', u'BACKGROUND', u'THRESHOLD', u'FLUX_MAX', u'X2_IMAGE', u'Y2_IMAGE',\n",
    "       u'XY_IMAGE', u'CXX_IMAGE', u'CYY_IMAGE', u'CXY_IMAGE', u'A_IMAGE',\n",
    "       u'B_IMAGE', u'THETA_IMAGE', u'MU_MAX', u'FLAGS', u'FWHM_IMAGE',\n",
    "       u'ELONGATION', u'ELLIPTICITY', u'CLASS_STAR', u'DELTAX', u'DELTAY',\n",
    "       u'RATIO', u'ROUNDNESS', u'PEAK_CENTROID']]"
   ]
  },
  {
   "cell_type": "code",
   "execution_count": null,
   "metadata": {},
   "outputs": [],
   "source": [
    "len(d_zps.columns)"
   ]
  },
  {
   "cell_type": "markdown",
   "metadata": {},
   "source": [
    "### Preprocesing\n",
    "If we convert this to matrix (numpy arrays) we can then *preprocess* this data to become Machine treatable."
   ]
  },
  {
   "cell_type": "markdown",
   "metadata": {},
   "source": [
    "### Scaled\n",
    "\n",
    "This scaling process transforms data to match distributions with zero mean and unit variance."
   ]
  },
  {
   "cell_type": "code",
   "execution_count": null,
   "metadata": {
    "collapsed": true
   },
   "outputs": [],
   "source": [
    "X_zps = d_zps.as_matrix()\n",
    "X_ois = d_ois.as_matrix()\n",
    "X_hot = d_hot.as_matrix()"
   ]
  },
  {
   "cell_type": "code",
   "execution_count": null,
   "metadata": {
    "collapsed": true
   },
   "outputs": [],
   "source": [
    "scaler_ois = preprocessing.StandardScaler().fit(X_ois)\n",
    "scaler_zps = preprocessing.StandardScaler().fit(X_zps)\n",
    "scaler_hot = preprocessing.StandardScaler().fit(X_hot)"
   ]
  },
  {
   "cell_type": "code",
   "execution_count": null,
   "metadata": {
    "collapsed": true
   },
   "outputs": [],
   "source": [
    "X_ois_scaled = scaler_ois.transform(X_ois)\n",
    "X_zps_scaled = scaler_zps.transform(X_zps)\n",
    "X_hot_scaled = scaler_hot.transform(X_hot)"
   ]
  },
  {
   "cell_type": "markdown",
   "metadata": {},
   "source": [
    "# Feature selection"
   ]
  },
  {
   "cell_type": "markdown",
   "metadata": {},
   "source": [
    "Choosing a ranker\n",
    "-----------------\n",
    "\n",
    "It is important to know that feature selection is a general term for tossing the descriptors that doesn't work\n",
    "as expected. This is not always mentioned, but in general one firstly should decide which ML algorithm will use,\n",
    "for example a support vector machines. So, select a feature should be introduced tied to the algorithm applied for selection and perfomance testing. \n",
    "\n",
    "If it is not like this, one could provide misleading information, like jumping to the conclusion that there is no relation at all between a poor performer feature and the objective class, since the method for ML may be somehow not able to grab the information the feature provides. \n",
    "\n",
    "A quick notion of this is the non-linearities present in the profound behaviour of the reality, that we want to learn using linear kernels in a Support VM algorithm."
   ]
  },
  {
   "cell_type": "code",
   "execution_count": null,
   "metadata": {
    "collapsed": true
   },
   "outputs": [],
   "source": [
    "Y_ois = dt_ois['IS_REAL']\n",
    "Y_zps = dt_zps['IS_REAL']\n",
    "Y_hot = dt_hot['IS_REAL']"
   ]
  },
  {
   "cell_type": "code",
   "execution_count": null,
   "metadata": {
    "collapsed": true
   },
   "outputs": [],
   "source": [
    "fraction_reals_ois = sum(Y_ois)/float(len(Y_ois))\n",
    "fraction_bogus_ois = 1. - fraction_reals_ois"
   ]
  },
  {
   "cell_type": "code",
   "execution_count": null,
   "metadata": {},
   "outputs": [],
   "source": [
    "print 'The fraction of reals is: {}'.format(fraction_reals_ois)\n",
    "print 'The fraction of bogus is: {}'.format(fraction_bogus_ois)\n",
    "print '\\n'\n",
    "print 'The ratio is: {}'.format(fraction_reals_ois/fraction_bogus_ois)"
   ]
  },
  {
   "cell_type": "code",
   "execution_count": null,
   "metadata": {
    "collapsed": true
   },
   "outputs": [],
   "source": [
    "fraction_reals_zps = sum(Y_zps)/float(len(Y_zps))\n",
    "fraction_bogus_zps = 1. - fraction_reals_zps"
   ]
  },
  {
   "cell_type": "code",
   "execution_count": null,
   "metadata": {},
   "outputs": [],
   "source": [
    "print 'The fraction of reals is: {}'.format(fraction_reals_zps)\n",
    "print 'The fraction of bogus is: {}'.format(fraction_bogus_zps)\n",
    "print '\\n'\n",
    "print 'The ratio is: {}'.format(fraction_reals_zps/fraction_bogus_zps)"
   ]
  },
  {
   "cell_type": "code",
   "execution_count": null,
   "metadata": {
    "collapsed": true
   },
   "outputs": [],
   "source": [
    "fraction_reals_hot = sum(Y_hot)/float(len(Y_hot))\n",
    "fraction_bogus_hot = 1. - fraction_reals_hot"
   ]
  },
  {
   "cell_type": "code",
   "execution_count": null,
   "metadata": {},
   "outputs": [],
   "source": [
    "print 'The fraction of reals is: {}'.format(fraction_reals_hot)\n",
    "print 'The fraction of bogus is: {}'.format(fraction_bogus_hot)\n",
    "print '\\n'\n",
    "print 'The ratio is: {}'.format(fraction_reals_hot/fraction_bogus_hot)"
   ]
  },
  {
   "cell_type": "markdown",
   "metadata": {},
   "source": [
    "### Univariate selection (*f-test* + *SelectPercentile*)"
   ]
  },
  {
   "cell_type": "code",
   "execution_count": null,
   "metadata": {
    "collapsed": true
   },
   "outputs": [],
   "source": [
    "from sklearn.feature_selection import SelectPercentile, f_classif"
   ]
  },
  {
   "cell_type": "code",
   "execution_count": null,
   "metadata": {
    "collapsed": true
   },
   "outputs": [],
   "source": [
    "percentile = 30."
   ]
  },
  {
   "cell_type": "code",
   "execution_count": null,
   "metadata": {
    "scrolled": false
   },
   "outputs": [],
   "source": [
    "plt.figure(figsize=(12, 6))\n",
    "#plt.subplot(131)\n",
    "selector = SelectPercentile(f_classif, percentile=percentile)\n",
    "selector.fit(X_ois_scaled, Y_ois)\n",
    "scores = selector.scores_ #-np.log10(selector.pvalues_)\n",
    "scores /= scores.max()\n",
    "\n",
    "ois_selected_cols = selector.transform(np.arange(X_ois_scaled.shape[-1]))\n",
    "\n",
    "plt.bar(np.arange(X_ois_scaled.shape[-1]), scores, width=.25,\n",
    "        label=r'Univariate score ($-Log(p_{value})$) OIS', color='red')\n",
    "plt.xticks(np.arange(X_ois_scaled.shape[-1])+0.3, dt_ois.columns, rotation='vertical', fontsize=11)\n",
    "#plt.title('OIS')\n",
    "\n",
    "#plt.subplot(132)\n",
    "selector = SelectPercentile(f_classif, percentile=percentile)\n",
    "selector.fit(X_zps_scaled, Y_zps)\n",
    "scores = selector.scores_ #-np.log10(selector.pvalues_)\n",
    "scores /= scores.max()\n",
    "\n",
    "zps_selected_cols = selector.transform(np.arange(X_zps_scaled.shape[-1]))\n",
    "\n",
    "plt.bar(np.arange(X_zps_scaled.shape[-1])+0.25, scores, width=.25,\n",
    "        label=r'Univariate score ($-Log(p_{value})$) Zackay', color='blue')\n",
    "#plt.xticks(np.arange(X_zps_scaled.shape[-1]), dt_zps.columns, rotation='vertical', fontsize=9)\n",
    "#plt.title('Zackay')\n",
    "\n",
    "#plt.subplot(133)\n",
    "selector = SelectPercentile(f_classif, percentile=percentile)\n",
    "selector.fit(X_hot_scaled, Y_hot)\n",
    "scores = selector.scores_ #-np.log10(selector.pvalues_)\n",
    "scores /= scores.max()\n",
    "\n",
    "hot_selected_cols = selector.transform(np.arange(X_hot_scaled.shape[-1]))\n",
    "\n",
    "plt.bar(np.arange(X_hot_scaled.shape[-1])+0.5, scores, width=.25,\n",
    "        label=r'Univariate score ($-Log(p_{value})$) Hotpants', color='green')\n",
    "#plt.xticks(np.arange(X_hot_scaled.shape[-1]), dt_hot.columns, rotation='vertical', fontsize=9)\n",
    "#plt.title('Hotpants')\n",
    "plt.legend(loc='best')\n",
    "\n",
    "plt.show()"
   ]
  },
  {
   "cell_type": "markdown",
   "metadata": {},
   "source": [
    "### Scaled\n",
    "\n",
    "This scaling process transforms data to match distributions with zero mean and unit variance."
   ]
  },
  {
   "cell_type": "code",
   "execution_count": null,
   "metadata": {
    "collapsed": true
   },
   "outputs": [],
   "source": [
    "d_zps = d_zps[d_zps.columns[zps_selected_cols][0]]\n",
    "d_ois = d_ois[d_ois.columns[ois_selected_cols][0]]\n",
    "d_hot = d_hot[d_hot.columns[hot_selected_cols][0]]"
   ]
  },
  {
   "cell_type": "code",
   "execution_count": null,
   "metadata": {
    "collapsed": true
   },
   "outputs": [],
   "source": [
    "X_zps = d_zps.as_matrix()\n",
    "X_ois = d_ois.as_matrix()\n",
    "X_hot = d_hot.as_matrix()"
   ]
  },
  {
   "cell_type": "code",
   "execution_count": null,
   "metadata": {
    "collapsed": true
   },
   "outputs": [],
   "source": [
    "scaler_ois = preprocessing.StandardScaler().fit(X_ois)\n",
    "scaler_zps = preprocessing.StandardScaler().fit(X_zps)\n",
    "scaler_hot = preprocessing.StandardScaler().fit(X_hot)"
   ]
  },
  {
   "cell_type": "code",
   "execution_count": null,
   "metadata": {
    "collapsed": true
   },
   "outputs": [],
   "source": [
    "X_ois_scaled = scaler_ois.transform(X_ois)\n",
    "X_zps_scaled = scaler_zps.transform(X_zps)\n",
    "X_hot_scaled = scaler_hot.transform(X_hot)"
   ]
  },
  {
   "cell_type": "markdown",
   "metadata": {},
   "source": [
    "**Recursive feature elimination**\n",
    "\n",
    "This a feature selection technique, that is completely supervised (in opposition to a Principal Component Analisys), and aims to elminate features that have poor description power in the chosen model environment.\n",
    "\n",
    "For example in the code block below, we use a *c45* decision tree, and a *step* value of 3. This means, that we will train a *c45* algorithm tossing three random features, repeteadly, until we get a notion of which set of features get better scores (*f1* in this case). We repeat this using a 10 fold cross validation, and then decide which features we eliminate.\n",
    "\n",
    "So it is a recursive technique that depends strongly on the *c45* election. It is clear that features that perform poor on a decision tree can be good descriptors for SVM for example. "
   ]
  },
  {
   "cell_type": "markdown",
   "metadata": {},
   "source": [
    "### OIS"
   ]
  },
  {
   "cell_type": "code",
   "execution_count": null,
   "metadata": {
    "collapsed": true
   },
   "outputs": [],
   "source": [
    "svc = SVC(kernel='linear', \n",
    "          cache_size=600, \n",
    "          class_weight='balanced', \n",
    "          probability=False)"
   ]
  },
  {
   "cell_type": "code",
   "execution_count": null,
   "metadata": {
    "scrolled": true
   },
   "outputs": [],
   "source": [
    "rfecv = feature_selection.RFECV(estimator=svc, step=1, cv=StratifiedKFold(6),\n",
    "              scoring='f1', n_jobs=7)\n",
    "%time rfecv.fit(np.ascontiguousarray(X_ois_scaled), Y_ois)"
   ]
  },
  {
   "cell_type": "code",
   "execution_count": null,
   "metadata": {},
   "outputs": [],
   "source": [
    "print(\"Optimal number of features : %d\" % rfecv.n_features_)"
   ]
  },
  {
   "cell_type": "code",
   "execution_count": null,
   "metadata": {},
   "outputs": [],
   "source": [
    "import gc\n",
    "gc.collect()"
   ]
  },
  {
   "cell_type": "code",
   "execution_count": null,
   "metadata": {},
   "outputs": [],
   "source": [
    "d_ois.columns[rfecv.support_]"
   ]
  },
  {
   "cell_type": "code",
   "execution_count": null,
   "metadata": {},
   "outputs": [],
   "source": [
    "plt.figure()\n",
    "plt.xlabel(\"Number of features selected\")\n",
    "plt.ylabel(\"Cross validation score (nb of correct classifications)\")\n",
    "plt.plot(range(1, len(rfecv.grid_scores_) + 1), rfecv.grid_scores_)\n",
    "plt.show()"
   ]
  },
  {
   "cell_type": "code",
   "execution_count": null,
   "metadata": {
    "collapsed": true
   },
   "outputs": [],
   "source": [
    "dB = d_ois[d_ois.columns[rfecv.support_]]"
   ]
  },
  {
   "cell_type": "code",
   "execution_count": null,
   "metadata": {
    "collapsed": true
   },
   "outputs": [],
   "source": [
    "if rfecv.n_features_< 10:\n",
    "    pd.scatter_matrix(dB, alpha=0.1, figsize=(8, 8), diagonal='kde')\n",
    "    plt.show()"
   ]
  },
  {
   "cell_type": "markdown",
   "metadata": {},
   "source": [
    "### Zackay"
   ]
  },
  {
   "cell_type": "code",
   "execution_count": null,
   "metadata": {
    "collapsed": true
   },
   "outputs": [],
   "source": [
    "svc = SVC(kernel='linear', \n",
    "          cache_size=600, \n",
    "          class_weight='balanced', \n",
    "          probability=False)"
   ]
  },
  {
   "cell_type": "code",
   "execution_count": null,
   "metadata": {
    "collapsed": true
   },
   "outputs": [],
   "source": [
    "c45 = DecisionTreeClassifier(criterion='entropy', max_leaf_nodes=33)"
   ]
  },
  {
   "cell_type": "code",
   "execution_count": null,
   "metadata": {
    "collapsed": true
   },
   "outputs": [],
   "source": [
    "rfecv = feature_selection.RFECV(estimator=svc, step=1, cv=StratifiedKFold(6),\n",
    "              scoring='f1', n_jobs=7)"
   ]
  },
  {
   "cell_type": "code",
   "execution_count": null,
   "metadata": {},
   "outputs": [],
   "source": [
    "rfecv.fit(np.ascontiguousarray(X_zps_scaled), Y_zps)"
   ]
  },
  {
   "cell_type": "code",
   "execution_count": null,
   "metadata": {},
   "outputs": [],
   "source": [
    "gc.collect()"
   ]
  },
  {
   "cell_type": "code",
   "execution_count": null,
   "metadata": {},
   "outputs": [],
   "source": [
    "print(\"Optimal number of features : %d\" % rfecv.n_features_)"
   ]
  },
  {
   "cell_type": "code",
   "execution_count": null,
   "metadata": {},
   "outputs": [],
   "source": [
    "d_zps.columns[rfecv.support_]"
   ]
  },
  {
   "cell_type": "code",
   "execution_count": null,
   "metadata": {},
   "outputs": [],
   "source": [
    "plt.figure()\n",
    "plt.xlabel(\"Number of features selected\")\n",
    "plt.ylabel(\"Cross validation score (nb of correct classifications)\")\n",
    "plt.plot(range(1, len(rfecv.grid_scores_) + 1), rfecv.grid_scores_)\n",
    "plt.show()"
   ]
  },
  {
   "cell_type": "code",
   "execution_count": null,
   "metadata": {
    "collapsed": true
   },
   "outputs": [],
   "source": [
    "dZ = d_zps[d_zps.columns[rfecv.support_]]"
   ]
  },
  {
   "cell_type": "code",
   "execution_count": null,
   "metadata": {
    "collapsed": true,
    "scrolled": false
   },
   "outputs": [],
   "source": [
    "if sum(rfecv.support_)< 7:\n",
    "    pd.scatter_matrix(dZ, alpha=0.1, figsize=(10, 10), diagonal='kde')\n",
    "    plt.grid()\n",
    "    plt.show()"
   ]
  },
  {
   "cell_type": "markdown",
   "metadata": {},
   "source": [
    "### HOTPANTS"
   ]
  },
  {
   "cell_type": "code",
   "execution_count": null,
   "metadata": {
    "collapsed": true
   },
   "outputs": [],
   "source": [
    "c45 = DecisionTreeClassifier(criterion='entropy', max_leaf_nodes=33)"
   ]
  },
  {
   "cell_type": "code",
   "execution_count": null,
   "metadata": {
    "collapsed": true
   },
   "outputs": [],
   "source": [
    "svc = SVC(kernel='linear', \n",
    "          cache_size=600, \n",
    "          class_weight='balanced', \n",
    "          probability=False)"
   ]
  },
  {
   "cell_type": "code",
   "execution_count": null,
   "metadata": {
    "collapsed": true
   },
   "outputs": [],
   "source": [
    "rfecv = feature_selection.RFECV(estimator=svc, step=1, cv=StratifiedKFold(6),\n",
    "              scoring='f1', n_jobs=7)"
   ]
  },
  {
   "cell_type": "code",
   "execution_count": null,
   "metadata": {},
   "outputs": [],
   "source": [
    "%time rfecv.fit(np.ascontiguousarray(X_hot_scaled), Y_hot)"
   ]
  },
  {
   "cell_type": "code",
   "execution_count": null,
   "metadata": {},
   "outputs": [],
   "source": [
    "print(\"Optimal number of features : %d\" % rfecv.n_features_)"
   ]
  },
  {
   "cell_type": "code",
   "execution_count": null,
   "metadata": {},
   "outputs": [],
   "source": [
    "d_hot.columns[rfecv.support_]"
   ]
  },
  {
   "cell_type": "code",
   "execution_count": null,
   "metadata": {},
   "outputs": [],
   "source": [
    "plt.figure()\n",
    "plt.xlabel(\"Number of features selected\")\n",
    "plt.ylabel(\"Cross validation score (nb of correct classifications)\")\n",
    "plt.plot(range(1, len(rfecv.grid_scores_) + 1), rfecv.grid_scores_)\n",
    "plt.show()"
   ]
  },
  {
   "cell_type": "code",
   "execution_count": null,
   "metadata": {
    "collapsed": true
   },
   "outputs": [],
   "source": [
    "dH = d_hot[d_hot.columns[rfecv.support_]]"
   ]
  },
  {
   "cell_type": "code",
   "execution_count": null,
   "metadata": {},
   "outputs": [],
   "source": [
    "if rfecv.n_features_ < 7:\n",
    "    pd.scatter_matrix(dH, alpha=0.1, figsize=(12, 12), diagonal='kde')\n",
    "    plt.show()"
   ]
  },
  {
   "cell_type": "markdown",
   "metadata": {},
   "source": [
    "## Post processing"
   ]
  },
  {
   "cell_type": "markdown",
   "metadata": {},
   "source": [
    "Repeat the scaling pre processing so we get the selected features normalized"
   ]
  },
  {
   "cell_type": "code",
   "execution_count": null,
   "metadata": {
    "collapsed": true
   },
   "outputs": [],
   "source": [
    "X_zps = dZ.as_matrix()\n",
    "X_ois = dB.as_matrix()\n",
    "X_hot = dH.as_matrix()\n",
    "\n",
    "scaler_ois = preprocessing.StandardScaler().fit(X_ois)\n",
    "scaler_zps = preprocessing.StandardScaler().fit(X_zps)\n",
    "scaler_hot = preprocessing.StandardScaler().fit(X_hot)\n",
    "\n",
    "X_ois_scaled = scaler_ois.transform(X_ois)\n",
    "X_zps_scaled = scaler_zps.transform(X_zps)\n",
    "X_hot_scaled = scaler_hot.transform(X_hot)"
   ]
  },
  {
   "cell_type": "markdown",
   "metadata": {},
   "source": [
    "## Univariate feature selection\n",
    "\n",
    "### ANOVA"
   ]
  },
  {
   "cell_type": "code",
   "execution_count": null,
   "metadata": {
    "collapsed": true
   },
   "outputs": [],
   "source": [
    "from sklearn.feature_selection import SelectPercentile\n",
    "from sklearn.feature_selection import f_classif\n",
    "from sklearn.model_selection import cross_val_score\n",
    "from sklearn.pipeline import Pipeline\n",
    "\n",
    "transform = SelectPercentile(f_classif)\n",
    "\n",
    "clf = Pipeline([('anova', transform), ('svc', svm.SVC(C=1.0, \n",
    "                                                      cache_size=500, \n",
    "                                                      class_weight='balanced') )])"
   ]
  },
  {
   "cell_type": "code",
   "execution_count": null,
   "metadata": {
    "collapsed": true
   },
   "outputs": [],
   "source": [
    "def anova_svm(X, y, clf, title=None):\n",
    "    score_means = list()\n",
    "    score_stds = list()\n",
    "    percentiles = (1, 3, 6, 10, 15, 20, 30, 40, 60, 80, 100)\n",
    "\n",
    "    for percentile in percentiles:\n",
    "        clf.set_params(anova__percentile=percentile)\n",
    "        # Compute cross-validation score using 1 CPU\n",
    "        this_scores = cross_val_score(clf, X, y, n_jobs=4)\n",
    "        score_means.append(this_scores.mean())\n",
    "        score_stds.append(this_scores.std())\n",
    "\n",
    "    plt.errorbar(percentiles, score_means, np.array(score_stds))\n",
    "\n",
    "    if title is None:\n",
    "        plt.title(\n",
    "            'Performance of the SVM-Anova varying the percentile of features selected')\n",
    "    else:\n",
    "        plt.title(title)\n",
    "    plt.xlabel('Percentile')\n",
    "    plt.ylabel('Prediction rate')\n",
    "\n",
    "    plt.axis('tight')\n",
    "    #plt.show()"
   ]
  },
  {
   "cell_type": "code",
   "execution_count": null,
   "metadata": {},
   "outputs": [],
   "source": [
    "plt.figure(figsize=(12, 4))\n",
    "plt.subplot(131)\n",
    "anova_svm(np.ascontiguousarray(X_ois_scaled), Y_ois, clf, title='SVM-Anova OIS')\n",
    "plt.subplot(132)\n",
    "anova_svm(np.ascontiguousarray(X_zps_scaled), Y_zps, clf, title='SVM-Anova Zackay')\n",
    "plt.subplot(133)\n",
    "anova_svm(np.ascontiguousarray(X_hot_scaled), Y_hot, clf, title='SVM-Anova Hotpants')\n",
    "plt.tight_layout()\n",
    "plt.show()"
   ]
  },
  {
   "cell_type": "markdown",
   "metadata": {},
   "source": [
    "### Feature importance by random forest\n"
   ]
  },
  {
   "cell_type": "code",
   "execution_count": null,
   "metadata": {
    "collapsed": true
   },
   "outputs": [],
   "source": [
    "from sklearn.ensemble import ExtraTreesClassifier"
   ]
  },
  {
   "cell_type": "code",
   "execution_count": null,
   "metadata": {
    "collapsed": true
   },
   "outputs": [],
   "source": [
    "def importance_forest(X, y, forest, cols=None, method=None):\n",
    "    forest = ExtraTreesClassifier(n_estimators=250,\n",
    "                                  random_state=0)\n",
    "    forest.fit(X, y)\n",
    "    importances = forest.feature_importances_\n",
    "    std = np.std([tree.feature_importances_ for tree in forest.estimators_],\n",
    "                 axis=0)\n",
    "    indices = np.argsort(importances)[::-1]\n",
    "\n",
    "    # Print the feature ranking\n",
    "    print(\"Feature ranking:\")\n",
    "\n",
    "    if cols is not None:\n",
    "        for f in range(X.shape[1]):\n",
    "            print(\"%d. feature %s (%f)\" % (f + 1, cols[indices[f]-1], importances[indices[f]]))\n",
    "    else:\n",
    "        for f in range(X.shape[1]):\n",
    "            print(\"%d. feature %d (%f)\" % (f + 1, indices[f], importances[indices[f]]))\n",
    "\n",
    "    # Plot the feature importances of the forest\n",
    "    #plt.figure(figsize=(6, 6))\n",
    "    plt.title(\"Feature importances {}\".format(method))\n",
    "    plt.bar(range(X.shape[1]), importances[indices],\n",
    "           color=\"r\", yerr=std[indices], align=\"center\")\n",
    "    if cols is not None:\n",
    "        plt.xticks(range(X.shape[1]), cols[indices-1], rotation='vertical', fontsize=10)\n",
    "    else:\n",
    "        plt.xticks(range(X.shape[1]), indices)\n",
    "    plt.xlim([-1, X.shape[1]])\n",
    "    #plt.show()\n",
    "    return [(cols[indices[f]-1], importances[indices[f]]) for f in range(X.shape[1])]"
   ]
  },
  {
   "cell_type": "code",
   "execution_count": null,
   "metadata": {
    "scrolled": false
   },
   "outputs": [],
   "source": [
    "plt.figure(figsize=(12, 4))\n",
    "plt.subplot(131)\n",
    "ois_importance = importance_forest(X_ois_scaled, Y_ois, ExtraTreesClassifier(n_estimators=250, random_state=0), \n",
    "                 cols=dB.columns, method='OIS')\n",
    "plt.subplot(132)\n",
    "zps_importance = importance_forest(X_zps_scaled, Y_zps, ExtraTreesClassifier(n_estimators=250, random_state=0), \n",
    "                                   cols=dZ.columns, method='Zackay')\n",
    "plt.subplot(133)\n",
    "hot_importance = importance_forest(X_hot_scaled, Y_hot, ExtraTreesClassifier(n_estimators=250, random_state=0), \n",
    "                                   cols=dH.columns, method='Hotpants')"
   ]
  },
  {
   "cell_type": "code",
   "execution_count": null,
   "metadata": {
    "scrolled": true
   },
   "outputs": [],
   "source": [
    "acum=0\n",
    "feats = []\n",
    "for feat, imp in ois_importance:\n",
    "    acum += imp\n",
    "    feats.append(feat)\n",
    "    if acum > .90: break\n",
    "\n",
    "print acum, feats"
   ]
  },
  {
   "cell_type": "code",
   "execution_count": null,
   "metadata": {
    "collapsed": true
   },
   "outputs": [],
   "source": [
    "dB = dB[feats]"
   ]
  },
  {
   "cell_type": "code",
   "execution_count": null,
   "metadata": {
    "scrolled": true
   },
   "outputs": [],
   "source": [
    "acum=0\n",
    "feats = []\n",
    "for feat, imp in zps_importance:\n",
    "    acum += imp\n",
    "    feats.append(feat)\n",
    "    if acum > .90: break\n",
    "\n",
    "print acum, feats"
   ]
  },
  {
   "cell_type": "code",
   "execution_count": null,
   "metadata": {
    "collapsed": true
   },
   "outputs": [],
   "source": [
    "dZ = dZ[feats]"
   ]
  },
  {
   "cell_type": "code",
   "execution_count": null,
   "metadata": {
    "scrolled": true
   },
   "outputs": [],
   "source": [
    "acum=0\n",
    "feats = []\n",
    "for feat, imp in hot_importance:\n",
    "    acum += imp\n",
    "    feats.append(feat)\n",
    "    if acum > .90: break\n",
    "\n",
    "print acum, feats"
   ]
  },
  {
   "cell_type": "code",
   "execution_count": null,
   "metadata": {
    "collapsed": true
   },
   "outputs": [],
   "source": [
    "dH = dH[feats]"
   ]
  },
  {
   "cell_type": "markdown",
   "metadata": {},
   "source": [
    "### Principal Component Analysis"
   ]
  },
  {
   "cell_type": "code",
   "execution_count": null,
   "metadata": {
    "collapsed": true
   },
   "outputs": [],
   "source": [
    "X_zps = dZ.as_matrix()\n",
    "X_ois = dB.as_matrix()\n",
    "X_hot = dH.as_matrix()\n",
    "\n",
    "scaler_ois = preprocessing.StandardScaler().fit(X_ois)\n",
    "scaler_zps = preprocessing.StandardScaler().fit(X_zps)\n",
    "scaler_hot = preprocessing.StandardScaler().fit(X_hot)\n",
    "\n",
    "X_ois_scaled = scaler_ois.transform(X_ois)\n",
    "X_zps_scaled = scaler_zps.transform(X_zps)\n",
    "X_hot_scaled = scaler_hot.transform(X_hot)"
   ]
  },
  {
   "cell_type": "markdown",
   "metadata": {},
   "source": [
    "**OIS**"
   ]
  },
  {
   "cell_type": "code",
   "execution_count": null,
   "metadata": {},
   "outputs": [],
   "source": [
    "pca = decomposition.PCA(svd_solver='randomized', n_components=min(X_ois_scaled.shape[-1], 6))\n",
    "\n",
    "pca.fit(X_ois_scaled)"
   ]
  },
  {
   "cell_type": "code",
   "execution_count": null,
   "metadata": {
    "collapsed": true
   },
   "outputs": [],
   "source": [
    "X_ois_t = pca.transform(X_ois_scaled)"
   ]
  },
  {
   "cell_type": "code",
   "execution_count": null,
   "metadata": {},
   "outputs": [],
   "source": [
    "pd.scatter_matrix(pd.DataFrame(X_ois_t), alpha=0.1, figsize=(8, 8), diagonal='kde')\n",
    "plt.grid()\n",
    "plt.show()"
   ]
  },
  {
   "cell_type": "markdown",
   "metadata": {},
   "source": [
    "**Zackay**"
   ]
  },
  {
   "cell_type": "code",
   "execution_count": null,
   "metadata": {},
   "outputs": [],
   "source": [
    "pca = decomposition.PCA(svd_solver='randomized', n_components=min(X_zps_scaled.shape[-1], 6))\n",
    "\n",
    "pca.fit(X_zps_scaled)"
   ]
  },
  {
   "cell_type": "code",
   "execution_count": null,
   "metadata": {
    "collapsed": true
   },
   "outputs": [],
   "source": [
    "X_zps_t = pca.transform(X_zps_scaled)"
   ]
  },
  {
   "cell_type": "code",
   "execution_count": null,
   "metadata": {
    "scrolled": false
   },
   "outputs": [],
   "source": [
    "pd.scatter_matrix(pd.DataFrame(X_zps_t), alpha=0.1, figsize=(8, 8), diagonal='kde')\n",
    "plt.show()"
   ]
  },
  {
   "cell_type": "markdown",
   "metadata": {},
   "source": [
    "**HOTPANTS**"
   ]
  },
  {
   "cell_type": "code",
   "execution_count": null,
   "metadata": {},
   "outputs": [],
   "source": [
    "pca = decomposition.PCA(svd_solver='randomized', n_components=min(X_hot_scaled.shape[-1], 6))\n",
    "\n",
    "pca.fit(X_hot_scaled)"
   ]
  },
  {
   "cell_type": "code",
   "execution_count": null,
   "metadata": {
    "collapsed": true
   },
   "outputs": [],
   "source": [
    "X_hot_t = pca.transform(X_hot_scaled)"
   ]
  },
  {
   "cell_type": "code",
   "execution_count": null,
   "metadata": {},
   "outputs": [],
   "source": [
    "pd.scatter_matrix(pd.DataFrame(X_hot_t), alpha=0.1, figsize=(8, 8), diagonal='kde')\n",
    "plt.grid()\n",
    "plt.show()"
   ]
  },
  {
   "cell_type": "markdown",
   "metadata": {},
   "source": [
    "# Machine Learning perfomance comparison\n",
    "\n",
    "## Comparing methods algorithm to algorithm"
   ]
  },
  {
   "cell_type": "code",
   "execution_count": null,
   "metadata": {
    "collapsed": true
   },
   "outputs": [],
   "source": [
    "def experiment(clf, x, y, nfolds=10, printing=False):\n",
    "    skf = StratifiedKFold(n_splits=nfolds)\n",
    "    probabilities = np.array([])\n",
    "    predictions = np.array([])\n",
    "    y_testing = np.array([])\n",
    "    \n",
    "    for train, test in skf.split(x, y):\n",
    "        \n",
    "        x_train = x[train]\n",
    "        y_train = y[train]\n",
    "        clf.fit(x_train, y_train)\n",
    "\n",
    "        x_test = x[test]\n",
    "        y_test = y[test]\n",
    "        pr = clf.predict(x_test)\n",
    "        probs = clf.predict_proba(x_test)[:, 0]\n",
    "\n",
    "        probabilities = np.hstack([probabilities, probs])\n",
    "        predictions = np.hstack([predictions, pr])\n",
    "        y_testing = np.hstack([y_testing, y_test])\n",
    "\n",
    "    if printing: \n",
    "        print metrics.classification_report(y_testing, predictions)\n",
    "    fpr, tpr, thresholds = metrics.roc_curve(y_testing, 1.-probabilities)\n",
    "    prec_rec_curve = metrics.precision_recall_curve(y_testing, 1.- probabilities)\n",
    "    roc_auc = metrics.auc(fpr, tpr)\n",
    "    return {'fpr': fpr, \n",
    "            'tpr': tpr, \n",
    "            'thresh': thresholds, \n",
    "            'roc_auc': roc_auc, \n",
    "            'prec_rec_curve': prec_rec_curve,\n",
    "            'y_test': y_testing, \n",
    "            'predictions': predictions,\n",
    "            'probabilities': probabilities, \n",
    "            'confusion_matrix': metrics.confusion_matrix(y_testing, predictions),\n",
    "            }"
   ]
  },
  {
   "cell_type": "markdown",
   "metadata": {},
   "source": [
    "### K-Nearest Neighbors\n"
   ]
  },
  {
   "cell_type": "markdown",
   "metadata": {},
   "source": [
    "**OIS**"
   ]
  },
  {
   "cell_type": "code",
   "execution_count": null,
   "metadata": {
    "collapsed": true
   },
   "outputs": [],
   "source": [
    "rslts_knn_ois_uniform = experiment(neighbors.KNeighborsClassifier(n_neighbors=7, weights='uniform'),\n",
    "                                   X_ois_scaled, Y_ois.as_matrix())"
   ]
  },
  {
   "cell_type": "markdown",
   "metadata": {},
   "source": [
    "**Zackay**"
   ]
  },
  {
   "cell_type": "code",
   "execution_count": null,
   "metadata": {
    "collapsed": true
   },
   "outputs": [],
   "source": [
    "rslts_knn_zps_uniform = experiment(neighbors.KNeighborsClassifier(n_neighbors=7, weights='uniform'),\n",
    "                                   X_zps_scaled, Y_zps.as_matrix())"
   ]
  },
  {
   "cell_type": "markdown",
   "metadata": {},
   "source": [
    "**Hotpants**"
   ]
  },
  {
   "cell_type": "code",
   "execution_count": null,
   "metadata": {
    "collapsed": true
   },
   "outputs": [],
   "source": [
    "rslts_knn_hot_uniform = experiment(neighbors.KNeighborsClassifier(n_neighbors=7, weights='uniform'),\n",
    "                                   X_hot_scaled, Y_hot.as_matrix())"
   ]
  },
  {
   "cell_type": "markdown",
   "metadata": {},
   "source": [
    "### Support vector machines\n",
    "\n",
    "**OIS**"
   ]
  },
  {
   "cell_type": "code",
   "execution_count": null,
   "metadata": {
    "collapsed": true
   },
   "outputs": [],
   "source": [
    "rslts_ois_svc = experiment(svm.SVC(kernel='linear', \n",
    "                                   probability=True, \n",
    "                                   cache_size=800, \n",
    "                                   class_weight='balanced'),\n",
    "                           X_ois_scaled, Y_ois.as_matrix())"
   ]
  },
  {
   "cell_type": "markdown",
   "metadata": {},
   "source": [
    "**Zackay**"
   ]
  },
  {
   "cell_type": "code",
   "execution_count": null,
   "metadata": {
    "collapsed": true
   },
   "outputs": [],
   "source": [
    "rslts_zps_svc = experiment(svm.SVC(kernel='linear', \n",
    "                                   probability=True, \n",
    "                                   cache_size=800, \n",
    "                                   class_weight='balanced'),\n",
    "                           X_zps_scaled, Y_zps.as_matrix())"
   ]
  },
  {
   "cell_type": "markdown",
   "metadata": {},
   "source": [
    "**Hotpants**"
   ]
  },
  {
   "cell_type": "code",
   "execution_count": null,
   "metadata": {
    "collapsed": true
   },
   "outputs": [],
   "source": [
    "rslts_hot_svc = experiment(svm.SVC(kernel='linear', \n",
    "                                   probability=True, \n",
    "                                   cache_size=800, \n",
    "                                   class_weight='balanced'),\n",
    "                           X_hot_scaled, Y_hot.as_matrix())"
   ]
  },
  {
   "cell_type": "markdown",
   "metadata": {},
   "source": [
    "### Decision tree (gini)"
   ]
  },
  {
   "cell_type": "markdown",
   "metadata": {},
   "source": [
    "**OIS**"
   ]
  },
  {
   "cell_type": "code",
   "execution_count": null,
   "metadata": {
    "collapsed": true
   },
   "outputs": [],
   "source": [
    "rslts_ois_dtree_gini = experiment(DecisionTreeClassifier(min_samples_leaf=20), X_ois_scaled, Y_ois.as_matrix())"
   ]
  },
  {
   "cell_type": "markdown",
   "metadata": {},
   "source": [
    "**Zackay**"
   ]
  },
  {
   "cell_type": "code",
   "execution_count": null,
   "metadata": {
    "collapsed": true
   },
   "outputs": [],
   "source": [
    "rslts_zps_dtree_gini = experiment(DecisionTreeClassifier(min_samples_leaf=20), X_zps_scaled, Y_zps.as_matrix())"
   ]
  },
  {
   "cell_type": "markdown",
   "metadata": {},
   "source": [
    "**Hotpants**"
   ]
  },
  {
   "cell_type": "code",
   "execution_count": null,
   "metadata": {
    "collapsed": true
   },
   "outputs": [],
   "source": [
    "rslts_hot_dtree_gini = experiment(DecisionTreeClassifier(min_samples_leaf=20), X_hot_scaled, Y_hot.as_matrix())"
   ]
  },
  {
   "cell_type": "markdown",
   "metadata": {},
   "source": [
    "### Random forest"
   ]
  },
  {
   "cell_type": "markdown",
   "metadata": {},
   "source": [
    "**OIS**"
   ]
  },
  {
   "cell_type": "code",
   "execution_count": null,
   "metadata": {
    "collapsed": true
   },
   "outputs": [],
   "source": [
    "rslts_ois_rforest = experiment(RandomForestClassifier(n_estimators=300, \n",
    "                                                      min_samples_leaf=20, \n",
    "                                                      #max_features=7, \n",
    "                                                      n_jobs=7), \n",
    "                               X_ois_scaled, Y_ois.as_matrix())"
   ]
  },
  {
   "cell_type": "markdown",
   "metadata": {},
   "source": [
    "**Zackay**"
   ]
  },
  {
   "cell_type": "code",
   "execution_count": null,
   "metadata": {
    "collapsed": true
   },
   "outputs": [],
   "source": [
    "rslts_zps_rforest = experiment(RandomForestClassifier(n_estimators=300, \n",
    "                                                      min_samples_leaf=20, \n",
    "                                                      #max_features=7, \n",
    "                                                      n_jobs=7), \n",
    "                               X_zps_scaled, Y_zps.as_matrix())"
   ]
  },
  {
   "cell_type": "markdown",
   "metadata": {},
   "source": [
    "**Hotpants**"
   ]
  },
  {
   "cell_type": "code",
   "execution_count": null,
   "metadata": {
    "collapsed": true
   },
   "outputs": [],
   "source": [
    "rslts_hot_rforest = experiment(RandomForestClassifier(n_estimators=300, \n",
    "                                                      min_samples_leaf=20, \n",
    "                                                      #max_features=7, \n",
    "                                                      n_jobs=7), \n",
    "                               X_hot_scaled, Y_hot.as_matrix())"
   ]
  },
  {
   "cell_type": "markdown",
   "metadata": {
    "collapsed": true
   },
   "source": [
    "### DecisionTreeClassifier (C45)"
   ]
  },
  {
   "cell_type": "markdown",
   "metadata": {},
   "source": [
    "**OIS**"
   ]
  },
  {
   "cell_type": "code",
   "execution_count": null,
   "metadata": {
    "collapsed": true
   },
   "outputs": [],
   "source": [
    "rslts_ois_c45 = experiment(DecisionTreeClassifier(criterion='entropy', min_samples_leaf=20), \n",
    "                               X_ois_scaled, Y_ois.as_matrix())"
   ]
  },
  {
   "cell_type": "markdown",
   "metadata": {},
   "source": [
    "**Zackay**"
   ]
  },
  {
   "cell_type": "code",
   "execution_count": null,
   "metadata": {
    "collapsed": true
   },
   "outputs": [],
   "source": [
    "rslts_zps_c45 = experiment(DecisionTreeClassifier(criterion='entropy', min_samples_leaf=20), \n",
    "                               X_zps_scaled, Y_zps.as_matrix())"
   ]
  },
  {
   "cell_type": "markdown",
   "metadata": {},
   "source": [
    "**Hotpants**"
   ]
  },
  {
   "cell_type": "code",
   "execution_count": null,
   "metadata": {
    "collapsed": true
   },
   "outputs": [],
   "source": [
    "rslts_hot_c45 = experiment(DecisionTreeClassifier(criterion='entropy', min_samples_leaf=20), \n",
    "                               X_hot_scaled, Y_hot.as_matrix())"
   ]
  },
  {
   "cell_type": "markdown",
   "metadata": {},
   "source": [
    "### ROC curve"
   ]
  },
  {
   "cell_type": "code",
   "execution_count": null,
   "metadata": {},
   "outputs": [],
   "source": [
    "zky = ['Zackay']\n",
    "bch = ['Bramich']\n",
    "hot = ['Hotpants']\n",
    "sub_methods = [zky, bch, hot]\n",
    "\n",
    "colors = ['blue', 'red', 'darkgreen']\n",
    "\n",
    "ml_methods = {'RForest'   : [rslts_zps_rforest, rslts_ois_rforest, rslts_hot_rforest],\n",
    "              'DTree Gini': [rslts_zps_dtree_gini, rslts_ois_dtree_gini, rslts_hot_dtree_gini],\n",
    "              'C45'       : [rslts_zps_c45, rslts_ois_c45, rslts_hot_c45],\n",
    "              'SVM'       : [rslts_zps_svc, rslts_ois_svc, rslts_hot_svc], \n",
    "              'KNN'       : [rslts_knn_zps_uniform, rslts_knn_ois_uniform, rslts_knn_hot_uniform]}\n",
    "\n",
    "\n",
    "ls = ['-', '.', '-.', '--', ':']\n",
    "j = 0\n",
    "plt.figure(figsize=(10, 10))\n",
    "for k, v in ml_methods.iteritems():\n",
    "    for i in range(3):\n",
    "        sub_method = v[i]\n",
    "        sub_meth_col = sub_methods[i]\n",
    "        \n",
    "        fpr = sub_method['fpr']\n",
    "        tpr = sub_method['tpr']\n",
    "        roc_auc = sub_method['roc_auc']\n",
    "        sub_meth_col.append(roc_auc)\n",
    "        \n",
    "        label = sub_meth_col[0]+' '+k+' AUC={:06.4f}'.format(roc_auc)\n",
    "        plt.plot(fpr, tpr, ls[j], lw=1.5, color=colors[i], label=label)\n",
    "    j+=1\n",
    "\n",
    "plt.xlabel('False Positive Rate')\n",
    "plt.ylabel('True Positive Rate')\n",
    "plt.legend(loc='lower right', fontsize=11)\n",
    "plt.title('Receiver Operating Characteristic Curve')\n",
    "\n",
    "plt.xlim([-0.01, 0.50])\n",
    "plt.ylim([0.5, 1.005])\n",
    "plt.savefig('roc_without_pca.png')"
   ]
  },
  {
   "cell_type": "code",
   "execution_count": null,
   "metadata": {},
   "outputs": [],
   "source": [
    "plt.figure(figsize=(16, 5))\n",
    "#plt.figaspect(.8)\n",
    "plt.subplot(131)\n",
    "res_Dtree = rslts_ois_dtree_gini\n",
    "res_C45 = rslts_ois_c45\n",
    "res_Rforest = rslts_ois_rforest\n",
    "res_svc = rslts_ois_svc\n",
    "res_knn = rslts_knn_ois_uniform\n",
    "\n",
    "pr, rec, thr = res_Dtree['prec_rec_curve']\n",
    "plt.plot(rec, pr, lw=1.5, color='blue', label='Dtree AUC={:06.4f}'.format(res_Dtree['roc_auc']))\n",
    "\n",
    "pr, rec, thr = res_C45['prec_rec_curve']\n",
    "plt.plot(rec, pr, lw=1.5, color='red', label='C45 AUC={:06.4f}'.format(res_C45['roc_auc']))\n",
    "\n",
    "pr, rec, thr = res_Rforest['prec_rec_curve']\n",
    "plt.plot(rec, pr, lw=1.5, color='green', label='Rforest AUC={:06.4f}'.format(res_Rforest['roc_auc']))\n",
    "\n",
    "pr, rec, thr = res_svc['prec_rec_curve']\n",
    "plt.plot(rec, pr, lw=1.5, color='black', label='SVM AUC={:06.4f}'.format(res_svc['roc_auc']))\n",
    "\n",
    "pr, rec, thr = res_knn['prec_rec_curve']\n",
    "plt.plot(rec, pr, lw=1.5, color='magenta', label='KNN AUC={:06.4f}'.format(res_knn['roc_auc']))\n",
    "\n",
    "plt.xlim(0, 1.01)\n",
    "plt.ylim(0.0, 1.1)\n",
    "plt.xlabel('Recall')\n",
    "plt.ylabel('Precision')\n",
    "plt.legend(loc='lower left')\n",
    "plt.title('Precision-Recall Curve OIS')\n",
    "\n",
    "plt.subplot(132)\n",
    "res_Dtree = rslts_zps_dtree_gini\n",
    "res_C45 = rslts_zps_c45\n",
    "res_Rforest = rslts_zps_rforest\n",
    "res_svc = rslts_zps_svc\n",
    "res_knn = rslts_knn_zps_uniform\n",
    "\n",
    "pr, rec, thr = res_Dtree['prec_rec_curve']\n",
    "plt.plot(rec, pr, lw=1.5, color='blue', label='Dtree AUC={:06.4f}'.format(res_Dtree['roc_auc']))\n",
    "\n",
    "pr, rec, thr = res_C45['prec_rec_curve']\n",
    "plt.plot(rec, pr, lw=1.5, color='red', label='C45 AUC={:06.4f}'.format(res_C45['roc_auc']))\n",
    "\n",
    "pr, rec, thr = res_Rforest['prec_rec_curve']\n",
    "plt.plot(rec, pr, lw=1.5, color='green', label='Rforest AUC={:06.4f}'.format(res_Rforest['roc_auc']))\n",
    "\n",
    "pr, rec, thr = res_svc['prec_rec_curve']\n",
    "plt.plot(rec, pr, lw=1.5, color='black', label='SVM AUC={:06.4f}'.format(res_svc['roc_auc']))\n",
    "\n",
    "pr, rec, thr = res_knn['prec_rec_curve']\n",
    "plt.plot(rec, pr, lw=1.5, color='magenta', label='KNN AUC={:06.4f}'.format(res_knn['roc_auc']))\n",
    "\n",
    "plt.xlim(0, 1.01)\n",
    "plt.ylim(0.0, 1.1)\n",
    "plt.xlabel('Recall')\n",
    "plt.ylabel('Precision')\n",
    "plt.legend(loc='lower left')\n",
    "plt.title('Precision-Recall Curve Zackay')\n",
    "\n",
    "\n",
    "plt.subplot(133)\n",
    "res_Dtree = rslts_hot_dtree_gini\n",
    "res_C45 = rslts_hot_c45\n",
    "res_Rforest = rslts_hot_rforest\n",
    "res_svc = rslts_hot_svc\n",
    "res_knn = rslts_knn_hot_uniform\n",
    "\n",
    "pr, rec, thr = res_Dtree['prec_rec_curve']\n",
    "plt.plot(rec, pr, lw=1.5, color='blue', label='Dtree AUC={:06.4f}'.format(res_Dtree['roc_auc']))\n",
    "\n",
    "pr, rec, thr = res_C45['prec_rec_curve']\n",
    "plt.plot(rec, pr, lw=1.5, color='red', label='C45 AUC={:06.4f}'.format(res_C45['roc_auc']))\n",
    "\n",
    "pr, rec, thr = res_Rforest['prec_rec_curve']\n",
    "plt.plot(rec, pr, lw=1.5, color='green', label='Rforest AUC={:06.4f}'.format(res_Rforest['roc_auc']))\n",
    "\n",
    "pr, rec, thr = res_svc['prec_rec_curve']\n",
    "plt.plot(rec, pr, lw=1.5, color='black', label='SVM AUC={:06.4f}'.format(res_svc['roc_auc']))\n",
    "\n",
    "pr, rec, thr = res_knn['prec_rec_curve']\n",
    "plt.plot(rec, pr, lw=1.5, color='magenta', label='KNN AUC={:06.4f}'.format(res_knn['roc_auc']))\n",
    "\n",
    "plt.xlim(0, 1.01)\n",
    "plt.ylim(0.0, 1.1)\n",
    "plt.xlabel('Recall')\n",
    "plt.ylabel('Precision')\n",
    "plt.legend(loc='lower left')\n",
    "plt.title('Precision-Recall Curve HOTPANTS')\n",
    "\n",
    "plt.tight_layout()\n",
    "\n",
    "plt.savefig('prec_rec_without_pca.png')"
   ]
  },
  {
   "cell_type": "code",
   "execution_count": null,
   "metadata": {},
   "outputs": [],
   "source": [
    "import itertools\n",
    "def plot_confusion_matrix(cm, classes,\n",
    "                          normalize=False,\n",
    "                          title='Confusion matrix',\n",
    "                          cmap=plt.cm.Blues,\n",
    "                          printcm=False, \n",
    "                          colorbar=False):\n",
    "    \"\"\"\n",
    "    This function prints and plots the confusion matrix.\n",
    "    Normalization can be applied by setting `normalize=True`.\n",
    "    \"\"\"\n",
    "    plt.imshow(cm, interpolation='nearest', cmap=cmap)\n",
    "    plt.title(title)\n",
    "    if colorbar:\n",
    "        plt.colorbar()\n",
    "    tick_marks = np.arange(len(classes))\n",
    "    plt.xticks(tick_marks, classes, rotation=45)\n",
    "    plt.yticks(tick_marks, classes)\n",
    "\n",
    "    if normalize:\n",
    "        cm = cm.astype('float') / cm.sum(axis=1)[:, np.newaxis]\n",
    "        if printcm:\n",
    "            print(cm)\n",
    "            print(\"Normalized confusion matrix\")\n",
    "    else:\n",
    "        if printcm:\n",
    "            print(cm)\n",
    "            print('Confusion matrix, without normalization')\n",
    "\n",
    "    thresh = 0.74 #cm.max() / 1.5\n",
    "    for i, j in itertools.product(range(cm.shape[0]), range(cm.shape[1])):\n",
    "        plt.text(j, i, cm[i, j],\n",
    "                 horizontalalignment=\"center\",\n",
    "                 color=\"white\" if cm[i, j] > thresh else \"black\")\n",
    "\n",
    "    plt.tight_layout()\n",
    "    plt.ylabel('True label')\n",
    "    plt.xlabel('Predicted label')"
   ]
  },
  {
   "cell_type": "code",
   "execution_count": null,
   "metadata": {},
   "outputs": [],
   "source": [
    "m_coll = []\n",
    "\n",
    "res_Dtree = rslts_ois_dtree_gini\n",
    "res_C45 = rslts_ois_c45\n",
    "res_Rforest = rslts_ois_rforest\n",
    "res_svc = rslts_ois_svc\n",
    "res_knn = rslts_knn_ois_uniform\n",
    "true_labels = {'predictions': res_Rforest['y_test']}\n",
    "\n",
    "m_coll.append([res_C45, res_Dtree, res_knn, res_Rforest, res_svc, true_labels])\n",
    "\n",
    "res_Dtree = rslts_zps_dtree_gini\n",
    "res_C45 = rslts_zps_c45\n",
    "res_Rforest = rslts_zps_rforest\n",
    "res_svc = rslts_zps_svc\n",
    "res_knn = rslts_knn_zps_uniform\n",
    "true_labels = {'predictions': res_Rforest['y_test']}\n",
    "\n",
    "m_coll.append([res_C45, res_Dtree, res_knn, res_Rforest, res_svc, true_labels])\n",
    " \n",
    "res_Dtree = rslts_hot_dtree_gini\n",
    "res_C45 = rslts_hot_c45\n",
    "res_Rforest = rslts_hot_rforest\n",
    "res_svc = rslts_hot_svc\n",
    "res_knn = rslts_knn_hot_uniform\n",
    "true_labels = {'predictions': res_Rforest['y_test']}\n",
    "\n",
    "m_coll.append([res_C45, res_Dtree, res_knn, res_Rforest, res_svc, true_labels])\n",
    "names = ['OIS', 'Zackay', 'Hotpants']\n",
    "\n",
    "plt.figure(figsize=(16, 6))\n",
    "for k, methods in enumerate(m_coll):\n",
    "    kappa_agreement = np.ones((len(methods), len(methods)))\n",
    "\n",
    "    for i in range(len(methods)):\n",
    "        for j in range(i+1):\n",
    "            kappa_agreement[i, j] = metrics.cohen_kappa_score(methods[i]['predictions'],\n",
    "                                                              methods[j]['predictions'])#, \n",
    "                                                              #labels=['star', 'galaxy'])\n",
    "            kappa_agreement[j, i] = kappa_agreement[i, j]\n",
    "    kappa_agreement[-1, -1] = 0\n",
    "    plt.subplot(1, 3, k+1)\n",
    "    \n",
    "    plot_confusion_matrix(np.round(kappa_agreement, 3), \n",
    "                          classes=['C45', 'DTree', 'KNN', 'RForest', 'SVC', 'TrueLabels'],\n",
    "                          title=r'Cohen $\\kappa$ agreement')\n",
    "    #plt.tight_layout()\n",
    "    plt.xlabel(names[k])\n",
    "    plt.ylabel('')\n",
    "\n",
    "\n",
    "plt.savefig('cohen_without_pca.png')"
   ]
  },
  {
   "cell_type": "code",
   "execution_count": null,
   "metadata": {
    "collapsed": true
   },
   "outputs": [],
   "source": [
    "aucs = pd.DataFrame([zky, bch, hot], columns=['SubMethod','DTreeGini', 'C45', 'RandomForest', 'KNN', 'SVM'], )"
   ]
  },
  {
   "cell_type": "code",
   "execution_count": null,
   "metadata": {
    "collapsed": true
   },
   "outputs": [],
   "source": [
    "AUCTable = aucs.set_index(['SubMethod'])"
   ]
  },
  {
   "cell_type": "code",
   "execution_count": null,
   "metadata": {
    "collapsed": true
   },
   "outputs": [],
   "source": [
    "AUCTable"
   ]
  },
  {
   "cell_type": "code",
   "execution_count": null,
   "metadata": {
    "scrolled": true
   },
   "outputs": [],
   "source": [
    "(1-AUCTable).plot.barh(log=False, cmap='Accent')\n",
    "plt.xlabel(r'$1-AUC$', fontsize=16)\n",
    "plt.ylabel('Subtraction Method', fontsize=14)\n",
    "plt.tight_layout()\n",
    "plt.xlim(0, 0.3)\n",
    "plt.legend(loc='best', fontsize=12)\n",
    "plt.savefig('./plots/complementary_AUC2.png', dpi=600)"
   ]
  },
  {
   "cell_type": "markdown",
   "metadata": {
    "collapsed": true
   },
   "source": [
    "## Cost curves"
   ]
  },
  {
   "cell_type": "code",
   "execution_count": null,
   "metadata": {},
   "outputs": [],
   "source": [
    "fpr = rslts_knn_hot_uniform['fpr']\n",
    "tpr = rslts_knn_hot_uniform['tpr']\n",
    "thr = rslts_knn_hot_uniform['thresh']\n",
    "plt.figure()\n",
    "prev_thr = 1.\n",
    "for fp, tp, th in zip(fpr, tpr, thr):\n",
    "    if (prev_thr-th) >= 0.:\n",
    "        x_ax = np.linspace(0,1,10)\n",
    "        y_ax = (1-tp-fp)*x_ax + fp\n",
    "\n",
    "        plt.plot(x_ax, y_ax, 'k-', alpha=1)\n",
    "        prev_thr = th"
   ]
  },
  {
   "cell_type": "code",
   "execution_count": null,
   "metadata": {},
   "outputs": [],
   "source": [
    "print tpr[-10:]"
   ]
  },
  {
   "cell_type": "code",
   "execution_count": null,
   "metadata": {
    "collapsed": true
   },
   "outputs": [],
   "source": [
    "def cost_curve(fpr, tpr):\n",
    "    prev_fp = 0.\n",
    "    prev_tp = 0.\n",
    "\n",
    "    p_plus = [0.]\n",
    "    er = [0.]\n",
    "    for fp, tp in zip(fpr, tpr):\n",
    "        delta_fp = fp - prev_fp\n",
    "        if delta_fp != 0.:\n",
    "            slp = (tp - prev_tp)/(delta_fp)\n",
    "            tp_0= prev_tp - slp*prev_fp\n",
    "            p_plus.append(1./(1.+slp))\n",
    "            er.append(p_plus[-1]*(1-tp_0))\n",
    "\n",
    "    p_plus.append(1.)\n",
    "    er.append(0.)\n",
    "    return(p_plus, er)"
   ]
  },
  {
   "cell_type": "code",
   "execution_count": null,
   "metadata": {},
   "outputs": [],
   "source": [
    "zky = ['Zackay']\n",
    "bch = ['Bramich']\n",
    "hot = ['Hotpants']\n",
    "sub_methods = [zky, bch, hot]\n",
    "\n",
    "colors = ['blue', 'red', 'darkgreen']\n",
    "\n",
    "ml_methods = {'RForest'   : [rslts_zps_rforest, rslts_ois_rforest, rslts_hot_rforest],\n",
    "              'DTree Gini': [rslts_zps_dtree_gini, rslts_ois_dtree_gini, rslts_hot_dtree_gini],\n",
    "              'C45'       : [rslts_zps_c45, rslts_ois_c45, rslts_hot_c45],\n",
    "              'SVM'       : [rslts_zps_svc, rslts_ois_svc, rslts_hot_svc], \n",
    "              'KNN'       : [rslts_knn_zps_uniform, rslts_knn_ois_uniform, rslts_knn_hot_uniform]}\n",
    "\n",
    "\n",
    "ls = ['-', '.', '-.', '--', ':']\n",
    "j = 0\n",
    "plt.figure(figsize=(6, 6))\n",
    "for k, v in ml_methods.iteritems():\n",
    "    for i in range(3):\n",
    "        sub_method = v[i]\n",
    "        sub_meth_col = sub_methods[i]\n",
    "        \n",
    "        fpr = sub_method['fpr']\n",
    "        tpr = sub_method['tpr']\n",
    "        p_plus, er = cost_curve(fpr, tpr)\n",
    "        \n",
    "        sub_meth_col.append(roc_auc)\n",
    "        \n",
    "        label = sub_meth_col[0]+' '+k+' AUC={:06.4f}'.format(roc_auc)\n",
    "        plt.plot(p_plus, er, ls[j], lw=1.5, color=colors[i], label=label)\n",
    "    j+=1\n",
    "\n",
    "plt.xlabel('Probability of Positive')\n",
    "plt.ylabel('Error Rate')\n",
    "plt.legend(loc='upper left', fontsize=11)\n",
    "plt.title('Cost Curve')\n",
    "\n",
    "plt.xlim(0, 1)\n",
    "plt.ylim(0, 1)\n"
   ]
  },
  {
   "cell_type": "code",
   "execution_count": null,
   "metadata": {
    "scrolled": false
   },
   "outputs": [],
   "source": [
    "zky = ['Zackay']\n",
    "bch = ['Bramich']\n",
    "hot = ['Hotpants']\n",
    "sub_methods = [zky, bch, hot]\n",
    "\n",
    "colors = ['blue', 'red', 'darkgreen']\n",
    "\n",
    "ml_methods = {'RForest'   : [rslts_zps_rforest, rslts_ois_rforest, rslts_hot_rforest],\n",
    "              'DTree Gini': [rslts_zps_dtree_gini, rslts_ois_dtree_gini, rslts_hot_dtree_gini],\n",
    "              'C45'       : [rslts_zps_c45, rslts_ois_c45, rslts_hot_c45],\n",
    "              'SVM'       : [rslts_zps_svc, rslts_ois_svc, rslts_hot_svc], \n",
    "              'KNN'       : [rslts_knn_zps_uniform, rslts_knn_ois_uniform, rslts_knn_hot_uniform]}\n",
    "\n",
    "\n",
    "ls = ['-', '.', '-.', '--', ':']\n",
    "j = 0\n",
    "plt.figure(figsize=(26, 5))\n",
    "for k, v in ml_methods.iteritems():\n",
    "    plt.subplot(1, 5, j+1)\n",
    "    plt.title(k)\n",
    "    for i in range(3):\n",
    "        sub_method = v[i]\n",
    "        sub_meth_col = sub_methods[i]\n",
    "        \n",
    "        fpr = sub_method['fpr']\n",
    "        tpr = sub_method['tpr']\n",
    "        thr = sub_method['thresh']\n",
    "        prev_thr = 1.\n",
    "        if k=='KNN':\n",
    "            alpha = 1\n",
    "        else: alpha=0.1\n",
    "        for fp, tp, th in zip(fpr, tpr, thr):\n",
    "            if (prev_thr-th) >= 0.005:\n",
    "                x_ax = np.linspace(0,1,10)\n",
    "                y_ax = (1-tp-fp)*x_ax + fp\n",
    "\n",
    "                plt.plot(x_ax, y_ax, '-', color=colors[i], alpha=alpha)\n",
    "                prev_thr = th\n",
    "    plt.ylim(0, 0.25)\n",
    "    j+=1\n",
    "plt.tight_layout()\n",
    "\n",
    "plt.savefig('cost_without_pca.png')"
   ]
  },
  {
   "cell_type": "markdown",
   "metadata": {
    "collapsed": true
   },
   "source": [
    "## With PCA"
   ]
  },
  {
   "cell_type": "markdown",
   "metadata": {},
   "source": [
    "### K-Nearest Neighbors\n"
   ]
  },
  {
   "cell_type": "markdown",
   "metadata": {},
   "source": [
    "**OIS**"
   ]
  },
  {
   "cell_type": "code",
   "execution_count": null,
   "metadata": {
    "collapsed": true
   },
   "outputs": [],
   "source": [
    "rslts_knn_ois_uniform = experiment(neighbors.KNeighborsClassifier(n_neighbors=7, weights='uniform'),\n",
    "                                   X_ois_t, Y_ois.as_matrix())"
   ]
  },
  {
   "cell_type": "markdown",
   "metadata": {},
   "source": [
    "**Zackay**"
   ]
  },
  {
   "cell_type": "code",
   "execution_count": null,
   "metadata": {
    "collapsed": true
   },
   "outputs": [],
   "source": [
    "rslts_knn_zps_uniform = experiment(neighbors.KNeighborsClassifier(n_neighbors=7, weights='uniform'),\n",
    "                                   X_zps_t, Y_zps.as_matrix())"
   ]
  },
  {
   "cell_type": "markdown",
   "metadata": {},
   "source": [
    "**Hotpants**"
   ]
  },
  {
   "cell_type": "code",
   "execution_count": null,
   "metadata": {
    "collapsed": true
   },
   "outputs": [],
   "source": [
    "rslts_knn_hot_uniform = experiment(neighbors.KNeighborsClassifier(n_neighbors=7, weights='uniform'),\n",
    "                                   X_hot_t, Y_hot.as_matrix())"
   ]
  },
  {
   "cell_type": "markdown",
   "metadata": {},
   "source": [
    "### Support vector machines\n",
    "\n",
    "**OIS**"
   ]
  },
  {
   "cell_type": "code",
   "execution_count": null,
   "metadata": {
    "collapsed": true
   },
   "outputs": [],
   "source": [
    "rslts_ois_svc = experiment(svm.SVC(kernel='linear', \n",
    "                                   probability=True, \n",
    "                                   cache_size=800, \n",
    "                                   class_weight='balanced'),\n",
    "                           X_ois_t, Y_ois.as_matrix())"
   ]
  },
  {
   "cell_type": "markdown",
   "metadata": {},
   "source": [
    "**Zackay**"
   ]
  },
  {
   "cell_type": "code",
   "execution_count": null,
   "metadata": {
    "collapsed": true
   },
   "outputs": [],
   "source": [
    "rslts_zps_svc = experiment(svm.SVC(kernel='linear', \n",
    "                                   probability=True, \n",
    "                                   cache_size=800, \n",
    "                                   class_weight='balanced'),\n",
    "                           X_zps_t, Y_zps.as_matrix())"
   ]
  },
  {
   "cell_type": "markdown",
   "metadata": {},
   "source": [
    "**Hotpants**"
   ]
  },
  {
   "cell_type": "code",
   "execution_count": null,
   "metadata": {
    "collapsed": true
   },
   "outputs": [],
   "source": [
    "rslts_hot_svc = experiment(svm.SVC(kernel='linear', \n",
    "                                   probability=True, \n",
    "                                   cache_size=800, \n",
    "                                   class_weight='balanced'),\n",
    "                           X_hot_t, Y_hot.as_matrix())"
   ]
  },
  {
   "cell_type": "markdown",
   "metadata": {},
   "source": [
    "### Decision tree (gini)"
   ]
  },
  {
   "cell_type": "markdown",
   "metadata": {},
   "source": [
    "**OIS**"
   ]
  },
  {
   "cell_type": "code",
   "execution_count": null,
   "metadata": {
    "collapsed": true
   },
   "outputs": [],
   "source": [
    "rslts_ois_dtree_gini = experiment(DecisionTreeClassifier(min_samples_leaf=20), X_ois_t, Y_ois.as_matrix())"
   ]
  },
  {
   "cell_type": "markdown",
   "metadata": {},
   "source": [
    "**Zackay**"
   ]
  },
  {
   "cell_type": "code",
   "execution_count": null,
   "metadata": {
    "collapsed": true
   },
   "outputs": [],
   "source": [
    "rslts_zps_dtree_gini = experiment(DecisionTreeClassifier(min_samples_leaf=20), X_zps_t, Y_zps.as_matrix())"
   ]
  },
  {
   "cell_type": "markdown",
   "metadata": {},
   "source": [
    "**Hotpants**"
   ]
  },
  {
   "cell_type": "code",
   "execution_count": null,
   "metadata": {
    "collapsed": true
   },
   "outputs": [],
   "source": [
    "rslts_hot_dtree_gini = experiment(DecisionTreeClassifier(min_samples_leaf=20), X_hot_t, Y_hot.as_matrix())"
   ]
  },
  {
   "cell_type": "markdown",
   "metadata": {},
   "source": [
    "### Random forest"
   ]
  },
  {
   "cell_type": "markdown",
   "metadata": {},
   "source": [
    "**OIS**"
   ]
  },
  {
   "cell_type": "code",
   "execution_count": null,
   "metadata": {
    "collapsed": true
   },
   "outputs": [],
   "source": [
    "rslts_ois_rforest = experiment(RandomForestClassifier(n_estimators=300, \n",
    "                                                      min_samples_leaf=20, \n",
    "                                                      #max_features=7, \n",
    "                                                      n_jobs=7), \n",
    "                               X_ois_t, Y_ois.as_matrix())"
   ]
  },
  {
   "cell_type": "markdown",
   "metadata": {},
   "source": [
    "**Zackay**"
   ]
  },
  {
   "cell_type": "code",
   "execution_count": null,
   "metadata": {
    "collapsed": true
   },
   "outputs": [],
   "source": [
    "rslts_zps_rforest = experiment(RandomForestClassifier(n_estimators=300, \n",
    "                                                      min_samples_leaf=20, \n",
    "                                                      #max_features=7, \n",
    "                                                      n_jobs=7), \n",
    "                               X_zps_t, Y_zps.as_matrix())"
   ]
  },
  {
   "cell_type": "markdown",
   "metadata": {},
   "source": [
    "**Hotpants**"
   ]
  },
  {
   "cell_type": "code",
   "execution_count": null,
   "metadata": {
    "collapsed": true
   },
   "outputs": [],
   "source": [
    "rslts_hot_rforest = experiment(RandomForestClassifier(n_estimators=300, \n",
    "                                                      min_samples_leaf=20, \n",
    "                                                      #max_features=7, \n",
    "                                                      n_jobs=7), \n",
    "                               X_hot_t, Y_hot.as_matrix())"
   ]
  },
  {
   "cell_type": "markdown",
   "metadata": {
    "collapsed": true
   },
   "source": [
    "### DecisionTreeClassifier (C45)"
   ]
  },
  {
   "cell_type": "markdown",
   "metadata": {},
   "source": [
    "**OIS**"
   ]
  },
  {
   "cell_type": "code",
   "execution_count": null,
   "metadata": {
    "collapsed": true
   },
   "outputs": [],
   "source": [
    "rslts_ois_c45 = experiment(DecisionTreeClassifier(criterion='entropy', min_samples_leaf=20), \n",
    "                               X_ois_t, Y_ois.as_matrix())"
   ]
  },
  {
   "cell_type": "markdown",
   "metadata": {},
   "source": [
    "**Zackay**"
   ]
  },
  {
   "cell_type": "code",
   "execution_count": null,
   "metadata": {
    "collapsed": true
   },
   "outputs": [],
   "source": [
    "rslts_zps_c45 = experiment(DecisionTreeClassifier(criterion='entropy', min_samples_leaf=20), \n",
    "                               X_zps_t, Y_zps.as_matrix())"
   ]
  },
  {
   "cell_type": "markdown",
   "metadata": {},
   "source": [
    "**Hotpants**"
   ]
  },
  {
   "cell_type": "code",
   "execution_count": null,
   "metadata": {
    "collapsed": true
   },
   "outputs": [],
   "source": [
    "rslts_hot_c45 = experiment(DecisionTreeClassifier(criterion='entropy', min_samples_leaf=20), \n",
    "                               X_hot_t, Y_hot.as_matrix())"
   ]
  },
  {
   "cell_type": "markdown",
   "metadata": {},
   "source": [
    "### ROC curve"
   ]
  },
  {
   "cell_type": "code",
   "execution_count": null,
   "metadata": {},
   "outputs": [],
   "source": [
    "zky = ['Zackay']\n",
    "bch = ['Bramich']\n",
    "hot = ['Hotpants']\n",
    "sub_methods = [zky, bch, hot]\n",
    "\n",
    "colors = ['blue', 'red', 'darkgreen']\n",
    "\n",
    "ml_methods = {'RForest'   : [rslts_zps_rforest, rslts_ois_rforest, rslts_hot_rforest],\n",
    "              'DTree Gini': [rslts_zps_dtree_gini, rslts_ois_dtree_gini, rslts_hot_dtree_gini],\n",
    "              'C45'       : [rslts_zps_c45, rslts_ois_c45, rslts_hot_c45],\n",
    "              'SVM'       : [rslts_zps_svc, rslts_ois_svc, rslts_hot_svc], \n",
    "              'KNN'       : [rslts_knn_zps_uniform, rslts_knn_ois_uniform, rslts_knn_hot_uniform]}\n",
    "\n",
    "\n",
    "ls = ['-', '.', '-.', '--', ':']\n",
    "j = 0\n",
    "plt.figure(figsize=(10, 10))\n",
    "for k, v in ml_methods.iteritems():\n",
    "    for i in range(3):\n",
    "        sub_method = v[i]\n",
    "        sub_meth_col = sub_methods[i]\n",
    "        \n",
    "        fpr = sub_method['fpr']\n",
    "        tpr = sub_method['tpr']\n",
    "        roc_auc = sub_method['roc_auc']\n",
    "        sub_meth_col.append(roc_auc)\n",
    "        \n",
    "        label = sub_meth_col[0]+' '+k+' AUC={:06.4f}'.format(roc_auc)\n",
    "        plt.plot(fpr, tpr, ls[j], lw=1.5, color=colors[i], label=label)\n",
    "    j+=1\n",
    "\n",
    "plt.xlabel('False Positive Rate')\n",
    "plt.ylabel('True Positive Rate')\n",
    "plt.legend(loc='lower right', fontsize=11)\n",
    "plt.title('Receiver Operating Characteristic Curve')\n",
    "\n",
    "plt.xlim([-0.01, 0.50])\n",
    "plt.ylim([0.5, 1.005])\n",
    "plt.savefig('roc_with_pca.png')"
   ]
  },
  {
   "cell_type": "code",
   "execution_count": null,
   "metadata": {},
   "outputs": [],
   "source": [
    "plt.figure(figsize=(16, 5))\n",
    "#plt.figaspect(.8)\n",
    "plt.subplot(131)\n",
    "res_Dtree = rslts_ois_dtree_gini\n",
    "res_C45 = rslts_ois_c45\n",
    "res_Rforest = rslts_ois_rforest\n",
    "res_svc = rslts_ois_svc\n",
    "res_knn = rslts_knn_ois_uniform\n",
    "\n",
    "pr, rec, thr = res_Dtree['prec_rec_curve']\n",
    "plt.plot(rec, pr, lw=1.5, color='blue', label='Dtree AUC={:06.4f}'.format(res_Dtree['roc_auc']))\n",
    "\n",
    "pr, rec, thr = res_C45['prec_rec_curve']\n",
    "plt.plot(rec, pr, lw=1.5, color='red', label='C45 AUC={:06.4f}'.format(res_C45['roc_auc']))\n",
    "\n",
    "pr, rec, thr = res_Rforest['prec_rec_curve']\n",
    "plt.plot(rec, pr, lw=1.5, color='green', label='Rforest AUC={:06.4f}'.format(res_Rforest['roc_auc']))\n",
    "\n",
    "pr, rec, thr = res_svc['prec_rec_curve']\n",
    "plt.plot(rec, pr, lw=1.5, color='black', label='SVM AUC={:06.4f}'.format(res_svc['roc_auc']))\n",
    "\n",
    "pr, rec, thr = res_knn['prec_rec_curve']\n",
    "plt.plot(rec, pr, lw=1.5, color='magenta', label='KNN AUC={:06.4f}'.format(res_knn['roc_auc']))\n",
    "\n",
    "plt.xlim(0, 1.01)\n",
    "plt.ylim(0.0, 1.1)\n",
    "plt.xlabel('Recall')\n",
    "plt.ylabel('Precision')\n",
    "plt.legend(loc='lower left')\n",
    "plt.title('Precision-Recall Curve OIS')\n",
    "\n",
    "plt.subplot(132)\n",
    "res_Dtree = rslts_zps_dtree_gini\n",
    "res_C45 = rslts_zps_c45\n",
    "res_Rforest = rslts_zps_rforest\n",
    "res_svc = rslts_zps_svc\n",
    "res_knn = rslts_knn_zps_uniform\n",
    "\n",
    "pr, rec, thr = res_Dtree['prec_rec_curve']\n",
    "plt.plot(rec, pr, lw=1.5, color='blue', label='Dtree AUC={:06.4f}'.format(res_Dtree['roc_auc']))\n",
    "\n",
    "pr, rec, thr = res_C45['prec_rec_curve']\n",
    "plt.plot(rec, pr, lw=1.5, color='red', label='C45 AUC={:06.4f}'.format(res_C45['roc_auc']))\n",
    "\n",
    "pr, rec, thr = res_Rforest['prec_rec_curve']\n",
    "plt.plot(rec, pr, lw=1.5, color='green', label='Rforest AUC={:06.4f}'.format(res_Rforest['roc_auc']))\n",
    "\n",
    "pr, rec, thr = res_svc['prec_rec_curve']\n",
    "plt.plot(rec, pr, lw=1.5, color='black', label='SVM AUC={:06.4f}'.format(res_svc['roc_auc']))\n",
    "0\n",
    "pr, rec, thr = res_knn['prec_rec_curve']\n",
    "plt.plot(rec, pr, lw=1.5, color='magenta', label='KNN AUC={:06.4f}'.format(res_knn['roc_auc']))\n",
    "\n",
    "plt.xlim(0, 1.01)\n",
    "plt.ylim(0.0, 1.1)\n",
    "plt.xlabel('Recall')\n",
    "plt.ylabel('Precision')\n",
    "plt.legend(loc='lower left')\n",
    "plt.title('Precision-Recall Curve Zackay')\n",
    "\n",
    "\n",
    "plt.subplot(133)\n",
    "res_Dtree = rslts_hot_dtree_gini\n",
    "res_C45 = rslts_hot_c45\n",
    "res_Rforest = rslts_hot_rforest\n",
    "res_svc = rslts_hot_svc\n",
    "res_knn = rslts_knn_hot_uniform\n",
    "\n",
    "pr, rec, thr = res_Dtree['prec_rec_curve']\n",
    "plt.plot(rec, pr, lw=1.5, color='blue', label='Dtree AUC={:06.4f}'.format(res_Dtree['roc_auc']))\n",
    "\n",
    "pr, rec, thr = res_C45['prec_rec_curve']\n",
    "plt.plot(rec, pr, lw=1.5, color='red', label='C45 AUC={:06.4f}'.format(res_C45['roc_auc']))\n",
    "\n",
    "pr, rec, thr = res_Rforest['prec_rec_curve']\n",
    "plt.plot(rec, pr, lw=1.5, color='green', label='Rforest AUC={:06.4f}'.format(res_Rforest['roc_auc']))\n",
    "\n",
    "pr, rec, thr = res_svc['prec_rec_curve']\n",
    "plt.plot(rec, pr, lw=1.5, color='black', label='SVM AUC={:06.4f}'.format(res_svc['roc_auc']))\n",
    "\n",
    "pr, rec, thr = res_knn['prec_rec_curve']\n",
    "plt.plot(rec, pr, lw=1.5, color='magenta', label='KNN AUC={:06.4f}'.format(res_knn['roc_auc']))\n",
    "\n",
    "plt.xlim(0, 1.01)\n",
    "plt.ylim(0.0, 1.1)\n",
    "plt.xlabel('Recall')\n",
    "plt.ylabel('Precision')\n",
    "plt.legend(loc='lower left')\n",
    "plt.title('Precision-Recall Curve HOTPANTS')\n",
    "\n",
    "plt.tight_layout()\n",
    "\n",
    "plt.savefig('prec_rec_with_pca.png')"
   ]
  },
  {
   "cell_type": "code",
   "execution_count": null,
   "metadata": {},
   "outputs": [],
   "source": [
    "m_coll = []\n",
    "\n",
    "res_Dtree = rslts_ois_dtree_gini\n",
    "res_C45 = rslts_ois_c45\n",
    "res_Rforest = rslts_ois_rforest\n",
    "res_svc = rslts_ois_svc\n",
    "res_knn = rslts_knn_ois_uniform\n",
    "true_labels = {'predictions': res_Rforest['y_test']}\n",
    "\n",
    "m_coll.append([res_C45, res_Dtree, res_knn, res_Rforest, res_svc, true_labels])\n",
    "\n",
    "res_Dtree = rslts_zps_dtree_gini\n",
    "res_C45 = rslts_zps_c45\n",
    "res_Rforest = rslts_zps_rforest\n",
    "res_svc = rslts_zps_svc\n",
    "res_knn = rslts_knn_zps_uniform\n",
    "true_labels = {'predictions': res_Rforest['y_test']}\n",
    "\n",
    "m_coll.append([res_C45, res_Dtree, res_knn, res_Rforest, res_svc, true_labels])\n",
    " \n",
    "res_Dtree = rslts_hot_dtree_gini\n",
    "res_C45 = rslts_hot_c45\n",
    "res_Rforest = rslts_hot_rforest\n",
    "res_svc = rslts_hot_svc\n",
    "res_knn = rslts_knn_hot_uniform\n",
    "true_labels = {'predictions': res_Rforest['y_test']}\n",
    "\n",
    "m_coll.append([res_C45, res_Dtree, res_knn, res_Rforest, res_svc, true_labels])\n",
    "names = ['OIS', 'Zackay', 'Hotpants']\n",
    "\n",
    "plt.figure(figsize=(16, 6))\n",
    "for k, methods in enumerate(m_coll):\n",
    "    kappa_agreement = np.ones((len(methods), len(methods)))\n",
    "\n",
    "    for i in range(len(methods)):\n",
    "        for j in range(i+1):\n",
    "            kappa_agreement[i, j] = metrics.cohen_kappa_score(methods[i]['predictions'],\n",
    "                                                              methods[j]['predictions'])#, \n",
    "                                                              #labels=['star', 'galaxy'])\n",
    "            kappa_agreement[j, i] = kappa_agreement[i, j]\n",
    "    kappa_agreement[-1, -1] = 0\n",
    "    plt.subplot(1, 3, k+1)\n",
    "    \n",
    "    plot_confusion_matrix(np.round(kappa_agreement, 3), \n",
    "                          classes=['C45', 'DTree', 'KNN', 'RForest', 'SVC', 'TrueLabels'],\n",
    "                          title=r'Cohen $\\kappa$ agreement')\n",
    "    #plt.tight_layout()\n",
    "    plt.xlabel(names[k])\n",
    "    plt.ylabel('')\n",
    "\n",
    "\n",
    "plt.savefig('cohen_with_pca.png')"
   ]
  },
  {
   "cell_type": "code",
   "execution_count": null,
   "metadata": {
    "collapsed": true
   },
   "outputs": [],
   "source": [
    "aucs = pd.DataFrame([zky, bch, hot], columns=['SubMethod','DTreeGini', 'C45', 'RandomForest', 'KNN', 'SVM'], )"
   ]
  },
  {
   "cell_type": "code",
   "execution_count": null,
   "metadata": {
    "collapsed": true
   },
   "outputs": [],
   "source": [
    "AUCTable = aucs.set_index(['SubMethod'])"
   ]
  },
  {
   "cell_type": "code",
   "execution_count": null,
   "metadata": {},
   "outputs": [],
   "source": [
    "AUCTable"
   ]
  },
  {
   "cell_type": "code",
   "execution_count": null,
   "metadata": {
    "scrolled": true
   },
   "outputs": [],
   "source": [
    "(1-AUCTable).plot.barh(log=False, cmap='Accent')\n",
    "plt.xlabel(r'$1-AUC$', fontsize=16)\n",
    "plt.ylabel('Subtraction Method', fontsize=14)\n",
    "plt.tight_layout()\n",
    "plt.xlim(0, 0.3)\n",
    "plt.legend(loc='best', fontsize=12)\n",
    "plt.savefig('./plots/complementary_AUC2_withPCA.png', dpi=600)"
   ]
  },
  {
   "cell_type": "markdown",
   "metadata": {
    "collapsed": true
   },
   "source": [
    "## Cost curves"
   ]
  },
  {
   "cell_type": "code",
   "execution_count": null,
   "metadata": {
    "scrolled": false
   },
   "outputs": [],
   "source": [
    "zky = ['Zackay']\n",
    "bch = ['Bramich']\n",
    "hot = ['Hotpants']\n",
    "sub_methods = [zky, bch, hot]\n",
    "\n",
    "colors = ['blue', 'red', 'darkgreen']\n",
    "\n",
    "ml_methods = {'RForest'   : [rslts_zps_rforest, rslts_ois_rforest, rslts_hot_rforest],\n",
    "              'DTree Gini': [rslts_zps_dtree_gini, rslts_ois_dtree_gini, rslts_hot_dtree_gini],\n",
    "              'C45'       : [rslts_zps_c45, rslts_ois_c45, rslts_hot_c45],\n",
    "              'SVM'       : [rslts_zps_svc, rslts_ois_svc, rslts_hot_svc], \n",
    "              'KNN'       : [rslts_knn_zps_uniform, rslts_knn_ois_uniform, rslts_knn_hot_uniform]}\n",
    "\n",
    "\n",
    "ls = ['-', '.', '-.', '--', ':']\n",
    "j = 0\n",
    "plt.figure(figsize=(26, 5))\n",
    "for k, v in ml_methods.iteritems():\n",
    "    plt.subplot(1, 5, j+1)\n",
    "    plt.title(k)\n",
    "    for i in range(3):\n",
    "        sub_method = v[i]\n",
    "        sub_meth_col = sub_methods[i]\n",
    "        \n",
    "        fpr = sub_method['fpr']\n",
    "        tpr = sub_method['tpr']\n",
    "        thr = sub_method['thresh']\n",
    "        prev_thr = 1.\n",
    "        if k=='KNN':\n",
    "            alpha = 1\n",
    "        else: alpha=0.1\n",
    "        for fp, tp, th in zip(fpr, tpr, thr):\n",
    "            if (prev_thr-th) >= 0.005:\n",
    "                x_ax = np.linspace(0,1,10)\n",
    "                y_ax = (1-tp-fp)*x_ax + fp\n",
    "\n",
    "                plt.plot(x_ax, y_ax, '-', color=colors[i], alpha=alpha)\n",
    "                prev_thr = th\n",
    "    plt.ylim(0, 0.25)\n",
    "    j+=1\n",
    "plt.tight_layout()\n",
    "\n",
    "plt.savefig('cost_with_pca.png')"
   ]
  },
  {
   "cell_type": "code",
   "execution_count": null,
   "metadata": {
    "collapsed": true
   },
   "outputs": [],
   "source": []
  }
 ],
 "metadata": {
  "kernelspec": {
   "display_name": "Python 2",
   "language": "python",
   "name": "python2"
  },
  "language_info": {
   "codemirror_mode": {
    "name": "ipython",
    "version": 2
   },
   "file_extension": ".py",
   "mimetype": "text/x-python",
   "name": "python",
   "nbconvert_exporter": "python",
   "pygments_lexer": "ipython2",
   "version": "2.7.9"
  }
 },
 "nbformat": 4,
 "nbformat_minor": 1
}
