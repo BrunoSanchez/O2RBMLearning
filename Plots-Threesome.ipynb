{
 "cells": [
  {
   "cell_type": "markdown",
   "metadata": {},
   "source": [
    "# Real Bogus Experiment\n",
    "\n",
    "We used three subtraction techniques\n",
    "\n",
    "Zackay's and Bramich's DIA algorithms, plus HOTPANTS source code.\n",
    "All of them were applied on the same new--ref pair of images and the same source identification algorithm.\n",
    "Except for an identification algorithm proposed by zackay:\n",
    "* S detection (with sep)\n",
    "* S_corr detection with 2.5-$\\sigma$ threshold\n",
    "\n",
    "Each dataset is comparable... "
   ]
  },
  {
   "cell_type": "code",
   "execution_count": 1,
   "metadata": {
    "collapsed": true
   },
   "outputs": [],
   "source": [
    "import numpy as np\n",
    "%matplotlib inline\n",
    "import matplotlib.pyplot as plt\n",
    "import seaborn as sns"
   ]
  },
  {
   "cell_type": "code",
   "execution_count": 2,
   "metadata": {
    "collapsed": true
   },
   "outputs": [],
   "source": [
    "sns.set_context(font_scale=1.2)\n",
    "plt.rcParams[\"patch.force_edgecolor\"] = True\n",
    "plt.rcParams['text.usetex'] = True"
   ]
  },
  {
   "cell_type": "code",
   "execution_count": 3,
   "metadata": {
    "collapsed": true
   },
   "outputs": [],
   "source": [
    "from sqlalchemy import create_engine\n",
    "import pandas as pd"
   ]
  },
  {
   "cell_type": "code",
   "execution_count": 4,
   "metadata": {
    "collapsed": true
   },
   "outputs": [],
   "source": [
    "import os\n",
    "plot_dir = os.path.abspath('./plots_three/.')\n",
    "if not os.path.isdir(plot_dir):\n",
    "    os.makedirs(plot_dir)"
   ]
  },
  {
   "cell_type": "code",
   "execution_count": 5,
   "metadata": {
    "collapsed": true
   },
   "outputs": [],
   "source": [
    "def custom_histogram(vector, bins=None, cumulative=False, errors=False):\n",
    "    if bins is None:\n",
    "        hh = np.histogram(vector)\n",
    "    else: \n",
    "        hh = np.histogram(vector, bins=bins)\n",
    "    dx = hh[1][1] - hh[1][0]\n",
    "    x_bins = hh[1][:-1] + dx\n",
    "\n",
    "    if cumulative is True:\n",
    "        vals = [sum(hh[0][:i+1]) for i, _ in enumerate(hh[0])]\n",
    "        if errors:\n",
    "            err = np.sqrt(hh[0])\n",
    "            return x_bins, vals, err\n",
    "        return x_bins, vals\n",
    "\n",
    "    elif cumulative == -1:\n",
    "        vals = [sum(hh[0][i:]) for i, _ in enumerate(hh[0])]\n",
    "        if errors:\n",
    "            err = np.sqrt(hh[0])\n",
    "            return x_bins, vals, err\n",
    "        return x_bins, vals\n",
    "    \n",
    "    else:\n",
    "        if errors:\n",
    "            err = np.sqrt(hh[0])\n",
    "            return x_bins, hh[0], err\n",
    "        \n",
    "        return x_bins, hh[0]"
   ]
  },
  {
   "cell_type": "code",
   "execution_count": 6,
   "metadata": {
    "collapsed": true
   },
   "outputs": [],
   "source": [
    "engine = create_engine('sqlite:///../RBpipeline/rbogus-dev.db')"
   ]
  },
  {
   "cell_type": "markdown",
   "metadata": {},
   "source": [
    "Asking to the database for the undetected objects (False Negatives)"
   ]
  },
  {
   "cell_type": "code",
   "execution_count": 7,
   "metadata": {
    "collapsed": true
   },
   "outputs": [],
   "source": [
    "simulated = pd.read_sql_query(\"\"\"SELECT * FROM Simulated\"\"\", engine)"
   ]
  },
  {
   "cell_type": "code",
   "execution_count": 8,
   "metadata": {
    "collapsed": true
   },
   "outputs": [],
   "source": [
    "und_z = pd.read_sql_query(\"\"\"SELECT S.x, S.y, S.app_mag, S.image_id, U.simulated_id \n",
    "                             FROM Simulated S INNER JOIN Undetected U\n",
    "                             ON S.id==U.simulated_id\"\"\", \n",
    "                          engine)"
   ]
  },
  {
   "cell_type": "code",
   "execution_count": 9,
   "metadata": {
    "collapsed": true
   },
   "outputs": [],
   "source": [
    "und_s = pd.read_sql_query(\"\"\"SELECT S.x, S.y, S.app_mag, S.image_id, U.simulated_id \n",
    "                             FROM Simulated S INNER JOIN SUndetected U\n",
    "                             ON S.id==U.simulated_id\"\"\", \n",
    "                          engine)"
   ]
  },
  {
   "cell_type": "code",
   "execution_count": 10,
   "metadata": {
    "collapsed": true
   },
   "outputs": [],
   "source": [
    "und_b = pd.read_sql_query(\"\"\"SELECT S.x, S.y, S.app_mag, S.image_id, U.simulated_id \n",
    "                             FROM Simulated S INNER JOIN UndetectedOIS U\n",
    "                             ON S.id==U.simulated_id\"\"\", \n",
    "                          engine)"
   ]
  },
  {
   "cell_type": "code",
   "execution_count": 11,
   "metadata": {
    "collapsed": true
   },
   "outputs": [],
   "source": [
    "und_h = pd.read_sql_query(\"\"\"SELECT S.x, S.y, S.app_mag, S.image_id, U.simulated_id \n",
    "                             FROM Simulated S INNER JOIN UndetectedHOT U\n",
    "                             ON S.id==U.simulated_id\"\"\", \n",
    "                          engine)"
   ]
  },
  {
   "cell_type": "markdown",
   "metadata": {},
   "source": [
    "Querying the database to obtain the tables related to the detections."
   ]
  },
  {
   "cell_type": "code",
   "execution_count": 12,
   "metadata": {
    "collapsed": true
   },
   "outputs": [],
   "source": [
    "dt_zps = pd.merge(pd.read_sql_table('Detected', engine),\n",
    "                  pd.read_sql_query(\"\"\"SELECT \n",
    "                                        Detected.id,\n",
    "                                        Simulated.app_mag as sim_mag,\n",
    "                                        Simulated.id as sim_id \n",
    "                                    FROM Detected\n",
    "                                        LEFT JOIN Reals\n",
    "                                            ON Detected.id==Reals.detected_id\n",
    "                                        LEFT JOIN Simulated\n",
    "                                            ON Simulated.id==Reals.simulated_id\"\"\", engine),\n",
    "                                      on='id', suffixes=('',''))"
   ]
  },
  {
   "cell_type": "code",
   "execution_count": 13,
   "metadata": {
    "collapsed": true
   },
   "outputs": [],
   "source": [
    "dt_ois = pd.merge(pd.read_sql_table('DetectedOIS', engine),\n",
    "                  pd.read_sql_query(\"\"\"SELECT \n",
    "                                        DetectedOIS.id,\n",
    "                                        Simulated.app_mag as sim_mag,\n",
    "                                        Simulated.id as sim_id \n",
    "                                    FROM DetectedOIS\n",
    "                                        LEFT JOIN RealsOIS\n",
    "                                            ON DetectedOIS.id==RealsOIS.detected_id\n",
    "                                        LEFT JOIN Simulated\n",
    "                                            ON Simulated.id==RealsOIS.simulated_id\"\"\", engine),\n",
    "                                      on='id', suffixes=('',''))"
   ]
  },
  {
   "cell_type": "code",
   "execution_count": 14,
   "metadata": {
    "collapsed": true
   },
   "outputs": [],
   "source": [
    "dt_hot = pd.merge(pd.read_sql_table('DetectedHOT', engine),\n",
    "                  pd.read_sql_query(\"\"\"SELECT \n",
    "                                        DetectedHOT.id,\n",
    "                                        Simulated.app_mag as sim_mag,\n",
    "                                        Simulated.id as sim_id \n",
    "                                    FROM DetectedHOT\n",
    "                                        LEFT JOIN RealsHOT\n",
    "                                            ON DetectedHOT.id==RealsHOT.detected_id\n",
    "                                        LEFT JOIN Simulated\n",
    "                                            ON Simulated.id==RealsHOT.simulated_id\"\"\", engine),\n",
    "                                      on='id', suffixes=('',''))"
   ]
  },
  {
   "cell_type": "code",
   "execution_count": 15,
   "metadata": {
    "collapsed": true
   },
   "outputs": [],
   "source": [
    "dt_sps = pd.merge(pd.read_sql_table('SDetected', engine),\n",
    "                  pd.read_sql_query(\"\"\"SELECT \n",
    "                                        SDetected.id,\n",
    "                                        Simulated.app_mag as sim_mag,\n",
    "                                        Simulated.id as sim_id \n",
    "                                    FROM SDetected\n",
    "                                        LEFT JOIN SReals\n",
    "                                            ON SDetected.id==SReals.detected_id\n",
    "                                        LEFT JOIN Simulated\n",
    "                                            ON Simulated.id==SReals.simulated_id\"\"\", engine),\n",
    "                                      on='id', suffixes=('',''))"
   ]
  },
  {
   "cell_type": "code",
   "execution_count": 16,
   "metadata": {
    "collapsed": true,
    "scrolled": false
   },
   "outputs": [],
   "source": [
    "# dt_ois.IS_REAL = dt_ois.IS_REAL.astype(int)\n",
    "# dt_zps.IS_REAL = dt_zps.IS_REAL.astype(int)"
   ]
  },
  {
   "cell_type": "markdown",
   "metadata": {},
   "source": [
    "### Some plots of simulated objects"
   ]
  },
  {
   "cell_type": "code",
   "execution_count": 17,
   "metadata": {
    "collapsed": true
   },
   "outputs": [],
   "source": [
    "sim_images = pd.read_sql_table('Images', engine)"
   ]
  },
  {
   "cell_type": "code",
   "execution_count": 18,
   "metadata": {},
   "outputs": [
    {
     "data": {
      "image/png": "[encoded data removed]",
      "text/plain": [
       "<matplotlib.figure.Figure at 0x7effd9a73590>"
      ]
     },
     "metadata": {},
     "output_type": "display_data"
    }
   ],
   "source": [
    "plt.figure(figsize=(6,4))\n",
    "plt.hist(simulated['app_mag'], cumulative=False, bins=15, log=True)\n",
    "plt.xlabel(r'$mag$', fontsize=16)\n",
    "plt.tick_params(labelsize=15)\n",
    "plt.ylabel(r'$N(m) dm$', fontsize=16)\n",
    "#plt.ylabel(r'$\\int_{-\\infty}^{mag}\\phi(m\\prime)dm\\prime$', fontsize=16)\n",
    "plt.savefig(os.path.join(plot_dir, 'lum_fun_simulated.png'), dpi=700)"
   ]
  },
  {
   "cell_type": "code",
   "execution_count": 19,
   "metadata": {
    "collapsed": true
   },
   "outputs": [],
   "source": [
    "object_params = pd.merge(left=sim_images, right=simulated, right_on='image_id', left_on='id', how='right')"
   ]
  },
  {
   "cell_type": "code",
   "execution_count": 20,
   "metadata": {
    "collapsed": true
   },
   "outputs": [],
   "source": [
    "sub_tab = object_params[['refstarcount_zp', u'refstarcount_slope', u'refseeing_fwhm', \n",
    "                         u'app_mag', u'r_scales', u'gx_mag']]"
   ]
  },
  {
   "cell_type": "code",
   "execution_count": 21,
   "metadata": {
    "scrolled": true
   },
   "outputs": [
    {
     "data": {
      "text/plain": [
       "100694"
      ]
     },
     "execution_count": 21,
     "metadata": {},
     "output_type": "execute_result"
    }
   ],
   "source": [
    "len(simulated)"
   ]
  },
  {
   "cell_type": "code",
   "execution_count": 22,
   "metadata": {},
   "outputs": [
    {
     "name": "stdout",
     "output_type": "stream",
     "text": [
      "\\begin{tabular}{lrrrrrr}\n",
      "\\toprule\n",
      "{} &  refstarcount\\_zp &  refstarcount\\_slope &  refseeing\\_fwhm &        app\\_mag &       r\\_scales &         gx\\_mag \\\\\n",
      "\\midrule\n",
      "count &    100694.000000 &       100694.000000 &   100694.000000 &  100694.000000 &  100694.000000 &  100694.000000 \\\\\n",
      "mean  &     24112.777325 &            0.497376 &        1.100596 &      22.498254 &       0.003497 &      22.499043 \\\\\n",
      "std   &     21622.289789 &            0.283148 &        0.223699 &       1.755829 &       2.247695 &       1.324309 \\\\\n",
      "min   &      4000.000000 &            0.100000 &        0.800000 &      10.791011 &    -148.337495 &      11.455300 \\\\\n",
      "25\\%   &      8000.000000 &            0.300000 &        1.000000 &      21.426880 &      -0.892185 &      21.852800 \\\\\n",
      "50\\%   &     16000.000000 &            0.500000 &        1.200000 &      22.590814 &       0.000000 &      22.815300 \\\\\n",
      "75\\%   &     32000.000000 &            0.700000 &        1.400000 &      23.776881 &       0.890784 &      23.337100 \\\\\n",
      "max   &     64000.000000 &            0.900000 &        1.400000 &      27.494904 &      51.676243 &      25.622600 \\\\\n",
      "\\bottomrule\n",
      "\\end{tabular}\n",
      "\n"
     ]
    }
   ],
   "source": [
    "print sub_tab.describe().to_latex()"
   ]
  },
  {
   "cell_type": "code",
   "execution_count": 23,
   "metadata": {},
   "outputs": [
    {
     "data": {
      "image/png": "[encoded data removed]",
      "text/plain": [
       "<matplotlib.figure.Figure at 0x7effda610e50>"
      ]
     },
     "metadata": {},
     "output_type": "display_data"
    }
   ],
   "source": [
    "plt.figure(figsize=(12, 4))\n",
    "plt.subplot(131)\n",
    "plt.hist(sub_tab['r_scales'], log=True)\n",
    "plt.xlabel(r'$d$', fontsize=14)\n",
    "plt.subplot(132)\n",
    "plt.hist(sub_tab['gx_mag'], log=True)\n",
    "plt.xlabel(r'$mag$', fontsize=14)\n",
    "plt.subplot(133)\n",
    "plt.hist(sub_tab['app_mag'], log=True)\n",
    "plt.xlabel(r'$mag$', fontsize=14)\n",
    "plt.savefig(os.path.join(plot_dir, 'par_dist.png'), dpi=700)"
   ]
  },
  {
   "cell_type": "markdown",
   "metadata": {},
   "source": [
    "### Analyzing the fraction of type of objects for each dataset"
   ]
  },
  {
   "cell_type": "code",
   "execution_count": 28,
   "metadata": {},
   "outputs": [],
   "source": [
    "ois = [sum(dt_ois.IS_REAL), len(und_b), len(dt_ois.IS_REAL)-sum(dt_ois.IS_REAL)]\n",
    "zps = [sum(dt_zps.IS_REAL), len(und_z), len(dt_zps.IS_REAL)-sum(dt_zps.IS_REAL)]\n",
    "hot = [sum(dt_hot.IS_REAL), len(und_h), len(dt_hot.IS_REAL)-sum(dt_hot.IS_REAL)]\n",
    "sps = [sum(dt_sps.IS_REAL), len(und_s), len(dt_sps.IS_REAL)-sum(dt_sps.IS_REAL)]\n",
    "df2 = pd.DataFrame([zps, ois, hot, sps], columns=['Real', 'False Neg', 'Bogus'])"
   ]
  },
  {
   "cell_type": "code",
   "execution_count": 29,
   "metadata": {
    "collapsed": true
   },
   "outputs": [],
   "source": [
    "df2['TP'] = df2['Real']/(df2['Real']+df2['False Neg'])\n",
    "df2['FN'] = df2['False Neg']/(df2['Real']+df2['False Neg'])\n",
    "df2['FP'] = df2['Bogus']/(df2['Real']+df2['False Neg'])"
   ]
  },
  {
   "cell_type": "code",
   "execution_count": 26,
   "metadata": {},
   "outputs": [
    {
     "name": "stdout",
     "output_type": "stream",
     "text": [
      "\\begin{tabular}{lrrrrrr}\n",
      "\\toprule\n",
      "{} &   Real &  False Neg &   Bogus &        TP &        FN &        FP \\\\\n",
      "\\midrule\n",
      "0 &  45158 &      55536 &   21153 &  0.448468 &  0.551532 &  0.210072 \\\\\n",
      "1 &  56219 &      44475 &   77919 &  0.558315 &  0.441685 &  0.773820 \\\\\n",
      "2 &  49174 &      51520 &  272112 &  0.488351 &  0.511649 &  2.702366 \\\\\n",
      "3 &   3285 &      97409 &   37577 &  0.032624 &  0.967376 &  0.373180 \\\\\n",
      "\\bottomrule\n",
      "\\end{tabular}\n",
      "\n"
     ]
    }
   ],
   "source": [
    "print df2.to_latex()"
   ]
  },
  {
   "cell_type": "code",
   "execution_count": 31,
   "metadata": {
    "scrolled": false
   },
   "outputs": [
    {
     "data": {
      "text/plain": [
       "<matplotlib.figure.Figure at 0x7effd96ff5d0>"
      ]
     },
     "metadata": {},
     "output_type": "display_data"
    },
    {
     "data": {
      "image/png": "[encoded data removed]",
      "text/plain": [
       "<matplotlib.figure.Figure at 0x7effd943fb50>"
      ]
     },
     "metadata": {},
     "output_type": "display_data"
    }
   ],
   "source": [
    "plt.figure(figsize=(12, 2))\n",
    "df2[['TP', 'FN', 'FP']].plot.barh(stacked=True)\n",
    "plt.title('Fraction of classes', fontsize=14)\n",
    "plt.xscale('linear')\n",
    "plt.xlabel('Fraction of simulated objects', fontsize=12)\n",
    "plt.xlim(0, 4.)\n",
    "plt.yticks([0,1,2,3], ['Zackay', 'Bramich', 'Hotpants', '$S_{corr}$'], fontsize=14)\n",
    "\n",
    "plt.vlines(df2[1:2]['Real'], -0.4, 2.3, lw=0.3)\n",
    "plt.vlines(df2[1:2]['Real']+df2[1:2]['False Neg'], -0.4, 2.3, lw=0.6)\n",
    "\n",
    "plt.tight_layout()\n",
    "plt.legend(loc='lower right', fontsize=14)\n",
    "plt.savefig(os.path.join(plot_dir, 'fractions_classes.svg'), dpi=700)"
   ]
  },
  {
   "cell_type": "markdown",
   "metadata": {},
   "source": [
    "## Magnitude offset\n",
    "\n",
    "We need to calculate the magnitude offset to understand how to compare perfomances."
   ]
  },
  {
   "cell_type": "code",
   "execution_count": 59,
   "metadata": {},
   "outputs": [],
   "source": [
    "cx_sps = pd.read_sql_query(\n",
    "\"\"\"SELECT \n",
    "  SDetected.cflux, \n",
    "  SDetected.flux, \n",
    "  Simulated.app_mag as sim_mag,\n",
    "  Simulated.id as sim_id \n",
    "FROM SDetected\n",
    "  INNER JOIN SReals\n",
    "    ON SDetected.id==SReals.detected_id\n",
    "  INNER JOIN Simulated\n",
    "    ON Simulated.id==SReals.simulated_id\"\"\", engine)"
   ]
  },
  {
   "cell_type": "code",
   "execution_count": 73,
   "metadata": {
    "collapsed": true
   },
   "outputs": [],
   "source": [
    "cx_sps['MAG_APER'] = -2.5*np.log10(cx_sps.cflux)"
   ]
  },
  {
   "cell_type": "code",
   "execution_count": 74,
   "metadata": {},
   "outputs": [
    {
     "data": {
      "text/plain": [
       "Index([u'cflux', u'flux', u'sim_mag', u'sim_id', u'MAG_APER'], dtype='object')"
      ]
     },
     "execution_count": 74,
     "metadata": {},
     "output_type": "execute_result"
    }
   ],
   "source": [
    "cx_sps.columns"
   ]
  },
  {
   "cell_type": "code",
   "execution_count": 75,
   "metadata": {
    "collapsed": true
   },
   "outputs": [],
   "source": [
    "cx_zps = pd.read_sql_query(\n",
    "\"\"\"SELECT \n",
    "  Detected.MAG_ISO, \n",
    "  Detected.MAG_AUTO, \n",
    "  Detected.MAG_APER,\n",
    "  Simulated.app_mag as sim_mag,\n",
    "  Simulated.id as sim_id \n",
    "FROM Detected\n",
    "  INNER JOIN Reals\n",
    "    ON Detected.id==Reals.detected_id\n",
    "  INNER JOIN Simulated\n",
    "    ON Simulated.id==Reals.simulated_id\"\"\", engine)"
   ]
  },
  {
   "cell_type": "code",
   "execution_count": 76,
   "metadata": {
    "collapsed": true
   },
   "outputs": [],
   "source": [
    "cx_ois = pd.read_sql_query(\n",
    "\"\"\"SELECT \n",
    "  DetectedOIS.MAG_ISO,\n",
    "  DetectedOIS.MAG_AUTO,\n",
    "  DetectedOIS.MAG_APER,\n",
    "  Simulated.app_mag as sim_mag,\n",
    "  Simulated.id as sim_id \n",
    "FROM DetectedOIS\n",
    "  INNER JOIN RealsOIS\n",
    "    ON DetectedOIS.id==RealsOIS.detected_id\n",
    "  INNER JOIN Simulated\n",
    "    ON Simulated.id==RealsOIS.simulated_id\"\"\", engine)"
   ]
  },
  {
   "cell_type": "code",
   "execution_count": 77,
   "metadata": {
    "collapsed": true
   },
   "outputs": [],
   "source": [
    "cx_hot = pd.read_sql_query(\n",
    "\"\"\"SELECT \n",
    "  DetectedHOT.MAG_ISO,\n",
    "  DetectedHOT.MAG_AUTO,\n",
    "  DetectedHOT.MAG_APER,\n",
    "  Simulated.app_mag as sim_mag,\n",
    "  Simulated.id as sim_id \n",
    "FROM DetectedHOT\n",
    "  INNER JOIN RealsHOT\n",
    "    ON DetectedHOT.id==RealsHOT.detected_id\n",
    "  INNER JOIN Simulated\n",
    "    ON Simulated.id==RealsHOT.simulated_id\"\"\", engine)"
   ]
  },
  {
   "cell_type": "code",
   "execution_count": 78,
   "metadata": {
    "collapsed": true
   },
   "outputs": [],
   "source": [
    "detections = pd.merge(cx_ois, cx_zps, how='outer', on='sim_id', suffixes=('_ois','_zps'))"
   ]
  },
  {
   "cell_type": "code",
   "execution_count": 79,
   "metadata": {
    "scrolled": true
   },
   "outputs": [
    {
     "data": {
      "text/plain": [
       "Index([u'MAG_ISO_ois', u'MAG_AUTO_ois', u'MAG_APER_ois', u'sim_mag_ois',\n",
       "       u'sim_id', u'MAG_ISO_zps', u'MAG_AUTO_zps', u'MAG_APER_zps',\n",
       "       u'sim_mag_zps'],\n",
       "      dtype='object')"
      ]
     },
     "execution_count": 79,
     "metadata": {},
     "output_type": "execute_result"
    }
   ],
   "source": [
    "detections.columns"
   ]
  },
  {
   "cell_type": "code",
   "execution_count": 80,
   "metadata": {
    "collapsed": true
   },
   "outputs": [],
   "source": [
    "detections = pd.merge(cx_hot, detections, how='outer', on='sim_id', suffixes=('_hot', '_'))"
   ]
  },
  {
   "cell_type": "code",
   "execution_count": 81,
   "metadata": {},
   "outputs": [
    {
     "data": {
      "text/plain": [
       "Index([u'MAG_ISO', u'MAG_AUTO', u'MAG_APER', u'sim_mag', u'sim_id',\n",
       "       u'MAG_ISO_ois', u'MAG_AUTO_ois', u'MAG_APER_ois', u'sim_mag_ois',\n",
       "       u'MAG_ISO_zps', u'MAG_AUTO_zps', u'MAG_APER_zps', u'sim_mag_zps'],\n",
       "      dtype='object')"
      ]
     },
     "execution_count": 81,
     "metadata": {},
     "output_type": "execute_result"
    }
   ],
   "source": [
    "detections.columns"
   ]
  },
  {
   "cell_type": "code",
   "execution_count": 82,
   "metadata": {
    "collapsed": true
   },
   "outputs": [],
   "source": [
    "detections = pd.merge(cx_sps, detections, how='outer', on='sim_id', suffixes=('_sps', ''))"
   ]
  },
  {
   "cell_type": "code",
   "execution_count": 83,
   "metadata": {
    "scrolled": true
   },
   "outputs": [
    {
     "data": {
      "text/plain": [
       "Index([       u'cflux',         u'flux',  u'sim_mag_sps',       u'sim_id',\n",
       "       u'MAG_APER_sps',      u'MAG_ISO',     u'MAG_AUTO',     u'MAG_APER',\n",
       "            u'sim_mag',  u'MAG_ISO_ois', u'MAG_AUTO_ois', u'MAG_APER_ois',\n",
       "        u'sim_mag_ois',  u'MAG_ISO_zps', u'MAG_AUTO_zps', u'MAG_APER_zps',\n",
       "        u'sim_mag_zps'],\n",
       "      dtype='object')"
      ]
     },
     "execution_count": 83,
     "metadata": {},
     "output_type": "execute_result"
    }
   ],
   "source": [
    "detections.columns"
   ]
  },
  {
   "cell_type": "code",
   "execution_count": 84,
   "metadata": {
    "collapsed": true
   },
   "outputs": [],
   "source": [
    "detections = detections.dropna()"
   ]
  },
  {
   "cell_type": "code",
   "execution_count": 85,
   "metadata": {},
   "outputs": [],
   "source": [
    "detections['MAG_OFFSET_zps'] = detections['sim_mag_zps'] - detections['MAG_ISO_zps']\n",
    "detections['MAG_OFFSET_ois'] = detections['sim_mag_ois'] - detections['MAG_ISO_ois']\n",
    "detections['MAG_OFFSET'] = detections['sim_mag'] - detections['MAG_ISO']\n",
    "detections['MAG_OFFSET_sps'] = detections['sim_mag'] - detections['MAG_APER_sps']"
   ]
  },
  {
   "cell_type": "code",
   "execution_count": 90,
   "metadata": {
    "scrolled": false
   },
   "outputs": [
    {
     "data": {
      "image/png": "[encoded data removed]",
      "text/plain": [
       "<matplotlib.figure.Figure at 0x7effd8dd79d0>"
      ]
     },
     "metadata": {},
     "output_type": "display_data"
    }
   ],
   "source": [
    "plt.figure(figsize=(9,3))\n",
    "plt.subplot(141)\n",
    "plt.hist(detections['MAG_OFFSET_ois'], log=True, color='red',\n",
    "        label=r'$\\sigma$={}'.format(round(np.std(detections['MAG_OFFSET_ois']), 3)))\n",
    "plt.title('Bramich')\n",
    "plt.xlabel(r'$\\Delta$ Mag')\n",
    "plt.legend(loc='best')\n",
    "\n",
    "plt.subplot(142)\n",
    "plt.hist(detections['MAG_OFFSET_zps'], log=True, color='blue',\n",
    "        label=r'$\\sigma$={}'.format(round(np.std(detections['MAG_OFFSET_zps']), 3)))\n",
    "plt.xlabel(r'$\\Delta$ Mag')\n",
    "plt.title('Zackay')\n",
    "plt.legend(loc='best')\n",
    "\n",
    "plt.subplot(143)\n",
    "plt.hist(detections['MAG_OFFSET'], log=True, color='green', \n",
    "         label=r'$\\sigma$={}'.format(round(np.std(detections['MAG_OFFSET']), 3)))\n",
    "plt.xlabel(r'$\\Delta$ Mag')\n",
    "plt.title('Hotpants')\n",
    "plt.legend(loc='best')\n",
    "\n",
    "plt.subplot(144)\n",
    "plt.hist(detections['MAG_OFFSET_sps'], log=True, color='lightblue', \n",
    "         label=r'$\\sigma$={}'.format(round(np.std(detections['MAG_OFFSET_sps']), 3)))\n",
    "plt.xlabel(r'$\\Delta$ Mag')\n",
    "plt.title('Scorr')\n",
    "plt.legend(loc='best')\n",
    "#plt.show()\n",
    "\n",
    "plt.savefig(os.path.join(plot_dir, 'mag_offset.png'), format='png', dpi=700)"
   ]
  },
  {
   "cell_type": "code",
   "execution_count": 112,
   "metadata": {
    "scrolled": true
   },
   "outputs": [
    {
     "data": {
      "image/png": "[encoded data removed]",
      "text/plain": [
       "<matplotlib.figure.Figure at 0x7effd94d9e10>"
      ]
     },
     "metadata": {},
     "output_type": "display_data"
    }
   ],
   "source": [
    "plt.figure(figsize=(6, 4))\n",
    "plt.plot(detections['sim_mag_zps'], detections['MAG_ISO_zps'], 'b.', label='Zackay', alpha=0.5)\n",
    "plt.plot(detections['sim_mag'], detections['MAG_ISO'], 'g.', label='Hotpants', alpha=0.5)\n",
    "plt.plot(detections['sim_mag_ois'], detections['MAG_ISO_ois'], 'r.', label='Bramich', alpha=0.5)\n",
    "plt.plot(detections['sim_mag_sps'], detections['MAG_APER_sps'], 'm.', label='Scorr', alpha=0.5)\n",
    "\n",
    "plt.ylabel('Mag Aper')\n",
    "plt.xlabel('Simulated Mag')\n",
    "plt.title('Simulated Mag vs Detected Aperture Mag')\n",
    "plt.legend(loc='best')\n",
    "plt.savefig(os.path.join(plot_dir, 'aper_vs_simulated_mag.png'), format='png', dpi=700)"
   ]
  },
  {
   "cell_type": "code",
   "execution_count": 94,
   "metadata": {},
   "outputs": [
    {
     "name": "stdout",
     "output_type": "stream",
     "text": [
      "Mean magniutde difference for Zackay is 1.0537509581\n",
      "Mean magniutde difference for Bramich is 5.95617065375\n",
      "Mean magniutde difference for Hotpans is 5.84714321897\n",
      "Mean magniutde difference for Scorr is 25.9420274513\n"
     ]
    }
   ],
   "source": [
    "print 'Mean magniutde difference for Zackay is {}'.format(detections.MAG_OFFSET_zps.mean())\n",
    "print 'Mean magniutde difference for Bramich is {}'.format(detections.MAG_OFFSET_ois.mean())\n",
    "print 'Mean magniutde difference for Hotpans is {}'.format(detections.MAG_OFFSET.mean())\n",
    "print 'Mean magniutde difference for Scorr is {}'.format(detections.MAG_OFFSET_sps.mean())"
   ]
  },
  {
   "cell_type": "code",
   "execution_count": 96,
   "metadata": {},
   "outputs": [
    {
     "data": {
      "text/plain": [
       "Index([u'id', u'thresh', u'npix', u'tnpix', u'xmin', u'xmax', u'ymin', u'ymax',\n",
       "       u'x', u'y', u'x2', u'y2', u'xy', u'errx2', u'erry2', u'errxy', u'a',\n",
       "       u'b', u'theta', u'cxx', u'cyy', u'cxy', u'cflux', u'flux', u'cpeak',\n",
       "       u'peak', u'xcpeak', u'ycpeak', u'xpeak', u'ypeak', u'flag', u'DELTAX',\n",
       "       u'DELTAY', u'RATIO', u'ROUNDNESS', u'PEAK_CENTROID', u'IS_REAL',\n",
       "       u'image_id', u'sim_mag', u'sim_id'],\n",
       "      dtype='object')"
      ]
     },
     "execution_count": 96,
     "metadata": {},
     "output_type": "execute_result"
    }
   ],
   "source": []
  },
  {
   "cell_type": "code",
   "execution_count": 97,
   "metadata": {},
   "outputs": [],
   "source": [
    "dt_ois['mag'] = dt_ois['MAG_ISO'] + detections.MAG_OFFSET_ois.mean()\n",
    "dt_zps['mag'] = dt_zps['MAG_ISO'] + detections.MAG_OFFSET_zps.mean()\n",
    "dt_hot['mag'] = dt_hot['MAG_ISO'] + detections.MAG_OFFSET.mean()\n",
    "dt_sps['mag'] = -2.5*np.log10(dt_sps['cflux']) + detections.MAG_OFFSET_sps.mean()"
   ]
  },
  {
   "cell_type": "code",
   "execution_count": 98,
   "metadata": {
    "collapsed": true
   },
   "outputs": [],
   "source": [
    "def binning(data, bins, return_center_bins=False):\n",
    "    mean = np.zeros_like(bins[:-1])\n",
    "    stdv = np.zeros_like(bins[:-1])\n",
    "    sqrtn= np.zeros_like(mean)\n",
    "    \n",
    "    for i_bin, low in enumerate(bins[:-1]):\n",
    "        high = bins[i_bin+1]\n",
    "        fdata = data[(data < high) * (data >= low)]\n",
    "        if len(fdata) is 0:\n",
    "            sqrtn[i_bin] = 0\n",
    "            mean[i_bin] = np.mean(fdata)\n",
    "            stdv[i_bin] = np.std(fdata)\n",
    "            continue\n",
    "        sqrtn[i_bin] = np.sqrt(len(fdata))\n",
    "        mean[i_bin] = np.mean(fdata)\n",
    "        stdv[i_bin] = np.std(fdata)\n",
    "    if return_center_bins:\n",
    "        return bins[:-1]+(high-low)*0.5, mean, stdv, sqrtn\n",
    "    else:\n",
    "        return mean, stdv, sqrtn"
   ]
  },
  {
   "cell_type": "code",
   "execution_count": 99,
   "metadata": {},
   "outputs": [
    {
     "name": "stdout",
     "output_type": "stream",
     "text": [
      "18.998543219 16.421943219 18.0653069132 2.01504920088\n"
     ]
    },
    {
     "name": "stderr",
     "output_type": "stream",
     "text": [
      "/home/bruno/.virtualenvs/iPTF/local/lib/python2.7/site-packages/pandas/core/computation/expressions.py:183: UserWarning: evaluating in Python space because the '*' operator is not supported by numexpr for the bool dtype, use '&' instead\n",
      "  unsupported[op_str]))\n"
     ]
    }
   ],
   "source": [
    "m = detections['MAG_ISO'] +  detections.MAG_OFFSET.mean()\n",
    "m = m[(m>16.0)*(m<19.)]\n",
    "print np.max(m), np.min(m), np.mean(m), 3*np.std(m)"
   ]
  },
  {
   "cell_type": "code",
   "execution_count": 108,
   "metadata": {
    "scrolled": false
   },
   "outputs": [
    {
     "data": {
      "image/png": "[encoded data removed]",
      "text/plain": [
       "<matplotlib.figure.Figure at 0x7effd91152d0>"
      ]
     },
     "metadata": {},
     "output_type": "display_data"
    }
   ],
   "source": [
    "plt.figure(figsize=(8,4))\n",
    "bins = np.arange(14, 25, .3)\n",
    "\n",
    "mean_sim, stdv_sim, _ = binning(dt_hot['sim_mag'], bins=bins)\n",
    "mean_det, stdv_det, sqrtn = binning(dt_hot['mag'], bins=bins)\n",
    "plt.errorbar(mean_sim, mean_det, yerr=3.*stdv_det, fmt='g--', label='Hotpants')\n",
    "\n",
    "mean_sim, stdv_sim, _ = binning(dt_sps['sim_mag'], bins=bins)\n",
    "mean_det, stdv_det, sqrtn = binning(dt_sps['mag'], bins=bins)\n",
    "plt.errorbar(mean_sim, mean_det-0.5, yerr=3.*stdv_det, fmt='m--', label='Scorr - 0.5')\n",
    "\n",
    "mean_sim, stdv_sim, _ = binning(dt_zps['sim_mag'], bins=bins)\n",
    "mean_det, stdv_det, sqrtn = binning(dt_zps['mag'], bins=bins)\n",
    "plt.errorbar(mean_sim, mean_det+0.5, yerr=3.*stdv_det, fmt='b.-', label='Zackay +0.5')\n",
    "\n",
    "mean_sim, stdv_sim, _ = binning(dt_ois['sim_mag'], bins=bins)\n",
    "mean_det, stdv_det, sqrtn = binning(dt_ois['mag'], bins=bins)\n",
    "plt.errorbar(mean_sim, mean_det+1., yerr=3.*stdv_det, fmt='ro-', label='Bramich + 1.')\n",
    "\n",
    "plt.plot(np.arange(12, 25, 0.5), np.arange(12, 25, 0.5), color='k', label='x=y', linewidth=0.3)\n",
    "\n",
    "plt.tick_params(labelsize=18)\n",
    "plt.ylabel('Mag Aper', fontsize=18)\n",
    "plt.xlabel('Simulated Mag', fontsize=18)\n",
    "#plt.title('Simulated Mag vs Detected Aperture Mag', fontsize=14)\n",
    "plt.legend(loc='best', fontsize=16)\n",
    "\n",
    "plt.xlim(14, 25)\n",
    "#plt.ylim(14, 25)\n",
    "plt.savefig(os.path.join(plot_dir, 'corrected_aper_vs_simulated_mag.png'), format='png', dpi=900)\n"
   ]
  },
  {
   "cell_type": "code",
   "execution_count": 114,
   "metadata": {},
   "outputs": [
    {
     "data": {
      "image/png": "[encoded data removed]",
      "text/plain": [
       "<matplotlib.figure.Figure at 0x7effd8c6f790>"
      ]
     },
     "metadata": {},
     "output_type": "display_data"
    }
   ],
   "source": [
    "plt.plot(dt_hot['sim_mag'], dt_hot['mag'], 'g.', label='Hotpants', alpha=0.3)\n",
    "plt.plot(dt_zps['sim_mag'], dt_zps['mag'], 'b.', label='Zackay', alpha=0.3)\n",
    "plt.plot(dt_ois['sim_mag'], dt_ois['mag'], 'r.', label='Bramich', alpha=0.3)\n",
    "plt.plot(dt_sps['sim_mag'], dt_sps['mag'], 'm.', label='Scorr', alpha=0.3)\n",
    "\n",
    "plt.plot(np.arange(12, 25, 0.5), np.arange(12, 25, 0.5), color='k', label='x=y')\n",
    "\n",
    "plt.ylabel('Mag Aper')\n",
    "plt.xlabel('Simulated Mag')\n",
    "plt.title('Simulated Mag vs Detected Aperture Mag')\n",
    "plt.legend(loc='best')\n",
    "plt.xlim(14, 25)\n",
    "plt.savefig(os.path.join(plot_dir, 'corrected_aper_vs_simulated_mag_scatter.png'), format='png', dpi=900)"
   ]
  },
  {
   "cell_type": "code",
   "execution_count": 117,
   "metadata": {},
   "outputs": [],
   "source": [
    "dt_ois['mu'] = dt_ois.mag/(dt_ois.A_IMAGE*dt_ois.B_IMAGE)\n",
    "dt_zps['mu'] = dt_zps.mag/(dt_zps.A_IMAGE*dt_zps.B_IMAGE)\n",
    "dt_hot['mu'] = dt_hot.mag/(dt_hot.A_IMAGE*dt_hot.B_IMAGE)\n",
    "dt_sps['mu'] = dt_sps.mag/(dt_sps.a*dt_sps.b)"
   ]
  },
  {
   "cell_type": "code",
   "execution_count": 118,
   "metadata": {
    "collapsed": true
   },
   "outputs": [],
   "source": [
    "bogus_s = dt_sps[dt_sps.IS_REAL==False]\n",
    "reals_s = dt_sps[dt_sps.IS_REAL==True]\n",
    "\n",
    "bogus_b = dt_ois[dt_ois.IS_REAL==False]\n",
    "reals_b = dt_ois[dt_ois.IS_REAL==True]\n",
    "\n",
    "bogus_z = dt_zps[dt_zps.IS_REAL==False]\n",
    "reals_z = dt_zps[dt_zps.IS_REAL==True]\n",
    "\n",
    "bogus_h = dt_hot[dt_hot.IS_REAL==False]\n",
    "reals_h = dt_hot[dt_hot.IS_REAL==True]"
   ]
  },
  {
   "cell_type": "code",
   "execution_count": 119,
   "metadata": {},
   "outputs": [
    {
     "name": "stdout",
     "output_type": "stream",
     "text": [
      "77919 21153 272112 37577\n"
     ]
    }
   ],
   "source": [
    "print len(bogus_b), len(bogus_z), len(bogus_h), len(bogus_s)"
   ]
  },
  {
   "cell_type": "markdown",
   "metadata": {
    "collapsed": true
   },
   "source": [
    "## Luminosity function \n",
    "\n",
    "Bogus, Real, and FN luminosity functions.\n"
   ]
  },
  {
   "cell_type": "code",
   "execution_count": 122,
   "metadata": {},
   "outputs": [
    {
     "data": {
      "image/png": "[encoded data removed]",
      "text/plain": [
       "<matplotlib.figure.Figure at 0x7effd99d5890>"
      ]
     },
     "metadata": {},
     "output_type": "display_data"
    }
   ],
   "source": [
    "plt.figure(figsize=(8,4))\n",
    "\n",
    "#magnitude bins\n",
    "bins = np.arange(18, 25, 0.5)\n",
    "\n",
    "plt.subplot(121)\n",
    "cumulative=True\n",
    "x_bins, vals = custom_histogram(reals_b.mag.values, bins=bins, cumulative=cumulative)\n",
    "plt.semilogy(x_bins, vals, 'ro-', label='Bramich')\n",
    "#x_bins, vals = custom_histogram(reals_s.mag.values, bins=bins, cumulative=cumulative)\n",
    "#plt.semilogy(x_bins, vals, 'm.-', label='Scorr')\n",
    "x_bins, vals = custom_histogram(reals_z.mag.values, bins=bins, cumulative=cumulative)\n",
    "plt.semilogy(x_bins, vals, 'b.-', label='Zackay')\n",
    "x_bins, vals = custom_histogram(reals_h.mag.values, bins=bins, cumulative=cumulative)\n",
    "plt.semilogy(x_bins, vals, 'g--', label='Hotpants')\n",
    "#plt.xlim(18, 24.5)\n",
    "plt.title('Cummulative Luminosity function Reals')\n",
    "plt.ylabel(r'$\\phi(m)dm$', fontsize=18)\n",
    "plt.legend(loc='best', fontsize=18)\n",
    "plt.xlabel(r'$m$', fontsize=18)\n",
    "plt.ylim(50, 280000)\n",
    "plt.tick_params(labelsize=16)\n",
    "\n",
    "plt.subplot(122)\n",
    "x_bins, vals = custom_histogram(bogus_b.mag.values, bins=bins, cumulative=cumulative)\n",
    "plt.semilogy(x_bins, vals, 'ro-', label='Bramich')\n",
    "x_bins, vals = custom_histogram(bogus_z.mag.values, bins=bins, cumulative=cumulative)\n",
    "plt.semilogy(x_bins, vals, 'b.-', label='Zackay')\n",
    "x_bins, vals = custom_histogram(bogus_h.mag.values, bins=bins, cumulative=cumulative)\n",
    "plt.semilogy(x_bins, vals, 'g--', label='Hotpants')\n",
    "#plt.xlim(20, 24.5)\n",
    "plt.ylabel(r'$\\phi(m)dm$', fontsize=18)\n",
    "plt.legend(loc='best', fontsize=18)\n",
    "plt.xlabel(r'$m$', fontsize=18)\n",
    "plt.title('Cummulative Luminosity function Bogus')\n",
    "plt.ylim(50, 280000)\n",
    "plt.tight_layout()\n",
    "#plt.show()\n",
    "\n",
    "plt.savefig(os.path.join(plot_dir, 'luminosities_functions.png'), format='png', dpi=700)"
   ]
  },
  {
   "cell_type": "code",
   "execution_count": null,
   "metadata": {
    "collapsed": true
   },
   "outputs": [],
   "source": [
    "#signal to noise bins\n",
    "bins = np.arange(0, 140, 6)\n",
    "cumulative=-1\n",
    "plt.subplot(121)\n",
    "\n",
    "x_bins, vals = custom_histogram((reals_b.FLUX_ISO/reals_b.FLUXERR_ISO).values, \n",
    "                                bins=bins, cumulative=cumulative)\n",
    "plt.semilogy(x_bins, vals, 'ro-', label='Bramich')\n",
    "x_bins, vals = custom_histogram((reals_z.FLUX_ISO/reals_z.FLUXERR_ISO).values, \n",
    "                                bins=bins, cumulative=cumulative)\n",
    "plt.semilogy(x_bins, vals, 'g--', label='Hotpants')\n",
    "x_bins, vals = custom_histogram((reals_h.FLUX_ISO/reals_h.FLUXERR_ISO).values,\n",
    "                                bins=bins, cumulative=cumulative)\n",
    "plt.semilogy(x_bins, vals, 'b.-', label='Zackay')\n",
    "\n",
    "#plt.xlim(110, 0)\n",
    "plt.title('Cummulative S/N function Reals')\n",
    "plt.legend(loc='best')\n",
    "plt.ylabel(r'$\\phi$')\n",
    "plt.xlabel('S/N')\n",
    "\n",
    "plt.subplot(122)\n",
    "x_bins, vals = custom_histogram((bogus_b.FLUX_ISO/bogus_b.FLUXERR_ISO).values, \n",
    "                                bins=bins, cumulative=cumulative)\n",
    "plt.semilogy(x_bins, vals, 'ro-', label='Bramich')\n",
    "x_bins, vals = custom_histogram((bogus_z.FLUX_ISO/bogus_z.FLUXERR_ISO).values,\n",
    "                                bins=bins, cumulative=cumulative)\n",
    "plt.semilogy(x_bins, vals, 'b.-', label='Zackay')\n",
    "x_bins, vals = custom_histogram((bogus_h.FLUX_ISO/bogus_h.FLUXERR_ISO).values, \n",
    "                                bins=bins, cumulative=cumulative)\n",
    "plt.semilogy(x_bins, vals, 'g--', label='Hotpants')\n",
    "\n",
    "#plt.xlim(70, 0)\n",
    "plt.title('Cummulative S/N function Bogus')\n",
    "plt.ylabel(r'$\\phi$')\n",
    "plt.legend(loc='best')\n",
    "plt.xlabel('S/N')\n",
    "\n",
    "plt.tight_layout()\n",
    "#plt.show()\n",
    "\n",
    "plt.savefig(os.path.join(plot_dir, 'sn_functions.png'), format='png', dpi=700)"
   ]
  },
  {
   "cell_type": "markdown",
   "metadata": {},
   "source": [
    "## What about the FN?\n",
    "\n",
    "We should check on the lost objects."
   ]
  },
  {
   "cell_type": "markdown",
   "metadata": {},
   "source": [
    "### Luminosity function for Undetected"
   ]
  },
  {
   "cell_type": "code",
   "execution_count": null,
   "metadata": {
    "collapsed": true,
    "scrolled": false
   },
   "outputs": [],
   "source": [
    "bins = np.arange(18, 24, 0.4)\n",
    "\n",
    "plt.figure()\n",
    "cumulative=False\n",
    "x_bins, vals = custom_histogram(und_b.app_mag, bins=bins, cumulative=cumulative)\n",
    "plt.semilogy(x_bins, vals, 'ro-', label='Bramich')\n",
    "x_bins, vals = custom_histogram(und_z.app_mag, bins=bins, cumulative=cumulative)\n",
    "plt.semilogy(x_bins, vals, 'b.-', label='Zackay')\n",
    "x_bins, vals = custom_histogram(und_h.app_mag, bins=bins, cumulative=cumulative)\n",
    "plt.semilogy(x_bins, vals, 'g--', label='Hotpants')\n",
    "\n",
    "plt.legend(loc='upper left', fontsize=14)\n",
    "if cumulative:\n",
    "    plt.ylabel(r'$\\int_{-\\infty}^{m}\\phi(m\\prime)dm\\prime$', fontsize=16)\n",
    "else:\n",
    "    plt.ylabel(r'$\\phi(m\\prime)dm\\prime$', fontsize=16)\n",
    "plt.xlabel(r'$m$', fontsize=16)\n",
    "plt.title('Cummulative Luminosity Function of False Negatives', fontsize=14)\n",
    "#plt.xlim(21., 23.1)\n",
    "#plt.show()\n",
    "#plt.ylim(100, 13e3)\n",
    "plt.savefig(os.path.join(plot_dir, 'lum_function_FNegatives.png'), format='png', dpi=700)"
   ]
  },
  {
   "cell_type": "markdown",
   "metadata": {},
   "source": [
    "### Are there coincident objects?"
   ]
  },
  {
   "cell_type": "code",
   "execution_count": null,
   "metadata": {
    "collapsed": true,
    "scrolled": true
   },
   "outputs": [],
   "source": [
    "und_b.columns"
   ]
  },
  {
   "cell_type": "code",
   "execution_count": null,
   "metadata": {
    "collapsed": true
   },
   "outputs": [],
   "source": [
    "und_z.columns"
   ]
  },
  {
   "cell_type": "code",
   "execution_count": null,
   "metadata": {
    "collapsed": true
   },
   "outputs": [],
   "source": [
    "und_mix = pd.merge(left=und_b, right=und_z, on='simulated_id', \n",
    "                   suffixes=('_b', '_z'), how='outer', indicator='lisb_risz')"
   ]
  },
  {
   "cell_type": "code",
   "execution_count": null,
   "metadata": {
    "collapsed": true,
    "scrolled": true
   },
   "outputs": [],
   "source": [
    "und_h.columns"
   ]
  },
  {
   "cell_type": "code",
   "execution_count": null,
   "metadata": {
    "collapsed": true
   },
   "outputs": [],
   "source": [
    "und_mix.columns"
   ]
  },
  {
   "cell_type": "code",
   "execution_count": null,
   "metadata": {
    "collapsed": true
   },
   "outputs": [],
   "source": [
    "und_mix = pd.merge(left=und_mix, right=und_h, on='simulated_id', \n",
    "                   suffixes=('', '_h'), how='outer', indicator='lismix_rish')"
   ]
  },
  {
   "cell_type": "code",
   "execution_count": null,
   "metadata": {
    "collapsed": true
   },
   "outputs": [],
   "source": [
    "und_mix.columns"
   ]
  },
  {
   "cell_type": "code",
   "execution_count": null,
   "metadata": {
    "collapsed": true
   },
   "outputs": [],
   "source": [
    "case = [] \n",
    "for _, row in und_mix.iterrows():\n",
    "    \n",
    "    if row['lismix_rish']=='both':\n",
    "        if row['lisb_risz']=='both':\n",
    "            case.append('all')\n",
    "        elif row['lisb_risz']=='left_only':\n",
    "            case.append('b_and_h')\n",
    "        else:\n",
    "            case.append('z_and_h')\n",
    "    \n",
    "    elif row['lismix_rish']=='left_only':\n",
    "        if row['lisb_risz']=='both':\n",
    "            case.append('b_and_z')\n",
    "        elif row['lisb_risz']=='left_only':\n",
    "            case.append('only_b')\n",
    "        else:\n",
    "            case.append('only_z')\n",
    "    \n",
    "    elif row['lismix_rish']=='right_only':\n",
    "        case.append('only_h')\n",
    "\n",
    "und_mix['origin'] = case"
   ]
  },
  {
   "cell_type": "code",
   "execution_count": null,
   "metadata": {
    "collapsed": true
   },
   "outputs": [],
   "source": [
    "magnitudes_und = pd.DataFrame({#'mag_all'    : und_mix[und_mix.origin=='all'].app_mag,\n",
    "                               'mag_onlyb'  : und_mix[und_mix.origin=='only_b'].app_mag_b,\n",
    "                               'mag_onlyz'  : und_mix[und_mix.origin=='only_z'].app_mag_z,\n",
    "                               'mag_onlyh'  : und_mix[und_mix.origin=='only_h'].app_mag,\n",
    "                               'mag_b_and_h': und_mix[und_mix.origin=='b_and_h'].app_mag,\n",
    "                               'mag_z_and_h': und_mix[und_mix.origin=='z_and_h'].app_mag,\n",
    "                               'mag_b_and_z': und_mix[und_mix.origin=='b_and_z'].app_mag_b})"
   ]
  },
  {
   "cell_type": "code",
   "execution_count": null,
   "metadata": {
    "collapsed": true
   },
   "outputs": [],
   "source": [
    "bins = np.arange(19, 23., 0.25)\n",
    "plt.figure(figsize=(10, 10))\n",
    "magnitudes_und.plot.hist(stacked=True, bins=bins, log=True)\n",
    "plt.legend(loc='upper left')\n",
    "plt.ylim(0, 10000)"
   ]
  },
  {
   "cell_type": "code",
   "execution_count": null,
   "metadata": {
    "collapsed": true
   },
   "outputs": [],
   "source": [
    "bins = np.arange(19, 23., 0.25)\n",
    "plt.hist(und_mix.app_mag[und_mix.origin=='all'], bins=bins, log=True)\n",
    "plt.title('False Negatives in common')\n",
    "plt.xlabel('mag')\n",
    "plt.xlim(19, 23.)\n",
    "plt.ylim(1, 10000)\n",
    "plt.show()"
   ]
  },
  {
   "cell_type": "code",
   "execution_count": null,
   "metadata": {
    "collapsed": true,
    "scrolled": false
   },
   "outputs": [],
   "source": [
    "plt.figure(figsize=(20,6))\n",
    "plt.subplot(131)\n",
    "plt.hexbin(und_z.x, und_z.y, cmap='viridis')\n",
    "#plt.colorbar()\n",
    "plt.subplot(132)\n",
    "plt.hexbin(und_b.x, und_b.y, cmap='viridis')\n",
    "#plt.colorbar()\n",
    "plt.subplot(133)\n",
    "plt.hexbin(und_h.x, und_h.y, cmap='viridis')\n",
    "#plt.colorbar()\n",
    "plt.tight_layout()\n",
    "plt.show()"
   ]
  },
  {
   "cell_type": "code",
   "execution_count": null,
   "metadata": {
    "collapsed": true,
    "scrolled": false
   },
   "outputs": [],
   "source": [
    "plt.figure(figsize=(8, 4))\n",
    "plt.subplot(121)\n",
    "plt.title('Reals S/N vs mag')\n",
    "plt.scatter(reals_h.mag, \n",
    "         np.log10(reals_h.FLUX_ISO/reals_h.FLUXERR_ISO), \n",
    "         s=np.log10(reals_h.FLUXERR_ISO), linewidths=0.001,\n",
    "         c='g', marker='.', alpha=0.3, label='Hotpants')\n",
    "plt.scatter(reals_b.mag, \n",
    "         np.log10(reals_b.FLUX_ISO/reals_b.FLUXERR_ISO),\n",
    "         s=np.log10(reals_b.FLUXERR_ISO), linewidths=0.001, \n",
    "        c='r', marker='.', alpha=0.3, label='Bramich')\n",
    "plt.scatter(reals_z.mag, \n",
    "         np.log10(reals_z.FLUX_ISO/reals_z.FLUXERR_ISO), \n",
    "         s=np.log10(reals_z.FLUXERR_ISO), linewidths=0.001,\n",
    "         c='b', marker='.', alpha=0.3, label='Zackay')\n",
    "\n",
    "# plt.xlim(18,25)\n",
    "# plt.ylim(0.4, 2.8)\n",
    "plt.xlabel(r'$mag$')\n",
    "plt.ylabel(r'$log(S/N)$')\n",
    "plt.legend(loc='best')\n",
    "\n",
    "\n",
    "plt.subplot(122)\n",
    "plt.title('Bogus S/N vs mag')\n",
    "plt.scatter(bogus_h.mag,\n",
    "            np.log10(bogus_h.FLUX_ISO/bogus_h.FLUXERR_ISO),\n",
    "            s=np.log10(bogus_h.FLUXERR_ISO), linewidths=0.001,\n",
    "            c='g', marker='.', alpha=0.3, label='Hotpants')\n",
    "plt.scatter(bogus_b.mag,\n",
    "            np.log10(bogus_b.FLUX_ISO/bogus_b.FLUXERR_ISO),\n",
    "            s=np.log10(bogus_b.FLUXERR_ISO), linewidths=0.001,\n",
    "            c='r', marker='.', alpha=0.3, label='Bramich') \n",
    "plt.scatter(bogus_z.mag,\n",
    "            np.log10(bogus_z.FLUX_ISO/bogus_z.FLUXERR_ISO),\n",
    "            s=np.log10(bogus_z.FLUXERR_ISO), linewidths=0.001,\n",
    "            c='b', marker='.', alpha=0.3, label='Zackay')\n",
    "\n",
    "# plt.xlim(18,25)\n",
    "# plt.ylim(0.4, 2.8)\n",
    "plt.xlabel(r'$mag$')\n",
    "plt.ylabel(r'$log(S/N)$')\n",
    "plt.legend(loc='best')\n",
    "plt.tight_layout()\n",
    "plt.savefig(os.path.join(plot_dir, 'signal_to_noise_vs_mag.png'), format='png', dpi=700)"
   ]
  },
  {
   "cell_type": "code",
   "execution_count": null,
   "metadata": {
    "collapsed": true,
    "scrolled": false
   },
   "outputs": [],
   "source": [
    "low_cstar_b = reals_b.CLASS_STAR < 0.005\n",
    "low_cstar_z = reals_z.CLASS_STAR < 0.005\n",
    "low_cstar_h = reals_h.CLASS_STAR < 0.005\n",
    "\n",
    "plt.figure(figsize=(8, 4))\n",
    "plt.subplot(121)\n",
    "plt.title('Reals S/N vs mag')\n",
    "plt.scatter(reals_b.mag[low_cstar_b], \n",
    "         np.log10(reals_b.FLUX_ISO/reals_b.FLUXERR_ISO)[low_cstar_b],\n",
    "         s=np.log10(reals_b.FLUXERR_ISO)[low_cstar_b], linewidths=0.001, \n",
    "        c='r', marker='.', alpha=0.3, label='Bramich')\n",
    "plt.scatter(reals_z.mag[low_cstar_z], \n",
    "         np.log10(reals_z.FLUX_ISO/reals_z.FLUXERR_ISO)[low_cstar_z], \n",
    "         s=np.log10(reals_z.FLUXERR_ISO)[low_cstar_z], linewidths=0.001,\n",
    "         c='b', marker='.', alpha=0.3, label='Zackay')\n",
    "plt.scatter(reals_h.mag[low_cstar_h], \n",
    "         np.log10(reals_h.FLUX_ISO/reals_h.FLUXERR_ISO)[low_cstar_h],\n",
    "         s=np.log10(reals_h.FLUXERR_ISO)[low_cstar_h], linewidths=0.001, \n",
    "        c='g', marker='.', alpha=0.3, label='Hotpants')\n",
    "plt.xlim(18,25)\n",
    "plt.ylim(0.4, 2.8)\n",
    "plt.xlabel(r'$mag$')\n",
    "plt.ylabel(r'$log(S/N)$')\n",
    "plt.legend(loc='best')\n",
    "\n",
    "low_cstar_b = bogus_b.CLASS_STAR < 0.005\n",
    "low_cstar_z = bogus_z.CLASS_STAR < 0.005\n",
    "low_cstar_h = bogus_h.CLASS_STAR < 0.005\n",
    "\n",
    "plt.subplot(122)\n",
    "plt.title('Bogus S/N vs mag')\n",
    "plt.scatter(bogus_h.mag[low_cstar_h],\n",
    "            np.log10(bogus_h.FLUX_ISO/bogus_h.FLUXERR_ISO)[low_cstar_h],\n",
    "            s=np.log10(bogus_h.FLUXERR_ISO)[low_cstar_h], linewidths=0.001,\n",
    "            c='g', marker='.', alpha=0.3, label='Hotpants')\n",
    "plt.scatter(bogus_b.mag[low_cstar_b],\n",
    "            np.log10(bogus_b.FLUX_ISO/bogus_b.FLUXERR_ISO)[low_cstar_b],\n",
    "            s=np.log10(bogus_b.FLUXERR_ISO)[low_cstar_b], linewidths=0.001,\n",
    "            c='r', marker='.', alpha=0.3, label='Bramich') \n",
    "plt.scatter(bogus_z.mag[low_cstar_z],\n",
    "            np.log10(bogus_z.FLUX_ISO/bogus_z.FLUXERR_ISO)[low_cstar_z],\n",
    "            s=np.log10(bogus_z.FLUXERR_ISO)[low_cstar_z], linewidths=0.001,\n",
    "            c='b', marker='.', alpha=0.3, label='Zackay')\n",
    "plt.xlim(18,25)\n",
    "plt.ylim(0.4, 2.8)\n",
    "plt.xlabel(r'$mag$')\n",
    "plt.ylabel(r'$log(S/N)$')\n",
    "plt.legend(loc='best')\n",
    "plt.tight_layout()\n",
    "plt.savefig(os.path.join(plot_dir, 'signal_to_noise_vs_mag.png'), format='png', dpi=700)"
   ]
  },
  {
   "cell_type": "markdown",
   "metadata": {},
   "source": [
    "Need to calculate mean and dispersion of log10(S/N) on magnitude bins."
   ]
  },
  {
   "cell_type": "code",
   "execution_count": null,
   "metadata": {
    "collapsed": true
   },
   "outputs": [],
   "source": [
    "def logsn_binning(data, bins, step):\n",
    "    meanlogsn = []\n",
    "    stdvlogsn = []\n",
    "    \n",
    "    for abin in bins:\n",
    "        fdata = data[(data.mag < abin + step) * (data.mag >= abin)]\n",
    "        meanlogsn.append(np.mean(np.log10(fdata.FLUX_ISO/fdata.FLUXERR_ISO)))\n",
    "        stdvlogsn.append(np.std( np.log10(fdata.FLUX_ISO/fdata.FLUXERR_ISO)))\n",
    "    return meanlogsn, stdvlogsn"
   ]
  },
  {
   "cell_type": "code",
   "execution_count": null,
   "metadata": {
    "collapsed": true
   },
   "outputs": [],
   "source": [
    "step = 0.3\n",
    "bins = np.arange(19.6, 24.4, step)\n",
    "\n",
    "plt.figure(figsize=(10, 5))\n",
    "plt.subplot(121)\n",
    "plt.title('Reals S/N vs mag')\n",
    "means, stds = logsn_binning(reals_b, bins, step)\n",
    "plt.errorbar(x=bins + step/2., \n",
    "             y=means,\n",
    "             yerr=stds, \n",
    "             #linewidths=0.001, \n",
    "             c='r', marker='.', alpha=1, label='Bramich')\n",
    "means, stds = logsn_binning(reals_h, bins, step)\n",
    "plt.errorbar(x=bins + step/2., \n",
    "             y=means,\n",
    "             yerr=stds, \n",
    "             #linewidths=0.001, \n",
    "             c='g', marker='.', alpha=1, label='Hotpants')\n",
    "means, stds = logsn_binning(reals_z, bins, step)\n",
    "plt.errorbar(x=bins + step/2., \n",
    "             y=means,\n",
    "             yerr=stds, \n",
    "             c='b', marker='.', alpha=1, label='Zackay')\n",
    "plt.xlim(19,25)\n",
    "#plt.ylim(0, 220)\n",
    "plt.xlabel(r'$mag$')\n",
    "plt.ylabel(r'$log(S/N)$')\n",
    "plt.legend(loc='best')\n",
    "\n",
    "plt.subplot(122)\n",
    "plt.title('Bogus S/N vs mag')\n",
    "means, stds = logsn_binning(bogus_b, bins, step)\n",
    "plt.errorbar(x=bins + step/2., \n",
    "             y=means,\n",
    "             yerr=stds, \n",
    "            #linewidths=0.001,\n",
    "            c='r', marker='.', alpha=1, label='Bramich') \n",
    "means, stds = logsn_binning(bogus_h, bins, step)\n",
    "plt.errorbar(x=bins + step/2., \n",
    "             y=means,\n",
    "             yerr=stds, \n",
    "            #linewidths=0.001,\n",
    "            c='g', marker='.', alpha=1, label='Hotpants') \n",
    "means, stds = logsn_binning(bogus_z, bins, step)\n",
    "plt.errorbar(x=bins + step/2., \n",
    "             y=means,\n",
    "             yerr=stds, \n",
    "             #linewidths=0.001,\n",
    "             c='b', marker='.', alpha=1, label='Zackay')\n",
    "plt.xlim(19,25)\n",
    "#plt.ylim(0, 220)\n",
    "plt.xlabel(r'$mag$')\n",
    "plt.ylabel(r'$log(S/N)$')\n",
    "plt.legend(loc='best')\n",
    "plt.tight_layout()\n",
    "plt.savefig(os.path.join(plot_dir, 'signal_to_noise_vs_mag_binned.png'), format='png', dpi=700)"
   ]
  },
  {
   "cell_type": "code",
   "execution_count": null,
   "metadata": {
    "collapsed": true
   },
   "outputs": [],
   "source": [
    "bins=np.arange(-2.5, 0.1, 0.1)\n",
    "plt.figure(figsize=(6, 6))\n",
    "#plt.subplot(121)\n",
    "plt.title('Reals')\n",
    "# plt.hist([np.log10(reals_b.MAGERR_ISO[reals_b.MAG_ISO < 30]),\n",
    "#           np.log10(reals_h.MAGERR_ISO[reals_h.MAG_ISO < 30]),\n",
    "#           np.log10(reals_z.MAGERR_ISO[reals_z.MAG_ISO < 30])],\n",
    "#          color=['red', 'green', 'blue'],\n",
    "#          label=['Bramich', 'Hotpants', 'Zackay'], \n",
    "#          log=True, alpha=0.6)\n",
    "cumulative=False\n",
    "x_bins, vals = custom_histogram(np.log10(reals_b.MAGERR_ISO[reals_b.MAG_ISO < 30]), \n",
    "                                bins=bins, cumulative=cumulative)\n",
    "plt.semilogy(x_bins, vals, 'r.-', label='Bramichreals')\n",
    "x_bins, vals = custom_histogram(np.log10(reals_z.MAGERR_ISO[reals_z.MAG_ISO < 30]), \n",
    "                                bins=bins, cumulative=cumulative)\n",
    "plt.semilogy(x_bins, vals, 'b.-', label='Zackay Reals')\n",
    "x_bins, vals = custom_histogram( np.log10(reals_h.MAGERR_ISO[reals_h.MAG_ISO < 30]), \n",
    "                                bins=bins, cumulative=cumulative)\n",
    "plt.semilogy(x_bins, vals, 'g.-', label='Hotpants Reals')\n",
    "\n",
    "\n",
    "plt.xlabel(r'$Log(\\epsilon)$', fontsize=16)\n",
    "#plt.xlim(-3.5, 0.)\n",
    "plt.ylim(0, 10e4)\n",
    "# plt.legend(loc='best')\n",
    "\n",
    "# plt.subplot(122)\n",
    "# plt.title('Bogus')\n",
    "# plt.hist([np.log10(bogus_b.MAGERR_ISO[bogus_b.MAG_ISO < 30]),\n",
    "#           np.log10(bogus_h.MAGERR_ISO[bogus_h.MAG_ISO < 30]),\n",
    "#           np.log10(bogus_z.MAGERR_ISO[bogus_z.MAG_ISO < 30])],\n",
    "#          color=['red', 'green', 'blue'],\n",
    "#          label=['Bramich', 'Hotpants', 'Zackay'], \n",
    "#          log=True, alpha=0.6)\n",
    "cumulative=False\n",
    "x_bins, vals = custom_histogram(np.log10(bogus_b.MAGERR_ISO[bogus_b.MAG_ISO < 30]), \n",
    "                                bins=bins, cumulative=cumulative)\n",
    "plt.semilogy(x_bins, vals, 'ro-', label='Bramich Bogus')\n",
    "x_bins, vals = custom_histogram(np.log10(bogus_z.MAGERR_ISO[bogus_z.MAG_ISO < 30]), \n",
    "                                bins=bins, cumulative=cumulative)\n",
    "plt.semilogy(x_bins, vals, 'bo-', label='Zackay Bogus')\n",
    "x_bins, vals = custom_histogram(np.log10(bogus_h.MAGERR_ISO[bogus_h.MAG_ISO < 30]), \n",
    "                                bins=bins, cumulative=cumulative)\n",
    "plt.semilogy(x_bins, vals, 'go-', label='Hotpants Bogus')\n",
    "\n",
    "#plt.xlabel(r'$Log(\\epsilon)$')\n",
    "#plt.xlim(-3.5, 0.)\n",
    "#plt.ylim(0, 100000)\n",
    "plt.legend(loc='best')\n",
    "\n",
    "plt.tight_layout()\n",
    "plt.savefig(os.path.join(plot_dir, 'mag_errors.png'), format='png', dpi=700)"
   ]
  },
  {
   "cell_type": "code",
   "execution_count": null,
   "metadata": {
    "collapsed": true
   },
   "outputs": [],
   "source": [
    "bins = np.arange(0, 1., 0.1)\n",
    "plt.figure(figsize=(8, 4))\n",
    "plt.subplot(121)\n",
    "plt.title('Reals')\n",
    "# plt.hist([reals_b.CLASS_STAR, reals_h.CLASS_STAR, reals_z.CLASS_STAR],\n",
    "#          color=['red', 'green', 'blue'],\n",
    "#          label=['Bramich', 'Hotpants', 'Zackay'],\n",
    "#          log=True, alpha=0.6)\n",
    "cumulative=False\n",
    "x_bins, vals = custom_histogram(reals_b.CLASS_STAR, bins=bins, cumulative=cumulative)\n",
    "plt.semilogy(x_bins, vals, 'ro-', label='Bramich')\n",
    "x_bins, vals = custom_histogram(reals_z.CLASS_STAR, bins=bins, cumulative=cumulative)\n",
    "plt.semilogy(x_bins, vals, 'bo-', label='Zackay')\n",
    "x_bins, vals = custom_histogram(reals_h.CLASS_STAR, bins=bins, cumulative=cumulative)\n",
    "plt.semilogy(x_bins, vals, 'go-', label='Hotpants')\n",
    "\n",
    "plt.xlabel(r'Class Star')\n",
    "plt.legend(loc='best')\n",
    "\n",
    "plt.subplot(122)\n",
    "plt.title('Bogus')\n",
    "# plt.hist([bogus_b.CLASS_STAR, bogus_h.CLASS_STAR, bogus_z.CLASS_STAR],\n",
    "#          color=['red', 'green', 'blue'],\n",
    "#          label=['Bramich', 'Hotpants', 'Zackay'],\n",
    "#          log=True, alpha=0.6)\n",
    "cumulative=False\n",
    "x_bins, vals = custom_histogram(bogus_b.CLASS_STAR, bins=bins, cumulative=cumulative)\n",
    "plt.semilogy(x_bins, vals, 'ro-', label='Bramich')\n",
    "x_bins, vals = custom_histogram(bogus_z.CLASS_STAR, bins=bins, cumulative=cumulative)\n",
    "plt.semilogy(x_bins, vals, 'bo-', label='Zackay')\n",
    "x_bins, vals = custom_histogram(bogus_h.CLASS_STAR, bins=bins, cumulative=cumulative)\n",
    "plt.semilogy(x_bins, vals, 'go-', label='Hotpants')\n",
    "\n",
    "plt.xlabel(r'Class Star')\n",
    "plt.legend(loc='best')\n",
    "\n",
    "plt.savefig(os.path.join(plot_dir, 'class_star_hist.png'), format='png', dpi=700)"
   ]
  },
  {
   "cell_type": "code",
   "execution_count": null,
   "metadata": {
    "collapsed": true
   },
   "outputs": [],
   "source": [
    "bins = np.arange(0, 100, 10)\n",
    "\n",
    "plt.figure(figsize=(8, 4))\n",
    "plt.subplot(121)\n",
    "plt.title('Reals')\n",
    "# plt.hist([reals_b.mu, reals_h.mu, reals_z.mu],\n",
    "#          color=['red', 'green', 'blue'], bins=bins,\n",
    "#          label=['Bramich', 'Hotpants', 'Zackay'],\n",
    "#          log=True, alpha=0.6)\n",
    "cumulative=False\n",
    "x_bins, vals = custom_histogram(reals_b.mu, bins=bins, cumulative=cumulative)\n",
    "plt.semilogy(x_bins, vals, 'ro-', label='Bramich')\n",
    "x_bins, vals = custom_histogram(reals_z.mu, bins=bins, cumulative=cumulative)\n",
    "plt.semilogy(x_bins, vals, 'bo-', label='Zackay')\n",
    "x_bins, vals = custom_histogram(reals_h.mu, bins=bins, cumulative=cumulative)\n",
    "plt.semilogy(x_bins, vals, 'go-', label='Hotpants')\n",
    "\n",
    "plt.xlabel(r'$\\mu$', fontsize=16)\n",
    "plt.legend(loc='best', fontsize=12)\n",
    "\n",
    "plt.subplot(122)\n",
    "plt.title('Bogus')\n",
    "# plt.hist([bogus_b.mu, bogus_h.mu, bogus_z.mu],\n",
    "#          color=['red', 'green', 'blue'], bins=bins,\n",
    "#          label=['Bramich', 'Hotpants', 'Zackay'],\n",
    "#          log=True, alpha=0.6)\n",
    "cumulative=False\n",
    "x_bins, vals = custom_histogram(bogus_b.mu, bins=bins, cumulative=cumulative)\n",
    "plt.semilogy(x_bins, vals, 'ro-', label='Bramich')\n",
    "x_bins, vals = custom_histogram(bogus_z.mu, bins=bins, cumulative=cumulative)\n",
    "plt.semilogy(x_bins, vals, 'bo-', label='Zackay')\n",
    "x_bins, vals = custom_histogram(bogus_h.mu, bins=bins, cumulative=cumulative)\n",
    "plt.semilogy(x_bins, vals, 'go-', label='Hotpants')\n",
    "\n",
    "plt.xlabel(r'$\\mu$', fontsize=16)\n",
    "plt.legend(loc='best', fontsize=12)\n",
    "\n",
    "plt.savefig(os.path.join(plot_dir, 'mu_hist.png'), format='png', dpi=700)"
   ]
  },
  {
   "cell_type": "code",
   "execution_count": null,
   "metadata": {
    "collapsed": true
   },
   "outputs": [],
   "source": [
    "bins = np.arange(0, 28, 2)\n",
    "\n",
    "plt.figure(figsize=(8, 4))\n",
    "plt.subplot(121)\n",
    "plt.title('Reals')\n",
    "plt.hist([reals_b.FLAGS, reals_h.FLAGS, reals_z.FLAGS],\n",
    "         color=['red', 'green', 'blue'], bins=bins,\n",
    "         label=['Bramich', 'Hotpants', 'Zackay'],\n",
    "         log=True, alpha=0.6)\n",
    "plt.xlabel(r'FLAGS')\n",
    "plt.legend(loc='best')\n",
    "\n",
    "plt.subplot(122)\n",
    "plt.title('Bogus')\n",
    "plt.hist([bogus_b.FLAGS, bogus_h.FLAGS, bogus_z.FLAGS],\n",
    "         color=['red', 'green', 'blue'], bins=bins,\n",
    "         label=['Bramich', 'Hotpants', 'Zackay'],\n",
    "         log=True, alpha=0.6)\n",
    "plt.xlabel(r'FLAGS')\n",
    "plt.legend(loc='best')\n",
    "\n",
    "plt.savefig(os.path.join(plot_dir, 'flags_hist.png'), format='png', dpi=700)"
   ]
  },
  {
   "cell_type": "raw",
   "metadata": {},
   "source": [
    "plt.figure(figsize=(8, 4))\n",
    "plt.subplot(121)\n",
    "plt.title('Reals')\n",
    "plt.scatter(reals_b.ELONGATION, reals_b.ELLIPTICITY, s=reals_b.mu,\n",
    "            alpha=0.5, color='red', label='Bramich')\n",
    "plt.scatter(reals_h.ELONGATION, reals_h.ELLIPTICITY, s=reals_h.mu,\n",
    "            alpha=0.5, color='green', label='Hotpants')\n",
    "plt.scatter(reals_z.ELONGATION, reals_z.ELLIPTICITY, s=reals_z.mu,\n",
    "            alpha=0.5, color='blue', label='Zackay')\n",
    "plt.xlabel(r'Elongation')\n",
    "plt.ylabel(r'Ellipticity')\n",
    "plt.legend(loc='best')\n",
    "# plt.xlim(0, 16)\n",
    "# plt.ylim(-0.1, 1.3)\n",
    "\n",
    "plt.subplot(122)\n",
    "plt.title('Bogus')\n",
    "plt.scatter(bogus_b.ELONGATION, bogus_b.ELLIPTICITY, s=bogus_b.mag**2,\n",
    "            alpha=0.3, color='red', label='Bramich')\n",
    "plt.scatter(bogus_h.ELONGATION, bogus_h.ELLIPTICITY, s=bogus_h.mag**2,\n",
    "            alpha=0.3, color='green', label='Hotpants')\n",
    "plt.scatter(bogus_z.ELONGATION, bogus_z.ELLIPTICITY, s=bogus_z.mag**2,\n",
    "            alpha=0.3, color='blue', label='Zackay')\n",
    "plt.xlabel(r'Elongation')\n",
    "plt.ylabel(r'Ellipticity')\n",
    "plt.legend(loc='best')\n",
    "\n",
    "plt.savefig(os.path.join(plot_dir, 'ellipticty_vs_elongation.png'), format='png', dpi=700)"
   ]
  },
  {
   "cell_type": "code",
   "execution_count": null,
   "metadata": {
    "collapsed": true
   },
   "outputs": [],
   "source": [
    "plt.figure(figsize=(8, 4))\n",
    "plt.subplot(121)\n",
    "plt.title('Reals')\n",
    "plt.plot(reals_z.CLASS_STAR, reals_z.mu, '.', \n",
    "            alpha=0.5, color='blue', label='Zackay')\n",
    "plt.plot(reals_b.CLASS_STAR, reals_b.mu, '.',\n",
    "            alpha=0.5, color='red', label='Bramich')\n",
    "plt.plot(reals_h.CLASS_STAR, reals_h.mu, '.',\n",
    "            alpha=0.5, color='green', label='Hotpants')\n",
    "\n",
    "plt.xlim(0.001, 1.)\n",
    "plt.ylim(0.01, 100)\n",
    "plt.loglog()\n",
    "plt.xlabel(r'CLASS_STAR')\n",
    "plt.ylabel(r'$\\mu$')\n",
    "plt.legend(loc='best')\n",
    "\n",
    "plt.subplot(122)\n",
    "plt.title('Bogus')\n",
    "plt.plot(bogus_h.CLASS_STAR, bogus_h.mu, '.', \n",
    "            alpha=0.5, color='green', label='Hotpants')\n",
    "plt.plot(bogus_b.CLASS_STAR, bogus_b.mu, '.',\n",
    "            alpha=0.5, color='red', label='Bramich')\n",
    "plt.plot(bogus_z.CLASS_STAR, bogus_z.mu, '.', \n",
    "            alpha=0.5, color='blue', label='Zackay')\n",
    "\n",
    "\n",
    "plt.xlim(0.001, 1.)\n",
    "plt.ylim(0.01, 100)\n",
    "plt.loglog()\n",
    "plt.xlabel(r'CLASS_STAR')\n",
    "plt.ylabel(r'$\\mu$', fontsize=16)\n",
    "plt.legend(loc='best')\n",
    "plt.tight_layout()"
   ]
  },
  {
   "cell_type": "markdown",
   "metadata": {},
   "source": [
    "## Simulation parameters\n",
    "\n",
    "We need data on simulation for every object, specially undetected (there are a lot of these)"
   ]
  },
  {
   "cell_type": "code",
   "execution_count": null,
   "metadata": {
    "collapsed": true
   },
   "outputs": [],
   "source": [
    "sim_pars = pd.read_sql_query(\"\"\"SELECT * FROM Images\"\"\", engine)"
   ]
  },
  {
   "cell_type": "code",
   "execution_count": null,
   "metadata": {
    "collapsed": true
   },
   "outputs": [],
   "source": [
    "sim_pars = sim_pars.merge(simulated, left_on='id', right_on='image_id', \n",
    "                          how='right', suffixes=('_img', '_src'))"
   ]
  },
  {
   "cell_type": "code",
   "execution_count": null,
   "metadata": {
    "collapsed": true
   },
   "outputs": [],
   "source": [
    "print und_b.columns, len(und_b), len(sim_pars)"
   ]
  },
  {
   "cell_type": "code",
   "execution_count": null,
   "metadata": {
    "collapsed": true
   },
   "outputs": [],
   "source": [
    "sim_pars.columns"
   ]
  },
  {
   "cell_type": "code",
   "execution_count": null,
   "metadata": {
    "collapsed": true
   },
   "outputs": [],
   "source": [
    "und_b = pd.merge(left=und_b, right=sim_pars, left_on='simulated_id', right_on='id_src', how='left')\n",
    "und_z = pd.merge(left=und_z, right=sim_pars, left_on='simulated_id', right_on='id_src', how='left')\n",
    "und_h = pd.merge(left=und_h, right=sim_pars, left_on='simulated_id', right_on='id_src', how='left')"
   ]
  },
  {
   "cell_type": "code",
   "execution_count": null,
   "metadata": {
    "collapsed": true
   },
   "outputs": [],
   "source": [
    "print und_b.columns, len(und_b)"
   ]
  },
  {
   "cell_type": "code",
   "execution_count": null,
   "metadata": {
    "collapsed": true
   },
   "outputs": [],
   "source": [
    "print ' Columns of sim_pars:\\n', sim_pars.columns\n",
    "print '\\n Columns of und_b:\\n', und_b.columns\n",
    "print '\\n Columns of und_z:\\n', und_z.columns\n",
    "print '\\n Columns of und_h:\\n', und_h.columns\n",
    "print '\\n Columns of simulated:\\n', simulated.columns"
   ]
  },
  {
   "cell_type": "code",
   "execution_count": null,
   "metadata": {
    "collapsed": true
   },
   "outputs": [],
   "source": [
    "bins_fwhm = np.arange(0.8, 1.5, 0.15)\n",
    "bins_slope = np.arange(0, 1, 0.2)\n",
    "bins_zp = np.arange(3.5, 5., 0.3)"
   ]
  },
  {
   "cell_type": "code",
   "execution_count": null,
   "metadata": {
    "collapsed": true
   },
   "outputs": [],
   "source": [
    "plt.figure(figsize=(12, 8))\n",
    "plt.subplot(2, 3, 1)\n",
    "# plt.hist([und_z['refseeing_fwhm'], und_h['refseeing_fwhm'], und_b['refseeing_fwhm']],\n",
    "#          color=['blue', 'green', 'red'], \n",
    "#          label=['Zackay', 'Hotpants', 'Bramich'],\n",
    "#          cumulative=False, alpha=0.6, normed=True)\n",
    "cumulative=False\n",
    "x_bins, vals = custom_histogram(und_b['refseeing_fwhm'], cumulative=cumulative, bins=bins_fwhm)\n",
    "plt.plot(x_bins, vals, 'ro-', label='Bramich')\n",
    "x_bins, vals = custom_histogram(und_z['refseeing_fwhm'], cumulative=cumulative, bins=bins_fwhm)\n",
    "plt.plot(x_bins, vals, 'bo-', label='Zackay')\n",
    "x_bins, vals = custom_histogram(und_h['refseeing_fwhm'], cumulative=cumulative, bins=bins_fwhm)\n",
    "plt.plot(x_bins, vals, 'go-', label='Hotpants')\n",
    "plt.xlabel('seeing fwhm')\n",
    "plt.xlim(0.9, 1.5)\n",
    "plt.title('REF Seeing for undetected')\n",
    "\n",
    "plt.subplot(2, 3, 2)\n",
    "# plt.hist([und_z['refstarcount_slope'], und_h['refstarcount_slope'], und_b['refstarcount_slope']],\n",
    "#          color=['blue', 'green', 'red'], \n",
    "#          label=['Zackay', 'Hotpants', 'Bramich'],\n",
    "#          cumulative=False, alpha=0.6, normed=False)\n",
    "cumulative=False\n",
    "x_bins, vals = custom_histogram(und_b['refstarcount_slope'], cumulative=cumulative, bins=bins_slope)\n",
    "plt.plot(x_bins, vals, 'ro-', label='Bramich')\n",
    "x_bins, vals = custom_histogram(und_z['refstarcount_slope'], cumulative=cumulative, bins=bins_slope)\n",
    "plt.plot(x_bins, vals, 'bo-', label='Zackay')\n",
    "x_bins, vals = custom_histogram(und_h['refstarcount_slope'], cumulative=cumulative, bins=bins_slope)\n",
    "plt.plot(x_bins, vals, 'go-', label='Hotpants')\n",
    "plt.xlabel('slope')\n",
    "plt.xlim(0, 1.)\n",
    "# plt.ylim(4000, 7000)\n",
    "plt.title('REF Starcount slope for undetected')\n",
    "\n",
    "plt.subplot(2, 3, 3)\n",
    "# plt.hist([np.log10(und_z['refstarcount_zp']), \n",
    "#           np.log10(und_h['refstarcount_zp']), \n",
    "#           np.log10(und_b['refstarcount_zp'])],\n",
    "#           color=['blue', 'green', 'red'], \n",
    "#           label=['Zackay', 'Hotpants', 'Bramich'],\n",
    "#           cumulative=False, alpha=0.6, normed=False)\n",
    "cumulative=False\n",
    "x_bins, vals = custom_histogram(np.log10(und_b['refstarcount_zp']), cumulative=cumulative, bins=bins_zp)\n",
    "plt.plot(x_bins, vals, 'ro-', label='Bramich')\n",
    "x_bins, vals = custom_histogram(np.log10(und_z['refstarcount_zp']), cumulative=cumulative, bins=bins_zp)\n",
    "plt.plot(x_bins, vals, 'bo-', label='Zackay')\n",
    "x_bins, vals = custom_histogram(np.log10(und_h['refstarcount_zp']), cumulative=cumulative, bins=bins_zp)\n",
    "plt.plot(x_bins, vals, 'go-', label='Hotpants')\n",
    "# plt.ylim(4000, 7000)\n",
    "plt.xlim(3, 6)\n",
    "plt.xlabel('zp')\n",
    "plt.title('REF Starcount ZP for undetected')\n",
    "\n",
    "plt.subplot(2, 3, 4)\n",
    "# plt.hist([und_z['r_scales'], und_h['r_scales'], und_b['r_scales']],\n",
    "#          color=['blue', 'green', 'red'], log=True, \n",
    "#          label=['Zackay', 'Hotpants', 'Bramich'],\n",
    "#          cumulative=False, alpha=0.6, normed=False)\n",
    "cumulative=False\n",
    "x_bins, vals = custom_histogram(und_b['r_scales'], cumulative=cumulative)\n",
    "plt.semilogy(x_bins, vals, 'ro-', label='Bramich')\n",
    "x_bins, vals = custom_histogram(und_z['r_scales'], cumulative=cumulative)\n",
    "plt.semilogy(x_bins, vals, 'bo-', label='Zackay')\n",
    "x_bins, vals = custom_histogram(und_h['r_scales'], cumulative=cumulative)\n",
    "plt.semilogy(x_bins, vals, 'go-', label='Hotpants')\n",
    "\n",
    "plt.xlabel(r'$r$')\n",
    "plt.title('Distance to host')\n",
    "\n",
    "plt.subplot(2, 3, 5)\n",
    "# plt.hist([und_z['gx_mag'], und_h['gx_mag'], und_b['gx_mag']],\n",
    "#          color=['blue', 'green', 'red'], log=True, \n",
    "#          label=['Zackay', 'Hotpants', 'Bramich'],\n",
    "#         cumulative=False, alpha=0.6, normed=False)\n",
    "cumulative=False\n",
    "x_bins, vals = custom_histogram(und_b['gx_mag'], cumulative=cumulative)\n",
    "plt.semilogy(x_bins, vals, 'ro-', label='Bramich')\n",
    "x_bins, vals = custom_histogram(und_z['gx_mag'], cumulative=cumulative)\n",
    "plt.semilogy(x_bins, vals, 'bo-', label='Zackay')\n",
    "x_bins, vals = custom_histogram(und_h['gx_mag'], cumulative=cumulative)\n",
    "plt.semilogy(x_bins, vals, 'go-', label='Hotpants')\n",
    "\n",
    "plt.xlabel(r'gx_mayg')\n",
    "plt.title('Host Galaxy magnitud')\n",
    "\n",
    "plt.tight_layout()\n",
    "plt.show()"
   ]
  },
  {
   "cell_type": "markdown",
   "metadata": {},
   "source": [
    "### Simulation parameters for reals"
   ]
  },
  {
   "cell_type": "code",
   "execution_count": null,
   "metadata": {
    "collapsed": true
   },
   "outputs": [],
   "source": [
    "sim_pars.columns"
   ]
  },
  {
   "cell_type": "code",
   "execution_count": null,
   "metadata": {
    "collapsed": true
   },
   "outputs": [],
   "source": [
    "reals_b.columns"
   ]
  },
  {
   "cell_type": "code",
   "execution_count": null,
   "metadata": {
    "collapsed": true
   },
   "outputs": [],
   "source": [
    "reals_b = pd.merge(left=reals_b, right=sim_pars, \n",
    "                   left_on='sim_id', right_on='id_src', how='left')\n",
    "reals_z = pd.merge(left=reals_z, right=sim_pars, \n",
    "                   left_on='sim_id', right_on='id_src', how='left')\n",
    "reals_h = pd.merge(left=reals_h, right=sim_pars, \n",
    "                   left_on='sim_id', right_on='id_src', how='left')"
   ]
  },
  {
   "cell_type": "code",
   "execution_count": null,
   "metadata": {
    "collapsed": true
   },
   "outputs": [],
   "source": [
    "reals_b.columns"
   ]
  },
  {
   "cell_type": "code",
   "execution_count": null,
   "metadata": {
    "collapsed": true
   },
   "outputs": [],
   "source": [
    "plt.figure(figsize=(12, 8))\n",
    "plt.subplot(2, 3, 1)\n",
    "# plt.hist([und_z['refseeing_fwhm'], und_h['refseeing_fwhm'], und_b['refseeing_fwhm']],\n",
    "#          color=['blue', 'green', 'red'], \n",
    "#          label=['Zackay', 'Hotpants', 'Bramich'],\n",
    "#          cumulative=False, alpha=0.6, normed=True)\n",
    "cumulative=False\n",
    "x_bins, vals = custom_histogram(reals_b['refseeing_fwhm'], cumulative=cumulative, bins=bins_fwhm)\n",
    "plt.plot(x_bins, vals, 'ro-', label='Bramich')\n",
    "x_bins, vals = custom_histogram(reals_z['refseeing_fwhm'], cumulative=cumulative, bins=bins_fwhm)\n",
    "plt.plot(x_bins, vals, 'bo-', label='Zackay')\n",
    "x_bins, vals = custom_histogram(reals_h['refseeing_fwhm'], cumulative=cumulative, bins=bins_fwhm)\n",
    "plt.plot(x_bins, vals, 'go-', label='Hotpants')\n",
    "plt.xlabel('seeing fwhm')\n",
    "# plt.ylim(2500, 5000)\n",
    "plt.title('REF Seeing for reals')\n",
    "\n",
    "plt.subplot(2, 3, 2)\n",
    "# plt.hist([und_z['refstarcount_slope'], und_h['refstarcount_slope'], und_b['refstarcount_slope']],\n",
    "#          color=['blue', 'green', 'red'], \n",
    "#          label=['Zackay', 'Hotpants', 'Bramich'],\n",
    "#          cumulative=False, alpha=0.6, normed=False)\n",
    "cumulative=False\n",
    "x_bins, vals = custom_histogram(reals_b['refstarcount_slope'], cumulative=cumulative, bins=bins_slope)\n",
    "plt.plot(x_bins, vals, 'ro-', label='Bramich')\n",
    "x_bins, vals = custom_histogram(reals_z['refstarcount_slope'], cumulative=cumulative, bins=bins_slope)\n",
    "plt.plot(x_bins, vals, 'bo-', label='Zackay')\n",
    "x_bins, vals = custom_histogram(reals_h['refstarcount_slope'], cumulative=cumulative, bins=bins_slope)\n",
    "plt.plot(x_bins, vals, 'go-', label='Hotpants')\n",
    "plt.xlabel('slope')\n",
    "# plt.xlim(0, 1.)\n",
    "# plt.ylim(2500, 5000)\n",
    "plt.title('REF Starcount slope for reals')\n",
    "\n",
    "plt.subplot(2, 3, 3)\n",
    "# plt.hist([np.log10(und_z['refstarcount_zp']), \n",
    "#           np.log10(und_h['refstarcount_zp']), \n",
    "#           np.log10(und_b['refstarcount_zp'])],\n",
    "#           color=['blue', 'green', 'red'], \n",
    "#           label=['Zackay', 'Hotpants', 'Bramich'],\n",
    "#           cumulative=False, alpha=0.6, normed=False)\n",
    "cumulative=False\n",
    "x_bins, vals = custom_histogram(np.log10(reals_b['refstarcount_zp']), cumulative=cumulative, bins=bins_zp)\n",
    "plt.plot(x_bins, vals, 'ro-', label='Bramich')\n",
    "x_bins, vals = custom_histogram(np.log10(reals_z['refstarcount_zp']), cumulative=cumulative, bins=bins_zp)\n",
    "plt.plot(x_bins, vals, 'bo-', label='Zackay')\n",
    "x_bins, vals = custom_histogram(np.log10(reals_h['refstarcount_zp']), cumulative=cumulative, bins=bins_zp)\n",
    "plt.plot(x_bins, vals, 'go-', label='Hotpants')\n",
    "# plt.ylim(2500, 5000)\n",
    "# plt.xlim(3, 6)\n",
    "plt.xlabel('zp')\n",
    "plt.title('REF Starcount ZP for reals')\n",
    "\n",
    "plt.subplot(2, 3, 4)\n",
    "# plt.hist([und_z['r_scales'], und_h['r_scales'], und_b['r_scales']],\n",
    "#          color=['blue', 'green', 'red'], log=True, \n",
    "#          label=['Zackay', 'Hotpants', 'Bramich'],\n",
    "#          cumulative=False, alpha=0.6, normed=False)\n",
    "cumulative=False\n",
    "x_bins, vals = custom_histogram(reals_b['r_scales'], cumulative=cumulative)\n",
    "plt.semilogy(x_bins, vals, 'ro-', label='Bramich')\n",
    "x_bins, vals = custom_histogram(reals_z['r_scales'], cumulative=cumulative)\n",
    "plt.semilogy(x_bins, vals, 'bo-', label='Zackay')\n",
    "x_bins, vals = custom_histogram(reals_h['r_scales'], cumulative=cumulative)\n",
    "plt.semilogy(x_bins, vals, 'go-', label='Hotpants')\n",
    "\n",
    "plt.xlabel(r'$r$')\n",
    "plt.title('Distance to host')\n",
    "\n",
    "plt.subplot(2, 3, 5)\n",
    "# plt.hist([und_z['gx_mag'], und_h['gx_mag'], und_b['gx_mag']],\n",
    "#          color=['blue', 'green', 'red'], log=True, \n",
    "#          label=['Zackay', 'Hotpants', 'Bramich'],\n",
    "#         cumulative=False, alpha=0.6, normed=False)\n",
    "cumulative=False\n",
    "x_bins, vals = custom_histogram(reals_b['gx_mag'], cumulative=cumulative)\n",
    "plt.semilogy(x_bins, vals, 'ro-', label='Bramich')\n",
    "x_bins, vals = custom_histogram(reals_z['gx_mag'], cumulative=cumulative)\n",
    "plt.semilogy(x_bins, vals, 'bo-', label='Zackay')\n",
    "x_bins, vals = custom_histogram(reals_h['gx_mag'], cumulative=cumulative)\n",
    "plt.semilogy(x_bins, vals, 'go-', label='Hotpants')\n",
    "\n",
    "plt.xlabel(r'gx_mag')\n",
    "plt.title('Host Galaxy magnitud')\n",
    "\n",
    "plt.tight_layout()\n",
    "plt.show()"
   ]
  },
  {
   "cell_type": "markdown",
   "metadata": {},
   "source": [
    "### Simulation parameters for bogus"
   ]
  },
  {
   "cell_type": "code",
   "execution_count": null,
   "metadata": {
    "collapsed": true
   },
   "outputs": [],
   "source": [
    "sim_pars = pd.read_sql_query(\"\"\"SELECT * FROM Images\"\"\", engine)"
   ]
  },
  {
   "cell_type": "code",
   "execution_count": null,
   "metadata": {
    "collapsed": true
   },
   "outputs": [],
   "source": [
    "sim_pars.columns"
   ]
  },
  {
   "cell_type": "code",
   "execution_count": null,
   "metadata": {
    "collapsed": true
   },
   "outputs": [],
   "source": [
    "print bogus_b.columns, len(bogus_b), len(sim_pars)"
   ]
  },
  {
   "cell_type": "code",
   "execution_count": null,
   "metadata": {
    "collapsed": true
   },
   "outputs": [],
   "source": [
    "tl = bogus_b.sample(200)\n",
    "tr = sim_pars.sample(200)"
   ]
  },
  {
   "cell_type": "code",
   "execution_count": null,
   "metadata": {
    "collapsed": true
   },
   "outputs": [],
   "source": [
    "pd.merge(left=tl, right=tr, left_on='image_id', right_on='id', how='left')"
   ]
  },
  {
   "cell_type": "code",
   "execution_count": null,
   "metadata": {
    "collapsed": true
   },
   "outputs": [],
   "source": [
    "!rm 'bogus_b_csv.csv'\n",
    "!rm 'bogus_h_csv.csv'\n",
    "!rm 'bogus_z_csv.csv'"
   ]
  },
  {
   "cell_type": "code",
   "execution_count": null,
   "metadata": {
    "collapsed": true
   },
   "outputs": [],
   "source": [
    "try:\n",
    "    bogus_b = pd.from_csv('bogus_b_csv.csv')\n",
    "except:\n",
    "    bogus_b = pd.merge(left=bogus_b, right=sim_pars, \n",
    "                   left_on='image_id', right_on='id', how='left', suffixes=('_b', ''))\n",
    "    bogus_b.to_csv('bogus_b_csv.csv')"
   ]
  },
  {
   "cell_type": "code",
   "execution_count": null,
   "metadata": {
    "collapsed": true
   },
   "outputs": [],
   "source": [
    "print bogus_b.columns, len(bogus_b)"
   ]
  },
  {
   "cell_type": "code",
   "execution_count": null,
   "metadata": {
    "collapsed": true
   },
   "outputs": [],
   "source": [
    "print bogus_h.columns, len(bogus_h)"
   ]
  },
  {
   "cell_type": "code",
   "execution_count": null,
   "metadata": {
    "collapsed": true
   },
   "outputs": [],
   "source": [
    "try:\n",
    "    bogus_h = pd.from_csv('bogus_h_csv.csv')\n",
    "except:\n",
    "    bogus_h = pd.merge(left=bogus_h, right=sim_pars, \n",
    "                       left_on='image_id', right_on='id', how='left', suffixes=('_b', ''))\n",
    "    bogus_h.to_csv('bogus_h_csv.csv')"
   ]
  },
  {
   "cell_type": "code",
   "execution_count": null,
   "metadata": {
    "collapsed": true
   },
   "outputs": [],
   "source": [
    "print bogus_h.columns, len(bogus_h), len(sim_pars)"
   ]
  },
  {
   "cell_type": "code",
   "execution_count": null,
   "metadata": {
    "collapsed": true
   },
   "outputs": [],
   "source": [
    "try:\n",
    "    bogus_z = pd.from_csv('bogus_z_csv.csv')\n",
    "except:\n",
    "    bogus_z = pd.merge(left=bogus_z, right=sim_pars, \n",
    "                   left_on='image_id', right_on='id', how='left', suffixes=('_b',''))\n",
    "    bogus_z.to_csv('bogus_z_csv.csv')"
   ]
  },
  {
   "cell_type": "code",
   "execution_count": null,
   "metadata": {
    "collapsed": true
   },
   "outputs": [],
   "source": [
    "bogus_b.columns"
   ]
  },
  {
   "cell_type": "code",
   "execution_count": null,
   "metadata": {
    "collapsed": true,
    "scrolled": false
   },
   "outputs": [],
   "source": [
    "plt.figure(figsize=(12, 4))\n",
    "plt.subplot(1, 3, 1)\n",
    "# plt.hist([und_z['refseeing_fwhm'], und_h['refseeing_fwhm'], und_b['refseeing_fwhm']],\n",
    "#          color=['blue', 'green', 'red'], \n",
    "#          label=['Zackay', 'Hotpants', 'Bramich'],\n",
    "#          cumulative=False, alpha=0.6, normed=True)\n",
    "cumulative=False\n",
    "x_bins, vals = custom_histogram(bogus_b['refseeing_fwhm'], cumulative=cumulative, bins=bins_fwhm)\n",
    "plt.plot(x_bins, vals, 'ro-', label='Bramich')\n",
    "x_bins, vals = custom_histogram(bogus_z['refseeing_fwhm'], cumulative=cumulative, bins=bins_fwhm)\n",
    "plt.plot(x_bins, vals, 'bo-', label='Zackay')\n",
    "x_bins, vals = custom_histogram(bogus_h['refseeing_fwhm'], cumulative=cumulative, bins=bins_fwhm)\n",
    "plt.plot(x_bins, vals, 'go-', label='Hotpants')\n",
    "plt.xlabel('seeing fwhm')\n",
    "#plt.ylim(2500, 5000)\n",
    "plt.title('REF Seeing for bogus')\n",
    "\n",
    "plt.subplot(1, 3, 2)\n",
    "# plt.hist([und_z['refstarcount_slope'], und_h['refstarcount_slope'], und_b['refstarcount_slope']],\n",
    "#          color=['blue', 'green', 'red'], \n",
    "#          label=['Zackay', 'Hotpants', 'Bramich'],\n",
    "#          cumulative=False, alpha=0.6, normed=False)\n",
    "cumulative=False\n",
    "x_bins, vals = custom_histogram(bogus_b['refstarcount_slope'], cumulative=cumulative, bins=bins_slope)\n",
    "plt.plot(x_bins, vals, 'ro-', label='Bramich')\n",
    "x_bins, vals = custom_histogram(bogus_z['refstarcount_slope'], cumulative=cumulative, bins=bins_slope)\n",
    "plt.plot(x_bins, vals, 'bo-', label='Zackay')\n",
    "x_bins, vals = custom_histogram(bogus_h['refstarcount_slope'], cumulative=cumulative, bins=bins_slope)\n",
    "plt.plot(x_bins, vals, 'go-', label='Hotpants')\n",
    "plt.xlabel('slope')\n",
    "# plt.xlim(0, 1.)\n",
    "#plt.ylim(2500, 5000)\n",
    "plt.title('REF Starcount slope for bogus')\n",
    "\n",
    "plt.subplot(1, 3, 3)\n",
    "# plt.hist([np.log10(und_z['refstarcount_zp']), \n",
    "#           np.log10(und_h['refstarcount_zp']), \n",
    "#           np.log10(und_b['refstarcount_zp'])],\n",
    "#           color=['blue', 'green', 'red'], \n",
    "#           label=['Zackay', 'Hotpants', 'Bramich'],\n",
    "#           cumulative=False, alpha=0.6, normed=False)\n",
    "cumulative=False\n",
    "x_bins, vals = custom_histogram(np.log10(bogus_b['refstarcount_zp']), cumulative=cumulative, bins=bins_zp)\n",
    "plt.plot(x_bins, vals, 'ro-', label='Bramich')\n",
    "x_bins, vals = custom_histogram(np.log10(bogus_z['refstarcount_zp']), cumulative=cumulative, bins=bins_zp)\n",
    "plt.plot(x_bins, vals, 'bo-', label='Zackay')\n",
    "x_bins, vals = custom_histogram(np.log10(bogus_h['refstarcount_zp']), cumulative=cumulative, bins=bins_zp)\n",
    "plt.plot(x_bins, vals, 'go-', label='Hotpants')\n",
    "#plt.ylim(2500, 5000)\n",
    "# plt.xlim(3, 6)\n",
    "plt.xlabel('zp')\n",
    "plt.title('REF Starcount ZP for bogus')\n",
    "\n",
    "plt.tight_layout()\n",
    "plt.show()"
   ]
  },
  {
   "cell_type": "markdown",
   "metadata": {},
   "source": [
    "## Checking on the outliers"
   ]
  },
  {
   "cell_type": "code",
   "execution_count": null,
   "metadata": {
    "collapsed": true
   },
   "outputs": [],
   "source": [
    "from astropy.nddata.utils import extract_array\n",
    "from astropy.io import fits\n",
    "\n",
    "\n",
    "def get_patch_bramich(x, y, image_id):\n",
    "    \"\"\"Gets data from a row of a table, from a bramich subtracted source, and uses\n",
    "    its coordinates to extract a patch from the image.\n",
    "    \"\"\"\n",
    "    size = (14, 14)\n",
    "    \n",
    "    path = os.path.join('/home/bruno/Data/RBpipeline/images', \n",
    "                        'img'+str(image_id).zfill(5))\n",
    "    filepath = os.path.join(path, 'diff_ois.fits')\n",
    "    \n",
    "    pixdata = fits.getdata(filepath)\n",
    "    \n",
    "    patch = extract_array(pixdata, size, (x, y))\n",
    "    \n",
    "    return patch\n",
    "    \n",
    "    \n",
    "def get_patch_zackay(x, y, image_id):\n",
    "    \"\"\"Gets data from a row of a table, from a bramich subtracted source, and uses\n",
    "    its coordinates to extract a patch from the image.\n",
    "    \"\"\"\n",
    "    size = (14, 14)\n",
    "    \n",
    "    path = os.path.join('/home/bruno/Data/RBpipeline/images', \n",
    "                        'img'+str(image_id).zfill(5))\n",
    "    filepath = os.path.join(path, 'diff.fits')\n",
    "    \n",
    "    pixdata = fits.getdata(filepath)\n",
    "    \n",
    "    patch = extract_array(pixdata, size, (x, y))\n",
    "    \n",
    "    return patch\n",
    "    "
   ]
  },
  {
   "cell_type": "code",
   "execution_count": null,
   "metadata": {
    "collapsed": true
   },
   "outputs": [],
   "source": [
    "outliers_b = bogus_b[bogus_b.CLASS_STAR > .97]"
   ]
  },
  {
   "cell_type": "code",
   "execution_count": null,
   "metadata": {
    "collapsed": true
   },
   "outputs": [],
   "source": [
    "outliers_b"
   ]
  },
  {
   "cell_type": "code",
   "execution_count": null,
   "metadata": {
    "collapsed": true
   },
   "outputs": [],
   "source": [
    "plt.figure(figsize=( 6, 2*len(outliers_b)))\n",
    "for i in range(len(outliers_b)):\n",
    "    patch = get_patch_bramich(outliers_b[i:i+1]['Y_IMAGE'], \n",
    "                              outliers_b[i:i+1]['X_IMAGE'], \n",
    "                              int(outliers_b[i:i+1]['image_id']))\n",
    "    plt.subplot(len(outliers_b), 1 , i+1)\n",
    "    plt.grid()\n",
    "    plt.imshow(patch, cmap='viridis', interpolation='none')"
   ]
  },
  {
   "cell_type": "code",
   "execution_count": null,
   "metadata": {
    "collapsed": true
   },
   "outputs": [],
   "source": [
    "outliers_z = bogus_z[bogus_z.ELONGATION > 8]"
   ]
  },
  {
   "cell_type": "code",
   "execution_count": null,
   "metadata": {
    "collapsed": true
   },
   "outputs": [],
   "source": [
    "outliers_z"
   ]
  },
  {
   "cell_type": "code",
   "execution_count": null,
   "metadata": {
    "collapsed": true
   },
   "outputs": [],
   "source": [
    "plt.figure(figsize=(6*len(outliers_z), 12))\n",
    "for i in range(len(outliers_z)):\n",
    "    patch = get_patch_zackay(outliers_z[i:i+1]['Y_IMAGE'], \n",
    "                              outliers_z[i:i+1]['X_IMAGE'], \n",
    "                              int(outliers_z[i:i+1]['image_id']))\n",
    "    plt.subplot(1, len(outliers_z), i+1)\n",
    "    plt.grid()\n",
    "    plt.imshow(patch, cmap='viridis', interpolation='none')"
   ]
  },
  {
   "cell_type": "code",
   "execution_count": null,
   "metadata": {
    "collapsed": true
   },
   "outputs": [],
   "source": []
  },
  {
   "cell_type": "code",
   "execution_count": null,
   "metadata": {
    "collapsed": true
   },
   "outputs": [],
   "source": []
  }
 ],
 "metadata": {
  "kernelspec": {
   "display_name": "Python 2",
   "language": "python",
   "name": "python2"
  },
  "language_info": {
   "codemirror_mode": {
    "name": "ipython",
    "version": 2
   },
   "file_extension": ".py",
   "mimetype": "text/x-python",
   "name": "python",
   "nbconvert_exporter": "python",
   "pygments_lexer": "ipython2",
   "version": "2.7.9"
  }
 },
 "nbformat": 4,
 "nbformat_minor": 1
}
