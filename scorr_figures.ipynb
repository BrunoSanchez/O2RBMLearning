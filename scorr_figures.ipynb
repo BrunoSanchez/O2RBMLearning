{
 "cells": [
  {
   "cell_type": "markdown",
   "metadata": {},
   "source": [
    "## $S_{corr} > 3.5 \\sigma$"
   ]
  },
  {
   "cell_type": "markdown",
   "metadata": {},
   "source": [
    "Como va la franja de reals y bogus?"
   ]
  },
  {
   "cell_type": "code",
   "execution_count": 1,
   "metadata": {
    "collapsed": true
   },
   "outputs": [],
   "source": [
    "import numpy as np\n",
    "%matplotlib inline\n",
    "import matplotlib.pyplot as plt\n",
    "import seaborn as sns"
   ]
  },
  {
   "cell_type": "code",
   "execution_count": 2,
   "metadata": {
    "collapsed": true
   },
   "outputs": [],
   "source": [
    "from sqlalchemy import create_engine\n",
    "import pandas as pd"
   ]
  },
  {
   "cell_type": "code",
   "execution_count": 3,
   "metadata": {
    "collapsed": true
   },
   "outputs": [],
   "source": [
    "sns.set_context(font_scale=16)\n",
    "plt.rcParams[\"patch.force_edgecolor\"] = True\n",
    "plt.rcParams['text.usetex'] = True"
   ]
  },
  {
   "cell_type": "code",
   "execution_count": 4,
   "metadata": {
    "collapsed": true
   },
   "outputs": [],
   "source": [
    "engine = create_engine('sqlite:///../O2RBpipeline/Low_threshO2rbogus-dev.db')"
   ]
  },
  {
   "cell_type": "code",
   "execution_count": 5,
   "metadata": {
    "collapsed": true
   },
   "outputs": [],
   "source": [
    "simulated = pd.read_sql_query(\"\"\"SELECT * FROM Simulated\"\"\", engine)"
   ]
  },
  {
   "cell_type": "code",
   "execution_count": 6,
   "metadata": {
    "collapsed": true
   },
   "outputs": [],
   "source": [
    "dt_scr = pd.merge(pd.read_sql_table('SCorrDetected', engine),\n",
    "                  pd.read_sql_query(\"\"\"SELECT \n",
    "                                        SCorrDetected.id,\n",
    "                                        Simulated.app_mag as sim_mag,\n",
    "                                        Simulated.id as sim_id \n",
    "                                    FROM SCorrDetected\n",
    "                                        LEFT JOIN SCorrReals\n",
    "                                            ON SCorrDetected.id==SCorrReals.detected_id\n",
    "                                        LEFT JOIN Simulated\n",
    "                                            ON Simulated.id==SCorrReals.simulated_id\"\"\", engine),\n",
    "                                      on='id', suffixes=('',''))"
   ]
  },
  {
   "cell_type": "code",
   "execution_count": 7,
   "metadata": {},
   "outputs": [
    {
     "data": {
      "text/html": [
       "<div>\n",
       "<style>\n",
       "    .dataframe thead tr:only-child th {\n",
       "        text-align: right;\n",
       "    }\n",
       "\n",
       "    .dataframe thead th {\n",
       "        text-align: left;\n",
       "    }\n",
       "\n",
       "    .dataframe tbody tr th {\n",
       "        vertical-align: top;\n",
       "    }\n",
       "</style>\n",
       "<table border=\"1\" class=\"dataframe\">\n",
       "  <thead>\n",
       "    <tr style=\"text-align: right;\">\n",
       "      <th></th>\n",
       "      <th>id</th>\n",
       "      <th>X_IMAGE</th>\n",
       "      <th>Y_IMAGE</th>\n",
       "      <th>SIGNIFICANCE</th>\n",
       "      <th>image_id</th>\n",
       "      <th>sim_mag</th>\n",
       "      <th>sim_id</th>\n",
       "    </tr>\n",
       "  </thead>\n",
       "  <tbody>\n",
       "    <tr>\n",
       "      <th>count</th>\n",
       "      <td>534579.000000</td>\n",
       "      <td>534579.000000</td>\n",
       "      <td>534579.000000</td>\n",
       "      <td>534579.000000</td>\n",
       "      <td>534579.000000</td>\n",
       "      <td>1462.000000</td>\n",
       "      <td>1462.000000</td>\n",
       "    </tr>\n",
       "    <tr>\n",
       "      <th>mean</th>\n",
       "      <td>267290.000000</td>\n",
       "      <td>1208.136150</td>\n",
       "      <td>753.317321</td>\n",
       "      <td>6.857530</td>\n",
       "      <td>30.859400</td>\n",
       "      <td>13.885051</td>\n",
       "      <td>898.331053</td>\n",
       "    </tr>\n",
       "    <tr>\n",
       "      <th>std</th>\n",
       "      <td>154319.809114</td>\n",
       "      <td>789.161566</td>\n",
       "      <td>474.515025</td>\n",
       "      <td>22.432300</td>\n",
       "      <td>25.387507</td>\n",
       "      <td>1.605765</td>\n",
       "      <td>518.556848</td>\n",
       "    </tr>\n",
       "    <tr>\n",
       "      <th>min</th>\n",
       "      <td>1.000000</td>\n",
       "      <td>0.000000</td>\n",
       "      <td>0.000000</td>\n",
       "      <td>-420.593947</td>\n",
       "      <td>1.000000</td>\n",
       "      <td>8.522473</td>\n",
       "      <td>2.000000</td>\n",
       "    </tr>\n",
       "    <tr>\n",
       "      <th>25%</th>\n",
       "      <td>133645.500000</td>\n",
       "      <td>530.000000</td>\n",
       "      <td>338.615658</td>\n",
       "      <td>3.803572</td>\n",
       "      <td>10.000000</td>\n",
       "      <td>12.846673</td>\n",
       "      <td>429.250000</td>\n",
       "    </tr>\n",
       "    <tr>\n",
       "      <th>50%</th>\n",
       "      <td>267290.000000</td>\n",
       "      <td>1098.877739</td>\n",
       "      <td>691.000000</td>\n",
       "      <td>4.692007</td>\n",
       "      <td>22.000000</td>\n",
       "      <td>13.874901</td>\n",
       "      <td>896.500000</td>\n",
       "    </tr>\n",
       "    <tr>\n",
       "      <th>75%</th>\n",
       "      <td>400934.500000</td>\n",
       "      <td>1848.000000</td>\n",
       "      <td>1154.305028</td>\n",
       "      <td>6.618892</td>\n",
       "      <td>52.000000</td>\n",
       "      <td>15.109581</td>\n",
       "      <td>1336.750000</td>\n",
       "    </tr>\n",
       "    <tr>\n",
       "      <th>max</th>\n",
       "      <td>534579.000000</td>\n",
       "      <td>2725.000000</td>\n",
       "      <td>1649.000000</td>\n",
       "      <td>4219.251371</td>\n",
       "      <td>120.000000</td>\n",
       "      <td>17.477257</td>\n",
       "      <td>1800.000000</td>\n",
       "    </tr>\n",
       "  </tbody>\n",
       "</table>\n",
       "</div>"
      ],
      "text/plain": [
       "                  id        X_IMAGE        Y_IMAGE   SIGNIFICANCE  \\\n",
       "count  534579.000000  534579.000000  534579.000000  534579.000000   \n",
       "mean   267290.000000    1208.136150     753.317321       6.857530   \n",
       "std    154319.809114     789.161566     474.515025      22.432300   \n",
       "min         1.000000       0.000000       0.000000    -420.593947   \n",
       "25%    133645.500000     530.000000     338.615658       3.803572   \n",
       "50%    267290.000000    1098.877739     691.000000       4.692007   \n",
       "75%    400934.500000    1848.000000    1154.305028       6.618892   \n",
       "max    534579.000000    2725.000000    1649.000000    4219.251371   \n",
       "\n",
       "            image_id      sim_mag       sim_id  \n",
       "count  534579.000000  1462.000000  1462.000000  \n",
       "mean       30.859400    13.885051   898.331053  \n",
       "std        25.387507     1.605765   518.556848  \n",
       "min         1.000000     8.522473     2.000000  \n",
       "25%        10.000000    12.846673   429.250000  \n",
       "50%        22.000000    13.874901   896.500000  \n",
       "75%        52.000000    15.109581  1336.750000  \n",
       "max       120.000000    17.477257  1800.000000  "
      ]
     },
     "execution_count": 7,
     "metadata": {},
     "output_type": "execute_result"
    }
   ],
   "source": [
    "dt_scr.describe()"
   ]
  },
  {
   "cell_type": "code",
   "execution_count": 8,
   "metadata": {
    "collapsed": true
   },
   "outputs": [],
   "source": [
    "reals = dt_scr[dt_scr.IS_REAL==True]\n",
    "bogus = dt_scr[dt_scr.IS_REAL==False]"
   ]
  },
  {
   "cell_type": "code",
   "execution_count": 9,
   "metadata": {},
   "outputs": [
    {
     "data": {
      "text/html": [
       "<div>\n",
       "<style>\n",
       "    .dataframe thead tr:only-child th {\n",
       "        text-align: right;\n",
       "    }\n",
       "\n",
       "    .dataframe thead th {\n",
       "        text-align: left;\n",
       "    }\n",
       "\n",
       "    .dataframe tbody tr th {\n",
       "        vertical-align: top;\n",
       "    }\n",
       "</style>\n",
       "<table border=\"1\" class=\"dataframe\">\n",
       "  <thead>\n",
       "    <tr style=\"text-align: right;\">\n",
       "      <th></th>\n",
       "      <th>id</th>\n",
       "      <th>X_IMAGE</th>\n",
       "      <th>Y_IMAGE</th>\n",
       "      <th>SIGNIFICANCE</th>\n",
       "      <th>image_id</th>\n",
       "      <th>sim_mag</th>\n",
       "      <th>sim_id</th>\n",
       "    </tr>\n",
       "  </thead>\n",
       "  <tbody>\n",
       "    <tr>\n",
       "      <th>count</th>\n",
       "      <td>1462.000000</td>\n",
       "      <td>1462.000000</td>\n",
       "      <td>1462.000000</td>\n",
       "      <td>1462.000000</td>\n",
       "      <td>1462.000000</td>\n",
       "      <td>1462.000000</td>\n",
       "      <td>1462.000000</td>\n",
       "    </tr>\n",
       "    <tr>\n",
       "      <th>mean</th>\n",
       "      <td>399267.266758</td>\n",
       "      <td>1180.406336</td>\n",
       "      <td>730.578882</td>\n",
       "      <td>115.758420</td>\n",
       "      <td>60.354993</td>\n",
       "      <td>13.885051</td>\n",
       "      <td>898.331053</td>\n",
       "    </tr>\n",
       "    <tr>\n",
       "      <th>std</th>\n",
       "      <td>143584.872265</td>\n",
       "      <td>730.849989</td>\n",
       "      <td>423.203440</td>\n",
       "      <td>168.354763</td>\n",
       "      <td>34.573660</td>\n",
       "      <td>1.605765</td>\n",
       "      <td>518.556848</td>\n",
       "    </tr>\n",
       "    <tr>\n",
       "      <th>min</th>\n",
       "      <td>653.000000</td>\n",
       "      <td>43.785635</td>\n",
       "      <td>52.036420</td>\n",
       "      <td>-0.066626</td>\n",
       "      <td>1.000000</td>\n",
       "      <td>8.522473</td>\n",
       "      <td>2.000000</td>\n",
       "    </tr>\n",
       "    <tr>\n",
       "      <th>25%</th>\n",
       "      <td>324190.250000</td>\n",
       "      <td>558.054091</td>\n",
       "      <td>378.335320</td>\n",
       "      <td>27.273101</td>\n",
       "      <td>29.000000</td>\n",
       "      <td>12.846673</td>\n",
       "      <td>429.250000</td>\n",
       "    </tr>\n",
       "    <tr>\n",
       "      <th>50%</th>\n",
       "      <td>433061.000000</td>\n",
       "      <td>1109.239951</td>\n",
       "      <td>671.831388</td>\n",
       "      <td>61.893603</td>\n",
       "      <td>60.000000</td>\n",
       "      <td>13.874901</td>\n",
       "      <td>896.500000</td>\n",
       "    </tr>\n",
       "    <tr>\n",
       "      <th>75%</th>\n",
       "      <td>532215.000000</td>\n",
       "      <td>1777.021311</td>\n",
       "      <td>1098.204256</td>\n",
       "      <td>125.203262</td>\n",
       "      <td>90.000000</td>\n",
       "      <td>15.109581</td>\n",
       "      <td>1336.750000</td>\n",
       "    </tr>\n",
       "    <tr>\n",
       "      <th>max</th>\n",
       "      <td>534575.000000</td>\n",
       "      <td>2627.544236</td>\n",
       "      <td>1585.140233</td>\n",
       "      <td>1825.484731</td>\n",
       "      <td>120.000000</td>\n",
       "      <td>17.477257</td>\n",
       "      <td>1800.000000</td>\n",
       "    </tr>\n",
       "  </tbody>\n",
       "</table>\n",
       "</div>"
      ],
      "text/plain": [
       "                  id      X_IMAGE      Y_IMAGE  SIGNIFICANCE     image_id  \\\n",
       "count    1462.000000  1462.000000  1462.000000   1462.000000  1462.000000   \n",
       "mean   399267.266758  1180.406336   730.578882    115.758420    60.354993   \n",
       "std    143584.872265   730.849989   423.203440    168.354763    34.573660   \n",
       "min       653.000000    43.785635    52.036420     -0.066626     1.000000   \n",
       "25%    324190.250000   558.054091   378.335320     27.273101    29.000000   \n",
       "50%    433061.000000  1109.239951   671.831388     61.893603    60.000000   \n",
       "75%    532215.000000  1777.021311  1098.204256    125.203262    90.000000   \n",
       "max    534575.000000  2627.544236  1585.140233   1825.484731   120.000000   \n",
       "\n",
       "           sim_mag       sim_id  \n",
       "count  1462.000000  1462.000000  \n",
       "mean     13.885051   898.331053  \n",
       "std       1.605765   518.556848  \n",
       "min       8.522473     2.000000  \n",
       "25%      12.846673   429.250000  \n",
       "50%      13.874901   896.500000  \n",
       "75%      15.109581  1336.750000  \n",
       "max      17.477257  1800.000000  "
      ]
     },
     "execution_count": 9,
     "metadata": {},
     "output_type": "execute_result"
    }
   ],
   "source": [
    "reals.describe()"
   ]
  },
  {
   "cell_type": "code",
   "execution_count": 10,
   "metadata": {},
   "outputs": [
    {
     "data": {
      "text/html": [
       "<div>\n",
       "<style>\n",
       "    .dataframe thead tr:only-child th {\n",
       "        text-align: right;\n",
       "    }\n",
       "\n",
       "    .dataframe thead th {\n",
       "        text-align: left;\n",
       "    }\n",
       "\n",
       "    .dataframe tbody tr th {\n",
       "        vertical-align: top;\n",
       "    }\n",
       "</style>\n",
       "<table border=\"1\" class=\"dataframe\">\n",
       "  <thead>\n",
       "    <tr style=\"text-align: right;\">\n",
       "      <th></th>\n",
       "      <th>id</th>\n",
       "      <th>X_IMAGE</th>\n",
       "      <th>Y_IMAGE</th>\n",
       "      <th>SIGNIFICANCE</th>\n",
       "      <th>image_id</th>\n",
       "      <th>sim_mag</th>\n",
       "      <th>sim_id</th>\n",
       "    </tr>\n",
       "  </thead>\n",
       "  <tbody>\n",
       "    <tr>\n",
       "      <th>count</th>\n",
       "      <td>533117.000000</td>\n",
       "      <td>533117.000000</td>\n",
       "      <td>533117.000000</td>\n",
       "      <td>533117.000000</td>\n",
       "      <td>533117.000000</td>\n",
       "      <td>0.0</td>\n",
       "      <td>0.0</td>\n",
       "    </tr>\n",
       "    <tr>\n",
       "      <th>mean</th>\n",
       "      <td>266928.070510</td>\n",
       "      <td>1208.212195</td>\n",
       "      <td>753.379678</td>\n",
       "      <td>6.558884</td>\n",
       "      <td>30.778512</td>\n",
       "      <td>NaN</td>\n",
       "      <td>NaN</td>\n",
       "    </tr>\n",
       "    <tr>\n",
       "      <th>std</th>\n",
       "      <td>154193.108366</td>\n",
       "      <td>789.314850</td>\n",
       "      <td>474.646969</td>\n",
       "      <td>19.857024</td>\n",
       "      <td>25.310568</td>\n",
       "      <td>NaN</td>\n",
       "      <td>NaN</td>\n",
       "    </tr>\n",
       "    <tr>\n",
       "      <th>min</th>\n",
       "      <td>1.000000</td>\n",
       "      <td>0.000000</td>\n",
       "      <td>0.000000</td>\n",
       "      <td>-420.593947</td>\n",
       "      <td>1.000000</td>\n",
       "      <td>NaN</td>\n",
       "      <td>NaN</td>\n",
       "    </tr>\n",
       "    <tr>\n",
       "      <th>25%</th>\n",
       "      <td>133399.000000</td>\n",
       "      <td>530.000000</td>\n",
       "      <td>338.000000</td>\n",
       "      <td>3.802075</td>\n",
       "      <td>10.000000</td>\n",
       "      <td>NaN</td>\n",
       "      <td>NaN</td>\n",
       "    </tr>\n",
       "    <tr>\n",
       "      <th>50%</th>\n",
       "      <td>266821.000000</td>\n",
       "      <td>1098.695804</td>\n",
       "      <td>691.000000</td>\n",
       "      <td>4.685518</td>\n",
       "      <td>22.000000</td>\n",
       "      <td>NaN</td>\n",
       "      <td>NaN</td>\n",
       "    </tr>\n",
       "    <tr>\n",
       "      <th>75%</th>\n",
       "      <td>400456.000000</td>\n",
       "      <td>1848.000000</td>\n",
       "      <td>1155.000000</td>\n",
       "      <td>6.594329</td>\n",
       "      <td>52.000000</td>\n",
       "      <td>NaN</td>\n",
       "      <td>NaN</td>\n",
       "    </tr>\n",
       "    <tr>\n",
       "      <th>max</th>\n",
       "      <td>534579.000000</td>\n",
       "      <td>2725.000000</td>\n",
       "      <td>1649.000000</td>\n",
       "      <td>4219.251371</td>\n",
       "      <td>120.000000</td>\n",
       "      <td>NaN</td>\n",
       "      <td>NaN</td>\n",
       "    </tr>\n",
       "  </tbody>\n",
       "</table>\n",
       "</div>"
      ],
      "text/plain": [
       "                  id        X_IMAGE        Y_IMAGE   SIGNIFICANCE  \\\n",
       "count  533117.000000  533117.000000  533117.000000  533117.000000   \n",
       "mean   266928.070510    1208.212195     753.379678       6.558884   \n",
       "std    154193.108366     789.314850     474.646969      19.857024   \n",
       "min         1.000000       0.000000       0.000000    -420.593947   \n",
       "25%    133399.000000     530.000000     338.000000       3.802075   \n",
       "50%    266821.000000    1098.695804     691.000000       4.685518   \n",
       "75%    400456.000000    1848.000000    1155.000000       6.594329   \n",
       "max    534579.000000    2725.000000    1649.000000    4219.251371   \n",
       "\n",
       "            image_id  sim_mag  sim_id  \n",
       "count  533117.000000      0.0     0.0  \n",
       "mean       30.778512      NaN     NaN  \n",
       "std        25.310568      NaN     NaN  \n",
       "min         1.000000      NaN     NaN  \n",
       "25%        10.000000      NaN     NaN  \n",
       "50%        22.000000      NaN     NaN  \n",
       "75%        52.000000      NaN     NaN  \n",
       "max       120.000000      NaN     NaN  "
      ]
     },
     "execution_count": 10,
     "metadata": {},
     "output_type": "execute_result"
    }
   ],
   "source": [
    "bogus.describe()"
   ]
  },
  {
   "cell_type": "code",
   "execution_count": 11,
   "metadata": {},
   "outputs": [
    {
     "name": "stdout",
     "output_type": "stream",
     "text": [
      "16\n",
      "19117\n"
     ]
    }
   ],
   "source": [
    "print sum(reals.SIGNIFICANCE<=0.)\n",
    "print sum(bogus.SIGNIFICANCE<=0.)"
   ]
  },
  {
   "cell_type": "code",
   "execution_count": 12,
   "metadata": {
    "scrolled": false
   },
   "outputs": [
    {
     "data": {
      "image/png": "[encoded data removed]",
      "text/plain": [
       "<matplotlib.figure.Figure at 0x7f965545f650>"
      ]
     },
     "metadata": {},
     "output_type": "display_data"
    }
   ],
   "source": [
    "bins=np.arange(0, 4, .1)\n",
    "\n",
    "plt.hist(np.log10(bogus.SIGNIFICANCE[bogus.SIGNIFICANCE>0.]), \n",
    "         log=True, alpha=1, label='Bogus', bins=bins, histtype='step', lw=2,\n",
    "         linestyle='-') #, cumulative=True, normed=True)\n",
    "\n",
    "plt.hist(np.log10(reals.SIGNIFICANCE[reals.SIGNIFICANCE>0.]), \n",
    "         log=True, alpha=1, label='Reals', bins=bins, histtype='step', lw=2,\n",
    "         linestyle='--') #, cumulative=True, normed=True)\n",
    "\n",
    "plt.vlines(x=np.log10(3.5), ymax=10e5, ymin=0., label=r'$3.5\\sigma$', alpha=0.3)\n",
    "plt.vlines(x=np.log10(5), linestyle=':', ymax=10e5, ymin=0., label=r'$5\\sigma$', alpha=0.5)\n",
    "\n",
    "plt.xlabel(r'$log_{10}(\\alpha)$', fontsize=16)\n",
    "plt.ylabel('N', fontsize=16)\n",
    "\n",
    "plt.tick_params(labelsize=16)\n",
    "plt.legend(loc='best', fontsize=16)\n",
    "plt.savefig('significances.png', dpi=400)"
   ]
  },
  {
   "cell_type": "code",
   "execution_count": 21,
   "metadata": {},
   "outputs": [
    {
     "data": {
      "image/png": "[encoded data removed]",
      "text/plain": [
       "<matplotlib.figure.Figure at 0x7f967e7a5e90>"
      ]
     },
     "metadata": {},
     "output_type": "display_data"
    }
   ],
   "source": [
    "plt.semilogy(reals.sim_mag, reals.SIGNIFICANCE, '.', alpha=0.6,label=r'Obj Hallados')\n",
    "plt.ylabel(r'$log_{10}(\\alpha)$', fontsize=16)\n",
    "plt.hlines(y=3.5, xmax=27, xmin=8., label=r'$3.5\\sigma$', alpha=0.3)\n",
    "plt.hlines(y=5, xmax=27, xmin=8., label=r'$5\\sigma$', alpha=0.5)\n",
    "plt.tick_params(labelsize=16)\n",
    "plt.xlabel('$Mag_{sim}$', fontsize=16)\n",
    "plt.legend(loc='best', fontsize=16)\n",
    "plt.savefig('mag_vs_significance.png', dpi=420)"
   ]
  },
  {
   "cell_type": "code",
   "execution_count": 14,
   "metadata": {},
   "outputs": [
    {
     "data": {
      "text/plain": [
       "1409"
      ]
     },
     "execution_count": 14,
     "metadata": {},
     "output_type": "execute_result"
    }
   ],
   "source": [
    "sum(reals.SIGNIFICANCE>5.)#/float(sum(reals.SIGNIFICANCE>3.5))"
   ]
  },
  {
   "cell_type": "code",
   "execution_count": 15,
   "metadata": {},
   "outputs": [
    {
     "data": {
      "text/plain": [
       "0.9651162790697675"
      ]
     },
     "execution_count": 15,
     "metadata": {},
     "output_type": "execute_result"
    }
   ],
   "source": [
    "float(sum(reals.SIGNIFICANCE>3.5))/len(reals)"
   ]
  },
  {
   "cell_type": "code",
   "execution_count": 22,
   "metadata": {},
   "outputs": [
    {
     "data": {
      "image/png": "[encoded data removed]",
      "text/plain": [
       "<matplotlib.figure.Figure at 0x7f967e97f3d0>"
      ]
     },
     "metadata": {},
     "output_type": "display_data"
    }
   ],
   "source": [
    "plt.figure(figsize=(10, 5))\n",
    "plt.subplot(121)\n",
    "bins=np.arange(0, 4, .1)\n",
    "\n",
    "plt.hist(np.log10(bogus.SIGNIFICANCE[bogus.SIGNIFICANCE>0.]), \n",
    "         log=True, alpha=1, label='Bogus', bins=bins, histtype='step', lw=2,\n",
    "         linestyle='-') #, cumulative=True, normed=True)\n",
    "\n",
    "plt.hist(np.log10(reals.SIGNIFICANCE[reals.SIGNIFICANCE>0.]), \n",
    "         log=True, alpha=1, label='Reals', bins=bins, histtype='step', lw=2,\n",
    "         linestyle='--') #, cumulative=True, normed=True)\n",
    "\n",
    "plt.vlines(x=np.log10(3.5), ymax=10e5, ymin=0., label=r'$3.5\\sigma$', alpha=0.3)\n",
    "plt.vlines(x=np.log10(5), linestyle=':', ymax=10e5, ymin=0., label=r'$5\\sigma$', alpha=0.5)\n",
    "\n",
    "plt.xlabel(r'$log_{10}(\\alpha)$', fontsize=16)\n",
    "plt.ylabel('N', fontsize=16)\n",
    "\n",
    "plt.tick_params(labelsize=16)\n",
    "plt.legend(loc='best', fontsize=16)\n",
    "\n",
    "plt.subplot(122)\n",
    "plt.semilogy(reals.sim_mag, reals.SIGNIFICANCE, '.', label=r'$\\alpha$')\n",
    "plt.ylabel(r'$log_{10}\\alpha$', fontsize=16)\n",
    "plt.hlines(y=3.5, xmax=27, xmin=12., label=r'$3.5\\sigma$', alpha=0.3)\n",
    "plt.hlines(y=5, xmax=27, xmin=12., label=r'$5\\sigma$', alpha=0.5)\n",
    "plt.tick_params(labelsize=16)\n",
    "plt.xlabel('Simulated Magnitude', fontsize=16)\n",
    "plt.legend(loc='best', fontsize=16)\n",
    "plt.tight_layout()\n",
    "plt.savefig('significance_magnitudes.png', dpi=420)"
   ]
  },
  {
   "cell_type": "code",
   "execution_count": 17,
   "metadata": {
    "collapsed": true
   },
   "outputs": [],
   "source": [
    "def TruePositives(dt, thresh, tot_sim):\n",
    "    detections = dt[dt.SIGNIFICANCE>thresh]\n",
    "    return np.sum(detections.IS_REAL)/float(tot_sim)\n",
    "\n",
    "def FalseNegatives(dt, thresh, tot_sim):\n",
    "    return 1.-TruePositives(dt, thresh, tot_sim)\n",
    "\n",
    "def FalsePositives(dt, thresh, tot_sim):\n",
    "    detections = dt[dt.SIGNIFICANCE>thresh]\n",
    "    return (len(detections) - np.sum(detections.IS_REAL))/float(tot_sim)"
   ]
  },
  {
   "cell_type": "code",
   "execution_count": 18,
   "metadata": {
    "collapsed": true
   },
   "outputs": [],
   "source": [
    "tot_sim = len(simulated)"
   ]
  },
  {
   "cell_type": "code",
   "execution_count": 19,
   "metadata": {},
   "outputs": [
    {
     "data": {
      "image/png": "[encoded data removed]",
      "text/plain": [
       "<matplotlib.figure.Figure at 0x7f967e8abcd0>"
      ]
     },
     "metadata": {},
     "output_type": "display_data"
    }
   ],
   "source": [
    "plt.rcParams['text.usetex'] = True\n",
    "plt.figure(figsize=(8, 4))\n",
    "plt.fill_between(x=np.arange(0., 4., 0.1), y1=0.,\n",
    "                 y2=[TruePositives(dt_scr, th, tot_sim) for th in 10**np.arange(0., 4., 0.1)],\n",
    "                 label='Hallados', alpha=1)\n",
    "\n",
    "plt.fill_between(x=np.arange(0., 4., 0.1), \n",
    "                 y1=[TruePositives(dt_scr, th, tot_sim) for th in 10**np.arange(0., 4., 0.1)], \n",
    "                 y2=1, label='Perdidos')\n",
    "\n",
    "plt.fill_between(x=np.arange(0., 4., 0.1), y1=1.,\n",
    "                 y2=[1.+FalsePositives(dt_scr, th, tot_sim) for th in 10**np.arange(0., 4., 0.1)],\n",
    "                 label='Falsos')\n",
    "plt.vlines(x=np.log10(3.5), ymax=2.1, ymin=0., label=r'$3.5\\alpha$', alpha=0.3)\n",
    "plt.vlines(x=np.log10(5), linestyle=':', ymax=2.1, ymin=0., label=r'$5\\alpha$', alpha=0.5)\n",
    "\n",
    "plt.xlabel(r'$log_{10} \\ \\alpha$', fontsize=16)\n",
    "plt.ylabel('Fraccion', fontsize=16)\n",
    "plt.legend(loc='best', fontsize=16)\n",
    "plt.tick_params(labelsize=16)\n",
    "#plt.semilogy()\n",
    "plt.ylim(0, 4)\n",
    "plt.savefig('scorr_thresholds.png', dpi=480)"
   ]
  },
  {
   "cell_type": "code",
   "execution_count": 20,
   "metadata": {},
   "outputs": [
    {
     "data": {
      "image/png": "[encoded data removed]",
      "text/plain": [
       "<matplotlib.figure.Figure at 0x7f967e831190>"
      ]
     },
     "metadata": {},
     "output_type": "display_data"
    }
   ],
   "source": [
    "from matplotlib.ticker import NullFormatter\n",
    "\n",
    "nullfmt = NullFormatter()         # no labels\n",
    "\n",
    "#positions\n",
    "left, width = 0.12, 0.82\n",
    "bottom, height = 0.12, 0.42\n",
    "bottom_h = bottom + height + 0.02\n",
    "left_h = left + width + 0.02\n",
    "\n",
    "rect_scatter = [left, bottom, width, height]\n",
    "rect_histx = [left, bottom_h, width, 0.4]\n",
    "\n",
    "#figure\n",
    "plt.figure(1, figsize=(8, 6))\n",
    "\n",
    "axScatter = plt.axes(rect_scatter)\n",
    "axHistx = plt.axes(rect_histx)\n",
    "\n",
    "# no labels\n",
    "axHistx.xaxis.set_major_formatter(nullfmt)\n",
    "\n",
    "# the scatter plot:\n",
    "axScatter.hist(np.log10(bogus.SIGNIFICANCE[bogus.SIGNIFICANCE>0.]), alpha=0.9,\n",
    "         log=True, label='Bogus', bins=bins, histtype='stepfilled', lw=2,\n",
    "         linestyle='-', color=sns.color_palette()[2]) #, cumulative=True, normed=True)\n",
    "\n",
    "axScatter.hist(np.log10(reals.SIGNIFICANCE[reals.SIGNIFICANCE>0.]), alpha=0.6,\n",
    "         log=True, label='Reals', bins=bins, histtype='stepfilled', lw=2,\n",
    "         linestyle='--', color=sns.color_palette()[0]) #, cumulative=True, normed=True)\n",
    "\n",
    "axScatter.vlines(x=np.log10(3.5), ymax=10e5, ymin=0., label=r'$3.5\\sigma$', alpha=0.6)\n",
    "axScatter.vlines(x=np.log10(5), linestyle=':', ymax=10e5, ymin=0., label=r'$5\\sigma$', alpha=0.6)\n",
    "\n",
    "axScatter.set_xlabel(r'$log_{10}(\\alpha)$', fontsize=16)\n",
    "axScatter.set_ylabel('N', fontsize=16)\n",
    "\n",
    "axScatter.tick_params(labelsize=16)\n",
    "axScatter.legend(loc='best', fontsize=16)\n",
    "\n",
    "# now determine nice limits by hand:\n",
    "axScatter.set_xlim((0, 4))\n",
    "# axScatter.set_ylim((-lim, lim))\n",
    "\n",
    "axHistx.fill_between(x=bins, y1=0.,\n",
    "                 y2=[TruePositives(dt_scr, th, tot_sim) for th in 10**bins],\n",
    "                 label='TP', alpha=0.7)\n",
    "\n",
    "axHistx.fill_between(x=bins, \n",
    "                 y1=[TruePositives(dt_scr, th, tot_sim) for th in 10**bins], \n",
    "                 y2=1, label='FN', alpha=0.9)\n",
    "\n",
    "axHistx.fill_between(x=bins, y1=1.,\n",
    "                 y2=[1.+FalsePositives(dt_scr, th, tot_sim) for th in 10**bins],\n",
    "                 label='FP', alpha=0.9)\n",
    "axHistx.vlines(x=np.log10(3.5), ymax=2.1, ymin=0., alpha=0.6)#, label=r'$3.5\\sigma$', alpha=0.3)\n",
    "axHistx.vlines(x=np.log10(5), linestyle=':', ymax=2.1, ymin=0., alpha=0.6)#, label=r'$5\\sigma$', alpha=0.5)\n",
    "axHistx.set_ylim(0, 3)\n",
    "axHistx.set_ylabel('N', fontsize=14)\n",
    "axHistx.legend(loc='best', fontsize=14)\n",
    "axHistx.tick_params(labelsize=14)\n",
    "\n",
    "axHistx.tick_params(labelsize=14)\n",
    "axHistx.set_xlim(axScatter.get_xlim())\n",
    "axHistx.set_ylabel('N')\n",
    "\n",
    "plt.savefig('significance_values.pdf', format='pdf', dpi=420)"
   ]
  },
  {
   "cell_type": "code",
   "execution_count": null,
   "metadata": {
    "collapsed": true
   },
   "outputs": [],
   "source": []
  },
  {
   "cell_type": "code",
   "execution_count": null,
   "metadata": {
    "collapsed": true
   },
   "outputs": [],
   "source": []
  }
 ],
 "metadata": {
  "kernelspec": {
   "display_name": "Python 2",
   "language": "python",
   "name": "python2"
  },
  "language_info": {
   "codemirror_mode": {
    "name": "ipython",
    "version": 2
   },
   "file_extension": ".py",
   "mimetype": "text/x-python",
   "name": "python",
   "nbconvert_exporter": "python",
   "pygments_lexer": "ipython2",
   "version": "2.7.12"
  }
 },
 "nbformat": 4,
 "nbformat_minor": 2
}
