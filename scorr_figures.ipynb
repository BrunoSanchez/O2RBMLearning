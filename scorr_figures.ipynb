{
 "cells": [
  {
   "cell_type": "markdown",
   "metadata": {},
   "source": [
    "## $S_{corr} > 3.5 \\sigma$"
   ]
  },
  {
   "cell_type": "markdown",
   "metadata": {},
   "source": [
    "Como va la franja de reals y bogus?"
   ]
  },
  {
   "cell_type": "code",
   "execution_count": 1,
   "metadata": {
    "collapsed": true
   },
   "outputs": [],
   "source": [
    "import numpy as np\n",
    "%matplotlib inline\n",
    "import matplotlib.pyplot as plt\n",
    "import seaborn as sns"
   ]
  },
  {
   "cell_type": "code",
   "execution_count": 2,
   "metadata": {
    "collapsed": true
   },
   "outputs": [],
   "source": [
    "from sqlalchemy import create_engine\n",
    "import pandas as pd"
   ]
  },
  {
   "cell_type": "code",
   "execution_count": 3,
   "metadata": {
    "collapsed": true
   },
   "outputs": [],
   "source": [
    "sns.set_context(font_scale=16)\n",
    "plt.rcParams[\"patch.force_edgecolor\"] = True\n",
    "plt.rcParams['text.usetex'] = True"
   ]
  },
  {
   "cell_type": "code",
   "execution_count": 4,
   "metadata": {
    "collapsed": true
   },
   "outputs": [],
   "source": [
    "engine = create_engine('sqlite:///../O2RBpipeline/Hi_threshO2rbogus-dev.db')"
   ]
  },
  {
   "cell_type": "code",
   "execution_count": 5,
   "metadata": {
    "collapsed": true
   },
   "outputs": [],
   "source": [
    "simulated = pd.read_sql_query(\"\"\"SELECT * FROM Simulated\"\"\", engine)"
   ]
  },
  {
   "cell_type": "code",
   "execution_count": 6,
   "metadata": {
    "collapsed": true
   },
   "outputs": [],
   "source": [
    "dt_scr = pd.merge(pd.read_sql_table('SCorrDetected', engine),\n",
    "                  pd.read_sql_query(\"\"\"SELECT \n",
    "                                        SCorrDetected.id,\n",
    "                                        Simulated.app_mag as sim_mag,\n",
    "                                        Simulated.id as sim_id \n",
    "                                    FROM SCorrDetected\n",
    "                                        LEFT JOIN SCorrReals\n",
    "                                            ON SCorrDetected.id==SCorrReals.detected_id\n",
    "                                        LEFT JOIN Simulated\n",
    "                                            ON Simulated.id==SCorrReals.simulated_id\"\"\", engine),\n",
    "                                      on='id', suffixes=('',''))"
   ]
  },
  {
   "cell_type": "code",
   "execution_count": 7,
   "metadata": {},
   "outputs": [
    {
     "data": {
      "text/html": [
       "<div>\n",
       "<style>\n",
       "    .dataframe thead tr:only-child th {\n",
       "        text-align: right;\n",
       "    }\n",
       "\n",
       "    .dataframe thead th {\n",
       "        text-align: left;\n",
       "    }\n",
       "\n",
       "    .dataframe tbody tr th {\n",
       "        vertical-align: top;\n",
       "    }\n",
       "</style>\n",
       "<table border=\"1\" class=\"dataframe\">\n",
       "  <thead>\n",
       "    <tr style=\"text-align: right;\">\n",
       "      <th></th>\n",
       "      <th>id</th>\n",
       "      <th>X_IMAGE</th>\n",
       "      <th>Y_IMAGE</th>\n",
       "      <th>SIGNIFICANCE</th>\n",
       "      <th>image_id</th>\n",
       "      <th>sim_mag</th>\n",
       "      <th>sim_id</th>\n",
       "    </tr>\n",
       "  </thead>\n",
       "  <tbody>\n",
       "    <tr>\n",
       "      <th>count</th>\n",
       "      <td>98987.000000</td>\n",
       "      <td>98987.000000</td>\n",
       "      <td>98987.000000</td>\n",
       "      <td>98987.000000</td>\n",
       "      <td>98987.000000</td>\n",
       "      <td>1180.000000</td>\n",
       "      <td>1180.000000</td>\n",
       "    </tr>\n",
       "    <tr>\n",
       "      <th>mean</th>\n",
       "      <td>49494.000000</td>\n",
       "      <td>1133.441116</td>\n",
       "      <td>831.965084</td>\n",
       "      <td>36.968769</td>\n",
       "      <td>42.651843</td>\n",
       "      <td>14.281742</td>\n",
       "      <td>840.410169</td>\n",
       "    </tr>\n",
       "    <tr>\n",
       "      <th>std</th>\n",
       "      <td>28575.229885</td>\n",
       "      <td>739.509736</td>\n",
       "      <td>449.845043</td>\n",
       "      <td>114.541389</td>\n",
       "      <td>27.385795</td>\n",
       "      <td>1.639655</td>\n",
       "      <td>452.360080</td>\n",
       "    </tr>\n",
       "    <tr>\n",
       "      <th>min</th>\n",
       "      <td>1.000000</td>\n",
       "      <td>0.000000</td>\n",
       "      <td>0.000000</td>\n",
       "      <td>-209.793010</td>\n",
       "      <td>1.000000</td>\n",
       "      <td>9.470072</td>\n",
       "      <td>3.000000</td>\n",
       "    </tr>\n",
       "    <tr>\n",
       "      <th>25%</th>\n",
       "      <td>24747.500000</td>\n",
       "      <td>482.000000</td>\n",
       "      <td>491.000000</td>\n",
       "      <td>19.834314</td>\n",
       "      <td>18.000000</td>\n",
       "      <td>12.983424</td>\n",
       "      <td>436.750000</td>\n",
       "    </tr>\n",
       "    <tr>\n",
       "      <th>50%</th>\n",
       "      <td>49494.000000</td>\n",
       "      <td>1058.000000</td>\n",
       "      <td>835.000000</td>\n",
       "      <td>24.443863</td>\n",
       "      <td>41.000000</td>\n",
       "      <td>14.409801</td>\n",
       "      <td>826.500000</td>\n",
       "    </tr>\n",
       "    <tr>\n",
       "      <th>75%</th>\n",
       "      <td>74240.500000</td>\n",
       "      <td>1653.437906</td>\n",
       "      <td>1216.000000</td>\n",
       "      <td>34.836457</td>\n",
       "      <td>65.000000</td>\n",
       "      <td>15.466535</td>\n",
       "      <td>1217.250000</td>\n",
       "    </tr>\n",
       "    <tr>\n",
       "      <th>max</th>\n",
       "      <td>98987.000000</td>\n",
       "      <td>3600.000000</td>\n",
       "      <td>3697.096021</td>\n",
       "      <td>11651.760465</td>\n",
       "      <td>113.000000</td>\n",
       "      <td>18.534565</td>\n",
       "      <td>1684.000000</td>\n",
       "    </tr>\n",
       "  </tbody>\n",
       "</table>\n",
       "</div>"
      ],
      "text/plain": [
       "                 id       X_IMAGE       Y_IMAGE  SIGNIFICANCE      image_id  \\\n",
       "count  98987.000000  98987.000000  98987.000000  98987.000000  98987.000000   \n",
       "mean   49494.000000   1133.441116    831.965084     36.968769     42.651843   \n",
       "std    28575.229885    739.509736    449.845043    114.541389     27.385795   \n",
       "min        1.000000      0.000000      0.000000   -209.793010      1.000000   \n",
       "25%    24747.500000    482.000000    491.000000     19.834314     18.000000   \n",
       "50%    49494.000000   1058.000000    835.000000     24.443863     41.000000   \n",
       "75%    74240.500000   1653.437906   1216.000000     34.836457     65.000000   \n",
       "max    98987.000000   3600.000000   3697.096021  11651.760465    113.000000   \n",
       "\n",
       "           sim_mag       sim_id  \n",
       "count  1180.000000  1180.000000  \n",
       "mean     14.281742   840.410169  \n",
       "std       1.639655   452.360080  \n",
       "min       9.470072     3.000000  \n",
       "25%      12.983424   436.750000  \n",
       "50%      14.409801   826.500000  \n",
       "75%      15.466535  1217.250000  \n",
       "max      18.534565  1684.000000  "
      ]
     },
     "execution_count": 7,
     "metadata": {},
     "output_type": "execute_result"
    }
   ],
   "source": [
    "dt_scr.describe()"
   ]
  },
  {
   "cell_type": "code",
   "execution_count": 8,
   "metadata": {
    "collapsed": true
   },
   "outputs": [],
   "source": [
    "reals = dt_scr[dt_scr.IS_REAL==True]\n",
    "bogus = dt_scr[dt_scr.IS_REAL==False]"
   ]
  },
  {
   "cell_type": "code",
   "execution_count": 9,
   "metadata": {},
   "outputs": [
    {
     "data": {
      "text/html": [
       "<div>\n",
       "<style>\n",
       "    .dataframe thead tr:only-child th {\n",
       "        text-align: right;\n",
       "    }\n",
       "\n",
       "    .dataframe thead th {\n",
       "        text-align: left;\n",
       "    }\n",
       "\n",
       "    .dataframe tbody tr th {\n",
       "        vertical-align: top;\n",
       "    }\n",
       "</style>\n",
       "<table border=\"1\" class=\"dataframe\">\n",
       "  <thead>\n",
       "    <tr style=\"text-align: right;\">\n",
       "      <th></th>\n",
       "      <th>id</th>\n",
       "      <th>X_IMAGE</th>\n",
       "      <th>Y_IMAGE</th>\n",
       "      <th>SIGNIFICANCE</th>\n",
       "      <th>image_id</th>\n",
       "      <th>sim_mag</th>\n",
       "      <th>sim_id</th>\n",
       "    </tr>\n",
       "  </thead>\n",
       "  <tbody>\n",
       "    <tr>\n",
       "      <th>count</th>\n",
       "      <td>1180.000000</td>\n",
       "      <td>1180.000000</td>\n",
       "      <td>1180.000000</td>\n",
       "      <td>1180.000000</td>\n",
       "      <td>1180.000000</td>\n",
       "      <td>1180.000000</td>\n",
       "      <td>1180.000000</td>\n",
       "    </tr>\n",
       "    <tr>\n",
       "      <th>mean</th>\n",
       "      <td>62352.150000</td>\n",
       "      <td>1123.602731</td>\n",
       "      <td>774.238277</td>\n",
       "      <td>149.261773</td>\n",
       "      <td>56.492373</td>\n",
       "      <td>14.281742</td>\n",
       "      <td>840.410169</td>\n",
       "    </tr>\n",
       "    <tr>\n",
       "      <th>std</th>\n",
       "      <td>28518.499033</td>\n",
       "      <td>675.124148</td>\n",
       "      <td>430.096368</td>\n",
       "      <td>245.477827</td>\n",
       "      <td>30.161692</td>\n",
       "      <td>1.639655</td>\n",
       "      <td>452.360080</td>\n",
       "    </tr>\n",
       "    <tr>\n",
       "      <th>min</th>\n",
       "      <td>95.000000</td>\n",
       "      <td>44.780203</td>\n",
       "      <td>41.677686</td>\n",
       "      <td>-0.102796</td>\n",
       "      <td>1.000000</td>\n",
       "      <td>9.470072</td>\n",
       "      <td>3.000000</td>\n",
       "    </tr>\n",
       "    <tr>\n",
       "      <th>25%</th>\n",
       "      <td>40178.500000</td>\n",
       "      <td>571.317479</td>\n",
       "      <td>405.339371</td>\n",
       "      <td>33.688783</td>\n",
       "      <td>30.000000</td>\n",
       "      <td>12.983424</td>\n",
       "      <td>436.750000</td>\n",
       "    </tr>\n",
       "    <tr>\n",
       "      <th>50%</th>\n",
       "      <td>62299.000000</td>\n",
       "      <td>1051.264796</td>\n",
       "      <td>741.502265</td>\n",
       "      <td>64.688356</td>\n",
       "      <td>56.000000</td>\n",
       "      <td>14.409801</td>\n",
       "      <td>826.500000</td>\n",
       "    </tr>\n",
       "    <tr>\n",
       "      <th>75%</th>\n",
       "      <td>87224.750000</td>\n",
       "      <td>1547.783619</td>\n",
       "      <td>1130.291957</td>\n",
       "      <td>158.858388</td>\n",
       "      <td>82.000000</td>\n",
       "      <td>15.466535</td>\n",
       "      <td>1217.250000</td>\n",
       "    </tr>\n",
       "    <tr>\n",
       "      <th>max</th>\n",
       "      <td>98975.000000</td>\n",
       "      <td>3219.248626</td>\n",
       "      <td>3057.100048</td>\n",
       "      <td>4035.875191</td>\n",
       "      <td>113.000000</td>\n",
       "      <td>18.534565</td>\n",
       "      <td>1684.000000</td>\n",
       "    </tr>\n",
       "  </tbody>\n",
       "</table>\n",
       "</div>"
      ],
      "text/plain": [
       "                 id      X_IMAGE      Y_IMAGE  SIGNIFICANCE     image_id  \\\n",
       "count   1180.000000  1180.000000  1180.000000   1180.000000  1180.000000   \n",
       "mean   62352.150000  1123.602731   774.238277    149.261773    56.492373   \n",
       "std    28518.499033   675.124148   430.096368    245.477827    30.161692   \n",
       "min       95.000000    44.780203    41.677686     -0.102796     1.000000   \n",
       "25%    40178.500000   571.317479   405.339371     33.688783    30.000000   \n",
       "50%    62299.000000  1051.264796   741.502265     64.688356    56.000000   \n",
       "75%    87224.750000  1547.783619  1130.291957    158.858388    82.000000   \n",
       "max    98975.000000  3219.248626  3057.100048   4035.875191   113.000000   \n",
       "\n",
       "           sim_mag       sim_id  \n",
       "count  1180.000000  1180.000000  \n",
       "mean     14.281742   840.410169  \n",
       "std       1.639655   452.360080  \n",
       "min       9.470072     3.000000  \n",
       "25%      12.983424   436.750000  \n",
       "50%      14.409801   826.500000  \n",
       "75%      15.466535  1217.250000  \n",
       "max      18.534565  1684.000000  "
      ]
     },
     "execution_count": 9,
     "metadata": {},
     "output_type": "execute_result"
    }
   ],
   "source": [
    "reals.describe()"
   ]
  },
  {
   "cell_type": "code",
   "execution_count": 10,
   "metadata": {},
   "outputs": [
    {
     "data": {
      "text/html": [
       "<div>\n",
       "<style>\n",
       "    .dataframe thead tr:only-child th {\n",
       "        text-align: right;\n",
       "    }\n",
       "\n",
       "    .dataframe thead th {\n",
       "        text-align: left;\n",
       "    }\n",
       "\n",
       "    .dataframe tbody tr th {\n",
       "        vertical-align: top;\n",
       "    }\n",
       "</style>\n",
       "<table border=\"1\" class=\"dataframe\">\n",
       "  <thead>\n",
       "    <tr style=\"text-align: right;\">\n",
       "      <th></th>\n",
       "      <th>id</th>\n",
       "      <th>X_IMAGE</th>\n",
       "      <th>Y_IMAGE</th>\n",
       "      <th>SIGNIFICANCE</th>\n",
       "      <th>image_id</th>\n",
       "      <th>sim_mag</th>\n",
       "      <th>sim_id</th>\n",
       "    </tr>\n",
       "  </thead>\n",
       "  <tbody>\n",
       "    <tr>\n",
       "      <th>count</th>\n",
       "      <td>97807.000000</td>\n",
       "      <td>97807.000000</td>\n",
       "      <td>97807.000000</td>\n",
       "      <td>97807.000000</td>\n",
       "      <td>97807.000000</td>\n",
       "      <td>0.0</td>\n",
       "      <td>0.0</td>\n",
       "    </tr>\n",
       "    <tr>\n",
       "      <th>mean</th>\n",
       "      <td>49338.871870</td>\n",
       "      <td>1133.559812</td>\n",
       "      <td>832.661533</td>\n",
       "      <td>35.614002</td>\n",
       "      <td>42.484863</td>\n",
       "      <td>NaN</td>\n",
       "      <td>NaN</td>\n",
       "    </tr>\n",
       "    <tr>\n",
       "      <th>std</th>\n",
       "      <td>28540.714946</td>\n",
       "      <td>740.254690</td>\n",
       "      <td>450.034911</td>\n",
       "      <td>111.344747</td>\n",
       "      <td>27.307962</td>\n",
       "      <td>NaN</td>\n",
       "      <td>NaN</td>\n",
       "    </tr>\n",
       "    <tr>\n",
       "      <th>min</th>\n",
       "      <td>1.000000</td>\n",
       "      <td>0.000000</td>\n",
       "      <td>0.000000</td>\n",
       "      <td>-209.793010</td>\n",
       "      <td>1.000000</td>\n",
       "      <td>NaN</td>\n",
       "      <td>NaN</td>\n",
       "    </tr>\n",
       "    <tr>\n",
       "      <th>25%</th>\n",
       "      <td>24595.500000</td>\n",
       "      <td>482.000000</td>\n",
       "      <td>493.000000</td>\n",
       "      <td>19.802403</td>\n",
       "      <td>18.000000</td>\n",
       "      <td>NaN</td>\n",
       "      <td>NaN</td>\n",
       "    </tr>\n",
       "    <tr>\n",
       "      <th>50%</th>\n",
       "      <td>49300.000000</td>\n",
       "      <td>1058.000000</td>\n",
       "      <td>836.000000</td>\n",
       "      <td>24.340729</td>\n",
       "      <td>41.000000</td>\n",
       "      <td>NaN</td>\n",
       "      <td>NaN</td>\n",
       "    </tr>\n",
       "    <tr>\n",
       "      <th>75%</th>\n",
       "      <td>74035.500000</td>\n",
       "      <td>1655.000000</td>\n",
       "      <td>1216.000000</td>\n",
       "      <td>34.424800</td>\n",
       "      <td>65.000000</td>\n",
       "      <td>NaN</td>\n",
       "      <td>NaN</td>\n",
       "    </tr>\n",
       "    <tr>\n",
       "      <th>max</th>\n",
       "      <td>98987.000000</td>\n",
       "      <td>3600.000000</td>\n",
       "      <td>3697.096021</td>\n",
       "      <td>11651.760465</td>\n",
       "      <td>113.000000</td>\n",
       "      <td>NaN</td>\n",
       "      <td>NaN</td>\n",
       "    </tr>\n",
       "  </tbody>\n",
       "</table>\n",
       "</div>"
      ],
      "text/plain": [
       "                 id       X_IMAGE       Y_IMAGE  SIGNIFICANCE      image_id  \\\n",
       "count  97807.000000  97807.000000  97807.000000  97807.000000  97807.000000   \n",
       "mean   49338.871870   1133.559812    832.661533     35.614002     42.484863   \n",
       "std    28540.714946    740.254690    450.034911    111.344747     27.307962   \n",
       "min        1.000000      0.000000      0.000000   -209.793010      1.000000   \n",
       "25%    24595.500000    482.000000    493.000000     19.802403     18.000000   \n",
       "50%    49300.000000   1058.000000    836.000000     24.340729     41.000000   \n",
       "75%    74035.500000   1655.000000   1216.000000     34.424800     65.000000   \n",
       "max    98987.000000   3600.000000   3697.096021  11651.760465    113.000000   \n",
       "\n",
       "       sim_mag  sim_id  \n",
       "count      0.0     0.0  \n",
       "mean       NaN     NaN  \n",
       "std        NaN     NaN  \n",
       "min        NaN     NaN  \n",
       "25%        NaN     NaN  \n",
       "50%        NaN     NaN  \n",
       "75%        NaN     NaN  \n",
       "max        NaN     NaN  "
      ]
     },
     "execution_count": 10,
     "metadata": {},
     "output_type": "execute_result"
    }
   ],
   "source": [
    "bogus.describe()"
   ]
  },
  {
   "cell_type": "code",
   "execution_count": 11,
   "metadata": {},
   "outputs": [
    {
     "name": "stdout",
     "output_type": "stream",
     "text": [
      "24\n",
      "2371\n"
     ]
    }
   ],
   "source": [
    "print sum(reals.SIGNIFICANCE<=0.)\n",
    "print sum(bogus.SIGNIFICANCE<=0.)"
   ]
  },
  {
   "cell_type": "code",
   "execution_count": 12,
   "metadata": {
    "scrolled": false
   },
   "outputs": [
    {
     "data": {
      "image/png": "[encoded data removed]",
      "text/plain": [
       "<matplotlib.figure.Figure at 0x7ff329ad7b90>"
      ]
     },
     "metadata": {},
     "output_type": "display_data"
    }
   ],
   "source": [
    "bins=np.arange(0, 4, .1)\n",
    "\n",
    "plt.hist(np.log10(bogus.SIGNIFICANCE[bogus.SIGNIFICANCE>0.]), \n",
    "         log=True, alpha=1, label='Bogus', bins=bins, histtype='step', lw=2,\n",
    "         linestyle='-') #, cumulative=True, normed=True)\n",
    "\n",
    "plt.hist(np.log10(reals.SIGNIFICANCE[reals.SIGNIFICANCE>0.]), \n",
    "         log=True, alpha=1, label='Reals', bins=bins, histtype='step', lw=2,\n",
    "         linestyle='--') #, cumulative=True, normed=True)\n",
    "\n",
    "plt.vlines(x=np.log10(3.5), ymax=10e5, ymin=0., label=r'$3.5\\sigma$', alpha=0.3)\n",
    "plt.vlines(x=np.log10(5), linestyle=':', ymax=10e5, ymin=0., label=r'$5\\sigma$', alpha=0.5)\n",
    "\n",
    "plt.xlabel(r'$log_{10}(\\alpha)$', fontsize=16)\n",
    "plt.ylabel('N', fontsize=16)\n",
    "\n",
    "plt.tick_params(labelsize=16)\n",
    "plt.legend(loc='best', fontsize=16)\n",
    "plt.savefig('significances.png', dpi=400)"
   ]
  },
  {
   "cell_type": "code",
   "execution_count": 13,
   "metadata": {},
   "outputs": [
    {
     "data": {
      "image/png": "[encoded data removed]",
      "text/plain": [
       "<matplotlib.figure.Figure at 0x7ff329a3d050>"
      ]
     },
     "metadata": {},
     "output_type": "display_data"
    }
   ],
   "source": [
    "plt.semilogy(reals.sim_mag, reals.SIGNIFICANCE, '.', alpha=0.6,label=r'Obj Hallados')\n",
    "plt.ylabel(r'$log_{10}(\\alpha)$', fontsize=16)\n",
    "plt.hlines(y=3.5, xmax=27, xmin=8., label=r'$3.5\\sigma$', alpha=0.3)\n",
    "plt.hlines(y=5, xmax=27, xmin=8., label=r'$5\\sigma$', alpha=0.5)\n",
    "plt.tick_params(labelsize=16)\n",
    "plt.xlabel('$Mag_{sim}$', fontsize=16)\n",
    "plt.legend(loc='best', fontsize=16)\n",
    "plt.savefig('mag_vs_significance.png', dpi=420)"
   ]
  },
  {
   "cell_type": "code",
   "execution_count": 14,
   "metadata": {},
   "outputs": [
    {
     "data": {
      "text/plain": [
       "1135"
      ]
     },
     "execution_count": 14,
     "metadata": {},
     "output_type": "execute_result"
    }
   ],
   "source": [
    "sum(reals.SIGNIFICANCE>5.)#/float(sum(reals.SIGNIFICANCE>3.5))"
   ]
  },
  {
   "cell_type": "code",
   "execution_count": 15,
   "metadata": {},
   "outputs": [
    {
     "data": {
      "text/plain": [
       "0.961864406779661"
      ]
     },
     "execution_count": 15,
     "metadata": {},
     "output_type": "execute_result"
    }
   ],
   "source": [
    "float(sum(reals.SIGNIFICANCE>3.5))/len(reals)"
   ]
  },
  {
   "cell_type": "code",
   "execution_count": 16,
   "metadata": {},
   "outputs": [
    {
     "data": {
      "image/png": "[encoded data removed]",
      "text/plain": [
       "<matplotlib.figure.Figure at 0x7ff32976ba50>"
      ]
     },
     "metadata": {},
     "output_type": "display_data"
    }
   ],
   "source": [
    "plt.figure(figsize=(10, 5))\n",
    "plt.subplot(121)\n",
    "bins=np.arange(0, 4, .1)\n",
    "\n",
    "plt.hist(np.log10(bogus.SIGNIFICANCE[bogus.SIGNIFICANCE>0.]), \n",
    "         log=True, alpha=1, label='Bogus', bins=bins, histtype='step', lw=2,\n",
    "         linestyle='-') #, cumulative=True, normed=True)\n",
    "\n",
    "plt.hist(np.log10(reals.SIGNIFICANCE[reals.SIGNIFICANCE>0.]), \n",
    "         log=True, alpha=1, label='Reals', bins=bins, histtype='step', lw=2,\n",
    "         linestyle='--') #, cumulative=True, normed=True)\n",
    "\n",
    "plt.vlines(x=np.log10(3.5), ymax=10e5, ymin=0., label=r'$3.5\\sigma$', alpha=0.3)\n",
    "plt.vlines(x=np.log10(5), linestyle=':', ymax=10e5, ymin=0., label=r'$5\\sigma$', alpha=0.5)\n",
    "\n",
    "plt.xlabel(r'$log_{10}(\\alpha)$', fontsize=16)\n",
    "plt.ylabel('N', fontsize=16)\n",
    "\n",
    "plt.tick_params(labelsize=16)\n",
    "plt.legend(loc='best', fontsize=16)\n",
    "\n",
    "plt.subplot(122)\n",
    "plt.semilogy(reals.sim_mag, reals.SIGNIFICANCE, '.', label=r'$\\alpha$')\n",
    "plt.ylabel(r'$log_{10}\\alpha$', fontsize=16)\n",
    "plt.hlines(y=3.5, xmax=27, xmin=12., label=r'$3.5\\sigma$', alpha=0.3)\n",
    "plt.hlines(y=5, xmax=27, xmin=12., label=r'$5\\sigma$', alpha=0.5)\n",
    "plt.tick_params(labelsize=16)\n",
    "plt.xlabel('Simulated Magnitude', fontsize=16)\n",
    "plt.legend(loc='best', fontsize=16)\n",
    "plt.tight_layout()\n",
    "plt.savefig('significance_magnitudes.png', dpi=420)"
   ]
  },
  {
   "cell_type": "code",
   "execution_count": 17,
   "metadata": {
    "collapsed": true
   },
   "outputs": [],
   "source": [
    "def TruePositives(dt, thresh, tot_sim):\n",
    "    detections = dt[dt.SIGNIFICANCE>thresh]\n",
    "    return np.sum(detections.IS_REAL)/float(tot_sim)\n",
    "\n",
    "def FalseNegatives(dt, thresh, tot_sim):\n",
    "    return 1.-TruePositives(dt, thresh, tot_sim)\n",
    "\n",
    "def FalsePositives(dt, thresh, tot_sim):\n",
    "    detections = dt[dt.SIGNIFICANCE>thresh]\n",
    "    return (len(detections) - np.sum(detections.IS_REAL))/float(tot_sim)"
   ]
  },
  {
   "cell_type": "code",
   "execution_count": 18,
   "metadata": {
    "collapsed": true
   },
   "outputs": [],
   "source": [
    "tot_sim = len(simulated)"
   ]
  },
  {
   "cell_type": "code",
   "execution_count": 19,
   "metadata": {},
   "outputs": [
    {
     "data": {
      "image/png": "[encoded data removed]",
      "text/plain": [
       "<matplotlib.figure.Figure at 0x7fc48ea324d0>"
      ]
     },
     "metadata": {},
     "output_type": "display_data"
    }
   ],
   "source": [
    "plt.rcParams['text.usetex'] = True\n",
    "plt.figure(figsize=(8, 4))\n",
    "plt.fill_between(x=np.arange(0., 4., 0.1), y1=0.,\n",
    "                 y2=[TruePositives(dt_scr, th, tot_sim) for th in 10**np.arange(0., 4., 0.1)],\n",
    "                 label='Hallados', alpha=1)\n",
    "\n",
    "plt.fill_between(x=np.arange(0., 4., 0.1), \n",
    "                 y1=[TruePositives(dt_scr, th, tot_sim) for th in 10**np.arange(0., 4., 0.1)], \n",
    "                 y2=1, label='Perdidos')\n",
    "\n",
    "plt.fill_between(x=np.arange(0., 4., 0.1), y1=1.,\n",
    "                 y2=[1.+FalsePositives(dt_scr, th, tot_sim) for th in 10**np.arange(0., 4., 0.1)],\n",
    "                 label='Falsos')\n",
    "plt.vlines(x=np.log10(3.5), ymax=2.1, ymin=0., label=r'$3.5\\alpha$', alpha=0.3)\n",
    "plt.vlines(x=np.log10(5), linestyle=':', ymax=2.1, ymin=0., label=r'$5\\alpha$', alpha=0.5)\n",
    "\n",
    "plt.xlabel(r'$log_{10} \\ \\alpha$', fontsize=16)\n",
    "plt.ylabel('Fraccion', fontsize=16)\n",
    "plt.legend(loc='best', fontsize=16)\n",
    "plt.tick_params(labelsize=16)\n",
    "plt.semilogy()\n",
    "plt.savefig('scorr_thresholds.png', dpi=480)"
   ]
  },
  {
   "cell_type": "code",
   "execution_count": 20,
   "metadata": {},
   "outputs": [
    {
     "data": {
      "image/png": "[encoded data removed]",
      "text/plain": [
       "<matplotlib.figure.Figure at 0x7fc48e258510>"
      ]
     },
     "metadata": {},
     "output_type": "display_data"
    }
   ],
   "source": [
    "from matplotlib.ticker import NullFormatter\n",
    "\n",
    "nullfmt = NullFormatter()         # no labels\n",
    "\n",
    "#positions\n",
    "left, width = 0.12, 0.82\n",
    "bottom, height = 0.12, 0.42\n",
    "bottom_h = bottom + height + 0.02\n",
    "left_h = left + width + 0.02\n",
    "\n",
    "rect_scatter = [left, bottom, width, height]\n",
    "rect_histx = [left, bottom_h, width, 0.4]\n",
    "\n",
    "#figure\n",
    "plt.figure(1, figsize=(8, 6))\n",
    "\n",
    "axScatter = plt.axes(rect_scatter)\n",
    "axHistx = plt.axes(rect_histx)\n",
    "\n",
    "# no labels\n",
    "axHistx.xaxis.set_major_formatter(nullfmt)\n",
    "\n",
    "# the scatter plot:\n",
    "axScatter.hist(np.log10(bogus.SIGNIFICANCE[bogus.SIGNIFICANCE>0.]), alpha=0.9,\n",
    "         log=True, label='Bogus', bins=bins, histtype='stepfilled', lw=2,\n",
    "         linestyle='-', color=sns.color_palette()[2]) #, cumulative=True, normed=True)\n",
    "\n",
    "axScatter.hist(np.log10(reals.SIGNIFICANCE[reals.SIGNIFICANCE>0.]), alpha=0.6,\n",
    "         log=True, label='Reals', bins=bins, histtype='stepfilled', lw=2,\n",
    "         linestyle='--', color=sns.color_palette()[0]) #, cumulative=True, normed=True)\n",
    "\n",
    "axScatter.vlines(x=np.log10(3.5), ymax=10e5, ymin=0., label=r'$3.5\\sigma$', alpha=0.6)\n",
    "axScatter.vlines(x=np.log10(5), linestyle=':', ymax=10e5, ymin=0., label=r'$5\\sigma$', alpha=0.6)\n",
    "\n",
    "axScatter.set_xlabel(r'$log_{10}(\\alpha)$', fontsize=16)\n",
    "axScatter.set_ylabel('N', fontsize=16)\n",
    "\n",
    "axScatter.tick_params(labelsize=16)\n",
    "axScatter.legend(loc='best', fontsize=16)\n",
    "\n",
    "# now determine nice limits by hand:\n",
    "axScatter.set_xlim((0, 4))\n",
    "# axScatter.set_ylim((-lim, lim))\n",
    "\n",
    "axHistx.fill_between(x=bins, y1=0.,\n",
    "                 y2=[TruePositives(dt_scr, th, tot_sim) for th in 10**bins],\n",
    "                 label='TP', alpha=0.7)\n",
    "\n",
    "axHistx.fill_between(x=bins, \n",
    "                 y1=[TruePositives(dt_scr, th, tot_sim) for th in 10**bins], \n",
    "                 y2=1, label='FN', alpha=0.9)\n",
    "\n",
    "axHistx.fill_between(x=bins, y1=1.,\n",
    "                 y2=[1.+FalsePositives(dt_scr, th, tot_sim) for th in 10**bins],\n",
    "                 label='FP', alpha=0.9)\n",
    "axHistx.vlines(x=np.log10(3.5), ymax=2.1, ymin=0., alpha=0.6)#, label=r'$3.5\\sigma$', alpha=0.3)\n",
    "axHistx.vlines(x=np.log10(5), linestyle=':', ymax=2.1, ymin=0., alpha=0.6)#, label=r'$5\\sigma$', alpha=0.5)\n",
    "\n",
    "axHistx.set_ylabel('N', fontsize=14)\n",
    "axHistx.legend(loc='best', fontsize=14)\n",
    "axHistx.tick_params(labelsize=14)\n",
    "\n",
    "axHistx.tick_params(labelsize=14)\n",
    "axHistx.set_xlim(axScatter.get_xlim())\n",
    "axHistx.set_ylabel('N')\n",
    "\n",
    "plt.savefig('significance_values.pdf', format='pdf', dpi=420)"
   ]
  },
  {
   "cell_type": "code",
   "execution_count": 21,
   "metadata": {},
   "outputs": [
    {
     "data": {
      "text/plain": [
       "(0.29803921568627451, 0.44705882352941179, 0.69019607843137254)"
      ]
     },
     "execution_count": 21,
     "metadata": {},
     "output_type": "execute_result"
    }
   ],
   "source": [
    "sns.color_palette()[0]"
   ]
  },
  {
   "cell_type": "code",
   "execution_count": null,
   "metadata": {
    "collapsed": true
   },
   "outputs": [],
   "source": []
  },
  {
   "cell_type": "code",
   "execution_count": null,
   "metadata": {
    "collapsed": true
   },
   "outputs": [],
   "source": []
  }
 ],
 "metadata": {
  "kernelspec": {
   "display_name": "Python 2",
   "language": "python",
   "name": "python2"
  },
  "language_info": {
   "codemirror_mode": {
    "name": "ipython",
    "version": 2
   },
   "file_extension": ".py",
   "mimetype": "text/x-python",
   "name": "python",
   "nbconvert_exporter": "python",
   "pygments_lexer": "ipython2",
   "version": "2.7.9"
  }
 },
 "nbformat": 4,
 "nbformat_minor": 2
}
