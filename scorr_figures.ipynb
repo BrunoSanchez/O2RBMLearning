{
 "cells": [
  {
   "cell_type": "markdown",
   "metadata": {},
   "source": [
    "## $S_{corr} > 3.5 \\sigma$"
   ]
  },
  {
   "cell_type": "markdown",
   "metadata": {},
   "source": [
    "Como va la franja de reals y bogus?"
   ]
  },
  {
   "cell_type": "code",
   "execution_count": 1,
   "metadata": {
    "collapsed": true
   },
   "outputs": [],
   "source": [
    "import numpy as np\n",
    "%matplotlib inline\n",
    "import matplotlib.pyplot as plt\n",
    "import seaborn as sns"
   ]
  },
  {
   "cell_type": "code",
   "execution_count": 2,
   "metadata": {
    "collapsed": true
   },
   "outputs": [],
   "source": [
    "from sqlalchemy import create_engine\n",
    "import pandas as pd"
   ]
  },
  {
   "cell_type": "code",
   "execution_count": 3,
   "metadata": {
    "collapsed": true
   },
   "outputs": [],
   "source": [
    "sns.set_context(font_scale=16)\n",
    "plt.rcParams[\"patch.force_edgecolor\"] = True\n",
    "plt.rcParams['text.usetex'] = True"
   ]
  },
  {
   "cell_type": "code",
   "execution_count": 4,
   "metadata": {
    "collapsed": true
   },
   "outputs": [],
   "source": [
    "engine = create_engine('sqlite:///../O2RBpipeline/O2rbogus-dev.db')"
   ]
  },
  {
   "cell_type": "code",
   "execution_count": 5,
   "metadata": {
    "collapsed": true
   },
   "outputs": [],
   "source": [
    "simulated = pd.read_sql_query(\"\"\"SELECT * FROM Simulated\"\"\", engine)"
   ]
  },
  {
   "cell_type": "code",
   "execution_count": 6,
   "metadata": {
    "collapsed": true
   },
   "outputs": [],
   "source": [
    "dt_scr = pd.merge(pd.read_sql_table('SCorrDetected', engine),\n",
    "                  pd.read_sql_query(\"\"\"SELECT \n",
    "                                        SCorrDetected.id,\n",
    "                                        Simulated.app_mag as sim_mag,\n",
    "                                        Simulated.id as sim_id \n",
    "                                    FROM SCorrDetected\n",
    "                                        LEFT JOIN SCorrReals\n",
    "                                            ON SCorrDetected.id==SCorrReals.detected_id\n",
    "                                        LEFT JOIN Simulated\n",
    "                                            ON Simulated.id==SCorrReals.simulated_id\"\"\", engine),\n",
    "                                      on='id', suffixes=('',''))"
   ]
  },
  {
   "cell_type": "code",
   "execution_count": 7,
   "metadata": {},
   "outputs": [
    {
     "data": {
      "text/html": [
       "<div>\n",
       "<style>\n",
       "    .dataframe thead tr:only-child th {\n",
       "        text-align: right;\n",
       "    }\n",
       "\n",
       "    .dataframe thead th {\n",
       "        text-align: left;\n",
       "    }\n",
       "\n",
       "    .dataframe tbody tr th {\n",
       "        vertical-align: top;\n",
       "    }\n",
       "</style>\n",
       "<table border=\"1\" class=\"dataframe\">\n",
       "  <thead>\n",
       "    <tr style=\"text-align: right;\">\n",
       "      <th></th>\n",
       "      <th>id</th>\n",
       "      <th>X_IMAGE</th>\n",
       "      <th>Y_IMAGE</th>\n",
       "      <th>SIGNIFICANCE</th>\n",
       "      <th>image_id</th>\n",
       "      <th>sim_mag</th>\n",
       "      <th>sim_id</th>\n",
       "    </tr>\n",
       "  </thead>\n",
       "  <tbody>\n",
       "    <tr>\n",
       "      <th>count</th>\n",
       "      <td>587170.000000</td>\n",
       "      <td>587170.000000</td>\n",
       "      <td>587170.000000</td>\n",
       "      <td>587170.000000</td>\n",
       "      <td>587170.000000</td>\n",
       "      <td>968.000000</td>\n",
       "      <td>968.000000</td>\n",
       "    </tr>\n",
       "    <tr>\n",
       "      <th>mean</th>\n",
       "      <td>293585.500000</td>\n",
       "      <td>1059.390932</td>\n",
       "      <td>800.615173</td>\n",
       "      <td>6.908565</td>\n",
       "      <td>30.521316</td>\n",
       "      <td>-10.693388</td>\n",
       "      <td>802.698347</td>\n",
       "    </tr>\n",
       "    <tr>\n",
       "      <th>std</th>\n",
       "      <td>169501.523118</td>\n",
       "      <td>712.352873</td>\n",
       "      <td>453.531687</td>\n",
       "      <td>33.939664</td>\n",
       "      <td>23.872445</td>\n",
       "      <td>1.787294</td>\n",
       "      <td>429.581892</td>\n",
       "    </tr>\n",
       "    <tr>\n",
       "      <th>min</th>\n",
       "      <td>1.000000</td>\n",
       "      <td>0.000000</td>\n",
       "      <td>0.000000</td>\n",
       "      <td>-532.262378</td>\n",
       "      <td>1.000000</td>\n",
       "      <td>-15.914011</td>\n",
       "      <td>1.000000</td>\n",
       "    </tr>\n",
       "    <tr>\n",
       "      <th>25%</th>\n",
       "      <td>146793.250000</td>\n",
       "      <td>463.000000</td>\n",
       "      <td>407.604964</td>\n",
       "      <td>3.797409</td>\n",
       "      <td>12.000000</td>\n",
       "      <td>-11.959879</td>\n",
       "      <td>428.750000</td>\n",
       "    </tr>\n",
       "    <tr>\n",
       "      <th>50%</th>\n",
       "      <td>293585.500000</td>\n",
       "      <td>945.706907</td>\n",
       "      <td>797.000000</td>\n",
       "      <td>4.671467</td>\n",
       "      <td>21.000000</td>\n",
       "      <td>-10.674324</td>\n",
       "      <td>789.500000</td>\n",
       "    </tr>\n",
       "    <tr>\n",
       "      <th>75%</th>\n",
       "      <td>440377.750000</td>\n",
       "      <td>1520.244982</td>\n",
       "      <td>1194.000000</td>\n",
       "      <td>6.566639</td>\n",
       "      <td>49.000000</td>\n",
       "      <td>-9.528479</td>\n",
       "      <td>1174.250000</td>\n",
       "    </tr>\n",
       "    <tr>\n",
       "      <th>max</th>\n",
       "      <td>587170.000000</td>\n",
       "      <td>3646.000000</td>\n",
       "      <td>3698.571042</td>\n",
       "      <td>6752.252807</td>\n",
       "      <td>107.000000</td>\n",
       "      <td>-4.385501</td>\n",
       "      <td>1564.000000</td>\n",
       "    </tr>\n",
       "  </tbody>\n",
       "</table>\n",
       "</div>"
      ],
      "text/plain": [
       "                  id        X_IMAGE        Y_IMAGE   SIGNIFICANCE  \\\n",
       "count  587170.000000  587170.000000  587170.000000  587170.000000   \n",
       "mean   293585.500000    1059.390932     800.615173       6.908565   \n",
       "std    169501.523118     712.352873     453.531687      33.939664   \n",
       "min         1.000000       0.000000       0.000000    -532.262378   \n",
       "25%    146793.250000     463.000000     407.604964       3.797409   \n",
       "50%    293585.500000     945.706907     797.000000       4.671467   \n",
       "75%    440377.750000    1520.244982    1194.000000       6.566639   \n",
       "max    587170.000000    3646.000000    3698.571042    6752.252807   \n",
       "\n",
       "            image_id     sim_mag       sim_id  \n",
       "count  587170.000000  968.000000   968.000000  \n",
       "mean       30.521316  -10.693388   802.698347  \n",
       "std        23.872445    1.787294   429.581892  \n",
       "min         1.000000  -15.914011     1.000000  \n",
       "25%        12.000000  -11.959879   428.750000  \n",
       "50%        21.000000  -10.674324   789.500000  \n",
       "75%        49.000000   -9.528479  1174.250000  \n",
       "max       107.000000   -4.385501  1564.000000  "
      ]
     },
     "execution_count": 7,
     "metadata": {},
     "output_type": "execute_result"
    }
   ],
   "source": [
    "dt_scr.describe()"
   ]
  },
  {
   "cell_type": "code",
   "execution_count": 8,
   "metadata": {
    "collapsed": true
   },
   "outputs": [],
   "source": [
    "reals = dt_scr[dt_scr.IS_REAL==True]\n",
    "bogus = dt_scr[dt_scr.IS_REAL==False]"
   ]
  },
  {
   "cell_type": "code",
   "execution_count": 9,
   "metadata": {},
   "outputs": [
    {
     "data": {
      "text/html": [
       "<div>\n",
       "<style>\n",
       "    .dataframe thead tr:only-child th {\n",
       "        text-align: right;\n",
       "    }\n",
       "\n",
       "    .dataframe thead th {\n",
       "        text-align: left;\n",
       "    }\n",
       "\n",
       "    .dataframe tbody tr th {\n",
       "        vertical-align: top;\n",
       "    }\n",
       "</style>\n",
       "<table border=\"1\" class=\"dataframe\">\n",
       "  <thead>\n",
       "    <tr style=\"text-align: right;\">\n",
       "      <th></th>\n",
       "      <th>id</th>\n",
       "      <th>X_IMAGE</th>\n",
       "      <th>Y_IMAGE</th>\n",
       "      <th>SIGNIFICANCE</th>\n",
       "      <th>image_id</th>\n",
       "      <th>sim_mag</th>\n",
       "      <th>sim_id</th>\n",
       "    </tr>\n",
       "  </thead>\n",
       "  <tbody>\n",
       "    <tr>\n",
       "      <th>count</th>\n",
       "      <td>968.000000</td>\n",
       "      <td>968.000000</td>\n",
       "      <td>968.000000</td>\n",
       "      <td>968.000000</td>\n",
       "      <td>968.000000</td>\n",
       "      <td>968.000000</td>\n",
       "      <td>968.000000</td>\n",
       "    </tr>\n",
       "    <tr>\n",
       "      <th>mean</th>\n",
       "      <td>431297.625000</td>\n",
       "      <td>1101.487069</td>\n",
       "      <td>773.894351</td>\n",
       "      <td>141.802050</td>\n",
       "      <td>53.985537</td>\n",
       "      <td>-10.693388</td>\n",
       "      <td>802.698347</td>\n",
       "    </tr>\n",
       "    <tr>\n",
       "      <th>std</th>\n",
       "      <td>152428.384205</td>\n",
       "      <td>699.840288</td>\n",
       "      <td>428.332716</td>\n",
       "      <td>289.865400</td>\n",
       "      <td>28.628379</td>\n",
       "      <td>1.787294</td>\n",
       "      <td>429.581892</td>\n",
       "    </tr>\n",
       "    <tr>\n",
       "      <th>min</th>\n",
       "      <td>1612.000000</td>\n",
       "      <td>30.834240</td>\n",
       "      <td>36.174188</td>\n",
       "      <td>-0.080246</td>\n",
       "      <td>1.000000</td>\n",
       "      <td>-15.914011</td>\n",
       "      <td>1.000000</td>\n",
       "    </tr>\n",
       "    <tr>\n",
       "      <th>25%</th>\n",
       "      <td>358751.750000</td>\n",
       "      <td>525.250466</td>\n",
       "      <td>406.833032</td>\n",
       "      <td>25.064616</td>\n",
       "      <td>29.000000</td>\n",
       "      <td>-11.959879</td>\n",
       "      <td>428.750000</td>\n",
       "    </tr>\n",
       "    <tr>\n",
       "      <th>50%</th>\n",
       "      <td>461252.500000</td>\n",
       "      <td>997.242268</td>\n",
       "      <td>757.033106</td>\n",
       "      <td>58.045874</td>\n",
       "      <td>53.000000</td>\n",
       "      <td>-10.674324</td>\n",
       "      <td>789.500000</td>\n",
       "    </tr>\n",
       "    <tr>\n",
       "      <th>75%</th>\n",
       "      <td>561245.500000</td>\n",
       "      <td>1533.507010</td>\n",
       "      <td>1137.548829</td>\n",
       "      <td>144.282810</td>\n",
       "      <td>79.000000</td>\n",
       "      <td>-9.528479</td>\n",
       "      <td>1174.250000</td>\n",
       "    </tr>\n",
       "    <tr>\n",
       "      <th>max</th>\n",
       "      <td>586378.000000</td>\n",
       "      <td>3060.653973</td>\n",
       "      <td>2594.035907</td>\n",
       "      <td>4839.005879</td>\n",
       "      <td>105.000000</td>\n",
       "      <td>-4.385501</td>\n",
       "      <td>1564.000000</td>\n",
       "    </tr>\n",
       "  </tbody>\n",
       "</table>\n",
       "</div>"
      ],
      "text/plain": [
       "                  id      X_IMAGE      Y_IMAGE  SIGNIFICANCE    image_id  \\\n",
       "count     968.000000   968.000000   968.000000    968.000000  968.000000   \n",
       "mean   431297.625000  1101.487069   773.894351    141.802050   53.985537   \n",
       "std    152428.384205   699.840288   428.332716    289.865400   28.628379   \n",
       "min      1612.000000    30.834240    36.174188     -0.080246    1.000000   \n",
       "25%    358751.750000   525.250466   406.833032     25.064616   29.000000   \n",
       "50%    461252.500000   997.242268   757.033106     58.045874   53.000000   \n",
       "75%    561245.500000  1533.507010  1137.548829    144.282810   79.000000   \n",
       "max    586378.000000  3060.653973  2594.035907   4839.005879  105.000000   \n",
       "\n",
       "          sim_mag       sim_id  \n",
       "count  968.000000   968.000000  \n",
       "mean   -10.693388   802.698347  \n",
       "std      1.787294   429.581892  \n",
       "min    -15.914011     1.000000  \n",
       "25%    -11.959879   428.750000  \n",
       "50%    -10.674324   789.500000  \n",
       "75%     -9.528479  1174.250000  \n",
       "max     -4.385501  1564.000000  "
      ]
     },
     "execution_count": 9,
     "metadata": {},
     "output_type": "execute_result"
    }
   ],
   "source": [
    "reals.describe()"
   ]
  },
  {
   "cell_type": "code",
   "execution_count": 11,
   "metadata": {},
   "outputs": [
    {
     "data": {
      "text/html": [
       "<div>\n",
       "<style>\n",
       "    .dataframe thead tr:only-child th {\n",
       "        text-align: right;\n",
       "    }\n",
       "\n",
       "    .dataframe thead th {\n",
       "        text-align: left;\n",
       "    }\n",
       "\n",
       "    .dataframe tbody tr th {\n",
       "        vertical-align: top;\n",
       "    }\n",
       "</style>\n",
       "<table border=\"1\" class=\"dataframe\">\n",
       "  <thead>\n",
       "    <tr style=\"text-align: right;\">\n",
       "      <th></th>\n",
       "      <th>id</th>\n",
       "      <th>X_IMAGE</th>\n",
       "      <th>Y_IMAGE</th>\n",
       "      <th>SIGNIFICANCE</th>\n",
       "      <th>image_id</th>\n",
       "      <th>sim_mag</th>\n",
       "      <th>sim_id</th>\n",
       "    </tr>\n",
       "  </thead>\n",
       "  <tbody>\n",
       "    <tr>\n",
       "      <th>count</th>\n",
       "      <td>586202.000000</td>\n",
       "      <td>586202.000000</td>\n",
       "      <td>586202.000000</td>\n",
       "      <td>586202.000000</td>\n",
       "      <td>586202.000000</td>\n",
       "      <td>0.0</td>\n",
       "      <td>0.0</td>\n",
       "    </tr>\n",
       "    <tr>\n",
       "      <th>mean</th>\n",
       "      <td>293358.094879</td>\n",
       "      <td>1059.321418</td>\n",
       "      <td>800.659298</td>\n",
       "      <td>6.685815</td>\n",
       "      <td>30.482569</td>\n",
       "      <td>NaN</td>\n",
       "      <td>NaN</td>\n",
       "    </tr>\n",
       "    <tr>\n",
       "      <th>std</th>\n",
       "      <td>169435.869738</td>\n",
       "      <td>712.371882</td>\n",
       "      <td>453.571183</td>\n",
       "      <td>31.386345</td>\n",
       "      <td>23.844749</td>\n",
       "      <td>NaN</td>\n",
       "      <td>NaN</td>\n",
       "    </tr>\n",
       "    <tr>\n",
       "      <th>min</th>\n",
       "      <td>1.000000</td>\n",
       "      <td>0.000000</td>\n",
       "      <td>0.000000</td>\n",
       "      <td>-532.262378</td>\n",
       "      <td>1.000000</td>\n",
       "      <td>NaN</td>\n",
       "      <td>NaN</td>\n",
       "    </tr>\n",
       "    <tr>\n",
       "      <th>25%</th>\n",
       "      <td>146620.250000</td>\n",
       "      <td>463.000000</td>\n",
       "      <td>407.621218</td>\n",
       "      <td>3.796525</td>\n",
       "      <td>12.000000</td>\n",
       "      <td>NaN</td>\n",
       "      <td>NaN</td>\n",
       "    </tr>\n",
       "    <tr>\n",
       "      <th>50%</th>\n",
       "      <td>293265.500000</td>\n",
       "      <td>945.000000</td>\n",
       "      <td>797.362533</td>\n",
       "      <td>4.667994</td>\n",
       "      <td>21.000000</td>\n",
       "      <td>NaN</td>\n",
       "      <td>NaN</td>\n",
       "    </tr>\n",
       "    <tr>\n",
       "      <th>75%</th>\n",
       "      <td>440082.750000</td>\n",
       "      <td>1520.214843</td>\n",
       "      <td>1194.000000</td>\n",
       "      <td>6.551700</td>\n",
       "      <td>49.000000</td>\n",
       "      <td>NaN</td>\n",
       "      <td>NaN</td>\n",
       "    </tr>\n",
       "    <tr>\n",
       "      <th>max</th>\n",
       "      <td>587170.000000</td>\n",
       "      <td>3646.000000</td>\n",
       "      <td>3698.571042</td>\n",
       "      <td>6752.252807</td>\n",
       "      <td>107.000000</td>\n",
       "      <td>NaN</td>\n",
       "      <td>NaN</td>\n",
       "    </tr>\n",
       "  </tbody>\n",
       "</table>\n",
       "</div>"
      ],
      "text/plain": [
       "                  id        X_IMAGE        Y_IMAGE   SIGNIFICANCE  \\\n",
       "count  586202.000000  586202.000000  586202.000000  586202.000000   \n",
       "mean   293358.094879    1059.321418     800.659298       6.685815   \n",
       "std    169435.869738     712.371882     453.571183      31.386345   \n",
       "min         1.000000       0.000000       0.000000    -532.262378   \n",
       "25%    146620.250000     463.000000     407.621218       3.796525   \n",
       "50%    293265.500000     945.000000     797.362533       4.667994   \n",
       "75%    440082.750000    1520.214843    1194.000000       6.551700   \n",
       "max    587170.000000    3646.000000    3698.571042    6752.252807   \n",
       "\n",
       "            image_id  sim_mag  sim_id  \n",
       "count  586202.000000      0.0     0.0  \n",
       "mean       30.482569      NaN     NaN  \n",
       "std        23.844749      NaN     NaN  \n",
       "min         1.000000      NaN     NaN  \n",
       "25%        12.000000      NaN     NaN  \n",
       "50%        21.000000      NaN     NaN  \n",
       "75%        49.000000      NaN     NaN  \n",
       "max       107.000000      NaN     NaN  "
      ]
     },
     "execution_count": 11,
     "metadata": {},
     "output_type": "execute_result"
    }
   ],
   "source": [
    "bogus.describe()"
   ]
  },
  {
   "cell_type": "code",
   "execution_count": 16,
   "metadata": {},
   "outputs": [
    {
     "name": "stdout",
     "output_type": "stream",
     "text": [
      "11\n",
      "17655\n"
     ]
    }
   ],
   "source": [
    "print sum(reals.SIGNIFICANCE<=0.)\n",
    "print sum(bogus.SIGNIFICANCE<=0.)"
   ]
  },
  {
   "cell_type": "code",
   "execution_count": 13,
   "metadata": {
    "scrolled": false
   },
   "outputs": [
    {
     "data": {
      "image/png": "[encoded data removed]",
      "text/plain": [
       "<matplotlib.figure.Figure at 0x7f7ac1963c50>"
      ]
     },
     "metadata": {},
     "output_type": "display_data"
    }
   ],
   "source": [
    "bins=np.arange(0, 4, .1)\n",
    "\n",
    "plt.hist(np.log10(bogus.SIGNIFICANCE[bogus.SIGNIFICANCE>0.]), \n",
    "         log=True, alpha=1, label='Bogus', bins=bins, histtype='step', lw=2,\n",
    "         linestyle='-') #, cumulative=True, normed=True)\n",
    "\n",
    "plt.hist(np.log10(reals.SIGNIFICANCE[reals.SIGNIFICANCE>0.]), \n",
    "         log=True, alpha=1, label='Reals', bins=bins, histtype='step', lw=2,\n",
    "         linestyle='--') #, cumulative=True, normed=True)\n",
    "\n",
    "plt.vlines(x=np.log10(3.5), ymax=10e5, ymin=0., label=r'$3.5\\sigma$', alpha=0.3)\n",
    "plt.vlines(x=np.log10(5), linestyle=':', ymax=10e5, ymin=0., label=r'$5\\sigma$', alpha=0.5)\n",
    "\n",
    "plt.xlabel(r'$log_{10}(\\alpha)$', fontsize=16)\n",
    "plt.ylabel('N', fontsize=16)\n",
    "\n",
    "plt.tick_params(labelsize=16)\n",
    "plt.legend(loc='best', fontsize=16)\n",
    "plt.savefig('significances.png', dpi=400)"
   ]
  },
  {
   "cell_type": "code",
   "execution_count": 18,
   "metadata": {},
   "outputs": [
    {
     "data": {
      "image/png": "[encoded data removed]",
      "text/plain": [
       "<matplotlib.figure.Figure at 0x7f7ae6d64250>"
      ]
     },
     "metadata": {},
     "output_type": "display_data"
    }
   ],
   "source": [
    "plt.semilogy(reals.sim_mag+25, reals.SIGNIFICANCE, '.', alpha=0.6,label=r'Obj Hallados')\n",
    "plt.ylabel(r'$log_{10}(\\alpha)$', fontsize=16)\n",
    "plt.hlines(y=3.5, xmax=27, xmin=8., label=r'$3.5\\sigma$', alpha=0.3)\n",
    "plt.hlines(y=5, xmax=27, xmin=8., label=r'$5\\sigma$', alpha=0.5)\n",
    "plt.tick_params(labelsize=16)\n",
    "plt.xlabel('$Mag_{sim}$', fontsize=16)\n",
    "plt.legend(loc='best', fontsize=16)\n",
    "plt.savefig('mag_vs_significance.png', dpi=420)"
   ]
  },
  {
   "cell_type": "code",
   "execution_count": 19,
   "metadata": {},
   "outputs": [
    {
     "data": {
      "text/plain": [
       "918"
      ]
     },
     "execution_count": 19,
     "metadata": {},
     "output_type": "execute_result"
    }
   ],
   "source": [
    "sum(reals.SIGNIFICANCE>5.)#/float(sum(reals.SIGNIFICANCE>3.5))"
   ]
  },
  {
   "cell_type": "code",
   "execution_count": 21,
   "metadata": {},
   "outputs": [
    {
     "data": {
      "text/plain": [
       "0.9648760330578512"
      ]
     },
     "execution_count": 21,
     "metadata": {},
     "output_type": "execute_result"
    }
   ],
   "source": [
    "float(sum(reals.SIGNIFICANCE>3.5))/len(reals)"
   ]
  },
  {
   "cell_type": "code",
   "execution_count": 23,
   "metadata": {},
   "outputs": [
    {
     "data": {
      "image/png": "[encoded data removed]",
      "text/plain": [
       "<matplotlib.figure.Figure at 0x7f7abf070990>"
      ]
     },
     "metadata": {},
     "output_type": "display_data"
    }
   ],
   "source": [
    "plt.figure(figsize=(10, 5))\n",
    "plt.subplot(121)\n",
    "bins=np.arange(0, 4, .1)\n",
    "\n",
    "plt.hist(np.log10(bogus.SIGNIFICANCE[bogus.SIGNIFICANCE>0.]), \n",
    "         log=True, alpha=1, label='Bogus', bins=bins, histtype='step', lw=2,\n",
    "         linestyle='-') #, cumulative=True, normed=True)\n",
    "\n",
    "plt.hist(np.log10(reals.SIGNIFICANCE[reals.SIGNIFICANCE>0.]), \n",
    "         log=True, alpha=1, label='Reals', bins=bins, histtype='step', lw=2,\n",
    "         linestyle='--') #, cumulative=True, normed=True)\n",
    "\n",
    "plt.vlines(x=np.log10(3.5), ymax=10e5, ymin=0., label=r'$3.5\\sigma$', alpha=0.3)\n",
    "plt.vlines(x=np.log10(5), linestyle=':', ymax=10e5, ymin=0., label=r'$5\\sigma$', alpha=0.5)\n",
    "\n",
    "plt.xlabel(r'$log_{10}(\\alpha)$', fontsize=16)\n",
    "plt.ylabel('N', fontsize=16)\n",
    "\n",
    "plt.tick_params(labelsize=16)\n",
    "plt.legend(loc='best', fontsize=16)\n",
    "\n",
    "plt.subplot(122)\n",
    "plt.semilogy(reals.sim_mag+25, reals.SIGNIFICANCE, '.', label=r'$\\alpha$')\n",
    "plt.ylabel(r'$log_{10}\\alpha$', fontsize=16)\n",
    "plt.hlines(y=3.5, xmax=27, xmin=12., label=r'$3.5\\sigma$', alpha=0.3)\n",
    "plt.hlines(y=5, xmax=27, xmin=12., label=r'$5\\sigma$', alpha=0.5)\n",
    "plt.tick_params(labelsize=16)\n",
    "plt.xlabel('Simulated Magnitude', fontsize=16)\n",
    "plt.legend(loc='best', fontsize=16)\n",
    "plt.tight_layout()\n",
    "plt.savefig('significance_magnitudes.png', dpi=420)"
   ]
  },
  {
   "cell_type": "code",
   "execution_count": 24,
   "metadata": {
    "collapsed": true
   },
   "outputs": [],
   "source": [
    "def TruePositives(dt, thresh, tot_sim):\n",
    "    detections = dt[dt.SIGNIFICANCE>thresh]\n",
    "    return np.sum(detections.IS_REAL)/float(tot_sim)\n",
    "\n",
    "def FalseNegatives(dt, thresh, tot_sim):\n",
    "    return 1.-TruePositives(dt, thresh, tot_sim)\n",
    "\n",
    "def FalsePositives(dt, thresh, tot_sim):\n",
    "    detections = dt[dt.SIGNIFICANCE>thresh]\n",
    "    return (len(detections) - np.sum(detections.IS_REAL))/float(tot_sim)"
   ]
  },
  {
   "cell_type": "code",
   "execution_count": 25,
   "metadata": {
    "collapsed": true
   },
   "outputs": [],
   "source": [
    "tot_sim = len(simulated)"
   ]
  },
  {
   "cell_type": "code",
   "execution_count": 30,
   "metadata": {},
   "outputs": [
    {
     "data": {
      "image/png": "[encoded data removed]",
      "text/plain": [
       "<matplotlib.figure.Figure at 0x7f7ae6a9f3d0>"
      ]
     },
     "metadata": {},
     "output_type": "display_data"
    }
   ],
   "source": [
    "plt.rcParams['text.usetex'] = True\n",
    "plt.figure(figsize=(8, 4))\n",
    "plt.fill_between(x=np.arange(0., 4., 0.1), y1=0.,\n",
    "                 y2=[TruePositives(dt_scr, th, tot_sim) for th in 10**np.arange(0., 4., 0.1)],\n",
    "                 label='Hallados', alpha=1)\n",
    "\n",
    "plt.fill_between(x=np.arange(0., 4., 0.1), \n",
    "                 y1=[TruePositives(dt_scr, th, tot_sim) for th in 10**np.arange(0., 4., 0.1)], \n",
    "                 y2=1, label='Perdidos')\n",
    "\n",
    "plt.fill_between(x=np.arange(0., 4., 0.1), y1=1.,\n",
    "                 y2=[1.+FalsePositives(dt_scr, th, tot_sim) for th in 10**np.arange(0., 4., 0.1)],\n",
    "                 label='Falsos')\n",
    "plt.vlines(x=np.log10(3.5), ymax=2.1, ymin=0., label=r'$3.5\\alpha$', alpha=0.3)\n",
    "plt.vlines(x=np.log10(5), linestyle=':', ymax=2.1, ymin=0., label=r'$5\\alpha$', alpha=0.5)\n",
    "\n",
    "plt.xlabel(r'$log_{10} \\ \\alpha$', fontsize=16)\n",
    "plt.ylabel('Fraccion', fontsize=16)\n",
    "plt.legend(loc='best', fontsize=16)\n",
    "plt.tick_params(labelsize=16)\n",
    "#plt.semilogy()\n",
    "plt.ylim(0, 4)\n",
    "plt.savefig('scorr_thresholds.png', dpi=480)"
   ]
  },
  {
   "cell_type": "code",
   "execution_count": 35,
   "metadata": {},
   "outputs": [
    {
     "data": {
      "image/png": "[encoded data removed]",
      "text/plain": [
       "<matplotlib.figure.Figure at 0x7f7ae7cdb3d0>"
      ]
     },
     "metadata": {},
     "output_type": "display_data"
    }
   ],
   "source": [
    "from matplotlib.ticker import NullFormatter\n",
    "\n",
    "nullfmt = NullFormatter()         # no labels\n",
    "\n",
    "#positions\n",
    "left, width = 0.12, 0.82\n",
    "bottom, height = 0.12, 0.42\n",
    "bottom_h = bottom + height + 0.02\n",
    "left_h = left + width + 0.02\n",
    "\n",
    "rect_scatter = [left, bottom, width, height]\n",
    "rect_histx = [left, bottom_h, width, 0.4]\n",
    "\n",
    "#figure\n",
    "plt.figure(1, figsize=(8, 6))\n",
    "\n",
    "axScatter = plt.axes(rect_scatter)\n",
    "axHistx = plt.axes(rect_histx)\n",
    "\n",
    "# no labels\n",
    "axHistx.xaxis.set_major_formatter(nullfmt)\n",
    "\n",
    "# the scatter plot:\n",
    "axScatter.hist(np.log10(bogus.SIGNIFICANCE[bogus.SIGNIFICANCE>0.]), alpha=0.9,\n",
    "         log=True, label='Bogus', bins=bins, histtype='stepfilled', lw=2,\n",
    "         linestyle='-', color=sns.color_palette()[2]) #, cumulative=True, normed=True)\n",
    "\n",
    "axScatter.hist(np.log10(reals.SIGNIFICANCE[reals.SIGNIFICANCE>0.]), alpha=0.6,\n",
    "         log=True, label='Reals', bins=bins, histtype='stepfilled', lw=2,\n",
    "         linestyle='--', color=sns.color_palette()[0]) #, cumulative=True, normed=True)\n",
    "\n",
    "axScatter.vlines(x=np.log10(3.5), ymax=10e5, ymin=0., label=r'$3.5\\sigma$', alpha=0.6)\n",
    "axScatter.vlines(x=np.log10(5), linestyle=':', ymax=10e5, ymin=0., label=r'$5\\sigma$', alpha=0.6)\n",
    "\n",
    "axScatter.set_xlabel(r'$log_{10}(\\alpha)$', fontsize=16)\n",
    "axScatter.set_ylabel('N', fontsize=16)\n",
    "\n",
    "axScatter.tick_params(labelsize=16)\n",
    "axScatter.legend(loc='best', fontsize=16)\n",
    "\n",
    "# now determine nice limits by hand:\n",
    "axScatter.set_xlim((0, 4))\n",
    "# axScatter.set_ylim((-lim, lim))\n",
    "\n",
    "axHistx.fill_between(x=bins, y1=0.,\n",
    "                 y2=[TruePositives(dt_scr, th, tot_sim) for th in 10**bins],\n",
    "                 label='TP', alpha=0.7)\n",
    "\n",
    "axHistx.fill_between(x=bins, \n",
    "                 y1=[TruePositives(dt_scr, th, tot_sim) for th in 10**bins], \n",
    "                 y2=1, label='FN', alpha=0.9)\n",
    "\n",
    "axHistx.fill_between(x=bins, y1=1.,\n",
    "                 y2=[1.+FalsePositives(dt_scr, th, tot_sim) for th in 10**bins],\n",
    "                 label='FP', alpha=0.9)\n",
    "axHistx.vlines(x=np.log10(3.5), ymax=2.1, ymin=0., alpha=0.6)#, label=r'$3.5\\sigma$', alpha=0.3)\n",
    "axHistx.vlines(x=np.log10(5), linestyle=':', ymax=2.1, ymin=0., alpha=0.6)#, label=r'$5\\sigma$', alpha=0.5)\n",
    "axHistx.set_ylim(0, 3)\n",
    "axHistx.set_ylabel('N', fontsize=14)\n",
    "axHistx.legend(loc='best', fontsize=14)\n",
    "axHistx.tick_params(labelsize=14)\n",
    "\n",
    "axHistx.tick_params(labelsize=14)\n",
    "axHistx.set_xlim(axScatter.get_xlim())\n",
    "axHistx.set_ylabel('N')\n",
    "\n",
    "plt.savefig('significance_values.pdf', format='pdf', dpi=420)"
   ]
  },
  {
   "cell_type": "code",
   "execution_count": null,
   "metadata": {
    "collapsed": true
   },
   "outputs": [],
   "source": []
  },
  {
   "cell_type": "code",
   "execution_count": null,
   "metadata": {
    "collapsed": true
   },
   "outputs": [],
   "source": []
  }
 ],
 "metadata": {
  "kernelspec": {
   "display_name": "Python 2",
   "language": "python",
   "name": "python2"
  },
  "language_info": {
   "codemirror_mode": {
    "name": "ipython",
    "version": 2
   },
   "file_extension": ".py",
   "mimetype": "text/x-python",
   "name": "python",
   "nbconvert_exporter": "python",
   "pygments_lexer": "ipython2",
   "version": "2.7.12"
  }
 },
 "nbformat": 4,
 "nbformat_minor": 2
}
